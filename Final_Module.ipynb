{
 "cells": [
  {
   "cell_type": "code",
   "execution_count": 1,
   "metadata": {},
   "outputs": [
    {
     "name": "stdout",
     "output_type": "stream",
     "text": [
      "importing Jupyter notebook from Content_based_filtering.ipynb\n",
      "(1681, 9)\n",
      "1681 1681\n",
      "importing Jupyter notebook from Collaborative_filtering_RBM.ipynb\n",
      "   user_id  item_id  rating  timestamp\n",
      "0      196      242       3  881250949\n",
      "1      186      302       3  891717742\n",
      "2       22      377       1  878887116\n",
      "3      244       51       2  880606923\n",
      "4      166      346       1  886397596\n",
      "100000\n",
      "943\n",
      "0.3493548\n",
      "0.3199999\n",
      "0.27868202\n",
      "0.2631581\n",
      "0.22485957\n",
      "0.18911043\n",
      "0.16587193\n",
      "0.15301582\n",
      "0.14169957\n",
      "0.1373018\n",
      "0.13332985\n",
      "0.12928177\n",
      "0.13139106\n",
      "0.12805335\n",
      "0.12771215\n",
      "0.12775464\n",
      "0.12602176\n",
      "0.12685926\n",
      "0.12210025\n",
      "0.121685006\n",
      "0.11851818\n",
      "0.11816613\n",
      "0.11672437\n",
      "0.11809261\n",
      "0.1163157\n",
      "0.11566493\n",
      "0.11402496\n",
      "0.11328228\n",
      "0.11232043\n",
      "0.112203665\n",
      "0.11180359\n",
      "0.10797047\n",
      "0.10728023\n",
      "0.10735791\n",
      "0.1054491\n",
      "0.1061295\n",
      "0.10452837\n",
      "0.10461385\n",
      "0.10347384\n",
      "0.10207925\n",
      "0.10105134\n",
      "0.101157375\n",
      "0.099562176\n",
      "0.09922274\n",
      "0.09993491\n",
      "0.09853993\n",
      "0.0984479\n",
      "0.09864258\n",
      "0.0970992\n",
      "0.09720372\n"
     ]
    },
    {
     "data": {
      "image/png": "[encoded data removed]",
      "text/plain": [
       "<Figure size 432x288 with 1 Axes>"
      ]
     },
     "metadata": {},
     "output_type": "display_data"
    },
    {
     "name": "stdout",
     "output_type": "stream",
     "text": [
      "Enter the UserID : 20\n",
      "List of the movies he/she rated: \n",
      "List of movies suggested to watch: \n",
      "importing Jupyter notebook from Front_End_Widget.ipynb\n",
      "Choose your options: \n"
     ]
    },
    {
     "name": "stderr",
     "output_type": "stream",
     "text": [
      "/home/sumanthvrao/anaconda3/envs/deepl/lib/python3.5/site-packages/IPython/html.py:14: ShimWarning: The `IPython.html` package has been deprecated since IPython 4.0. You should import from `notebook` instead. `IPython.html.widgets` has moved to `ipywidgets`.\n",
      "  \"`IPython.html.widgets` has moved to `ipywidgets`.\", ShimWarning)\n"
     ]
    },
    {
     "data": {
      "application/vnd.jupyter.widget-view+json": {
       "model_id": "18357fb336a14cb7b30fc75a323dcde3",
       "version_major": 2,
       "version_minor": 0
      },
      "text/plain": [
       "interactive(children=(Checkbox(value=False, description='age'), Checkbox(value=False, description='sex'), Chec…"
      ]
     },
     "metadata": {},
     "output_type": "display_data"
    }
   ],
   "source": [
    "#importing all necessary librarys\n",
    "import import_ipynb\n",
    "import Content_based_filtering as cf\n",
    "import Collaborative_filtering_RBM as rbm\n",
    "from scipy.io import loadmat\n",
    "import pandas as pd\n",
    "import numpy as np\n",
    "from IPython.display import display\n",
    "import Front_End_Widget as few\n",
    "from IPython.display import display\n",
    "from IPython.html import widgets\n",
    "import tensorflow as tf\n",
    "import matplotlib.pyplot as plt"
   ]
  },
  {
   "cell_type": "markdown",
   "metadata": {},
   "source": [
    "# Front End for user"
   ]
  },
  {
   "cell_type": "code",
   "execution_count": 16,
   "metadata": {},
   "outputs": [
    {
     "name": "stdout",
     "output_type": "stream",
     "text": [
      "Enter User ID: 20\n",
      "Enter Movie ID: 1\n"
     ]
    },
    {
     "data": {
      "application/vnd.jupyter.widget-view+json": {
       "model_id": "72adce7076a04894b336524e50d045f5",
       "version_major": 2,
       "version_minor": 0
      },
      "text/plain": [
       "Button(description='Contest Based Movie Recommendation', style=ButtonStyle())"
      ]
     },
     "metadata": {},
     "output_type": "display_data"
    },
    {
     "data": {
      "application/vnd.jupyter.widget-view+json": {
       "model_id": "5e0ffc4b9e494ef2bc721f76700b077c",
       "version_major": 2,
       "version_minor": 0
      },
      "text/plain": [
       "Button(description='Collaborative Based Recommendation for users and movies', style=ButtonStyle())"
      ]
     },
     "metadata": {},
     "output_type": "display_data"
    },
    {
     "data": {
      "application/vnd.jupyter.widget-view+json": {
       "model_id": "402e7c090ce142cda5682b540647f1c7",
       "version_major": 2,
       "version_minor": 0
      },
      "text/plain": [
       "Button(description='RBM Based Movie Recommendation', style=ButtonStyle())"
      ]
     },
     "metadata": {},
     "output_type": "display_data"
    },
    {
     "name": "stdout",
     "output_type": "stream",
     "text": [
      "List of the movies he/she rated: \n"
     ]
    },
    {
     "data": {
      "text/html": [
       "<div>\n",
       "<style scoped>\n",
       "    .dataframe tbody tr th:only-of-type {\n",
       "        vertical-align: middle;\n",
       "    }\n",
       "\n",
       "    .dataframe tbody tr th {\n",
       "        vertical-align: top;\n",
       "    }\n",
       "\n",
       "    .dataframe thead th {\n",
       "        text-align: right;\n",
       "    }\n",
       "</style>\n",
       "<table border=\"1\" class=\"dataframe\">\n",
       "  <thead>\n",
       "    <tr style=\"text-align: right;\">\n",
       "      <th></th>\n",
       "      <th>movie_id</th>\n",
       "      <th>movie_title</th>\n",
       "      <th>release_date</th>\n",
       "    </tr>\n",
       "  </thead>\n",
       "  <tbody>\n",
       "    <tr>\n",
       "      <th>287</th>\n",
       "      <td>288</td>\n",
       "      <td>Scream (1996)</td>\n",
       "      <td>20-Dec-1996</td>\n",
       "    </tr>\n",
       "    <tr>\n",
       "      <th>207</th>\n",
       "      <td>208</td>\n",
       "      <td>Young Frankenstein (1974)</td>\n",
       "      <td>01-Jan-1974</td>\n",
       "    </tr>\n",
       "    <tr>\n",
       "      <th>10</th>\n",
       "      <td>11</td>\n",
       "      <td>Seven (Se7en) (1995)</td>\n",
       "      <td>01-Jan-1995</td>\n",
       "    </tr>\n",
       "    <tr>\n",
       "      <th>175</th>\n",
       "      <td>176</td>\n",
       "      <td>Aliens (1986)</td>\n",
       "      <td>01-Jan-1986</td>\n",
       "    </tr>\n",
       "    <tr>\n",
       "      <th>117</th>\n",
       "      <td>118</td>\n",
       "      <td>Twister (1996)</td>\n",
       "      <td>10-May-1996</td>\n",
       "    </tr>\n",
       "  </tbody>\n",
       "</table>\n",
       "</div>"
      ],
      "text/plain": [
       "     movie_id                movie_title release_date\n",
       "287       288              Scream (1996)  20-Dec-1996\n",
       "207       208  Young Frankenstein (1974)  01-Jan-1974\n",
       "10         11       Seven (Se7en) (1995)  01-Jan-1995\n",
       "175       176              Aliens (1986)  01-Jan-1986\n",
       "117       118             Twister (1996)  10-May-1996"
      ]
     },
     "metadata": {},
     "output_type": "display_data"
    },
    {
     "name": "stdout",
     "output_type": "stream",
     "text": [
      "Toy Story \n",
      "Similar movies are\n",
      "movie not in the database\n"
     ]
    },
    {
     "ename": "AttributeError",
     "evalue": "'str' object has no attribute 'tolist'",
     "output_type": "error",
     "traceback": [
      "\u001b[0;31m---------------------------------------------------------------------------\u001b[0m",
      "\u001b[0;31mAttributeError\u001b[0m                            Traceback (most recent call last)",
      "\u001b[0;32m<ipython-input-16-bc6a7aabc757>\u001b[0m in \u001b[0;36mcontent_based\u001b[0;34m(b)\u001b[0m\n\u001b[1;32m     23\u001b[0m         \u001b[0mans\u001b[0m\u001b[0;34m=\u001b[0m\u001b[0mcf\u001b[0m\u001b[0;34m.\u001b[0m\u001b[0mget_recommendations\u001b[0m\u001b[0;34m(\u001b[0m\u001b[0mmovietitle\u001b[0m\u001b[0;34m)\u001b[0m\u001b[0;34m\u001b[0m\u001b[0m\n\u001b[1;32m     24\u001b[0m         \u001b[0mprint\u001b[0m\u001b[0;34m(\u001b[0m\u001b[0mans\u001b[0m\u001b[0;34m)\u001b[0m\u001b[0;34m\u001b[0m\u001b[0m\n\u001b[0;32m---> 25\u001b[0;31m         \u001b[0mlll\u001b[0m\u001b[0;34m=\u001b[0m\u001b[0mans\u001b[0m\u001b[0;34m[\u001b[0m\u001b[0;36m0\u001b[0m\u001b[0;34m]\u001b[0m\u001b[0;34m.\u001b[0m\u001b[0mtolist\u001b[0m\u001b[0;34m(\u001b[0m\u001b[0;34m)\u001b[0m\u001b[0;34m\u001b[0m\u001b[0m\n\u001b[0m\u001b[1;32m     26\u001b[0m         \u001b[0mdf2\u001b[0m\u001b[0;34m=\u001b[0m\u001b[0mmovies_df2\u001b[0m\u001b[0;34m[\u001b[0m\u001b[0;34m'movie_title'\u001b[0m\u001b[0;34m]\u001b[0m\u001b[0;34m.\u001b[0m\u001b[0mstr\u001b[0m\u001b[0;34m.\u001b[0m\u001b[0mlower\u001b[0m\u001b[0;34m(\u001b[0m\u001b[0;34m)\u001b[0m\u001b[0;34m.\u001b[0m\u001b[0mto_frame\u001b[0m\u001b[0;34m(\u001b[0m\u001b[0;34m)\u001b[0m\u001b[0;34m\u001b[0m\u001b[0m\n\u001b[1;32m     27\u001b[0m         \u001b[0mdf2\u001b[0m\u001b[0;34m=\u001b[0m\u001b[0mdf2\u001b[0m\u001b[0;34m[\u001b[0m\u001b[0;34m'movie_title'\u001b[0m\u001b[0;34m]\u001b[0m\u001b[0;34m.\u001b[0m\u001b[0mstr\u001b[0m\u001b[0;34m.\u001b[0m\u001b[0mstrip\u001b[0m\u001b[0;34m(\u001b[0m\u001b[0;34m)\u001b[0m\u001b[0;34m.\u001b[0m\u001b[0mto_frame\u001b[0m\u001b[0;34m(\u001b[0m\u001b[0;34m)\u001b[0m\u001b[0;34m\u001b[0m\u001b[0m\n",
      "\u001b[0;31mAttributeError\u001b[0m: 'str' object has no attribute 'tolist'"
     ]
    }
   ],
   "source": [
    "movieid=\"\"\n",
    "uname = int(input(\"Enter User ID: \"))\n",
    "movieid = int(input(\"Enter Movie ID: \"))\n",
    "button1 = widgets.Button(description=\"Contest Based Movie Recommendation\")\n",
    "button2 = widgets.Button(description=\"Collaborative Based Recommendation for users and movies\")\n",
    "button3 = widgets.Button(description=\"RBM Based Movie Recommendation\")\n",
    "\n",
    "display(button1)\n",
    "display(button2)\n",
    "display(button3)\n",
    "\n",
    "list_of_rated = rbm.list_of_rated(uname)\n",
    "display(list_of_rated.head())\n",
    "\n",
    "movietitle=\"\"\n",
    "if(movieid!=\"\"):\n",
    "    global movietitle\n",
    "    movietitle=movies_df2.loc[movies_df['movie_id']==int(movieid),'movie_title'].iloc[0]\n",
    "    print(movietitle)\n",
    "def content_based(b):\n",
    "    if(movieid!=\"\"):\n",
    "        print(\"Similar movies are\")\n",
    "        ans=cf.get_recommendations(movietitle)\n",
    "        print(ans)\n",
    "        lll=ans[0].tolist()\n",
    "        df2=movies_df2['movie_title'].str.lower().to_frame()\n",
    "        df2=df2['movie_title'].str.strip().to_frame()\n",
    "        df3=movies_df2[['genre','year','director','actor1','actor2']]\n",
    "        df3=pd.concat([df2, df3], axis=1)\n",
    "        with pd.option_context('display.max_rows', None, 'display.max_columns', None):\n",
    "            display(df3.loc[df3['movie_title'].isin(lll)]) \n",
    "    print(\"---------------------------------------------------------------------\")\n",
    "    \n",
    "def collaborative_based(b):\n",
    "    gettop(uname)\n",
    "    if(movieid!=\"\"):\n",
    "        movietitle=movies_df2.loc[movies_df['movie_id']==int(movieid),'movie_title'].iloc[0]\n",
    "        if(m[uname][movieid]!=0):\n",
    "            getusers(uname,movieid)\n",
    "        else:\n",
    "            print(\"You have already watched this movie\")\n",
    "        \n",
    "    \n",
    "def RBM_based(b):\n",
    "    rbm_op = rbm.suggested_to_watch(uname)\n",
    "    rbm_op = rbm_op.sort_values(['Generated Score'], ascending=False).head(10)\n",
    "    display(rbm_op)\n",
    "button1.on_click(content_based)\n",
    "button2.on_click(collaborative_based)\n",
    "button3.on_click(RBM_based)"
   ]
  },
  {
   "cell_type": "code",
   "execution_count": 2,
   "metadata": {},
   "outputs": [],
   "source": [
    "top10ids=[]\n",
    "dic=loadmat('top10.mat')\n",
    "\n",
    "u_cols = ['user_id', 'age', 'sex', 'occupation', 'zip_code']\n",
    "user_df = pd.read_csv('ml-100k/u.user', sep='|', names=u_cols, \n",
    "                    encoding='latin-1', parse_dates=True)\n",
    "\n",
    "movies_df=pd.read_csv('ml-100k/item_cc.csv') #Movie details\n",
    "\n",
    "movies_df2=pd.read_csv('ml-100k/item_cc_genre.csv')\n",
    "\n",
    "matrix=pd.read_csv('ml-100k/user_item_matrix.csv')\n",
    "\n",
    "new_prediction=pd.read_csv('ml-100k/new_predicted_colab.csv')\n"
   ]
  },
  {
   "cell_type": "code",
   "execution_count": 3,
   "metadata": {},
   "outputs": [],
   "source": [
    "m=np.zeros(shape=(943+1,1682+1)).astype(int)\n",
    "p=pd.read_csv(\"ml-100k/new_predicted_colab.csv\")\n",
    "p=p.values\n",
    "for i in p:\n",
    "    try:\n",
    "    \n",
    "        m[int(i[0])][int(i[1])]=int(i[2])\n",
    "    except:\n",
    "        print(i)\n",
    "np.savetxt(\"ml-100k/only_predicted.csv\", m.astype(int), fmt='%i', delimiter=\",\")\n"
   ]
  },
  {
   "cell_type": "code",
   "execution_count": 4,
   "metadata": {},
   "outputs": [],
   "source": [
    "only_predicted=pd.read_csv('ml-100k/only_predicted.csv')"
   ]
  },
  {
   "cell_type": "code",
   "execution_count": 5,
   "metadata": {},
   "outputs": [],
   "source": [
    "flag=0\n",
    "\n",
    "def getusers(uname,movieid): #Suggest users who would rate this movie the same as current user\n",
    "\n",
    "    rating=matrix.iloc[uname][movieid]\n",
    "    print(\"you're going to rate this movie: \",rating)\n",
    "    print(\"---------------------------------------------------------------------\")\n",
    "    print(\"your partners are (They also rated\",rating,\")\")\n",
    "    h=only_predicted.loc[only_predicted.iloc[:,movieid]==rating]\n",
    "    l=h.index.tolist()\n",
    "    with pd.option_context('display.max_rows', None, 'display.max_columns', None):\n",
    "        final_user_frame = user_df.loc[user_df['user_id'].isin(l)]\n",
    "        few.filter_data(final_user_frame)\n",
    "    print(\"---------------------------------------------------------------------\")\n",
    "\n",
    "#driver(196,242)"
   ]
  },
  {
   "cell_type": "code",
   "execution_count": 6,
   "metadata": {},
   "outputs": [],
   "source": [
    "\n",
    "def gettop(uname): #Top 10 movies which the user is going to rate high\n",
    "    print(\"You may like:\")\n",
    "    ll=dic[str(uname)][0]\n",
    "    with pd.option_context('display.max_rows', None, 'display.max_columns', None):\n",
    "        display(movies_df2.loc[movies_df['movie_id'].isin(ll)])\n",
    "    print(\"---------------------------------------------------------------------\")\n",
    "    "
   ]
  },
  {
   "cell_type": "code",
   "execution_count": 8,
   "metadata": {},
   "outputs": [],
   "source": [
    "def driver(uname, movieid=\"\"):\n",
    "    \n",
    "    gettop(uname)\n",
    "    if(movieid!=\"\"):\n",
    "        movietitle=movies_df2.loc[movies_df['movie_id']==int(movieid),'movie_title'].iloc[0]\n",
    "        if(m[uname][movieid]!=0):\n",
    "            getusers(uname,movieid)\n",
    "        else:\n",
    "            print(\"You have already watched this movie\")\n",
    "            \n",
    "        print(\"Similar movies are\")\n",
    "        ans=cf.get_recommendations(movietitle)\n",
    "        \n",
    "        lll=ans[0].tolist()\n",
    "        df2=movies_df2['movie_title'].str.lower().to_frame()\n",
    "        df2=df2['movie_title'].str.strip().to_frame()\n",
    "        df3=movies_df2[['genre','year','director','actor1','actor2']]\n",
    "        df3=pd.concat([df2, df3], axis=1)\n",
    "\n",
    "\n",
    "        with pd.option_context('display.max_rows', None, 'display.max_columns', None):\n",
    "            display(df3.loc[df3['movie_title'].isin(lll)]) \n",
    "    print(\"---------------------------------------------------------------------\")\n",
    "    \n",
    "        "
   ]
  },
  {
   "cell_type": "code",
   "execution_count": 9,
   "metadata": {},
   "outputs": [
    {
     "name": "stdout",
     "output_type": "stream",
     "text": [
      "You may like:\n"
     ]
    },
    {
     "data": {
      "text/html": [
       "<div>\n",
       "<style scoped>\n",
       "    .dataframe tbody tr th:only-of-type {\n",
       "        vertical-align: middle;\n",
       "    }\n",
       "\n",
       "    .dataframe tbody tr th {\n",
       "        vertical-align: top;\n",
       "    }\n",
       "\n",
       "    .dataframe thead th {\n",
       "        text-align: right;\n",
       "    }\n",
       "</style>\n",
       "<table border=\"1\" class=\"dataframe\">\n",
       "  <thead>\n",
       "    <tr style=\"text-align: right;\">\n",
       "      <th></th>\n",
       "      <th>genre</th>\n",
       "      <th>movie_id</th>\n",
       "      <th>movie_title</th>\n",
       "      <th>year</th>\n",
       "      <th>tmdb_id</th>\n",
       "      <th>director</th>\n",
       "      <th>actor1</th>\n",
       "      <th>actor2</th>\n",
       "    </tr>\n",
       "  </thead>\n",
       "  <tbody>\n",
       "    <tr>\n",
       "      <th>97</th>\n",
       "      <td>Drama Thriller</td>\n",
       "      <td>98</td>\n",
       "      <td>Silence of the Lambs, The</td>\n",
       "      <td>1991</td>\n",
       "      <td>274</td>\n",
       "      <td>Jonathan Demme</td>\n",
       "      <td>Jodie Foster</td>\n",
       "      <td>Anthony Hopkins</td>\n",
       "    </tr>\n",
       "    <tr>\n",
       "      <th>164</th>\n",
       "      <td>Drama</td>\n",
       "      <td>165</td>\n",
       "      <td>Jean de Florette</td>\n",
       "      <td>1986</td>\n",
       "      <td>4480</td>\n",
       "      <td>Claude Berri</td>\n",
       "      <td>Yves Montand</td>\n",
       "      <td>Gérard Depardieu</td>\n",
       "    </tr>\n",
       "    <tr>\n",
       "      <th>207</th>\n",
       "      <td>Comedy Horror</td>\n",
       "      <td>208</td>\n",
       "      <td>Young Frankenstein</td>\n",
       "      <td>1974</td>\n",
       "      <td>3034</td>\n",
       "      <td>Mel Brooks</td>\n",
       "      <td>Gene Wilder</td>\n",
       "      <td>Peter Boyle</td>\n",
       "    </tr>\n",
       "    <tr>\n",
       "      <th>300</th>\n",
       "      <td>Crime Film-Noir Mystery Thriller</td>\n",
       "      <td>302</td>\n",
       "      <td>L.A. Confidential</td>\n",
       "      <td>1997</td>\n",
       "      <td>2118</td>\n",
       "      <td>Curtis Hanson</td>\n",
       "      <td>Kevin Spacey</td>\n",
       "      <td>Guy Pearce</td>\n",
       "    </tr>\n",
       "    <tr>\n",
       "      <th>425</th>\n",
       "      <td>Drama</td>\n",
       "      <td>427</td>\n",
       "      <td>To Kill a Mockingbird</td>\n",
       "      <td>1962</td>\n",
       "      <td>595</td>\n",
       "      <td>Robert Mulligan</td>\n",
       "      <td>Gregory Peck</td>\n",
       "      <td>Mary Badham</td>\n",
       "    </tr>\n",
       "    <tr>\n",
       "      <th>472</th>\n",
       "      <td>Sci-Fi War</td>\n",
       "      <td>474</td>\n",
       "      <td>Dr. Strangelove or: How I Learned to Stop Worr...</td>\n",
       "      <td>1963</td>\n",
       "      <td>935</td>\n",
       "      <td>Stanley Kubrick</td>\n",
       "      <td>Peter Sellers</td>\n",
       "      <td>George C. Scott</td>\n",
       "    </tr>\n",
       "    <tr>\n",
       "      <th>478</th>\n",
       "      <td>Comedy Thriller</td>\n",
       "      <td>480</td>\n",
       "      <td>North by Northwest</td>\n",
       "      <td>1959</td>\n",
       "      <td>213</td>\n",
       "      <td>Alfred Hitchcock</td>\n",
       "      <td>Cary Grant</td>\n",
       "      <td>Eva Marie Saint</td>\n",
       "    </tr>\n",
       "    <tr>\n",
       "      <th>496</th>\n",
       "      <td>Action Adventure Romance War</td>\n",
       "      <td>498</td>\n",
       "      <td>African Queen, The</td>\n",
       "      <td>1951</td>\n",
       "      <td>488</td>\n",
       "      <td>John Huston</td>\n",
       "      <td>Humphrey Bogart</td>\n",
       "      <td>Katharine Hepburn</td>\n",
       "    </tr>\n",
       "    <tr>\n",
       "      <th>513</th>\n",
       "      <td>Action Drama War</td>\n",
       "      <td>515</td>\n",
       "      <td>Boot, Das</td>\n",
       "      <td>1997</td>\n",
       "      <td>387</td>\n",
       "      <td>Wolfgang Petersen</td>\n",
       "      <td>Jürgen Prochnow</td>\n",
       "      <td>Herbert Grönemeyer</td>\n",
       "    </tr>\n",
       "    <tr>\n",
       "      <th>601</th>\n",
       "      <td>Mystery Thriller</td>\n",
       "      <td>603</td>\n",
       "      <td>Rear Window</td>\n",
       "      <td>1954</td>\n",
       "      <td>567</td>\n",
       "      <td>Alfred Hitchcock</td>\n",
       "      <td>James Stewart</td>\n",
       "      <td>Grace Kelly</td>\n",
       "    </tr>\n",
       "  </tbody>\n",
       "</table>\n",
       "</div>"
      ],
      "text/plain": [
       "                                genre  movie_id  \\\n",
       "97                     Drama Thriller        98   \n",
       "164                             Drama       165   \n",
       "207                     Comedy Horror       208   \n",
       "300  Crime Film-Noir Mystery Thriller       302   \n",
       "425                             Drama       427   \n",
       "472                        Sci-Fi War       474   \n",
       "478                   Comedy Thriller       480   \n",
       "496      Action Adventure Romance War       498   \n",
       "513                  Action Drama War       515   \n",
       "601                  Mystery Thriller       603   \n",
       "\n",
       "                                           movie_title  year  tmdb_id  \\\n",
       "97                          Silence of the Lambs, The   1991      274   \n",
       "164                                  Jean de Florette   1986     4480   \n",
       "207                                Young Frankenstein   1974     3034   \n",
       "300                                 L.A. Confidential   1997     2118   \n",
       "425                             To Kill a Mockingbird   1962      595   \n",
       "472  Dr. Strangelove or: How I Learned to Stop Worr...  1963      935   \n",
       "478                                North by Northwest   1959      213   \n",
       "496                                African Queen, The   1951      488   \n",
       "513                                         Boot, Das   1997      387   \n",
       "601                                       Rear Window   1954      567   \n",
       "\n",
       "              director           actor1              actor2  \n",
       "97      Jonathan Demme     Jodie Foster     Anthony Hopkins  \n",
       "164       Claude Berri     Yves Montand    Gérard Depardieu  \n",
       "207         Mel Brooks      Gene Wilder         Peter Boyle  \n",
       "300      Curtis Hanson     Kevin Spacey          Guy Pearce  \n",
       "425    Robert Mulligan     Gregory Peck         Mary Badham  \n",
       "472    Stanley Kubrick    Peter Sellers     George C. Scott  \n",
       "478   Alfred Hitchcock       Cary Grant     Eva Marie Saint  \n",
       "496        John Huston  Humphrey Bogart   Katharine Hepburn  \n",
       "513  Wolfgang Petersen  Jürgen Prochnow  Herbert Grönemeyer  \n",
       "601   Alfred Hitchcock    James Stewart         Grace Kelly  "
      ]
     },
     "metadata": {},
     "output_type": "display_data"
    },
    {
     "name": "stdout",
     "output_type": "stream",
     "text": [
      "---------------------------------------------------------------------\n",
      "you're going to rate this movie:  4\n",
      "---------------------------------------------------------------------\n",
      "your partners are (They also rated 4 )\n",
      "Choose your options: \n"
     ]
    },
    {
     "data": {
      "application/vnd.jupyter.widget-view+json": {
       "model_id": "7f6160ae611046c99d2102f33a7d2a62",
       "version_major": 2,
       "version_minor": 0
      },
      "text/plain": [
       "interactive(children=(Checkbox(value=False, description='age'), Checkbox(value=False, description='sex'), Chec…"
      ]
     },
     "metadata": {},
     "output_type": "display_data"
    },
    {
     "name": "stdout",
     "output_type": "stream",
     "text": [
      "---------------------------------------------------------------------\n",
      "Similar movies are\n"
     ]
    },
    {
     "ename": "AttributeError",
     "evalue": "'str' object has no attribute 'tolist'",
     "output_type": "error",
     "traceback": [
      "\u001b[0;31m---------------------------------------------------------------------------\u001b[0m",
      "\u001b[0;31mAttributeError\u001b[0m                            Traceback (most recent call last)",
      "\u001b[0;32m<ipython-input-9-85fd2a27fb2a>\u001b[0m in \u001b[0;36m<module>\u001b[0;34m()\u001b[0m\n\u001b[0;32m----> 1\u001b[0;31m \u001b[0mdriver\u001b[0m\u001b[0;34m(\u001b[0m\u001b[0;36m4\u001b[0m\u001b[0;34m,\u001b[0m\u001b[0;36m1\u001b[0m\u001b[0;34m)\u001b[0m\u001b[0;34m\u001b[0m\u001b[0m\n\u001b[0m",
      "\u001b[0;32m<ipython-input-8-89f2a368c8ca>\u001b[0m in \u001b[0;36mdriver\u001b[0;34m(uname, movieid)\u001b[0m\n\u001b[1;32m     12\u001b[0m         \u001b[0mans\u001b[0m\u001b[0;34m=\u001b[0m\u001b[0mcf\u001b[0m\u001b[0;34m.\u001b[0m\u001b[0mget_recommendations\u001b[0m\u001b[0;34m(\u001b[0m\u001b[0mmovietitle\u001b[0m\u001b[0;34m)\u001b[0m\u001b[0;34m\u001b[0m\u001b[0m\n\u001b[1;32m     13\u001b[0m \u001b[0;34m\u001b[0m\u001b[0m\n\u001b[0;32m---> 14\u001b[0;31m         \u001b[0mlll\u001b[0m\u001b[0;34m=\u001b[0m\u001b[0mans\u001b[0m\u001b[0;34m[\u001b[0m\u001b[0;36m0\u001b[0m\u001b[0;34m]\u001b[0m\u001b[0;34m.\u001b[0m\u001b[0mtolist\u001b[0m\u001b[0;34m(\u001b[0m\u001b[0;34m)\u001b[0m\u001b[0;34m\u001b[0m\u001b[0m\n\u001b[0m\u001b[1;32m     15\u001b[0m         \u001b[0mdf2\u001b[0m\u001b[0;34m=\u001b[0m\u001b[0mmovies_df2\u001b[0m\u001b[0;34m[\u001b[0m\u001b[0;34m'movie_title'\u001b[0m\u001b[0;34m]\u001b[0m\u001b[0;34m.\u001b[0m\u001b[0mstr\u001b[0m\u001b[0;34m.\u001b[0m\u001b[0mlower\u001b[0m\u001b[0;34m(\u001b[0m\u001b[0;34m)\u001b[0m\u001b[0;34m.\u001b[0m\u001b[0mto_frame\u001b[0m\u001b[0;34m(\u001b[0m\u001b[0;34m)\u001b[0m\u001b[0;34m\u001b[0m\u001b[0m\n\u001b[1;32m     16\u001b[0m         \u001b[0mdf2\u001b[0m\u001b[0;34m=\u001b[0m\u001b[0mdf2\u001b[0m\u001b[0;34m[\u001b[0m\u001b[0;34m'movie_title'\u001b[0m\u001b[0;34m]\u001b[0m\u001b[0;34m.\u001b[0m\u001b[0mstr\u001b[0m\u001b[0;34m.\u001b[0m\u001b[0mstrip\u001b[0m\u001b[0;34m(\u001b[0m\u001b[0;34m)\u001b[0m\u001b[0;34m.\u001b[0m\u001b[0mto_frame\u001b[0m\u001b[0;34m(\u001b[0m\u001b[0;34m)\u001b[0m\u001b[0;34m\u001b[0m\u001b[0m\n",
      "\u001b[0;31mAttributeError\u001b[0m: 'str' object has no attribute 'tolist'"
     ]
    }
   ],
   "source": [
    "driver(4,1)"
   ]
  }
 ],
 "metadata": {
  "kernelspec": {
   "display_name": "Deep Learning",
   "language": "python",
   "name": "deepl"
  },
  "language_info": {
   "codemirror_mode": {
    "name": "ipython",
    "version": 3
   },
   "file_extension": ".py",
   "mimetype": "text/x-python",
   "name": "python",
   "nbconvert_exporter": "python",
   "pygments_lexer": "ipython3",
   "version": "3.5.4"
  },
  "widgets": {
   "application/vnd.jupyter.widget-state+json": {
    "state": {
     "014d1bb2695a440981937e547799e44f": {
      "model_module": "@jupyter-widgets/output",
      "model_module_version": "1.0.0",
      "model_name": "OutputModel",
      "state": {
       "layout": "IPY_MODEL_ac4fe3518201488ba4bb668fcd5a446b",
       "outputs": [
        {
         "data": {
          "text/html": "<div>\n<style scoped>\n    .dataframe tbody tr th:only-of-type {\n        vertical-align: middle;\n    }\n\n    .dataframe tbody tr th {\n        vertical-align: top;\n    }\n\n    .dataframe thead th {\n        text-align: right;\n    }\n</style>\n<table border=\"1\" class=\"dataframe\">\n  <thead>\n    <tr style=\"text-align: right;\">\n      <th></th>\n      <th>user_id</th>\n      <th>age</th>\n      <th>sex</th>\n      <th>occupation</th>\n      <th>zip_code</th>\n    </tr>\n  </thead>\n  <tbody>\n    <tr>\n      <th>1</th>\n      <td>2</td>\n      <td>53</td>\n      <td>F</td>\n      <td>other</td>\n      <td>94043</td>\n    </tr>\n    <tr>\n      <th>5</th>\n      <td>6</td>\n      <td>42</td>\n      <td>M</td>\n      <td>executive</td>\n      <td>98101</td>\n    </tr>\n    <tr>\n      <th>6</th>\n      <td>7</td>\n      <td>57</td>\n      <td>M</td>\n      <td>administrator</td>\n      <td>91344</td>\n    </tr>\n    <tr>\n      <th>7</th>\n      <td>8</td>\n      <td>36</td>\n      <td>M</td>\n      <td>administrator</td>\n      <td>05201</td>\n    </tr>\n    <tr>\n      <th>9</th>\n      <td>10</td>\n      <td>53</td>\n      <td>M</td>\n      <td>lawyer</td>\n      <td>90703</td>\n    </tr>\n    <tr>\n      <th>10</th>\n      <td>11</td>\n      <td>39</td>\n      <td>F</td>\n      <td>other</td>\n      <td>30329</td>\n    </tr>\n    <tr>\n      <th>12</th>\n      <td>13</td>\n      <td>47</td>\n      <td>M</td>\n      <td>educator</td>\n      <td>29206</td>\n    </tr>\n    <tr>\n      <th>17</th>\n      <td>18</td>\n      <td>35</td>\n      <td>F</td>\n      <td>other</td>\n      <td>37212</td>\n    </tr>\n    <tr>\n      <th>20</th>\n      <td>21</td>\n      <td>26</td>\n      <td>M</td>\n      <td>writer</td>\n      <td>30068</td>\n    </tr>\n    <tr>\n      <th>22</th>\n      <td>23</td>\n      <td>30</td>\n      <td>F</td>\n      <td>artist</td>\n      <td>48197</td>\n    </tr>\n    <tr>\n      <th>25</th>\n      <td>26</td>\n      <td>49</td>\n      <td>M</td>\n      <td>engineer</td>\n      <td>21044</td>\n    </tr>\n    <tr>\n      <th>26</th>\n      <td>27</td>\n      <td>40</td>\n      <td>F</td>\n      <td>librarian</td>\n      <td>30030</td>\n    </tr>\n    <tr>\n      <th>27</th>\n      <td>28</td>\n      <td>32</td>\n      <td>M</td>\n      <td>writer</td>\n      <td>55369</td>\n    </tr>\n    <tr>\n      <th>28</th>\n      <td>29</td>\n      <td>41</td>\n      <td>M</td>\n      <td>programmer</td>\n      <td>94043</td>\n    </tr>\n    <tr>\n      <th>29</th>\n      <td>30</td>\n      <td>7</td>\n      <td>M</td>\n      <td>student</td>\n      <td>55436</td>\n    </tr>\n    <tr>\n      <th>30</th>\n      <td>31</td>\n      <td>24</td>\n      <td>M</td>\n      <td>artist</td>\n      <td>10003</td>\n    </tr>\n    <tr>\n      <th>31</th>\n      <td>32</td>\n      <td>28</td>\n      <td>F</td>\n      <td>student</td>\n      <td>78741</td>\n    </tr>\n    <tr>\n      <th>32</th>\n      <td>33</td>\n      <td>23</td>\n      <td>M</td>\n      <td>student</td>\n      <td>27510</td>\n    </tr>\n    <tr>\n      <th>33</th>\n      <td>34</td>\n      <td>38</td>\n      <td>F</td>\n      <td>administrator</td>\n      <td>42141</td>\n    </tr>\n    <tr>\n      <th>34</th>\n      <td>35</td>\n      <td>20</td>\n      <td>F</td>\n      <td>homemaker</td>\n      <td>42459</td>\n    </tr>\n    <tr>\n      <th>35</th>\n      <td>36</td>\n      <td>19</td>\n      <td>F</td>\n      <td>student</td>\n      <td>93117</td>\n    </tr>\n    <tr>\n      <th>37</th>\n      <td>38</td>\n      <td>28</td>\n      <td>F</td>\n      <td>other</td>\n      <td>54467</td>\n    </tr>\n    <tr>\n      <th>44</th>\n      <td>45</td>\n      <td>29</td>\n      <td>M</td>\n      <td>programmer</td>\n      <td>50233</td>\n    </tr>\n    <tr>\n      <th>45</th>\n      <td>46</td>\n      <td>27</td>\n      <td>F</td>\n      <td>marketing</td>\n      <td>46538</td>\n    </tr>\n    <tr>\n      <th>46</th>\n      <td>47</td>\n      <td>53</td>\n      <td>M</td>\n      <td>marketing</td>\n      <td>07102</td>\n    </tr>\n    <tr>\n      <th>48</th>\n      <td>49</td>\n      <td>23</td>\n      <td>F</td>\n      <td>student</td>\n      <td>76111</td>\n    </tr>\n    <tr>\n      <th>50</th>\n      <td>51</td>\n      <td>28</td>\n      <td>M</td>\n      <td>educator</td>\n      <td>16509</td>\n    </tr>\n    <tr>\n      <th>51</th>\n      <td>52</td>\n      <td>18</td>\n      <td>F</td>\n      <td>student</td>\n      <td>55105</td>\n    </tr>\n    <tr>\n      <th>53</th>\n      <td>54</td>\n      <td>22</td>\n      <td>M</td>\n      <td>executive</td>\n      <td>66315</td>\n    </tr>\n    <tr>\n      <th>58</th>\n      <td>59</td>\n      <td>49</td>\n      <td>M</td>\n      <td>educator</td>\n      <td>08403</td>\n    </tr>\n    <tr>\n      <th>59</th>\n      <td>60</td>\n      <td>50</td>\n      <td>M</td>\n      <td>healthcare</td>\n      <td>06472</td>\n    </tr>\n    <tr>\n      <th>66</th>\n      <td>67</td>\n      <td>17</td>\n      <td>M</td>\n      <td>student</td>\n      <td>60402</td>\n    </tr>\n    <tr>\n      <th>67</th>\n      <td>68</td>\n      <td>19</td>\n      <td>M</td>\n      <td>student</td>\n      <td>22904</td>\n    </tr>\n    <tr>\n      <th>72</th>\n      <td>73</td>\n      <td>24</td>\n      <td>M</td>\n      <td>student</td>\n      <td>41850</td>\n    </tr>\n    <tr>\n      <th>74</th>\n      <td>75</td>\n      <td>24</td>\n      <td>M</td>\n      <td>entertainment</td>\n      <td>08816</td>\n    </tr>\n    <tr>\n      <th>76</th>\n      <td>77</td>\n      <td>30</td>\n      <td>M</td>\n      <td>technician</td>\n      <td>29379</td>\n    </tr>\n    <tr>\n      <th>78</th>\n      <td>79</td>\n      <td>39</td>\n      <td>F</td>\n      <td>administrator</td>\n      <td>03755</td>\n    </tr>\n    <tr>\n      <th>83</th>\n      <td>84</td>\n      <td>32</td>\n      <td>M</td>\n      <td>executive</td>\n      <td>55369</td>\n    </tr>\n    <tr>\n      <th>84</th>\n      <td>85</td>\n      <td>51</td>\n      <td>M</td>\n      <td>educator</td>\n      <td>20003</td>\n    </tr>\n    <tr>\n      <th>85</th>\n      <td>86</td>\n      <td>26</td>\n      <td>M</td>\n      <td>administrator</td>\n      <td>46005</td>\n    </tr>\n    <tr>\n      <th>86</th>\n      <td>87</td>\n      <td>47</td>\n      <td>M</td>\n      <td>administrator</td>\n      <td>89503</td>\n    </tr>\n    <tr>\n      <th>88</th>\n      <td>89</td>\n      <td>43</td>\n      <td>F</td>\n      <td>administrator</td>\n      <td>68106</td>\n    </tr>\n    <tr>\n      <th>89</th>\n      <td>90</td>\n      <td>60</td>\n      <td>M</td>\n      <td>educator</td>\n      <td>78155</td>\n    </tr>\n    <tr>\n      <th>96</th>\n      <td>97</td>\n      <td>43</td>\n      <td>M</td>\n      <td>artist</td>\n      <td>98006</td>\n    </tr>\n    <tr>\n      <th>98</th>\n      <td>99</td>\n      <td>20</td>\n      <td>M</td>\n      <td>student</td>\n      <td>63129</td>\n    </tr>\n    <tr>\n      <th>101</th>\n      <td>102</td>\n      <td>38</td>\n      <td>M</td>\n      <td>programmer</td>\n      <td>30220</td>\n    </tr>\n    <tr>\n      <th>103</th>\n      <td>104</td>\n      <td>27</td>\n      <td>M</td>\n      <td>student</td>\n      <td>55108</td>\n    </tr>\n    <tr>\n      <th>108</th>\n      <td>109</td>\n      <td>29</td>\n      <td>M</td>\n      <td>other</td>\n      <td>55423</td>\n    </tr>\n    <tr>\n      <th>109</th>\n      <td>110</td>\n      <td>19</td>\n      <td>M</td>\n      <td>student</td>\n      <td>77840</td>\n    </tr>\n    <tr>\n      <th>110</th>\n      <td>111</td>\n      <td>57</td>\n      <td>M</td>\n      <td>engineer</td>\n      <td>90630</td>\n    </tr>\n    <tr>\n      <th>111</th>\n      <td>112</td>\n      <td>30</td>\n      <td>M</td>\n      <td>salesman</td>\n      <td>60613</td>\n    </tr>\n    <tr>\n      <th>113</th>\n      <td>114</td>\n      <td>27</td>\n      <td>M</td>\n      <td>programmer</td>\n      <td>75013</td>\n    </tr>\n    <tr>\n      <th>117</th>\n      <td>118</td>\n      <td>21</td>\n      <td>M</td>\n      <td>administrator</td>\n      <td>90210</td>\n    </tr>\n    <tr>\n      <th>120</th>\n      <td>121</td>\n      <td>54</td>\n      <td>M</td>\n      <td>librarian</td>\n      <td>99603</td>\n    </tr>\n    <tr>\n      <th>121</th>\n      <td>122</td>\n      <td>32</td>\n      <td>F</td>\n      <td>writer</td>\n      <td>22206</td>\n    </tr>\n    <tr>\n      <th>124</th>\n      <td>125</td>\n      <td>30</td>\n      <td>M</td>\n      <td>lawyer</td>\n      <td>22202</td>\n    </tr>\n    <tr>\n      <th>130</th>\n      <td>131</td>\n      <td>59</td>\n      <td>F</td>\n      <td>administrator</td>\n      <td>15237</td>\n    </tr>\n    <tr>\n      <th>133</th>\n      <td>134</td>\n      <td>31</td>\n      <td>M</td>\n      <td>programmer</td>\n      <td>80236</td>\n    </tr>\n    <tr>\n      <th>134</th>\n      <td>135</td>\n      <td>23</td>\n      <td>M</td>\n      <td>student</td>\n      <td>38401</td>\n    </tr>\n    <tr>\n      <th>137</th>\n      <td>138</td>\n      <td>46</td>\n      <td>M</td>\n      <td>doctor</td>\n      <td>53211</td>\n    </tr>\n    <tr>\n      <th>138</th>\n      <td>139</td>\n      <td>20</td>\n      <td>M</td>\n      <td>student</td>\n      <td>08904</td>\n    </tr>\n    <tr>\n      <th>140</th>\n      <td>141</td>\n      <td>49</td>\n      <td>M</td>\n      <td>programmer</td>\n      <td>36117</td>\n    </tr>\n    <tr>\n      <th>141</th>\n      <td>142</td>\n      <td>13</td>\n      <td>M</td>\n      <td>other</td>\n      <td>48118</td>\n    </tr>\n    <tr>\n      <th>144</th>\n      <td>145</td>\n      <td>31</td>\n      <td>M</td>\n      <td>entertainment</td>\n      <td>V3N4P</td>\n    </tr>\n    <tr>\n      <th>145</th>\n      <td>146</td>\n      <td>45</td>\n      <td>M</td>\n      <td>artist</td>\n      <td>83814</td>\n    </tr>\n    <tr>\n      <th>152</th>\n      <td>153</td>\n      <td>25</td>\n      <td>M</td>\n      <td>student</td>\n      <td>60641</td>\n    </tr>\n    <tr>\n      <th>157</th>\n      <td>158</td>\n      <td>50</td>\n      <td>M</td>\n      <td>educator</td>\n      <td>27606</td>\n    </tr>\n    <tr>\n      <th>163</th>\n      <td>164</td>\n      <td>47</td>\n      <td>M</td>\n      <td>healthcare</td>\n      <td>80123</td>\n    </tr>\n    <tr>\n      <th>164</th>\n      <td>165</td>\n      <td>20</td>\n      <td>F</td>\n      <td>other</td>\n      <td>53715</td>\n    </tr>\n    <tr>\n      <th>167</th>\n      <td>168</td>\n      <td>48</td>\n      <td>M</td>\n      <td>other</td>\n      <td>80127</td>\n    </tr>\n    <tr>\n      <th>168</th>\n      <td>169</td>\n      <td>52</td>\n      <td>F</td>\n      <td>other</td>\n      <td>53705</td>\n    </tr>\n    <tr>\n      <th>169</th>\n      <td>170</td>\n      <td>53</td>\n      <td>F</td>\n      <td>healthcare</td>\n      <td>30067</td>\n    </tr>\n    <tr>\n      <th>170</th>\n      <td>171</td>\n      <td>48</td>\n      <td>F</td>\n      <td>educator</td>\n      <td>78750</td>\n    </tr>\n    <tr>\n      <th>173</th>\n      <td>174</td>\n      <td>30</td>\n      <td>F</td>\n      <td>administrator</td>\n      <td>52302</td>\n    </tr>\n    <tr>\n      <th>174</th>\n      <td>175</td>\n      <td>26</td>\n      <td>F</td>\n      <td>scientist</td>\n      <td>21911</td>\n    </tr>\n    <tr>\n      <th>178</th>\n      <td>179</td>\n      <td>15</td>\n      <td>M</td>\n      <td>entertainment</td>\n      <td>20755</td>\n    </tr>\n    <tr>\n      <th>181</th>\n      <td>182</td>\n      <td>36</td>\n      <td>M</td>\n      <td>programmer</td>\n      <td>33884</td>\n    </tr>\n    <tr>\n      <th>183</th>\n      <td>184</td>\n      <td>37</td>\n      <td>M</td>\n      <td>librarian</td>\n      <td>76013</td>\n    </tr>\n    <tr>\n      <th>184</th>\n      <td>185</td>\n      <td>53</td>\n      <td>F</td>\n      <td>librarian</td>\n      <td>97403</td>\n    </tr>\n    <tr>\n      <th>185</th>\n      <td>186</td>\n      <td>39</td>\n      <td>F</td>\n      <td>executive</td>\n      <td>00000</td>\n    </tr>\n    <tr>\n      <th>186</th>\n      <td>187</td>\n      <td>26</td>\n      <td>M</td>\n      <td>educator</td>\n      <td>16801</td>\n    </tr>\n    <tr>\n      <th>188</th>\n      <td>189</td>\n      <td>32</td>\n      <td>M</td>\n      <td>artist</td>\n      <td>95014</td>\n    </tr>\n    <tr>\n      <th>189</th>\n      <td>190</td>\n      <td>30</td>\n      <td>M</td>\n      <td>administrator</td>\n      <td>95938</td>\n    </tr>\n    <tr>\n      <th>190</th>\n      <td>191</td>\n      <td>33</td>\n      <td>M</td>\n      <td>administrator</td>\n      <td>95161</td>\n    </tr>\n    <tr>\n      <th>193</th>\n      <td>194</td>\n      <td>38</td>\n      <td>M</td>\n      <td>administrator</td>\n      <td>02154</td>\n    </tr>\n    <tr>\n      <th>194</th>\n      <td>195</td>\n      <td>42</td>\n      <td>M</td>\n      <td>scientist</td>\n      <td>93555</td>\n    </tr>\n    <tr>\n      <th>195</th>\n      <td>196</td>\n      <td>49</td>\n      <td>M</td>\n      <td>writer</td>\n      <td>55105</td>\n    </tr>\n    <tr>\n      <th>205</th>\n      <td>206</td>\n      <td>14</td>\n      <td>F</td>\n      <td>student</td>\n      <td>53115</td>\n    </tr>\n    <tr>\n      <th>206</th>\n      <td>207</td>\n      <td>39</td>\n      <td>M</td>\n      <td>marketing</td>\n      <td>92037</td>\n    </tr>\n    <tr>\n      <th>210</th>\n      <td>211</td>\n      <td>66</td>\n      <td>M</td>\n      <td>salesman</td>\n      <td>32605</td>\n    </tr>\n    <tr>\n      <th>212</th>\n      <td>213</td>\n      <td>33</td>\n      <td>M</td>\n      <td>executive</td>\n      <td>55345</td>\n    </tr>\n    <tr>\n      <th>213</th>\n      <td>214</td>\n      <td>26</td>\n      <td>F</td>\n      <td>librarian</td>\n      <td>11231</td>\n    </tr>\n    <tr>\n      <th>215</th>\n      <td>216</td>\n      <td>22</td>\n      <td>M</td>\n      <td>engineer</td>\n      <td>02215</td>\n    </tr>\n    <tr>\n      <th>217</th>\n      <td>218</td>\n      <td>37</td>\n      <td>M</td>\n      <td>administrator</td>\n      <td>06513</td>\n    </tr>\n    <tr>\n      <th>218</th>\n      <td>219</td>\n      <td>32</td>\n      <td>M</td>\n      <td>programmer</td>\n      <td>43212</td>\n    </tr>\n    <tr>\n      <th>219</th>\n      <td>220</td>\n      <td>30</td>\n      <td>M</td>\n      <td>librarian</td>\n      <td>78205</td>\n    </tr>\n    <tr>\n      <th>222</th>\n      <td>223</td>\n      <td>19</td>\n      <td>F</td>\n      <td>student</td>\n      <td>47906</td>\n    </tr>\n    <tr>\n      <th>223</th>\n      <td>224</td>\n      <td>31</td>\n      <td>F</td>\n      <td>educator</td>\n      <td>43512</td>\n    </tr>\n    <tr>\n      <th>224</th>\n      <td>225</td>\n      <td>51</td>\n      <td>F</td>\n      <td>administrator</td>\n      <td>58202</td>\n    </tr>\n    <tr>\n      <th>225</th>\n      <td>226</td>\n      <td>28</td>\n      <td>M</td>\n      <td>student</td>\n      <td>92103</td>\n    </tr>\n    <tr>\n      <th>231</th>\n      <td>232</td>\n      <td>45</td>\n      <td>M</td>\n      <td>scientist</td>\n      <td>99709</td>\n    </tr>\n    <tr>\n      <th>234</th>\n      <td>235</td>\n      <td>37</td>\n      <td>M</td>\n      <td>educator</td>\n      <td>22973</td>\n    </tr>\n    <tr>\n      <th>235</th>\n      <td>236</td>\n      <td>44</td>\n      <td>F</td>\n      <td>writer</td>\n      <td>53214</td>\n    </tr>\n    <tr>\n      <th>236</th>\n      <td>237</td>\n      <td>49</td>\n      <td>M</td>\n      <td>administrator</td>\n      <td>63146</td>\n    </tr>\n    <tr>\n      <th>237</th>\n      <td>238</td>\n      <td>42</td>\n      <td>F</td>\n      <td>administrator</td>\n      <td>44124</td>\n    </tr>\n    <tr>\n      <th>238</th>\n      <td>239</td>\n      <td>39</td>\n      <td>M</td>\n      <td>artist</td>\n      <td>95628</td>\n    </tr>\n    <tr>\n      <th>239</th>\n      <td>240</td>\n      <td>23</td>\n      <td>F</td>\n      <td>educator</td>\n      <td>20784</td>\n    </tr>\n    <tr>\n      <th>243</th>\n      <td>244</td>\n      <td>28</td>\n      <td>M</td>\n      <td>technician</td>\n      <td>80525</td>\n    </tr>\n    <tr>\n      <th>255</th>\n      <td>256</td>\n      <td>35</td>\n      <td>F</td>\n      <td>none</td>\n      <td>39042</td>\n    </tr>\n    <tr>\n      <th>256</th>\n      <td>257</td>\n      <td>17</td>\n      <td>M</td>\n      <td>student</td>\n      <td>77005</td>\n    </tr>\n    <tr>\n      <th>257</th>\n      <td>258</td>\n      <td>19</td>\n      <td>F</td>\n      <td>student</td>\n      <td>77801</td>\n    </tr>\n    <tr>\n      <th>258</th>\n      <td>259</td>\n      <td>21</td>\n      <td>M</td>\n      <td>student</td>\n      <td>48823</td>\n    </tr>\n    <tr>\n      <th>262</th>\n      <td>263</td>\n      <td>41</td>\n      <td>M</td>\n      <td>programmer</td>\n      <td>55346</td>\n    </tr>\n    <tr>\n      <th>264</th>\n      <td>265</td>\n      <td>26</td>\n      <td>M</td>\n      <td>executive</td>\n      <td>84601</td>\n    </tr>\n    <tr>\n      <th>265</th>\n      <td>266</td>\n      <td>62</td>\n      <td>F</td>\n      <td>administrator</td>\n      <td>78756</td>\n    </tr>\n    <tr>\n      <th>271</th>\n      <td>272</td>\n      <td>33</td>\n      <td>M</td>\n      <td>scientist</td>\n      <td>53706</td>\n    </tr>\n    <tr>\n      <th>276</th>\n      <td>277</td>\n      <td>35</td>\n      <td>F</td>\n      <td>administrator</td>\n      <td>55406</td>\n    </tr>\n    <tr>\n      <th>279</th>\n      <td>280</td>\n      <td>30</td>\n      <td>F</td>\n      <td>librarian</td>\n      <td>22903</td>\n    </tr>\n    <tr>\n      <th>280</th>\n      <td>281</td>\n      <td>15</td>\n      <td>F</td>\n      <td>student</td>\n      <td>06059</td>\n    </tr>\n    <tr>\n      <th>281</th>\n      <td>282</td>\n      <td>22</td>\n      <td>M</td>\n      <td>administrator</td>\n      <td>20057</td>\n    </tr>\n    <tr>\n      <th>282</th>\n      <td>283</td>\n      <td>28</td>\n      <td>M</td>\n      <td>programmer</td>\n      <td>55305</td>\n    </tr>\n    <tr>\n      <th>283</th>\n      <td>284</td>\n      <td>40</td>\n      <td>M</td>\n      <td>executive</td>\n      <td>92629</td>\n    </tr>\n    <tr>\n      <th>302</th>\n      <td>303</td>\n      <td>19</td>\n      <td>M</td>\n      <td>student</td>\n      <td>14853</td>\n    </tr>\n    <tr>\n      <th>304</th>\n      <td>305</td>\n      <td>23</td>\n      <td>M</td>\n      <td>programmer</td>\n      <td>94086</td>\n    </tr>\n    <tr>\n      <th>307</th>\n      <td>308</td>\n      <td>60</td>\n      <td>M</td>\n      <td>retired</td>\n      <td>95076</td>\n    </tr>\n    <tr>\n      <th>308</th>\n      <td>309</td>\n      <td>40</td>\n      <td>M</td>\n      <td>scientist</td>\n      <td>70802</td>\n    </tr>\n    <tr>\n      <th>313</th>\n      <td>314</td>\n      <td>20</td>\n      <td>F</td>\n      <td>student</td>\n      <td>08043</td>\n    </tr>\n    <tr>\n      <th>315</th>\n      <td>316</td>\n      <td>43</td>\n      <td>F</td>\n      <td>other</td>\n      <td>77009</td>\n    </tr>\n    <tr>\n      <th>316</th>\n      <td>317</td>\n      <td>22</td>\n      <td>M</td>\n      <td>administrator</td>\n      <td>13210</td>\n    </tr>\n    <tr>\n      <th>317</th>\n      <td>318</td>\n      <td>65</td>\n      <td>M</td>\n      <td>retired</td>\n      <td>06518</td>\n    </tr>\n    <tr>\n      <th>319</th>\n      <td>320</td>\n      <td>19</td>\n      <td>M</td>\n      <td>student</td>\n      <td>24060</td>\n    </tr>\n    <tr>\n      <th>321</th>\n      <td>322</td>\n      <td>20</td>\n      <td>M</td>\n      <td>student</td>\n      <td>50613</td>\n    </tr>\n    <tr>\n      <th>326</th>\n      <td>327</td>\n      <td>22</td>\n      <td>M</td>\n      <td>student</td>\n      <td>11101</td>\n    </tr>\n    <tr>\n      <th>327</th>\n      <td>328</td>\n      <td>51</td>\n      <td>M</td>\n      <td>administrator</td>\n      <td>06779</td>\n    </tr>\n    <tr>\n      <th>331</th>\n      <td>332</td>\n      <td>20</td>\n      <td>M</td>\n      <td>student</td>\n      <td>40504</td>\n    </tr>\n    <tr>\n      <th>332</th>\n      <td>333</td>\n      <td>47</td>\n      <td>M</td>\n      <td>other</td>\n      <td>V0R2M</td>\n    </tr>\n    <tr>\n      <th>333</th>\n      <td>334</td>\n      <td>32</td>\n      <td>M</td>\n      <td>librarian</td>\n      <td>30002</td>\n    </tr>\n    <tr>\n      <th>335</th>\n      <td>336</td>\n      <td>23</td>\n      <td>M</td>\n      <td>salesman</td>\n      <td>42101</td>\n    </tr>\n    <tr>\n      <th>339</th>\n      <td>340</td>\n      <td>46</td>\n      <td>M</td>\n      <td>engineer</td>\n      <td>80123</td>\n    </tr>\n    <tr>\n      <th>340</th>\n      <td>341</td>\n      <td>17</td>\n      <td>F</td>\n      <td>student</td>\n      <td>44405</td>\n    </tr>\n    <tr>\n      <th>344</th>\n      <td>345</td>\n      <td>28</td>\n      <td>F</td>\n      <td>librarian</td>\n      <td>94143</td>\n    </tr>\n    <tr>\n      <th>347</th>\n      <td>348</td>\n      <td>24</td>\n      <td>F</td>\n      <td>student</td>\n      <td>45660</td>\n    </tr>\n    <tr>\n      <th>351</th>\n      <td>352</td>\n      <td>37</td>\n      <td>F</td>\n      <td>programmer</td>\n      <td>55105</td>\n    </tr>\n    <tr>\n      <th>352</th>\n      <td>353</td>\n      <td>25</td>\n      <td>M</td>\n      <td>scientist</td>\n      <td>28480</td>\n    </tr>\n    <tr>\n      <th>354</th>\n      <td>355</td>\n      <td>25</td>\n      <td>M</td>\n      <td>student</td>\n      <td>60135</td>\n    </tr>\n    <tr>\n      <th>356</th>\n      <td>357</td>\n      <td>26</td>\n      <td>M</td>\n      <td>executive</td>\n      <td>98133</td>\n    </tr>\n    <tr>\n      <th>359</th>\n      <td>360</td>\n      <td>51</td>\n      <td>M</td>\n      <td>other</td>\n      <td>98027</td>\n    </tr>\n    <tr>\n      <th>360</th>\n      <td>361</td>\n      <td>22</td>\n      <td>M</td>\n      <td>student</td>\n      <td>44074</td>\n    </tr>\n    <tr>\n      <th>362</th>\n      <td>363</td>\n      <td>20</td>\n      <td>M</td>\n      <td>student</td>\n      <td>87501</td>\n    </tr>\n    <tr>\n      <th>366</th>\n      <td>367</td>\n      <td>17</td>\n      <td>M</td>\n      <td>student</td>\n      <td>37411</td>\n    </tr>\n    <tr>\n      <th>367</th>\n      <td>368</td>\n      <td>18</td>\n      <td>M</td>\n      <td>student</td>\n      <td>92113</td>\n    </tr>\n    <tr>\n      <th>371</th>\n      <td>372</td>\n      <td>25</td>\n      <td>F</td>\n      <td>student</td>\n      <td>66046</td>\n    </tr>\n    <tr>\n      <th>373</th>\n      <td>374</td>\n      <td>36</td>\n      <td>M</td>\n      <td>executive</td>\n      <td>78746</td>\n    </tr>\n    <tr>\n      <th>374</th>\n      <td>375</td>\n      <td>17</td>\n      <td>M</td>\n      <td>entertainment</td>\n      <td>37777</td>\n    </tr>\n    <tr>\n      <th>375</th>\n      <td>376</td>\n      <td>28</td>\n      <td>F</td>\n      <td>other</td>\n      <td>10010</td>\n    </tr>\n    <tr>\n      <th>380</th>\n      <td>381</td>\n      <td>33</td>\n      <td>M</td>\n      <td>artist</td>\n      <td>94608</td>\n    </tr>\n    <tr>\n      <th>381</th>\n      <td>382</td>\n      <td>45</td>\n      <td>M</td>\n      <td>engineer</td>\n      <td>01824</td>\n    </tr>\n    <tr>\n      <th>382</th>\n      <td>383</td>\n      <td>42</td>\n      <td>M</td>\n      <td>administrator</td>\n      <td>75204</td>\n    </tr>\n    <tr>\n      <th>384</th>\n      <td>385</td>\n      <td>36</td>\n      <td>M</td>\n      <td>writer</td>\n      <td>10003</td>\n    </tr>\n    <tr>\n      <th>390</th>\n      <td>391</td>\n      <td>23</td>\n      <td>M</td>\n      <td>student</td>\n      <td>84604</td>\n    </tr>\n    <tr>\n      <th>395</th>\n      <td>396</td>\n      <td>57</td>\n      <td>M</td>\n      <td>engineer</td>\n      <td>94551</td>\n    </tr>\n    <tr>\n      <th>398</th>\n      <td>399</td>\n      <td>25</td>\n      <td>M</td>\n      <td>other</td>\n      <td>92374</td>\n    </tr>\n    <tr>\n      <th>402</th>\n      <td>403</td>\n      <td>37</td>\n      <td>M</td>\n      <td>other</td>\n      <td>06811</td>\n    </tr>\n    <tr>\n      <th>406</th>\n      <td>407</td>\n      <td>29</td>\n      <td>M</td>\n      <td>engineer</td>\n      <td>03261</td>\n    </tr>\n    <tr>\n      <th>407</th>\n      <td>408</td>\n      <td>23</td>\n      <td>M</td>\n      <td>student</td>\n      <td>61755</td>\n    </tr>\n    <tr>\n      <th>408</th>\n      <td>409</td>\n      <td>48</td>\n      <td>M</td>\n      <td>administrator</td>\n      <td>98225</td>\n    </tr>\n    <tr>\n      <th>411</th>\n      <td>412</td>\n      <td>25</td>\n      <td>M</td>\n      <td>educator</td>\n      <td>15222</td>\n    </tr>\n    <tr>\n      <th>412</th>\n      <td>413</td>\n      <td>55</td>\n      <td>M</td>\n      <td>educator</td>\n      <td>78212</td>\n    </tr>\n    <tr>\n      <th>413</th>\n      <td>414</td>\n      <td>24</td>\n      <td>M</td>\n      <td>programmer</td>\n      <td>38115</td>\n    </tr>\n    <tr>\n      <th>418</th>\n      <td>419</td>\n      <td>37</td>\n      <td>M</td>\n      <td>lawyer</td>\n      <td>43215</td>\n    </tr>\n    <tr>\n      <th>421</th>\n      <td>422</td>\n      <td>26</td>\n      <td>M</td>\n      <td>entertainment</td>\n      <td>94533</td>\n    </tr>\n    <tr>\n      <th>424</th>\n      <td>425</td>\n      <td>19</td>\n      <td>M</td>\n      <td>student</td>\n      <td>58644</td>\n    </tr>\n    <tr>\n      <th>429</th>\n      <td>430</td>\n      <td>38</td>\n      <td>M</td>\n      <td>scientist</td>\n      <td>98199</td>\n    </tr>\n    <tr>\n      <th>431</th>\n      <td>432</td>\n      <td>22</td>\n      <td>M</td>\n      <td>entertainment</td>\n      <td>50311</td>\n    </tr>\n    <tr>\n      <th>434</th>\n      <td>435</td>\n      <td>24</td>\n      <td>M</td>\n      <td>engineer</td>\n      <td>60007</td>\n    </tr>\n    <tr>\n      <th>437</th>\n      <td>438</td>\n      <td>51</td>\n      <td>F</td>\n      <td>administrator</td>\n      <td>43204</td>\n    </tr>\n    <tr>\n      <th>441</th>\n      <td>442</td>\n      <td>22</td>\n      <td>M</td>\n      <td>student</td>\n      <td>85282</td>\n    </tr>\n    <tr>\n      <th>442</th>\n      <td>443</td>\n      <td>35</td>\n      <td>M</td>\n      <td>salesman</td>\n      <td>33308</td>\n    </tr>\n    <tr>\n      <th>447</th>\n      <td>448</td>\n      <td>23</td>\n      <td>M</td>\n      <td>entertainment</td>\n      <td>10021</td>\n    </tr>\n    <tr>\n      <th>449</th>\n      <td>450</td>\n      <td>35</td>\n      <td>F</td>\n      <td>educator</td>\n      <td>11758</td>\n    </tr>\n    <tr>\n      <th>450</th>\n      <td>451</td>\n      <td>16</td>\n      <td>M</td>\n      <td>student</td>\n      <td>48446</td>\n    </tr>\n    <tr>\n      <th>451</th>\n      <td>452</td>\n      <td>35</td>\n      <td>M</td>\n      <td>administrator</td>\n      <td>28018</td>\n    </tr>\n    <tr>\n      <th>460</th>\n      <td>461</td>\n      <td>15</td>\n      <td>M</td>\n      <td>student</td>\n      <td>98102</td>\n    </tr>\n    <tr>\n      <th>462</th>\n      <td>463</td>\n      <td>48</td>\n      <td>F</td>\n      <td>healthcare</td>\n      <td>75218</td>\n    </tr>\n    <tr>\n      <th>464</th>\n      <td>465</td>\n      <td>32</td>\n      <td>M</td>\n      <td>other</td>\n      <td>05001</td>\n    </tr>\n    <tr>\n      <th>467</th>\n      <td>468</td>\n      <td>28</td>\n      <td>M</td>\n      <td>engineer</td>\n      <td>02341</td>\n    </tr>\n    <tr>\n      <th>472</th>\n      <td>473</td>\n      <td>29</td>\n      <td>M</td>\n      <td>student</td>\n      <td>94708</td>\n    </tr>\n    <tr>\n      <th>473</th>\n      <td>474</td>\n      <td>51</td>\n      <td>M</td>\n      <td>executive</td>\n      <td>93711</td>\n    </tr>\n    <tr>\n      <th>474</th>\n      <td>475</td>\n      <td>30</td>\n      <td>M</td>\n      <td>programmer</td>\n      <td>75230</td>\n    </tr>\n    <tr>\n      <th>479</th>\n      <td>480</td>\n      <td>57</td>\n      <td>M</td>\n      <td>retired</td>\n      <td>98257</td>\n    </tr>\n    <tr>\n      <th>480</th>\n      <td>481</td>\n      <td>73</td>\n      <td>M</td>\n      <td>retired</td>\n      <td>37771</td>\n    </tr>\n    <tr>\n      <th>489</th>\n      <td>490</td>\n      <td>29</td>\n      <td>F</td>\n      <td>artist</td>\n      <td>V5A2B</td>\n    </tr>\n    <tr>\n      <th>490</th>\n      <td>491</td>\n      <td>43</td>\n      <td>F</td>\n      <td>writer</td>\n      <td>53711</td>\n    </tr>\n    <tr>\n      <th>497</th>\n      <td>498</td>\n      <td>26</td>\n      <td>M</td>\n      <td>writer</td>\n      <td>55408</td>\n    </tr>\n    <tr>\n      <th>499</th>\n      <td>500</td>\n      <td>28</td>\n      <td>M</td>\n      <td>administrator</td>\n      <td>94305</td>\n    </tr>\n    <tr>\n      <th>500</th>\n      <td>501</td>\n      <td>22</td>\n      <td>M</td>\n      <td>student</td>\n      <td>10025</td>\n    </tr>\n    <tr>\n      <th>502</th>\n      <td>503</td>\n      <td>50</td>\n      <td>F</td>\n      <td>writer</td>\n      <td>27514</td>\n    </tr>\n    <tr>\n      <th>504</th>\n      <td>505</td>\n      <td>27</td>\n      <td>F</td>\n      <td>other</td>\n      <td>20657</td>\n    </tr>\n    <tr>\n      <th>508</th>\n      <td>509</td>\n      <td>23</td>\n      <td>M</td>\n      <td>administrator</td>\n      <td>10011</td>\n    </tr>\n    <tr>\n      <th>509</th>\n      <td>510</td>\n      <td>34</td>\n      <td>M</td>\n      <td>other</td>\n      <td>98038</td>\n    </tr>\n    <tr>\n      <th>511</th>\n      <td>512</td>\n      <td>29</td>\n      <td>M</td>\n      <td>other</td>\n      <td>20090</td>\n    </tr>\n    <tr>\n      <th>513</th>\n      <td>514</td>\n      <td>27</td>\n      <td>M</td>\n      <td>programmer</td>\n      <td>20707</td>\n    </tr>\n    <tr>\n      <th>514</th>\n      <td>515</td>\n      <td>53</td>\n      <td>M</td>\n      <td>marketing</td>\n      <td>49508</td>\n    </tr>\n    <tr>\n      <th>517</th>\n      <td>518</td>\n      <td>49</td>\n      <td>F</td>\n      <td>writer</td>\n      <td>99709</td>\n    </tr>\n    <tr>\n      <th>518</th>\n      <td>519</td>\n      <td>22</td>\n      <td>M</td>\n      <td>other</td>\n      <td>55320</td>\n    </tr>\n    <tr>\n      <th>520</th>\n      <td>521</td>\n      <td>19</td>\n      <td>M</td>\n      <td>student</td>\n      <td>02146</td>\n    </tr>\n    <tr>\n      <th>525</th>\n      <td>526</td>\n      <td>30</td>\n      <td>M</td>\n      <td>marketing</td>\n      <td>97124</td>\n    </tr>\n    <tr>\n      <th>526</th>\n      <td>527</td>\n      <td>33</td>\n      <td>M</td>\n      <td>librarian</td>\n      <td>12180</td>\n    </tr>\n    <tr>\n      <th>527</th>\n      <td>528</td>\n      <td>18</td>\n      <td>M</td>\n      <td>student</td>\n      <td>55104</td>\n    </tr>\n    <tr>\n      <th>528</th>\n      <td>529</td>\n      <td>47</td>\n      <td>F</td>\n      <td>administrator</td>\n      <td>44224</td>\n    </tr>\n    <tr>\n      <th>529</th>\n      <td>530</td>\n      <td>29</td>\n      <td>M</td>\n      <td>engineer</td>\n      <td>94040</td>\n    </tr>\n    <tr>\n      <th>536</th>\n      <td>537</td>\n      <td>36</td>\n      <td>M</td>\n      <td>engineer</td>\n      <td>22902</td>\n    </tr>\n    <tr>\n      <th>537</th>\n      <td>538</td>\n      <td>31</td>\n      <td>M</td>\n      <td>scientist</td>\n      <td>21010</td>\n    </tr>\n    <tr>\n      <th>541</th>\n      <td>542</td>\n      <td>21</td>\n      <td>M</td>\n      <td>student</td>\n      <td>60515</td>\n    </tr>\n    <tr>\n      <th>542</th>\n      <td>543</td>\n      <td>33</td>\n      <td>M</td>\n      <td>scientist</td>\n      <td>95123</td>\n    </tr>\n    <tr>\n      <th>544</th>\n      <td>545</td>\n      <td>27</td>\n      <td>M</td>\n      <td>technician</td>\n      <td>08052</td>\n    </tr>\n    <tr>\n      <th>545</th>\n      <td>546</td>\n      <td>36</td>\n      <td>M</td>\n      <td>executive</td>\n      <td>22911</td>\n    </tr>\n    <tr>\n      <th>549</th>\n      <td>550</td>\n      <td>16</td>\n      <td>F</td>\n      <td>student</td>\n      <td>95453</td>\n    </tr>\n    <tr>\n      <th>553</th>\n      <td>554</td>\n      <td>32</td>\n      <td>M</td>\n      <td>scientist</td>\n      <td>62901</td>\n    </tr>\n    <tr>\n      <th>554</th>\n      <td>555</td>\n      <td>29</td>\n      <td>F</td>\n      <td>educator</td>\n      <td>23227</td>\n    </tr>\n    <tr>\n      <th>555</th>\n      <td>556</td>\n      <td>35</td>\n      <td>F</td>\n      <td>educator</td>\n      <td>30606</td>\n    </tr>\n    <tr>\n      <th>556</th>\n      <td>557</td>\n      <td>30</td>\n      <td>F</td>\n      <td>writer</td>\n      <td>11217</td>\n    </tr>\n    <tr>\n      <th>557</th>\n      <td>558</td>\n      <td>56</td>\n      <td>F</td>\n      <td>writer</td>\n      <td>63132</td>\n    </tr>\n    <tr>\n      <th>561</th>\n      <td>562</td>\n      <td>54</td>\n      <td>F</td>\n      <td>administrator</td>\n      <td>20879</td>\n    </tr>\n    <tr>\n      <th>562</th>\n      <td>563</td>\n      <td>39</td>\n      <td>F</td>\n      <td>librarian</td>\n      <td>32707</td>\n    </tr>\n    <tr>\n      <th>563</th>\n      <td>564</td>\n      <td>65</td>\n      <td>M</td>\n      <td>retired</td>\n      <td>94591</td>\n    </tr>\n    <tr>\n      <th>570</th>\n      <td>571</td>\n      <td>34</td>\n      <td>M</td>\n      <td>artist</td>\n      <td>01945</td>\n    </tr>\n    <tr>\n      <th>571</th>\n      <td>572</td>\n      <td>51</td>\n      <td>M</td>\n      <td>educator</td>\n      <td>20003</td>\n    </tr>\n    <tr>\n      <th>579</th>\n      <td>580</td>\n      <td>16</td>\n      <td>M</td>\n      <td>student</td>\n      <td>17961</td>\n    </tr>\n    <tr>\n      <th>581</th>\n      <td>582</td>\n      <td>17</td>\n      <td>M</td>\n      <td>student</td>\n      <td>93003</td>\n    </tr>\n    <tr>\n      <th>582</th>\n      <td>583</td>\n      <td>44</td>\n      <td>M</td>\n      <td>engineer</td>\n      <td>29631</td>\n    </tr>\n    <tr>\n      <th>583</th>\n      <td>584</td>\n      <td>25</td>\n      <td>M</td>\n      <td>student</td>\n      <td>27511</td>\n    </tr>\n    <tr>\n      <th>585</th>\n      <td>586</td>\n      <td>20</td>\n      <td>M</td>\n      <td>student</td>\n      <td>79508</td>\n    </tr>\n    <tr>\n      <th>587</th>\n      <td>588</td>\n      <td>18</td>\n      <td>F</td>\n      <td>student</td>\n      <td>93063</td>\n    </tr>\n    <tr>\n      <th>588</th>\n      <td>589</td>\n      <td>21</td>\n      <td>M</td>\n      <td>lawyer</td>\n      <td>90034</td>\n    </tr>\n    <tr>\n      <th>589</th>\n      <td>590</td>\n      <td>50</td>\n      <td>M</td>\n      <td>educator</td>\n      <td>82435</td>\n    </tr>\n    <tr>\n      <th>592</th>\n      <td>593</td>\n      <td>31</td>\n      <td>F</td>\n      <td>educator</td>\n      <td>68767</td>\n    </tr>\n    <tr>\n      <th>593</th>\n      <td>594</td>\n      <td>46</td>\n      <td>M</td>\n      <td>educator</td>\n      <td>M4J2K</td>\n    </tr>\n    <tr>\n      <th>594</th>\n      <td>595</td>\n      <td>25</td>\n      <td>M</td>\n      <td>programmer</td>\n      <td>31909</td>\n    </tr>\n    <tr>\n      <th>596</th>\n      <td>597</td>\n      <td>23</td>\n      <td>M</td>\n      <td>other</td>\n      <td>84116</td>\n    </tr>\n    <tr>\n      <th>598</th>\n      <td>599</td>\n      <td>22</td>\n      <td>F</td>\n      <td>student</td>\n      <td>R3T5K</td>\n    </tr>\n    <tr>\n      <th>601</th>\n      <td>602</td>\n      <td>47</td>\n      <td>F</td>\n      <td>other</td>\n      <td>34656</td>\n    </tr>\n    <tr>\n      <th>605</th>\n      <td>606</td>\n      <td>28</td>\n      <td>M</td>\n      <td>programmer</td>\n      <td>63044</td>\n    </tr>\n    <tr>\n      <th>606</th>\n      <td>607</td>\n      <td>49</td>\n      <td>F</td>\n      <td>healthcare</td>\n      <td>02154</td>\n    </tr>\n    <tr>\n      <th>609</th>\n      <td>610</td>\n      <td>22</td>\n      <td>M</td>\n      <td>student</td>\n      <td>21227</td>\n    </tr>\n    <tr>\n      <th>613</th>\n      <td>614</td>\n      <td>54</td>\n      <td>M</td>\n      <td>educator</td>\n      <td>80227</td>\n    </tr>\n    <tr>\n      <th>614</th>\n      <td>615</td>\n      <td>38</td>\n      <td>M</td>\n      <td>educator</td>\n      <td>27705</td>\n    </tr>\n    <tr>\n      <th>617</th>\n      <td>618</td>\n      <td>15</td>\n      <td>F</td>\n      <td>student</td>\n      <td>44212</td>\n    </tr>\n    <tr>\n      <th>621</th>\n      <td>622</td>\n      <td>25</td>\n      <td>M</td>\n      <td>programmer</td>\n      <td>14850</td>\n    </tr>\n    <tr>\n      <th>623</th>\n      <td>624</td>\n      <td>19</td>\n      <td>M</td>\n      <td>student</td>\n      <td>30067</td>\n    </tr>\n    <tr>\n      <th>624</th>\n      <td>625</td>\n      <td>27</td>\n      <td>M</td>\n      <td>programmer</td>\n      <td>20723</td>\n    </tr>\n    <tr>\n      <th>625</th>\n      <td>626</td>\n      <td>23</td>\n      <td>M</td>\n      <td>scientist</td>\n      <td>19807</td>\n    </tr>\n    <tr>\n      <th>627</th>\n      <td>628</td>\n      <td>13</td>\n      <td>M</td>\n      <td>none</td>\n      <td>94306</td>\n    </tr>\n    <tr>\n      <th>629</th>\n      <td>630</td>\n      <td>26</td>\n      <td>F</td>\n      <td>healthcare</td>\n      <td>55408</td>\n    </tr>\n    <tr>\n      <th>631</th>\n      <td>632</td>\n      <td>18</td>\n      <td>M</td>\n      <td>student</td>\n      <td>55454</td>\n    </tr>\n    <tr>\n      <th>636</th>\n      <td>637</td>\n      <td>30</td>\n      <td>M</td>\n      <td>other</td>\n      <td>74101</td>\n    </tr>\n    <tr>\n      <th>638</th>\n      <td>639</td>\n      <td>42</td>\n      <td>F</td>\n      <td>librarian</td>\n      <td>12065</td>\n    </tr>\n    <tr>\n      <th>639</th>\n      <td>640</td>\n      <td>20</td>\n      <td>M</td>\n      <td>student</td>\n      <td>61801</td>\n    </tr>\n    <tr>\n      <th>642</th>\n      <td>643</td>\n      <td>39</td>\n      <td>M</td>\n      <td>scientist</td>\n      <td>55122</td>\n    </tr>\n    <tr>\n      <th>643</th>\n      <td>644</td>\n      <td>51</td>\n      <td>M</td>\n      <td>retired</td>\n      <td>63645</td>\n    </tr>\n    <tr>\n      <th>645</th>\n      <td>646</td>\n      <td>17</td>\n      <td>F</td>\n      <td>student</td>\n      <td>51250</td>\n    </tr>\n    <tr>\n      <th>657</th>\n      <td>658</td>\n      <td>33</td>\n      <td>M</td>\n      <td>programmer</td>\n      <td>92626</td>\n    </tr>\n    <tr>\n      <th>660</th>\n      <td>661</td>\n      <td>28</td>\n      <td>M</td>\n      <td>programmer</td>\n      <td>98121</td>\n    </tr>\n    <tr>\n      <th>665</th>\n      <td>666</td>\n      <td>44</td>\n      <td>M</td>\n      <td>administrator</td>\n      <td>61820</td>\n    </tr>\n    <tr>\n      <th>666</th>\n      <td>667</td>\n      <td>35</td>\n      <td>M</td>\n      <td>librarian</td>\n      <td>01970</td>\n    </tr>\n    <tr>\n      <th>668</th>\n      <td>669</td>\n      <td>37</td>\n      <td>M</td>\n      <td>other</td>\n      <td>20009</td>\n    </tr>\n    <tr>\n      <th>669</th>\n      <td>670</td>\n      <td>30</td>\n      <td>M</td>\n      <td>technician</td>\n      <td>21114</td>\n    </tr>\n    <tr>\n      <th>670</th>\n      <td>671</td>\n      <td>21</td>\n      <td>M</td>\n      <td>programmer</td>\n      <td>91919</td>\n    </tr>\n    <tr>\n      <th>671</th>\n      <td>672</td>\n      <td>54</td>\n      <td>F</td>\n      <td>administrator</td>\n      <td>90095</td>\n    </tr>\n    <tr>\n      <th>673</th>\n      <td>674</td>\n      <td>13</td>\n      <td>F</td>\n      <td>student</td>\n      <td>55337</td>\n    </tr>\n    <tr>\n      <th>679</th>\n      <td>680</td>\n      <td>33</td>\n      <td>M</td>\n      <td>lawyer</td>\n      <td>90405</td>\n    </tr>\n    <tr>\n      <th>681</th>\n      <td>682</td>\n      <td>23</td>\n      <td>M</td>\n      <td>programmer</td>\n      <td>55128</td>\n    </tr>\n    <tr>\n      <th>684</th>\n      <td>685</td>\n      <td>32</td>\n      <td>F</td>\n      <td>librarian</td>\n      <td>55409</td>\n    </tr>\n    <tr>\n      <th>685</th>\n      <td>686</td>\n      <td>32</td>\n      <td>M</td>\n      <td>educator</td>\n      <td>26506</td>\n    </tr>\n    <tr>\n      <th>692</th>\n      <td>693</td>\n      <td>43</td>\n      <td>F</td>\n      <td>healthcare</td>\n      <td>85210</td>\n    </tr>\n    <tr>\n      <th>693</th>\n      <td>694</td>\n      <td>60</td>\n      <td>M</td>\n      <td>programmer</td>\n      <td>06365</td>\n    </tr>\n    <tr>\n      <th>694</th>\n      <td>695</td>\n      <td>26</td>\n      <td>M</td>\n      <td>writer</td>\n      <td>38115</td>\n    </tr>\n    <tr>\n      <th>698</th>\n      <td>699</td>\n      <td>44</td>\n      <td>M</td>\n      <td>other</td>\n      <td>96754</td>\n    </tr>\n    <tr>\n      <th>702</th>\n      <td>703</td>\n      <td>26</td>\n      <td>M</td>\n      <td>educator</td>\n      <td>49512</td>\n    </tr>\n    <tr>\n      <th>705</th>\n      <td>706</td>\n      <td>23</td>\n      <td>M</td>\n      <td>student</td>\n      <td>55454</td>\n    </tr>\n    <tr>\n      <th>709</th>\n      <td>710</td>\n      <td>19</td>\n      <td>M</td>\n      <td>student</td>\n      <td>92020</td>\n    </tr>\n    <tr>\n      <th>710</th>\n      <td>711</td>\n      <td>22</td>\n      <td>F</td>\n      <td>student</td>\n      <td>15203</td>\n    </tr>\n    <tr>\n      <th>715</th>\n      <td>716</td>\n      <td>36</td>\n      <td>F</td>\n      <td>administrator</td>\n      <td>44265</td>\n    </tr>\n    <tr>\n      <th>718</th>\n      <td>719</td>\n      <td>37</td>\n      <td>F</td>\n      <td>other</td>\n      <td>V0R2H</td>\n    </tr>\n    <tr>\n      <th>720</th>\n      <td>721</td>\n      <td>24</td>\n      <td>F</td>\n      <td>entertainment</td>\n      <td>11238</td>\n    </tr>\n    <tr>\n      <th>723</th>\n      <td>724</td>\n      <td>31</td>\n      <td>M</td>\n      <td>executive</td>\n      <td>40243</td>\n    </tr>\n    <tr>\n      <th>726</th>\n      <td>727</td>\n      <td>25</td>\n      <td>M</td>\n      <td>student</td>\n      <td>78741</td>\n    </tr>\n    <tr>\n      <th>727</th>\n      <td>728</td>\n      <td>58</td>\n      <td>M</td>\n      <td>executive</td>\n      <td>94306</td>\n    </tr>\n    <tr>\n      <th>730</th>\n      <td>731</td>\n      <td>41</td>\n      <td>F</td>\n      <td>educator</td>\n      <td>70403</td>\n    </tr>\n    <tr>\n      <th>732</th>\n      <td>733</td>\n      <td>44</td>\n      <td>F</td>\n      <td>other</td>\n      <td>60630</td>\n    </tr>\n    <tr>\n      <th>734</th>\n      <td>735</td>\n      <td>29</td>\n      <td>F</td>\n      <td>healthcare</td>\n      <td>85719</td>\n    </tr>\n    <tr>\n      <th>735</th>\n      <td>736</td>\n      <td>48</td>\n      <td>F</td>\n      <td>writer</td>\n      <td>94618</td>\n    </tr>\n    <tr>\n      <th>737</th>\n      <td>738</td>\n      <td>35</td>\n      <td>M</td>\n      <td>technician</td>\n      <td>95403</td>\n    </tr>\n    <tr>\n      <th>738</th>\n      <td>739</td>\n      <td>35</td>\n      <td>M</td>\n      <td>technician</td>\n      <td>73162</td>\n    </tr>\n    <tr>\n      <th>739</th>\n      <td>740</td>\n      <td>25</td>\n      <td>F</td>\n      <td>educator</td>\n      <td>22206</td>\n    </tr>\n    <tr>\n      <th>741</th>\n      <td>742</td>\n      <td>35</td>\n      <td>M</td>\n      <td>student</td>\n      <td>29210</td>\n    </tr>\n    <tr>\n      <th>748</th>\n      <td>749</td>\n      <td>33</td>\n      <td>M</td>\n      <td>other</td>\n      <td>80919</td>\n    </tr>\n    <tr>\n      <th>750</th>\n      <td>751</td>\n      <td>24</td>\n      <td>F</td>\n      <td>other</td>\n      <td>90034</td>\n    </tr>\n    <tr>\n      <th>752</th>\n      <td>753</td>\n      <td>56</td>\n      <td>M</td>\n      <td>salesman</td>\n      <td>91206</td>\n    </tr>\n    <tr>\n      <th>753</th>\n      <td>754</td>\n      <td>59</td>\n      <td>F</td>\n      <td>librarian</td>\n      <td>62901</td>\n    </tr>\n    <tr>\n      <th>756</th>\n      <td>757</td>\n      <td>26</td>\n      <td>M</td>\n      <td>student</td>\n      <td>55104</td>\n    </tr>\n    <tr>\n      <th>758</th>\n      <td>759</td>\n      <td>20</td>\n      <td>F</td>\n      <td>student</td>\n      <td>68503</td>\n    </tr>\n    <tr>\n      <th>760</th>\n      <td>761</td>\n      <td>17</td>\n      <td>M</td>\n      <td>student</td>\n      <td>97302</td>\n    </tr>\n    <tr>\n      <th>763</th>\n      <td>764</td>\n      <td>27</td>\n      <td>F</td>\n      <td>educator</td>\n      <td>62903</td>\n    </tr>\n    <tr>\n      <th>770</th>\n      <td>771</td>\n      <td>26</td>\n      <td>M</td>\n      <td>student</td>\n      <td>15232</td>\n    </tr>\n    <tr>\n      <th>773</th>\n      <td>774</td>\n      <td>30</td>\n      <td>M</td>\n      <td>student</td>\n      <td>80027</td>\n    </tr>\n    <tr>\n      <th>774</th>\n      <td>775</td>\n      <td>46</td>\n      <td>M</td>\n      <td>executive</td>\n      <td>90036</td>\n    </tr>\n    <tr>\n      <th>778</th>\n      <td>779</td>\n      <td>31</td>\n      <td>M</td>\n      <td>student</td>\n      <td>K7L5J</td>\n    </tr>\n    <tr>\n      <th>779</th>\n      <td>780</td>\n      <td>49</td>\n      <td>M</td>\n      <td>programmer</td>\n      <td>94560</td>\n    </tr>\n    <tr>\n      <th>782</th>\n      <td>783</td>\n      <td>30</td>\n      <td>M</td>\n      <td>marketing</td>\n      <td>77081</td>\n    </tr>\n    <tr>\n      <th>785</th>\n      <td>786</td>\n      <td>36</td>\n      <td>F</td>\n      <td>engineer</td>\n      <td>01754</td>\n    </tr>\n    <tr>\n      <th>789</th>\n      <td>790</td>\n      <td>27</td>\n      <td>M</td>\n      <td>technician</td>\n      <td>80913</td>\n    </tr>\n    <tr>\n      <th>797</th>\n      <td>798</td>\n      <td>40</td>\n      <td>F</td>\n      <td>writer</td>\n      <td>64131</td>\n    </tr>\n    <tr>\n      <th>799</th>\n      <td>800</td>\n      <td>25</td>\n      <td>M</td>\n      <td>programmer</td>\n      <td>55337</td>\n    </tr>\n    <tr>\n      <th>800</th>\n      <td>801</td>\n      <td>22</td>\n      <td>M</td>\n      <td>writer</td>\n      <td>92154</td>\n    </tr>\n    <tr>\n      <th>801</th>\n      <td>802</td>\n      <td>35</td>\n      <td>M</td>\n      <td>administrator</td>\n      <td>34105</td>\n    </tr>\n    <tr>\n      <th>806</th>\n      <td>807</td>\n      <td>41</td>\n      <td>F</td>\n      <td>healthcare</td>\n      <td>93555</td>\n    </tr>\n    <tr>\n      <th>807</th>\n      <td>808</td>\n      <td>45</td>\n      <td>M</td>\n      <td>salesman</td>\n      <td>90016</td>\n    </tr>\n    <tr>\n      <th>810</th>\n      <td>811</td>\n      <td>40</td>\n      <td>F</td>\n      <td>educator</td>\n      <td>73013</td>\n    </tr>\n    <tr>\n      <th>811</th>\n      <td>812</td>\n      <td>22</td>\n      <td>M</td>\n      <td>technician</td>\n      <td>76234</td>\n    </tr>\n    <tr>\n      <th>812</th>\n      <td>813</td>\n      <td>14</td>\n      <td>F</td>\n      <td>student</td>\n      <td>02136</td>\n    </tr>\n    <tr>\n      <th>816</th>\n      <td>817</td>\n      <td>19</td>\n      <td>M</td>\n      <td>student</td>\n      <td>60152</td>\n    </tr>\n    <tr>\n      <th>817</th>\n      <td>818</td>\n      <td>28</td>\n      <td>M</td>\n      <td>librarian</td>\n      <td>27514</td>\n    </tr>\n    <tr>\n      <th>823</th>\n      <td>824</td>\n      <td>31</td>\n      <td>M</td>\n      <td>other</td>\n      <td>15017</td>\n    </tr>\n    <tr>\n      <th>825</th>\n      <td>826</td>\n      <td>28</td>\n      <td>M</td>\n      <td>artist</td>\n      <td>77048</td>\n    </tr>\n    <tr>\n      <th>830</th>\n      <td>831</td>\n      <td>21</td>\n      <td>M</td>\n      <td>other</td>\n      <td>33765</td>\n    </tr>\n    <tr>\n      <th>832</th>\n      <td>833</td>\n      <td>34</td>\n      <td>M</td>\n      <td>writer</td>\n      <td>90019</td>\n    </tr>\n    <tr>\n      <th>838</th>\n      <td>839</td>\n      <td>38</td>\n      <td>F</td>\n      <td>entertainment</td>\n      <td>90814</td>\n    </tr>\n    <tr>\n      <th>839</th>\n      <td>840</td>\n      <td>39</td>\n      <td>M</td>\n      <td>artist</td>\n      <td>55406</td>\n    </tr>\n    <tr>\n      <th>840</th>\n      <td>841</td>\n      <td>45</td>\n      <td>M</td>\n      <td>doctor</td>\n      <td>47401</td>\n    </tr>\n    <tr>\n      <th>842</th>\n      <td>843</td>\n      <td>35</td>\n      <td>M</td>\n      <td>librarian</td>\n      <td>44212</td>\n    </tr>\n    <tr>\n      <th>844</th>\n      <td>845</td>\n      <td>64</td>\n      <td>M</td>\n      <td>doctor</td>\n      <td>97405</td>\n    </tr>\n    <tr>\n      <th>846</th>\n      <td>847</td>\n      <td>29</td>\n      <td>M</td>\n      <td>student</td>\n      <td>55417</td>\n    </tr>\n    <tr>\n      <th>849</th>\n      <td>850</td>\n      <td>34</td>\n      <td>M</td>\n      <td>technician</td>\n      <td>78390</td>\n    </tr>\n    <tr>\n      <th>851</th>\n      <td>852</td>\n      <td>46</td>\n      <td>M</td>\n      <td>administrator</td>\n      <td>94086</td>\n    </tr>\n    <tr>\n      <th>854</th>\n      <td>855</td>\n      <td>53</td>\n      <td>M</td>\n      <td>librarian</td>\n      <td>04988</td>\n    </tr>\n    <tr>\n      <th>855</th>\n      <td>856</td>\n      <td>43</td>\n      <td>F</td>\n      <td>marketing</td>\n      <td>97215</td>\n    </tr>\n    <tr>\n      <th>856</th>\n      <td>857</td>\n      <td>35</td>\n      <td>F</td>\n      <td>administrator</td>\n      <td>V1G4L</td>\n    </tr>\n    <tr>\n      <th>857</th>\n      <td>858</td>\n      <td>63</td>\n      <td>M</td>\n      <td>educator</td>\n      <td>09645</td>\n    </tr>\n    <tr>\n      <th>858</th>\n      <td>859</td>\n      <td>18</td>\n      <td>F</td>\n      <td>other</td>\n      <td>06492</td>\n    </tr>\n    <tr>\n      <th>859</th>\n      <td>860</td>\n      <td>70</td>\n      <td>F</td>\n      <td>retired</td>\n      <td>48322</td>\n    </tr>\n    <tr>\n      <th>860</th>\n      <td>861</td>\n      <td>38</td>\n      <td>F</td>\n      <td>student</td>\n      <td>14085</td>\n    </tr>\n    <tr>\n      <th>861</th>\n      <td>862</td>\n      <td>25</td>\n      <td>M</td>\n      <td>executive</td>\n      <td>13820</td>\n    </tr>\n    <tr>\n      <th>867</th>\n      <td>868</td>\n      <td>21</td>\n      <td>M</td>\n      <td>programmer</td>\n      <td>55303</td>\n    </tr>\n    <tr>\n      <th>869</th>\n      <td>870</td>\n      <td>22</td>\n      <td>M</td>\n      <td>student</td>\n      <td>65203</td>\n    </tr>\n    <tr>\n      <th>872</th>\n      <td>873</td>\n      <td>48</td>\n      <td>F</td>\n      <td>administrator</td>\n      <td>33763</td>\n    </tr>\n    <tr>\n      <th>873</th>\n      <td>874</td>\n      <td>36</td>\n      <td>M</td>\n      <td>scientist</td>\n      <td>37076</td>\n    </tr>\n    <tr>\n      <th>874</th>\n      <td>875</td>\n      <td>24</td>\n      <td>F</td>\n      <td>student</td>\n      <td>35802</td>\n    </tr>\n    <tr>\n      <th>875</th>\n      <td>876</td>\n      <td>41</td>\n      <td>M</td>\n      <td>other</td>\n      <td>20902</td>\n    </tr>\n    <tr>\n      <th>882</th>\n      <td>883</td>\n      <td>49</td>\n      <td>M</td>\n      <td>librarian</td>\n      <td>50266</td>\n    </tr>\n    <tr>\n      <th>886</th>\n      <td>887</td>\n      <td>14</td>\n      <td>F</td>\n      <td>student</td>\n      <td>27249</td>\n    </tr>\n    <tr>\n      <th>896</th>\n      <td>897</td>\n      <td>30</td>\n      <td>M</td>\n      <td>other</td>\n      <td>33484</td>\n    </tr>\n    <tr>\n      <th>902</th>\n      <td>903</td>\n      <td>28</td>\n      <td>M</td>\n      <td>educator</td>\n      <td>20850</td>\n    </tr>\n    <tr>\n      <th>903</th>\n      <td>904</td>\n      <td>17</td>\n      <td>F</td>\n      <td>student</td>\n      <td>61073</td>\n    </tr>\n    <tr>\n      <th>904</th>\n      <td>905</td>\n      <td>27</td>\n      <td>M</td>\n      <td>other</td>\n      <td>30350</td>\n    </tr>\n    <tr>\n      <th>909</th>\n      <td>910</td>\n      <td>28</td>\n      <td>M</td>\n      <td>healthcare</td>\n      <td>29301</td>\n    </tr>\n    <tr>\n      <th>910</th>\n      <td>911</td>\n      <td>37</td>\n      <td>F</td>\n      <td>writer</td>\n      <td>53210</td>\n    </tr>\n    <tr>\n      <th>913</th>\n      <td>914</td>\n      <td>44</td>\n      <td>F</td>\n      <td>other</td>\n      <td>08105</td>\n    </tr>\n    <tr>\n      <th>923</th>\n      <td>924</td>\n      <td>29</td>\n      <td>M</td>\n      <td>other</td>\n      <td>11753</td>\n    </tr>\n    <tr>\n      <th>924</th>\n      <td>925</td>\n      <td>18</td>\n      <td>F</td>\n      <td>salesman</td>\n      <td>49036</td>\n    </tr>\n    <tr>\n      <th>926</th>\n      <td>927</td>\n      <td>23</td>\n      <td>M</td>\n      <td>programmer</td>\n      <td>55428</td>\n    </tr>\n    <tr>\n      <th>929</th>\n      <td>930</td>\n      <td>28</td>\n      <td>F</td>\n      <td>scientist</td>\n      <td>07310</td>\n    </tr>\n    <tr>\n      <th>935</th>\n      <td>936</td>\n      <td>24</td>\n      <td>M</td>\n      <td>other</td>\n      <td>32789</td>\n    </tr>\n    <tr>\n      <th>938</th>\n      <td>939</td>\n      <td>26</td>\n      <td>F</td>\n      <td>student</td>\n      <td>33319</td>\n    </tr>\n    <tr>\n      <th>940</th>\n      <td>941</td>\n      <td>20</td>\n      <td>M</td>\n      <td>student</td>\n      <td>97229</td>\n    </tr>\n  </tbody>\n</table>\n</div>",
          "text/plain": "     user_id  age sex     occupation zip_code\n1          2   53   F          other    94043\n5          6   42   M      executive    98101\n6          7   57   M  administrator    91344\n7          8   36   M  administrator    05201\n9         10   53   M         lawyer    90703\n10        11   39   F          other    30329\n12        13   47   M       educator    29206\n17        18   35   F          other    37212\n20        21   26   M         writer    30068\n22        23   30   F         artist    48197\n25        26   49   M       engineer    21044\n26        27   40   F      librarian    30030\n27        28   32   M         writer    55369\n28        29   41   M     programmer    94043\n29        30    7   M        student    55436\n30        31   24   M         artist    10003\n31        32   28   F        student    78741\n32        33   23   M        student    27510\n33        34   38   F  administrator    42141\n34        35   20   F      homemaker    42459\n35        36   19   F        student    93117\n37        38   28   F          other    54467\n44        45   29   M     programmer    50233\n45        46   27   F      marketing    46538\n46        47   53   M      marketing    07102\n48        49   23   F        student    76111\n50        51   28   M       educator    16509\n51        52   18   F        student    55105\n53        54   22   M      executive    66315\n58        59   49   M       educator    08403\n59        60   50   M     healthcare    06472\n66        67   17   M        student    60402\n67        68   19   M        student    22904\n72        73   24   M        student    41850\n74        75   24   M  entertainment    08816\n76        77   30   M     technician    29379\n78        79   39   F  administrator    03755\n83        84   32   M      executive    55369\n84        85   51   M       educator    20003\n85        86   26   M  administrator    46005\n86        87   47   M  administrator    89503\n88        89   43   F  administrator    68106\n89        90   60   M       educator    78155\n96        97   43   M         artist    98006\n98        99   20   M        student    63129\n101      102   38   M     programmer    30220\n103      104   27   M        student    55108\n108      109   29   M          other    55423\n109      110   19   M        student    77840\n110      111   57   M       engineer    90630\n111      112   30   M       salesman    60613\n113      114   27   M     programmer    75013\n117      118   21   M  administrator    90210\n120      121   54   M      librarian    99603\n121      122   32   F         writer    22206\n124      125   30   M         lawyer    22202\n130      131   59   F  administrator    15237\n133      134   31   M     programmer    80236\n134      135   23   M        student    38401\n137      138   46   M         doctor    53211\n138      139   20   M        student    08904\n140      141   49   M     programmer    36117\n141      142   13   M          other    48118\n144      145   31   M  entertainment    V3N4P\n145      146   45   M         artist    83814\n152      153   25   M        student    60641\n157      158   50   M       educator    27606\n163      164   47   M     healthcare    80123\n164      165   20   F          other    53715\n167      168   48   M          other    80127\n168      169   52   F          other    53705\n169      170   53   F     healthcare    30067\n170      171   48   F       educator    78750\n173      174   30   F  administrator    52302\n174      175   26   F      scientist    21911\n178      179   15   M  entertainment    20755\n181      182   36   M     programmer    33884\n183      184   37   M      librarian    76013\n184      185   53   F      librarian    97403\n185      186   39   F      executive    00000\n186      187   26   M       educator    16801\n188      189   32   M         artist    95014\n189      190   30   M  administrator    95938\n190      191   33   M  administrator    95161\n193      194   38   M  administrator    02154\n194      195   42   M      scientist    93555\n195      196   49   M         writer    55105\n205      206   14   F        student    53115\n206      207   39   M      marketing    92037\n210      211   66   M       salesman    32605\n212      213   33   M      executive    55345\n213      214   26   F      librarian    11231\n215      216   22   M       engineer    02215\n217      218   37   M  administrator    06513\n218      219   32   M     programmer    43212\n219      220   30   M      librarian    78205\n222      223   19   F        student    47906\n223      224   31   F       educator    43512\n224      225   51   F  administrator    58202\n225      226   28   M        student    92103\n231      232   45   M      scientist    99709\n234      235   37   M       educator    22973\n235      236   44   F         writer    53214\n236      237   49   M  administrator    63146\n237      238   42   F  administrator    44124\n238      239   39   M         artist    95628\n239      240   23   F       educator    20784\n243      244   28   M     technician    80525\n255      256   35   F           none    39042\n256      257   17   M        student    77005\n257      258   19   F        student    77801\n258      259   21   M        student    48823\n262      263   41   M     programmer    55346\n264      265   26   M      executive    84601\n265      266   62   F  administrator    78756\n271      272   33   M      scientist    53706\n276      277   35   F  administrator    55406\n279      280   30   F      librarian    22903\n280      281   15   F        student    06059\n281      282   22   M  administrator    20057\n282      283   28   M     programmer    55305\n283      284   40   M      executive    92629\n302      303   19   M        student    14853\n304      305   23   M     programmer    94086\n307      308   60   M        retired    95076\n308      309   40   M      scientist    70802\n313      314   20   F        student    08043\n315      316   43   F          other    77009\n316      317   22   M  administrator    13210\n317      318   65   M        retired    06518\n319      320   19   M        student    24060\n321      322   20   M        student    50613\n326      327   22   M        student    11101\n327      328   51   M  administrator    06779\n331      332   20   M        student    40504\n332      333   47   M          other    V0R2M\n333      334   32   M      librarian    30002\n335      336   23   M       salesman    42101\n339      340   46   M       engineer    80123\n340      341   17   F        student    44405\n344      345   28   F      librarian    94143\n347      348   24   F        student    45660\n351      352   37   F     programmer    55105\n352      353   25   M      scientist    28480\n354      355   25   M        student    60135\n356      357   26   M      executive    98133\n359      360   51   M          other    98027\n360      361   22   M        student    44074\n362      363   20   M        student    87501\n366      367   17   M        student    37411\n367      368   18   M        student    92113\n371      372   25   F        student    66046\n373      374   36   M      executive    78746\n374      375   17   M  entertainment    37777\n375      376   28   F          other    10010\n380      381   33   M         artist    94608\n381      382   45   M       engineer    01824\n382      383   42   M  administrator    75204\n384      385   36   M         writer    10003\n390      391   23   M        student    84604\n395      396   57   M       engineer    94551\n398      399   25   M          other    92374\n402      403   37   M          other    06811\n406      407   29   M       engineer    03261\n407      408   23   M        student    61755\n408      409   48   M  administrator    98225\n411      412   25   M       educator    15222\n412      413   55   M       educator    78212\n413      414   24   M     programmer    38115\n418      419   37   M         lawyer    43215\n421      422   26   M  entertainment    94533\n424      425   19   M        student    58644\n429      430   38   M      scientist    98199\n431      432   22   M  entertainment    50311\n434      435   24   M       engineer    60007\n437      438   51   F  administrator    43204\n441      442   22   M        student    85282\n442      443   35   M       salesman    33308\n447      448   23   M  entertainment    10021\n449      450   35   F       educator    11758\n450      451   16   M        student    48446\n451      452   35   M  administrator    28018\n460      461   15   M        student    98102\n462      463   48   F     healthcare    75218\n464      465   32   M          other    05001\n467      468   28   M       engineer    02341\n472      473   29   M        student    94708\n473      474   51   M      executive    93711\n474      475   30   M     programmer    75230\n479      480   57   M        retired    98257\n480      481   73   M        retired    37771\n489      490   29   F         artist    V5A2B\n490      491   43   F         writer    53711\n497      498   26   M         writer    55408\n499      500   28   M  administrator    94305\n500      501   22   M        student    10025\n502      503   50   F         writer    27514\n504      505   27   F          other    20657\n508      509   23   M  administrator    10011\n509      510   34   M          other    98038\n511      512   29   M          other    20090\n513      514   27   M     programmer    20707\n514      515   53   M      marketing    49508\n517      518   49   F         writer    99709\n518      519   22   M          other    55320\n520      521   19   M        student    02146\n525      526   30   M      marketing    97124\n526      527   33   M      librarian    12180\n527      528   18   M        student    55104\n528      529   47   F  administrator    44224\n529      530   29   M       engineer    94040\n536      537   36   M       engineer    22902\n537      538   31   M      scientist    21010\n541      542   21   M        student    60515\n542      543   33   M      scientist    95123\n544      545   27   M     technician    08052\n545      546   36   M      executive    22911\n549      550   16   F        student    95453\n553      554   32   M      scientist    62901\n554      555   29   F       educator    23227\n555      556   35   F       educator    30606\n556      557   30   F         writer    11217\n557      558   56   F         writer    63132\n561      562   54   F  administrator    20879\n562      563   39   F      librarian    32707\n563      564   65   M        retired    94591\n570      571   34   M         artist    01945\n571      572   51   M       educator    20003\n579      580   16   M        student    17961\n581      582   17   M        student    93003\n582      583   44   M       engineer    29631\n583      584   25   M        student    27511\n585      586   20   M        student    79508\n587      588   18   F        student    93063\n588      589   21   M         lawyer    90034\n589      590   50   M       educator    82435\n592      593   31   F       educator    68767\n593      594   46   M       educator    M4J2K\n594      595   25   M     programmer    31909\n596      597   23   M          other    84116\n598      599   22   F        student    R3T5K\n601      602   47   F          other    34656\n605      606   28   M     programmer    63044\n606      607   49   F     healthcare    02154\n609      610   22   M        student    21227\n613      614   54   M       educator    80227\n614      615   38   M       educator    27705\n617      618   15   F        student    44212\n621      622   25   M     programmer    14850\n623      624   19   M        student    30067\n624      625   27   M     programmer    20723\n625      626   23   M      scientist    19807\n627      628   13   M           none    94306\n629      630   26   F     healthcare    55408\n631      632   18   M        student    55454\n636      637   30   M          other    74101\n638      639   42   F      librarian    12065\n639      640   20   M        student    61801\n642      643   39   M      scientist    55122\n643      644   51   M        retired    63645\n645      646   17   F        student    51250\n657      658   33   M     programmer    92626\n660      661   28   M     programmer    98121\n665      666   44   M  administrator    61820\n666      667   35   M      librarian    01970\n668      669   37   M          other    20009\n669      670   30   M     technician    21114\n670      671   21   M     programmer    91919\n671      672   54   F  administrator    90095\n673      674   13   F        student    55337\n679      680   33   M         lawyer    90405\n681      682   23   M     programmer    55128\n684      685   32   F      librarian    55409\n685      686   32   M       educator    26506\n692      693   43   F     healthcare    85210\n693      694   60   M     programmer    06365\n694      695   26   M         writer    38115\n698      699   44   M          other    96754\n702      703   26   M       educator    49512\n705      706   23   M        student    55454\n709      710   19   M        student    92020\n710      711   22   F        student    15203\n715      716   36   F  administrator    44265\n718      719   37   F          other    V0R2H\n720      721   24   F  entertainment    11238\n723      724   31   M      executive    40243\n726      727   25   M        student    78741\n727      728   58   M      executive    94306\n730      731   41   F       educator    70403\n732      733   44   F          other    60630\n734      735   29   F     healthcare    85719\n735      736   48   F         writer    94618\n737      738   35   M     technician    95403\n738      739   35   M     technician    73162\n739      740   25   F       educator    22206\n741      742   35   M        student    29210\n748      749   33   M          other    80919\n750      751   24   F          other    90034\n752      753   56   M       salesman    91206\n753      754   59   F      librarian    62901\n756      757   26   M        student    55104\n758      759   20   F        student    68503\n760      761   17   M        student    97302\n763      764   27   F       educator    62903\n770      771   26   M        student    15232\n773      774   30   M        student    80027\n774      775   46   M      executive    90036\n778      779   31   M        student    K7L5J\n779      780   49   M     programmer    94560\n782      783   30   M      marketing    77081\n785      786   36   F       engineer    01754\n789      790   27   M     technician    80913\n797      798   40   F         writer    64131\n799      800   25   M     programmer    55337\n800      801   22   M         writer    92154\n801      802   35   M  administrator    34105\n806      807   41   F     healthcare    93555\n807      808   45   M       salesman    90016\n810      811   40   F       educator    73013\n811      812   22   M     technician    76234\n812      813   14   F        student    02136\n816      817   19   M        student    60152\n817      818   28   M      librarian    27514\n823      824   31   M          other    15017\n825      826   28   M         artist    77048\n830      831   21   M          other    33765\n832      833   34   M         writer    90019\n838      839   38   F  entertainment    90814\n839      840   39   M         artist    55406\n840      841   45   M         doctor    47401\n842      843   35   M      librarian    44212\n844      845   64   M         doctor    97405\n846      847   29   M        student    55417\n849      850   34   M     technician    78390\n851      852   46   M  administrator    94086\n854      855   53   M      librarian    04988\n855      856   43   F      marketing    97215\n856      857   35   F  administrator    V1G4L\n857      858   63   M       educator    09645\n858      859   18   F          other    06492\n859      860   70   F        retired    48322\n860      861   38   F        student    14085\n861      862   25   M      executive    13820\n867      868   21   M     programmer    55303\n869      870   22   M        student    65203\n872      873   48   F  administrator    33763\n873      874   36   M      scientist    37076\n874      875   24   F        student    35802\n875      876   41   M          other    20902\n882      883   49   M      librarian    50266\n886      887   14   F        student    27249\n896      897   30   M          other    33484\n902      903   28   M       educator    20850\n903      904   17   F        student    61073\n904      905   27   M          other    30350\n909      910   28   M     healthcare    29301\n910      911   37   F         writer    53210\n913      914   44   F          other    08105\n923      924   29   M          other    11753\n924      925   18   F       salesman    49036\n926      927   23   M     programmer    55428\n929      930   28   F      scientist    07310\n935      936   24   M          other    32789\n938      939   26   F        student    33319\n940      941   20   M        student    97229"
         },
         "metadata": {},
         "output_type": "display_data"
        }
       ]
      }
     },
     "06dc2f819d2644f0ba7757930eca93c5": {
      "model_module": "@jupyter-widgets/controls",
      "model_module_version": "1.4.0",
      "model_name": "ButtonModel",
      "state": {
       "description": "Contest Based Movie Recommendation",
       "layout": "IPY_MODEL_39de838c44bf487682b9dd79caeb100c",
       "style": "IPY_MODEL_ae5398b2ba9041148840696089f160f4"
      }
     },
     "0a44b4ef753f4faa92ac89a4c07a249f": {
      "model_module": "@jupyter-widgets/controls",
      "model_module_version": "1.4.0",
      "model_name": "VBoxModel",
      "state": {
       "_dom_classes": [
        "widget-interact"
       ],
       "children": [
        "IPY_MODEL_30f05bdc02f74449b174cd2f4fcfcbf6",
        "IPY_MODEL_4ec3700532574e098e53c03670483433",
        "IPY_MODEL_c570e8a9351d4dbc8ca75dfdac7c5e11",
        "IPY_MODEL_81cac4c45c4940b5a9388123b4a5ff2f"
       ],
       "layout": "IPY_MODEL_d8ec8feab7ab4839a0705eb7ca6716a4"
      }
     },
     "0bc5fc87cbff44ff8c3c6e46d75ac3aa": {
      "model_module": "@jupyter-widgets/controls",
      "model_module_version": "1.4.0",
      "model_name": "CheckboxModel",
      "state": {
       "description": "occupation",
       "disabled": false,
       "layout": "IPY_MODEL_7b3bb1f092ca496fa44bcd0a97c53975",
       "style": "IPY_MODEL_75e273e75e2c445aa07750b371f6a29b",
       "value": false
      }
     },
     "0d9eac6266de4d43b2d412593c547868": {
      "model_module": "@jupyter-widgets/base",
      "model_module_version": "1.1.0",
      "model_name": "LayoutModel",
      "state": {}
     },
     "0ecd3174287a49c9aeef7db755afff02": {
      "model_module": "@jupyter-widgets/base",
      "model_module_version": "1.1.0",
      "model_name": "LayoutModel",
      "state": {}
     },
     "0f8a920232a14bd9ba5a6371e6a2a3fa": {
      "model_module": "@jupyter-widgets/controls",
      "model_module_version": "1.4.0",
      "model_name": "ButtonStyleModel",
      "state": {}
     },
     "1071d603bd5d42cd9efef28e8507e1a9": {
      "model_module": "@jupyter-widgets/base",
      "model_module_version": "1.1.0",
      "model_name": "LayoutModel",
      "state": {}
     },
     "11acca7f9481408f84cf060d6ffe14bb": {
      "model_module": "@jupyter-widgets/base",
      "model_module_version": "1.1.0",
      "model_name": "LayoutModel",
      "state": {}
     },
     "1240a45740554be0aebc35e0883c3e97": {
      "model_module": "@jupyter-widgets/controls",
      "model_module_version": "1.4.0",
      "model_name": "ButtonModel",
      "state": {
       "description": "RBM Based Movie Recommendation",
       "layout": "IPY_MODEL_6e221c7568d24ce4bb2d94ad88aa2bf7",
       "style": "IPY_MODEL_eeea45484fbb43278e39688761ed8abf"
      }
     },
     "13d8307dda25498c9d6e9b8ce8934546": {
      "model_module": "@jupyter-widgets/controls",
      "model_module_version": "1.4.0",
      "model_name": "ButtonModel",
      "state": {
       "description": "Collaborative Based Recommendation for users and movies",
       "layout": "IPY_MODEL_1b8d037c01d344b78aa588408d3bd570",
       "style": "IPY_MODEL_e7a47a20a24745b998be228d1c777a23"
      }
     },
     "1406c87d5eb049dfbbb0379392e0d518": {
      "model_module": "@jupyter-widgets/controls",
      "model_module_version": "1.4.0",
      "model_name": "ButtonStyleModel",
      "state": {}
     },
     "164c951257c64e61a1714ff07ac422d9": {
      "model_module": "@jupyter-widgets/base",
      "model_module_version": "1.1.0",
      "model_name": "LayoutModel",
      "state": {}
     },
     "18357fb336a14cb7b30fc75a323dcde3": {
      "model_module": "@jupyter-widgets/controls",
      "model_module_version": "1.4.0",
      "model_name": "VBoxModel",
      "state": {
       "_dom_classes": [
        "widget-interact"
       ],
       "children": [
        "IPY_MODEL_a6a671dc7bb6411aa75ccfb2092c8830",
        "IPY_MODEL_bfae8322dc9c4c2fae45e6d911edbdd1",
        "IPY_MODEL_235fc38b55bb43cf909878e744d452ac",
        "IPY_MODEL_3a1266d363ec414b9d29077d30f5918f"
       ],
       "layout": "IPY_MODEL_bd0ea3fdae77498fadf3ab0d8de1cb46"
      }
     },
     "1906468642d84a70830ad6af01ab11dc": {
      "model_module": "@jupyter-widgets/controls",
      "model_module_version": "1.4.0",
      "model_name": "ButtonModel",
      "state": {
       "description": "Contest Based Movie Recommendation",
       "layout": "IPY_MODEL_6fee67a398ed4a70b8dfbcbd28cbff8a",
       "style": "IPY_MODEL_fd1a804a739b48bcb7c993909d51e456"
      }
     },
     "1b8d037c01d344b78aa588408d3bd570": {
      "model_module": "@jupyter-widgets/base",
      "model_module_version": "1.1.0",
      "model_name": "LayoutModel",
      "state": {}
     },
     "1d6ce98196674a1faa4c7e0be11990ca": {
      "model_module": "@jupyter-widgets/controls",
      "model_module_version": "1.4.0",
      "model_name": "ButtonStyleModel",
      "state": {}
     },
     "235fc38b55bb43cf909878e744d452ac": {
      "model_module": "@jupyter-widgets/controls",
      "model_module_version": "1.4.0",
      "model_name": "CheckboxModel",
      "state": {
       "description": "occupation",
       "disabled": false,
       "layout": "IPY_MODEL_df49d1bed84d44e3ad98c2a6c327c60f",
       "style": "IPY_MODEL_32f033bd24c147fd96b79c3be9c74e09",
       "value": false
      }
     },
     "290d10dcb6d94b2db407434aa91f9bd8": {
      "model_module": "@jupyter-widgets/controls",
      "model_module_version": "1.4.0",
      "model_name": "CheckboxModel",
      "state": {
       "description": "occupation",
       "disabled": false,
       "layout": "IPY_MODEL_ff56f9c96c8d4b1f83a557cdad24ab61",
       "style": "IPY_MODEL_a404a1a226eb4416acdd3cd602008a00",
       "value": false
      }
     },
     "293f8b45d19c4b1c8f9de00a76fb9a6d": {
      "model_module": "@jupyter-widgets/base",
      "model_module_version": "1.1.0",
      "model_name": "LayoutModel",
      "state": {}
     },
     "29ac4d038baa4d1caac7bed9f816c035": {
      "model_module": "@jupyter-widgets/controls",
      "model_module_version": "1.4.0",
      "model_name": "ButtonModel",
      "state": {
       "description": "RBM Based Movie Recommendation",
       "layout": "IPY_MODEL_74c4c22b6abf46cb887ef42fa37a725f",
       "style": "IPY_MODEL_a79c113965654d63bec16bb3a34ee0a9"
      }
     },
     "2d6bae61cd494b5b8ce1fcdd681a41e7": {
      "model_module": "@jupyter-widgets/base",
      "model_module_version": "1.1.0",
      "model_name": "LayoutModel",
      "state": {}
     },
     "2ec6539c38cc458f8b1b47debad9c3a5": {
      "model_module": "@jupyter-widgets/base",
      "model_module_version": "1.1.0",
      "model_name": "LayoutModel",
      "state": {}
     },
     "30f05bdc02f74449b174cd2f4fcfcbf6": {
      "model_module": "@jupyter-widgets/controls",
      "model_module_version": "1.4.0",
      "model_name": "CheckboxModel",
      "state": {
       "description": "age",
       "disabled": false,
       "layout": "IPY_MODEL_adf74e00fe594141a9291fea8fcafb66",
       "style": "IPY_MODEL_b706be962de34a529231814e3a7342a1",
       "value": false
      }
     },
     "32f033bd24c147fd96b79c3be9c74e09": {
      "model_module": "@jupyter-widgets/controls",
      "model_module_version": "1.4.0",
      "model_name": "DescriptionStyleModel",
      "state": {
       "description_width": ""
      }
     },
     "33d0f96fca434900a39c936b5477f266": {
      "model_module": "@jupyter-widgets/controls",
      "model_module_version": "1.4.0",
      "model_name": "ButtonStyleModel",
      "state": {}
     },
     "3499227352864b89b2f355450fea09e8": {
      "model_module": "@jupyter-widgets/controls",
      "model_module_version": "1.4.0",
      "model_name": "ButtonModel",
      "state": {
       "description": "Contest Based Movie Recommendation",
       "layout": "IPY_MODEL_7d2f273b9d504424990b7ed0a79e0e38",
       "style": "IPY_MODEL_a462ba8dde574aa79419c9e76334250f"
      }
     },
     "38a15e709a284cd2bc2de2c1352c36b1": {
      "model_module": "@jupyter-widgets/controls",
      "model_module_version": "1.4.0",
      "model_name": "VBoxModel",
      "state": {
       "_dom_classes": [
        "widget-interact"
       ],
       "children": [
        "IPY_MODEL_b0732dda0b714a2a83e8ef602c780e81",
        "IPY_MODEL_3f3281ba305e4294af7b21bf4007127a",
        "IPY_MODEL_290d10dcb6d94b2db407434aa91f9bd8",
        "IPY_MODEL_f2d70b0f441c47d0b68aba04d7a5f471"
       ],
       "layout": "IPY_MODEL_65509856e3fb4d5f885d24a5ccaf6d3e"
      }
     },
     "39de838c44bf487682b9dd79caeb100c": {
      "model_module": "@jupyter-widgets/base",
      "model_module_version": "1.1.0",
      "model_name": "LayoutModel",
      "state": {}
     },
     "3a1266d363ec414b9d29077d30f5918f": {
      "model_module": "@jupyter-widgets/output",
      "model_module_version": "1.0.0",
      "model_name": "OutputModel",
      "state": {
       "layout": "IPY_MODEL_bbbae8dbdd3c4b3397e44c5da16e5ba0"
      }
     },
     "3a9870bc165a4ab5adcc32c2d18aded7": {
      "model_module": "@jupyter-widgets/controls",
      "model_module_version": "1.4.0",
      "model_name": "ButtonStyleModel",
      "state": {}
     },
     "3afe661e3dd042f6b6c7912232e5de0f": {
      "model_module": "@jupyter-widgets/base",
      "model_module_version": "1.1.0",
      "model_name": "LayoutModel",
      "state": {}
     },
     "3c9663884f404516af1a602db8f42bfb": {
      "model_module": "@jupyter-widgets/controls",
      "model_module_version": "1.4.0",
      "model_name": "ButtonModel",
      "state": {
       "description": "Collaborative Based Recommendation for users and movies",
       "layout": "IPY_MODEL_0ecd3174287a49c9aeef7db755afff02",
       "style": "IPY_MODEL_1d6ce98196674a1faa4c7e0be11990ca"
      }
     },
     "3db6a84a5ac048689935c96b0412496d": {
      "model_module": "@jupyter-widgets/base",
      "model_module_version": "1.1.0",
      "model_name": "LayoutModel",
      "state": {}
     },
     "3f3281ba305e4294af7b21bf4007127a": {
      "model_module": "@jupyter-widgets/controls",
      "model_module_version": "1.4.0",
      "model_name": "CheckboxModel",
      "state": {
       "description": "sex",
       "disabled": false,
       "layout": "IPY_MODEL_b9e38fad9a784c8baf3edf381b99461a",
       "style": "IPY_MODEL_785560ba8f6b4cb7a2368251f0cc628f",
       "value": false
      }
     },
     "402e7c090ce142cda5682b540647f1c7": {
      "model_module": "@jupyter-widgets/controls",
      "model_module_version": "1.4.0",
      "model_name": "ButtonModel",
      "state": {
       "description": "RBM Based Movie Recommendation",
       "layout": "IPY_MODEL_72da3442ce6d45039d893a1826dee699",
       "style": "IPY_MODEL_f961a50d664e4aec86722b2d299a5241"
      }
     },
     "45e13d8e94a74f92aec417c3b0b35c5a": {
      "model_module": "@jupyter-widgets/controls",
      "model_module_version": "1.4.0",
      "model_name": "CheckboxModel",
      "state": {
       "description": "sex",
       "disabled": false,
       "layout": "IPY_MODEL_b078c72895f243a3ade23511b306bdfb",
       "style": "IPY_MODEL_679623ecb810435db6bfa02e40616b23",
       "value": false
      }
     },
     "47773ee93ebb4bc2a6175b97687c46ce": {
      "model_module": "@jupyter-widgets/output",
      "model_module_version": "1.0.0",
      "model_name": "OutputModel",
      "state": {
       "layout": "IPY_MODEL_df042f556ebb404a8c37943ab8cba664",
       "outputs": [
        {
         "data": {
          "text/html": "<div>\n<style scoped>\n    .dataframe tbody tr th:only-of-type {\n        vertical-align: middle;\n    }\n\n    .dataframe tbody tr th {\n        vertical-align: top;\n    }\n\n    .dataframe thead th {\n        text-align: right;\n    }\n</style>\n<table border=\"1\" class=\"dataframe\">\n  <thead>\n    <tr style=\"text-align: right;\">\n      <th></th>\n      <th>user_id</th>\n      <th>age</th>\n      <th>sex</th>\n      <th>occupation</th>\n      <th>zip_code</th>\n    </tr>\n  </thead>\n  <tbody>\n    <tr>\n      <th>1</th>\n      <td>2</td>\n      <td>53</td>\n      <td>F</td>\n      <td>other</td>\n      <td>94043</td>\n    </tr>\n    <tr>\n      <th>5</th>\n      <td>6</td>\n      <td>42</td>\n      <td>M</td>\n      <td>executive</td>\n      <td>98101</td>\n    </tr>\n    <tr>\n      <th>6</th>\n      <td>7</td>\n      <td>57</td>\n      <td>M</td>\n      <td>administrator</td>\n      <td>91344</td>\n    </tr>\n    <tr>\n      <th>7</th>\n      <td>8</td>\n      <td>36</td>\n      <td>M</td>\n      <td>administrator</td>\n      <td>05201</td>\n    </tr>\n    <tr>\n      <th>9</th>\n      <td>10</td>\n      <td>53</td>\n      <td>M</td>\n      <td>lawyer</td>\n      <td>90703</td>\n    </tr>\n    <tr>\n      <th>10</th>\n      <td>11</td>\n      <td>39</td>\n      <td>F</td>\n      <td>other</td>\n      <td>30329</td>\n    </tr>\n    <tr>\n      <th>12</th>\n      <td>13</td>\n      <td>47</td>\n      <td>M</td>\n      <td>educator</td>\n      <td>29206</td>\n    </tr>\n    <tr>\n      <th>17</th>\n      <td>18</td>\n      <td>35</td>\n      <td>F</td>\n      <td>other</td>\n      <td>37212</td>\n    </tr>\n    <tr>\n      <th>20</th>\n      <td>21</td>\n      <td>26</td>\n      <td>M</td>\n      <td>writer</td>\n      <td>30068</td>\n    </tr>\n    <tr>\n      <th>22</th>\n      <td>23</td>\n      <td>30</td>\n      <td>F</td>\n      <td>artist</td>\n      <td>48197</td>\n    </tr>\n    <tr>\n      <th>25</th>\n      <td>26</td>\n      <td>49</td>\n      <td>M</td>\n      <td>engineer</td>\n      <td>21044</td>\n    </tr>\n    <tr>\n      <th>26</th>\n      <td>27</td>\n      <td>40</td>\n      <td>F</td>\n      <td>librarian</td>\n      <td>30030</td>\n    </tr>\n    <tr>\n      <th>27</th>\n      <td>28</td>\n      <td>32</td>\n      <td>M</td>\n      <td>writer</td>\n      <td>55369</td>\n    </tr>\n    <tr>\n      <th>28</th>\n      <td>29</td>\n      <td>41</td>\n      <td>M</td>\n      <td>programmer</td>\n      <td>94043</td>\n    </tr>\n    <tr>\n      <th>29</th>\n      <td>30</td>\n      <td>7</td>\n      <td>M</td>\n      <td>student</td>\n      <td>55436</td>\n    </tr>\n    <tr>\n      <th>30</th>\n      <td>31</td>\n      <td>24</td>\n      <td>M</td>\n      <td>artist</td>\n      <td>10003</td>\n    </tr>\n    <tr>\n      <th>31</th>\n      <td>32</td>\n      <td>28</td>\n      <td>F</td>\n      <td>student</td>\n      <td>78741</td>\n    </tr>\n    <tr>\n      <th>32</th>\n      <td>33</td>\n      <td>23</td>\n      <td>M</td>\n      <td>student</td>\n      <td>27510</td>\n    </tr>\n    <tr>\n      <th>33</th>\n      <td>34</td>\n      <td>38</td>\n      <td>F</td>\n      <td>administrator</td>\n      <td>42141</td>\n    </tr>\n    <tr>\n      <th>34</th>\n      <td>35</td>\n      <td>20</td>\n      <td>F</td>\n      <td>homemaker</td>\n      <td>42459</td>\n    </tr>\n    <tr>\n      <th>35</th>\n      <td>36</td>\n      <td>19</td>\n      <td>F</td>\n      <td>student</td>\n      <td>93117</td>\n    </tr>\n    <tr>\n      <th>37</th>\n      <td>38</td>\n      <td>28</td>\n      <td>F</td>\n      <td>other</td>\n      <td>54467</td>\n    </tr>\n    <tr>\n      <th>44</th>\n      <td>45</td>\n      <td>29</td>\n      <td>M</td>\n      <td>programmer</td>\n      <td>50233</td>\n    </tr>\n    <tr>\n      <th>45</th>\n      <td>46</td>\n      <td>27</td>\n      <td>F</td>\n      <td>marketing</td>\n      <td>46538</td>\n    </tr>\n    <tr>\n      <th>46</th>\n      <td>47</td>\n      <td>53</td>\n      <td>M</td>\n      <td>marketing</td>\n      <td>07102</td>\n    </tr>\n    <tr>\n      <th>48</th>\n      <td>49</td>\n      <td>23</td>\n      <td>F</td>\n      <td>student</td>\n      <td>76111</td>\n    </tr>\n    <tr>\n      <th>50</th>\n      <td>51</td>\n      <td>28</td>\n      <td>M</td>\n      <td>educator</td>\n      <td>16509</td>\n    </tr>\n    <tr>\n      <th>51</th>\n      <td>52</td>\n      <td>18</td>\n      <td>F</td>\n      <td>student</td>\n      <td>55105</td>\n    </tr>\n    <tr>\n      <th>53</th>\n      <td>54</td>\n      <td>22</td>\n      <td>M</td>\n      <td>executive</td>\n      <td>66315</td>\n    </tr>\n    <tr>\n      <th>58</th>\n      <td>59</td>\n      <td>49</td>\n      <td>M</td>\n      <td>educator</td>\n      <td>08403</td>\n    </tr>\n    <tr>\n      <th>59</th>\n      <td>60</td>\n      <td>50</td>\n      <td>M</td>\n      <td>healthcare</td>\n      <td>06472</td>\n    </tr>\n    <tr>\n      <th>66</th>\n      <td>67</td>\n      <td>17</td>\n      <td>M</td>\n      <td>student</td>\n      <td>60402</td>\n    </tr>\n    <tr>\n      <th>67</th>\n      <td>68</td>\n      <td>19</td>\n      <td>M</td>\n      <td>student</td>\n      <td>22904</td>\n    </tr>\n    <tr>\n      <th>72</th>\n      <td>73</td>\n      <td>24</td>\n      <td>M</td>\n      <td>student</td>\n      <td>41850</td>\n    </tr>\n    <tr>\n      <th>74</th>\n      <td>75</td>\n      <td>24</td>\n      <td>M</td>\n      <td>entertainment</td>\n      <td>08816</td>\n    </tr>\n    <tr>\n      <th>76</th>\n      <td>77</td>\n      <td>30</td>\n      <td>M</td>\n      <td>technician</td>\n      <td>29379</td>\n    </tr>\n    <tr>\n      <th>78</th>\n      <td>79</td>\n      <td>39</td>\n      <td>F</td>\n      <td>administrator</td>\n      <td>03755</td>\n    </tr>\n    <tr>\n      <th>83</th>\n      <td>84</td>\n      <td>32</td>\n      <td>M</td>\n      <td>executive</td>\n      <td>55369</td>\n    </tr>\n    <tr>\n      <th>84</th>\n      <td>85</td>\n      <td>51</td>\n      <td>M</td>\n      <td>educator</td>\n      <td>20003</td>\n    </tr>\n    <tr>\n      <th>85</th>\n      <td>86</td>\n      <td>26</td>\n      <td>M</td>\n      <td>administrator</td>\n      <td>46005</td>\n    </tr>\n    <tr>\n      <th>86</th>\n      <td>87</td>\n      <td>47</td>\n      <td>M</td>\n      <td>administrator</td>\n      <td>89503</td>\n    </tr>\n    <tr>\n      <th>88</th>\n      <td>89</td>\n      <td>43</td>\n      <td>F</td>\n      <td>administrator</td>\n      <td>68106</td>\n    </tr>\n    <tr>\n      <th>89</th>\n      <td>90</td>\n      <td>60</td>\n      <td>M</td>\n      <td>educator</td>\n      <td>78155</td>\n    </tr>\n    <tr>\n      <th>96</th>\n      <td>97</td>\n      <td>43</td>\n      <td>M</td>\n      <td>artist</td>\n      <td>98006</td>\n    </tr>\n    <tr>\n      <th>98</th>\n      <td>99</td>\n      <td>20</td>\n      <td>M</td>\n      <td>student</td>\n      <td>63129</td>\n    </tr>\n    <tr>\n      <th>101</th>\n      <td>102</td>\n      <td>38</td>\n      <td>M</td>\n      <td>programmer</td>\n      <td>30220</td>\n    </tr>\n    <tr>\n      <th>103</th>\n      <td>104</td>\n      <td>27</td>\n      <td>M</td>\n      <td>student</td>\n      <td>55108</td>\n    </tr>\n    <tr>\n      <th>108</th>\n      <td>109</td>\n      <td>29</td>\n      <td>M</td>\n      <td>other</td>\n      <td>55423</td>\n    </tr>\n    <tr>\n      <th>109</th>\n      <td>110</td>\n      <td>19</td>\n      <td>M</td>\n      <td>student</td>\n      <td>77840</td>\n    </tr>\n    <tr>\n      <th>110</th>\n      <td>111</td>\n      <td>57</td>\n      <td>M</td>\n      <td>engineer</td>\n      <td>90630</td>\n    </tr>\n    <tr>\n      <th>111</th>\n      <td>112</td>\n      <td>30</td>\n      <td>M</td>\n      <td>salesman</td>\n      <td>60613</td>\n    </tr>\n    <tr>\n      <th>113</th>\n      <td>114</td>\n      <td>27</td>\n      <td>M</td>\n      <td>programmer</td>\n      <td>75013</td>\n    </tr>\n    <tr>\n      <th>117</th>\n      <td>118</td>\n      <td>21</td>\n      <td>M</td>\n      <td>administrator</td>\n      <td>90210</td>\n    </tr>\n    <tr>\n      <th>120</th>\n      <td>121</td>\n      <td>54</td>\n      <td>M</td>\n      <td>librarian</td>\n      <td>99603</td>\n    </tr>\n    <tr>\n      <th>121</th>\n      <td>122</td>\n      <td>32</td>\n      <td>F</td>\n      <td>writer</td>\n      <td>22206</td>\n    </tr>\n    <tr>\n      <th>124</th>\n      <td>125</td>\n      <td>30</td>\n      <td>M</td>\n      <td>lawyer</td>\n      <td>22202</td>\n    </tr>\n    <tr>\n      <th>130</th>\n      <td>131</td>\n      <td>59</td>\n      <td>F</td>\n      <td>administrator</td>\n      <td>15237</td>\n    </tr>\n    <tr>\n      <th>133</th>\n      <td>134</td>\n      <td>31</td>\n      <td>M</td>\n      <td>programmer</td>\n      <td>80236</td>\n    </tr>\n    <tr>\n      <th>134</th>\n      <td>135</td>\n      <td>23</td>\n      <td>M</td>\n      <td>student</td>\n      <td>38401</td>\n    </tr>\n    <tr>\n      <th>137</th>\n      <td>138</td>\n      <td>46</td>\n      <td>M</td>\n      <td>doctor</td>\n      <td>53211</td>\n    </tr>\n    <tr>\n      <th>138</th>\n      <td>139</td>\n      <td>20</td>\n      <td>M</td>\n      <td>student</td>\n      <td>08904</td>\n    </tr>\n    <tr>\n      <th>140</th>\n      <td>141</td>\n      <td>49</td>\n      <td>M</td>\n      <td>programmer</td>\n      <td>36117</td>\n    </tr>\n    <tr>\n      <th>141</th>\n      <td>142</td>\n      <td>13</td>\n      <td>M</td>\n      <td>other</td>\n      <td>48118</td>\n    </tr>\n    <tr>\n      <th>144</th>\n      <td>145</td>\n      <td>31</td>\n      <td>M</td>\n      <td>entertainment</td>\n      <td>V3N4P</td>\n    </tr>\n    <tr>\n      <th>145</th>\n      <td>146</td>\n      <td>45</td>\n      <td>M</td>\n      <td>artist</td>\n      <td>83814</td>\n    </tr>\n    <tr>\n      <th>152</th>\n      <td>153</td>\n      <td>25</td>\n      <td>M</td>\n      <td>student</td>\n      <td>60641</td>\n    </tr>\n    <tr>\n      <th>157</th>\n      <td>158</td>\n      <td>50</td>\n      <td>M</td>\n      <td>educator</td>\n      <td>27606</td>\n    </tr>\n    <tr>\n      <th>163</th>\n      <td>164</td>\n      <td>47</td>\n      <td>M</td>\n      <td>healthcare</td>\n      <td>80123</td>\n    </tr>\n    <tr>\n      <th>164</th>\n      <td>165</td>\n      <td>20</td>\n      <td>F</td>\n      <td>other</td>\n      <td>53715</td>\n    </tr>\n    <tr>\n      <th>167</th>\n      <td>168</td>\n      <td>48</td>\n      <td>M</td>\n      <td>other</td>\n      <td>80127</td>\n    </tr>\n    <tr>\n      <th>168</th>\n      <td>169</td>\n      <td>52</td>\n      <td>F</td>\n      <td>other</td>\n      <td>53705</td>\n    </tr>\n    <tr>\n      <th>169</th>\n      <td>170</td>\n      <td>53</td>\n      <td>F</td>\n      <td>healthcare</td>\n      <td>30067</td>\n    </tr>\n    <tr>\n      <th>170</th>\n      <td>171</td>\n      <td>48</td>\n      <td>F</td>\n      <td>educator</td>\n      <td>78750</td>\n    </tr>\n    <tr>\n      <th>173</th>\n      <td>174</td>\n      <td>30</td>\n      <td>F</td>\n      <td>administrator</td>\n      <td>52302</td>\n    </tr>\n    <tr>\n      <th>174</th>\n      <td>175</td>\n      <td>26</td>\n      <td>F</td>\n      <td>scientist</td>\n      <td>21911</td>\n    </tr>\n    <tr>\n      <th>178</th>\n      <td>179</td>\n      <td>15</td>\n      <td>M</td>\n      <td>entertainment</td>\n      <td>20755</td>\n    </tr>\n    <tr>\n      <th>181</th>\n      <td>182</td>\n      <td>36</td>\n      <td>M</td>\n      <td>programmer</td>\n      <td>33884</td>\n    </tr>\n    <tr>\n      <th>183</th>\n      <td>184</td>\n      <td>37</td>\n      <td>M</td>\n      <td>librarian</td>\n      <td>76013</td>\n    </tr>\n    <tr>\n      <th>184</th>\n      <td>185</td>\n      <td>53</td>\n      <td>F</td>\n      <td>librarian</td>\n      <td>97403</td>\n    </tr>\n    <tr>\n      <th>185</th>\n      <td>186</td>\n      <td>39</td>\n      <td>F</td>\n      <td>executive</td>\n      <td>00000</td>\n    </tr>\n    <tr>\n      <th>186</th>\n      <td>187</td>\n      <td>26</td>\n      <td>M</td>\n      <td>educator</td>\n      <td>16801</td>\n    </tr>\n    <tr>\n      <th>188</th>\n      <td>189</td>\n      <td>32</td>\n      <td>M</td>\n      <td>artist</td>\n      <td>95014</td>\n    </tr>\n    <tr>\n      <th>189</th>\n      <td>190</td>\n      <td>30</td>\n      <td>M</td>\n      <td>administrator</td>\n      <td>95938</td>\n    </tr>\n    <tr>\n      <th>190</th>\n      <td>191</td>\n      <td>33</td>\n      <td>M</td>\n      <td>administrator</td>\n      <td>95161</td>\n    </tr>\n    <tr>\n      <th>193</th>\n      <td>194</td>\n      <td>38</td>\n      <td>M</td>\n      <td>administrator</td>\n      <td>02154</td>\n    </tr>\n    <tr>\n      <th>194</th>\n      <td>195</td>\n      <td>42</td>\n      <td>M</td>\n      <td>scientist</td>\n      <td>93555</td>\n    </tr>\n    <tr>\n      <th>195</th>\n      <td>196</td>\n      <td>49</td>\n      <td>M</td>\n      <td>writer</td>\n      <td>55105</td>\n    </tr>\n    <tr>\n      <th>205</th>\n      <td>206</td>\n      <td>14</td>\n      <td>F</td>\n      <td>student</td>\n      <td>53115</td>\n    </tr>\n    <tr>\n      <th>206</th>\n      <td>207</td>\n      <td>39</td>\n      <td>M</td>\n      <td>marketing</td>\n      <td>92037</td>\n    </tr>\n    <tr>\n      <th>210</th>\n      <td>211</td>\n      <td>66</td>\n      <td>M</td>\n      <td>salesman</td>\n      <td>32605</td>\n    </tr>\n    <tr>\n      <th>212</th>\n      <td>213</td>\n      <td>33</td>\n      <td>M</td>\n      <td>executive</td>\n      <td>55345</td>\n    </tr>\n    <tr>\n      <th>213</th>\n      <td>214</td>\n      <td>26</td>\n      <td>F</td>\n      <td>librarian</td>\n      <td>11231</td>\n    </tr>\n    <tr>\n      <th>215</th>\n      <td>216</td>\n      <td>22</td>\n      <td>M</td>\n      <td>engineer</td>\n      <td>02215</td>\n    </tr>\n    <tr>\n      <th>217</th>\n      <td>218</td>\n      <td>37</td>\n      <td>M</td>\n      <td>administrator</td>\n      <td>06513</td>\n    </tr>\n    <tr>\n      <th>218</th>\n      <td>219</td>\n      <td>32</td>\n      <td>M</td>\n      <td>programmer</td>\n      <td>43212</td>\n    </tr>\n    <tr>\n      <th>219</th>\n      <td>220</td>\n      <td>30</td>\n      <td>M</td>\n      <td>librarian</td>\n      <td>78205</td>\n    </tr>\n    <tr>\n      <th>222</th>\n      <td>223</td>\n      <td>19</td>\n      <td>F</td>\n      <td>student</td>\n      <td>47906</td>\n    </tr>\n    <tr>\n      <th>223</th>\n      <td>224</td>\n      <td>31</td>\n      <td>F</td>\n      <td>educator</td>\n      <td>43512</td>\n    </tr>\n    <tr>\n      <th>224</th>\n      <td>225</td>\n      <td>51</td>\n      <td>F</td>\n      <td>administrator</td>\n      <td>58202</td>\n    </tr>\n    <tr>\n      <th>225</th>\n      <td>226</td>\n      <td>28</td>\n      <td>M</td>\n      <td>student</td>\n      <td>92103</td>\n    </tr>\n    <tr>\n      <th>231</th>\n      <td>232</td>\n      <td>45</td>\n      <td>M</td>\n      <td>scientist</td>\n      <td>99709</td>\n    </tr>\n    <tr>\n      <th>234</th>\n      <td>235</td>\n      <td>37</td>\n      <td>M</td>\n      <td>educator</td>\n      <td>22973</td>\n    </tr>\n    <tr>\n      <th>235</th>\n      <td>236</td>\n      <td>44</td>\n      <td>F</td>\n      <td>writer</td>\n      <td>53214</td>\n    </tr>\n    <tr>\n      <th>236</th>\n      <td>237</td>\n      <td>49</td>\n      <td>M</td>\n      <td>administrator</td>\n      <td>63146</td>\n    </tr>\n    <tr>\n      <th>237</th>\n      <td>238</td>\n      <td>42</td>\n      <td>F</td>\n      <td>administrator</td>\n      <td>44124</td>\n    </tr>\n    <tr>\n      <th>238</th>\n      <td>239</td>\n      <td>39</td>\n      <td>M</td>\n      <td>artist</td>\n      <td>95628</td>\n    </tr>\n    <tr>\n      <th>239</th>\n      <td>240</td>\n      <td>23</td>\n      <td>F</td>\n      <td>educator</td>\n      <td>20784</td>\n    </tr>\n    <tr>\n      <th>243</th>\n      <td>244</td>\n      <td>28</td>\n      <td>M</td>\n      <td>technician</td>\n      <td>80525</td>\n    </tr>\n    <tr>\n      <th>255</th>\n      <td>256</td>\n      <td>35</td>\n      <td>F</td>\n      <td>none</td>\n      <td>39042</td>\n    </tr>\n    <tr>\n      <th>256</th>\n      <td>257</td>\n      <td>17</td>\n      <td>M</td>\n      <td>student</td>\n      <td>77005</td>\n    </tr>\n    <tr>\n      <th>257</th>\n      <td>258</td>\n      <td>19</td>\n      <td>F</td>\n      <td>student</td>\n      <td>77801</td>\n    </tr>\n    <tr>\n      <th>258</th>\n      <td>259</td>\n      <td>21</td>\n      <td>M</td>\n      <td>student</td>\n      <td>48823</td>\n    </tr>\n    <tr>\n      <th>262</th>\n      <td>263</td>\n      <td>41</td>\n      <td>M</td>\n      <td>programmer</td>\n      <td>55346</td>\n    </tr>\n    <tr>\n      <th>264</th>\n      <td>265</td>\n      <td>26</td>\n      <td>M</td>\n      <td>executive</td>\n      <td>84601</td>\n    </tr>\n    <tr>\n      <th>265</th>\n      <td>266</td>\n      <td>62</td>\n      <td>F</td>\n      <td>administrator</td>\n      <td>78756</td>\n    </tr>\n    <tr>\n      <th>271</th>\n      <td>272</td>\n      <td>33</td>\n      <td>M</td>\n      <td>scientist</td>\n      <td>53706</td>\n    </tr>\n    <tr>\n      <th>276</th>\n      <td>277</td>\n      <td>35</td>\n      <td>F</td>\n      <td>administrator</td>\n      <td>55406</td>\n    </tr>\n    <tr>\n      <th>279</th>\n      <td>280</td>\n      <td>30</td>\n      <td>F</td>\n      <td>librarian</td>\n      <td>22903</td>\n    </tr>\n    <tr>\n      <th>280</th>\n      <td>281</td>\n      <td>15</td>\n      <td>F</td>\n      <td>student</td>\n      <td>06059</td>\n    </tr>\n    <tr>\n      <th>281</th>\n      <td>282</td>\n      <td>22</td>\n      <td>M</td>\n      <td>administrator</td>\n      <td>20057</td>\n    </tr>\n    <tr>\n      <th>282</th>\n      <td>283</td>\n      <td>28</td>\n      <td>M</td>\n      <td>programmer</td>\n      <td>55305</td>\n    </tr>\n    <tr>\n      <th>283</th>\n      <td>284</td>\n      <td>40</td>\n      <td>M</td>\n      <td>executive</td>\n      <td>92629</td>\n    </tr>\n    <tr>\n      <th>302</th>\n      <td>303</td>\n      <td>19</td>\n      <td>M</td>\n      <td>student</td>\n      <td>14853</td>\n    </tr>\n    <tr>\n      <th>304</th>\n      <td>305</td>\n      <td>23</td>\n      <td>M</td>\n      <td>programmer</td>\n      <td>94086</td>\n    </tr>\n    <tr>\n      <th>307</th>\n      <td>308</td>\n      <td>60</td>\n      <td>M</td>\n      <td>retired</td>\n      <td>95076</td>\n    </tr>\n    <tr>\n      <th>308</th>\n      <td>309</td>\n      <td>40</td>\n      <td>M</td>\n      <td>scientist</td>\n      <td>70802</td>\n    </tr>\n    <tr>\n      <th>313</th>\n      <td>314</td>\n      <td>20</td>\n      <td>F</td>\n      <td>student</td>\n      <td>08043</td>\n    </tr>\n    <tr>\n      <th>315</th>\n      <td>316</td>\n      <td>43</td>\n      <td>F</td>\n      <td>other</td>\n      <td>77009</td>\n    </tr>\n    <tr>\n      <th>316</th>\n      <td>317</td>\n      <td>22</td>\n      <td>M</td>\n      <td>administrator</td>\n      <td>13210</td>\n    </tr>\n    <tr>\n      <th>317</th>\n      <td>318</td>\n      <td>65</td>\n      <td>M</td>\n      <td>retired</td>\n      <td>06518</td>\n    </tr>\n    <tr>\n      <th>319</th>\n      <td>320</td>\n      <td>19</td>\n      <td>M</td>\n      <td>student</td>\n      <td>24060</td>\n    </tr>\n    <tr>\n      <th>321</th>\n      <td>322</td>\n      <td>20</td>\n      <td>M</td>\n      <td>student</td>\n      <td>50613</td>\n    </tr>\n    <tr>\n      <th>326</th>\n      <td>327</td>\n      <td>22</td>\n      <td>M</td>\n      <td>student</td>\n      <td>11101</td>\n    </tr>\n    <tr>\n      <th>327</th>\n      <td>328</td>\n      <td>51</td>\n      <td>M</td>\n      <td>administrator</td>\n      <td>06779</td>\n    </tr>\n    <tr>\n      <th>331</th>\n      <td>332</td>\n      <td>20</td>\n      <td>M</td>\n      <td>student</td>\n      <td>40504</td>\n    </tr>\n    <tr>\n      <th>332</th>\n      <td>333</td>\n      <td>47</td>\n      <td>M</td>\n      <td>other</td>\n      <td>V0R2M</td>\n    </tr>\n    <tr>\n      <th>333</th>\n      <td>334</td>\n      <td>32</td>\n      <td>M</td>\n      <td>librarian</td>\n      <td>30002</td>\n    </tr>\n    <tr>\n      <th>335</th>\n      <td>336</td>\n      <td>23</td>\n      <td>M</td>\n      <td>salesman</td>\n      <td>42101</td>\n    </tr>\n    <tr>\n      <th>339</th>\n      <td>340</td>\n      <td>46</td>\n      <td>M</td>\n      <td>engineer</td>\n      <td>80123</td>\n    </tr>\n    <tr>\n      <th>340</th>\n      <td>341</td>\n      <td>17</td>\n      <td>F</td>\n      <td>student</td>\n      <td>44405</td>\n    </tr>\n    <tr>\n      <th>344</th>\n      <td>345</td>\n      <td>28</td>\n      <td>F</td>\n      <td>librarian</td>\n      <td>94143</td>\n    </tr>\n    <tr>\n      <th>347</th>\n      <td>348</td>\n      <td>24</td>\n      <td>F</td>\n      <td>student</td>\n      <td>45660</td>\n    </tr>\n    <tr>\n      <th>351</th>\n      <td>352</td>\n      <td>37</td>\n      <td>F</td>\n      <td>programmer</td>\n      <td>55105</td>\n    </tr>\n    <tr>\n      <th>352</th>\n      <td>353</td>\n      <td>25</td>\n      <td>M</td>\n      <td>scientist</td>\n      <td>28480</td>\n    </tr>\n    <tr>\n      <th>354</th>\n      <td>355</td>\n      <td>25</td>\n      <td>M</td>\n      <td>student</td>\n      <td>60135</td>\n    </tr>\n    <tr>\n      <th>356</th>\n      <td>357</td>\n      <td>26</td>\n      <td>M</td>\n      <td>executive</td>\n      <td>98133</td>\n    </tr>\n    <tr>\n      <th>359</th>\n      <td>360</td>\n      <td>51</td>\n      <td>M</td>\n      <td>other</td>\n      <td>98027</td>\n    </tr>\n    <tr>\n      <th>360</th>\n      <td>361</td>\n      <td>22</td>\n      <td>M</td>\n      <td>student</td>\n      <td>44074</td>\n    </tr>\n    <tr>\n      <th>362</th>\n      <td>363</td>\n      <td>20</td>\n      <td>M</td>\n      <td>student</td>\n      <td>87501</td>\n    </tr>\n    <tr>\n      <th>366</th>\n      <td>367</td>\n      <td>17</td>\n      <td>M</td>\n      <td>student</td>\n      <td>37411</td>\n    </tr>\n    <tr>\n      <th>367</th>\n      <td>368</td>\n      <td>18</td>\n      <td>M</td>\n      <td>student</td>\n      <td>92113</td>\n    </tr>\n    <tr>\n      <th>371</th>\n      <td>372</td>\n      <td>25</td>\n      <td>F</td>\n      <td>student</td>\n      <td>66046</td>\n    </tr>\n    <tr>\n      <th>373</th>\n      <td>374</td>\n      <td>36</td>\n      <td>M</td>\n      <td>executive</td>\n      <td>78746</td>\n    </tr>\n    <tr>\n      <th>374</th>\n      <td>375</td>\n      <td>17</td>\n      <td>M</td>\n      <td>entertainment</td>\n      <td>37777</td>\n    </tr>\n    <tr>\n      <th>375</th>\n      <td>376</td>\n      <td>28</td>\n      <td>F</td>\n      <td>other</td>\n      <td>10010</td>\n    </tr>\n    <tr>\n      <th>380</th>\n      <td>381</td>\n      <td>33</td>\n      <td>M</td>\n      <td>artist</td>\n      <td>94608</td>\n    </tr>\n    <tr>\n      <th>381</th>\n      <td>382</td>\n      <td>45</td>\n      <td>M</td>\n      <td>engineer</td>\n      <td>01824</td>\n    </tr>\n    <tr>\n      <th>382</th>\n      <td>383</td>\n      <td>42</td>\n      <td>M</td>\n      <td>administrator</td>\n      <td>75204</td>\n    </tr>\n    <tr>\n      <th>384</th>\n      <td>385</td>\n      <td>36</td>\n      <td>M</td>\n      <td>writer</td>\n      <td>10003</td>\n    </tr>\n    <tr>\n      <th>390</th>\n      <td>391</td>\n      <td>23</td>\n      <td>M</td>\n      <td>student</td>\n      <td>84604</td>\n    </tr>\n    <tr>\n      <th>395</th>\n      <td>396</td>\n      <td>57</td>\n      <td>M</td>\n      <td>engineer</td>\n      <td>94551</td>\n    </tr>\n    <tr>\n      <th>398</th>\n      <td>399</td>\n      <td>25</td>\n      <td>M</td>\n      <td>other</td>\n      <td>92374</td>\n    </tr>\n    <tr>\n      <th>402</th>\n      <td>403</td>\n      <td>37</td>\n      <td>M</td>\n      <td>other</td>\n      <td>06811</td>\n    </tr>\n    <tr>\n      <th>406</th>\n      <td>407</td>\n      <td>29</td>\n      <td>M</td>\n      <td>engineer</td>\n      <td>03261</td>\n    </tr>\n    <tr>\n      <th>407</th>\n      <td>408</td>\n      <td>23</td>\n      <td>M</td>\n      <td>student</td>\n      <td>61755</td>\n    </tr>\n    <tr>\n      <th>408</th>\n      <td>409</td>\n      <td>48</td>\n      <td>M</td>\n      <td>administrator</td>\n      <td>98225</td>\n    </tr>\n    <tr>\n      <th>411</th>\n      <td>412</td>\n      <td>25</td>\n      <td>M</td>\n      <td>educator</td>\n      <td>15222</td>\n    </tr>\n    <tr>\n      <th>412</th>\n      <td>413</td>\n      <td>55</td>\n      <td>M</td>\n      <td>educator</td>\n      <td>78212</td>\n    </tr>\n    <tr>\n      <th>413</th>\n      <td>414</td>\n      <td>24</td>\n      <td>M</td>\n      <td>programmer</td>\n      <td>38115</td>\n    </tr>\n    <tr>\n      <th>418</th>\n      <td>419</td>\n      <td>37</td>\n      <td>M</td>\n      <td>lawyer</td>\n      <td>43215</td>\n    </tr>\n    <tr>\n      <th>421</th>\n      <td>422</td>\n      <td>26</td>\n      <td>M</td>\n      <td>entertainment</td>\n      <td>94533</td>\n    </tr>\n    <tr>\n      <th>424</th>\n      <td>425</td>\n      <td>19</td>\n      <td>M</td>\n      <td>student</td>\n      <td>58644</td>\n    </tr>\n    <tr>\n      <th>429</th>\n      <td>430</td>\n      <td>38</td>\n      <td>M</td>\n      <td>scientist</td>\n      <td>98199</td>\n    </tr>\n    <tr>\n      <th>431</th>\n      <td>432</td>\n      <td>22</td>\n      <td>M</td>\n      <td>entertainment</td>\n      <td>50311</td>\n    </tr>\n    <tr>\n      <th>434</th>\n      <td>435</td>\n      <td>24</td>\n      <td>M</td>\n      <td>engineer</td>\n      <td>60007</td>\n    </tr>\n    <tr>\n      <th>437</th>\n      <td>438</td>\n      <td>51</td>\n      <td>F</td>\n      <td>administrator</td>\n      <td>43204</td>\n    </tr>\n    <tr>\n      <th>441</th>\n      <td>442</td>\n      <td>22</td>\n      <td>M</td>\n      <td>student</td>\n      <td>85282</td>\n    </tr>\n    <tr>\n      <th>442</th>\n      <td>443</td>\n      <td>35</td>\n      <td>M</td>\n      <td>salesman</td>\n      <td>33308</td>\n    </tr>\n    <tr>\n      <th>447</th>\n      <td>448</td>\n      <td>23</td>\n      <td>M</td>\n      <td>entertainment</td>\n      <td>10021</td>\n    </tr>\n    <tr>\n      <th>449</th>\n      <td>450</td>\n      <td>35</td>\n      <td>F</td>\n      <td>educator</td>\n      <td>11758</td>\n    </tr>\n    <tr>\n      <th>450</th>\n      <td>451</td>\n      <td>16</td>\n      <td>M</td>\n      <td>student</td>\n      <td>48446</td>\n    </tr>\n    <tr>\n      <th>451</th>\n      <td>452</td>\n      <td>35</td>\n      <td>M</td>\n      <td>administrator</td>\n      <td>28018</td>\n    </tr>\n    <tr>\n      <th>460</th>\n      <td>461</td>\n      <td>15</td>\n      <td>M</td>\n      <td>student</td>\n      <td>98102</td>\n    </tr>\n    <tr>\n      <th>462</th>\n      <td>463</td>\n      <td>48</td>\n      <td>F</td>\n      <td>healthcare</td>\n      <td>75218</td>\n    </tr>\n    <tr>\n      <th>464</th>\n      <td>465</td>\n      <td>32</td>\n      <td>M</td>\n      <td>other</td>\n      <td>05001</td>\n    </tr>\n    <tr>\n      <th>467</th>\n      <td>468</td>\n      <td>28</td>\n      <td>M</td>\n      <td>engineer</td>\n      <td>02341</td>\n    </tr>\n    <tr>\n      <th>472</th>\n      <td>473</td>\n      <td>29</td>\n      <td>M</td>\n      <td>student</td>\n      <td>94708</td>\n    </tr>\n    <tr>\n      <th>473</th>\n      <td>474</td>\n      <td>51</td>\n      <td>M</td>\n      <td>executive</td>\n      <td>93711</td>\n    </tr>\n    <tr>\n      <th>474</th>\n      <td>475</td>\n      <td>30</td>\n      <td>M</td>\n      <td>programmer</td>\n      <td>75230</td>\n    </tr>\n    <tr>\n      <th>479</th>\n      <td>480</td>\n      <td>57</td>\n      <td>M</td>\n      <td>retired</td>\n      <td>98257</td>\n    </tr>\n    <tr>\n      <th>480</th>\n      <td>481</td>\n      <td>73</td>\n      <td>M</td>\n      <td>retired</td>\n      <td>37771</td>\n    </tr>\n    <tr>\n      <th>489</th>\n      <td>490</td>\n      <td>29</td>\n      <td>F</td>\n      <td>artist</td>\n      <td>V5A2B</td>\n    </tr>\n    <tr>\n      <th>490</th>\n      <td>491</td>\n      <td>43</td>\n      <td>F</td>\n      <td>writer</td>\n      <td>53711</td>\n    </tr>\n    <tr>\n      <th>497</th>\n      <td>498</td>\n      <td>26</td>\n      <td>M</td>\n      <td>writer</td>\n      <td>55408</td>\n    </tr>\n    <tr>\n      <th>499</th>\n      <td>500</td>\n      <td>28</td>\n      <td>M</td>\n      <td>administrator</td>\n      <td>94305</td>\n    </tr>\n    <tr>\n      <th>500</th>\n      <td>501</td>\n      <td>22</td>\n      <td>M</td>\n      <td>student</td>\n      <td>10025</td>\n    </tr>\n    <tr>\n      <th>502</th>\n      <td>503</td>\n      <td>50</td>\n      <td>F</td>\n      <td>writer</td>\n      <td>27514</td>\n    </tr>\n    <tr>\n      <th>504</th>\n      <td>505</td>\n      <td>27</td>\n      <td>F</td>\n      <td>other</td>\n      <td>20657</td>\n    </tr>\n    <tr>\n      <th>508</th>\n      <td>509</td>\n      <td>23</td>\n      <td>M</td>\n      <td>administrator</td>\n      <td>10011</td>\n    </tr>\n    <tr>\n      <th>509</th>\n      <td>510</td>\n      <td>34</td>\n      <td>M</td>\n      <td>other</td>\n      <td>98038</td>\n    </tr>\n    <tr>\n      <th>511</th>\n      <td>512</td>\n      <td>29</td>\n      <td>M</td>\n      <td>other</td>\n      <td>20090</td>\n    </tr>\n    <tr>\n      <th>513</th>\n      <td>514</td>\n      <td>27</td>\n      <td>M</td>\n      <td>programmer</td>\n      <td>20707</td>\n    </tr>\n    <tr>\n      <th>514</th>\n      <td>515</td>\n      <td>53</td>\n      <td>M</td>\n      <td>marketing</td>\n      <td>49508</td>\n    </tr>\n    <tr>\n      <th>517</th>\n      <td>518</td>\n      <td>49</td>\n      <td>F</td>\n      <td>writer</td>\n      <td>99709</td>\n    </tr>\n    <tr>\n      <th>518</th>\n      <td>519</td>\n      <td>22</td>\n      <td>M</td>\n      <td>other</td>\n      <td>55320</td>\n    </tr>\n    <tr>\n      <th>520</th>\n      <td>521</td>\n      <td>19</td>\n      <td>M</td>\n      <td>student</td>\n      <td>02146</td>\n    </tr>\n    <tr>\n      <th>525</th>\n      <td>526</td>\n      <td>30</td>\n      <td>M</td>\n      <td>marketing</td>\n      <td>97124</td>\n    </tr>\n    <tr>\n      <th>526</th>\n      <td>527</td>\n      <td>33</td>\n      <td>M</td>\n      <td>librarian</td>\n      <td>12180</td>\n    </tr>\n    <tr>\n      <th>527</th>\n      <td>528</td>\n      <td>18</td>\n      <td>M</td>\n      <td>student</td>\n      <td>55104</td>\n    </tr>\n    <tr>\n      <th>528</th>\n      <td>529</td>\n      <td>47</td>\n      <td>F</td>\n      <td>administrator</td>\n      <td>44224</td>\n    </tr>\n    <tr>\n      <th>529</th>\n      <td>530</td>\n      <td>29</td>\n      <td>M</td>\n      <td>engineer</td>\n      <td>94040</td>\n    </tr>\n    <tr>\n      <th>536</th>\n      <td>537</td>\n      <td>36</td>\n      <td>M</td>\n      <td>engineer</td>\n      <td>22902</td>\n    </tr>\n    <tr>\n      <th>537</th>\n      <td>538</td>\n      <td>31</td>\n      <td>M</td>\n      <td>scientist</td>\n      <td>21010</td>\n    </tr>\n    <tr>\n      <th>541</th>\n      <td>542</td>\n      <td>21</td>\n      <td>M</td>\n      <td>student</td>\n      <td>60515</td>\n    </tr>\n    <tr>\n      <th>542</th>\n      <td>543</td>\n      <td>33</td>\n      <td>M</td>\n      <td>scientist</td>\n      <td>95123</td>\n    </tr>\n    <tr>\n      <th>544</th>\n      <td>545</td>\n      <td>27</td>\n      <td>M</td>\n      <td>technician</td>\n      <td>08052</td>\n    </tr>\n    <tr>\n      <th>545</th>\n      <td>546</td>\n      <td>36</td>\n      <td>M</td>\n      <td>executive</td>\n      <td>22911</td>\n    </tr>\n    <tr>\n      <th>549</th>\n      <td>550</td>\n      <td>16</td>\n      <td>F</td>\n      <td>student</td>\n      <td>95453</td>\n    </tr>\n    <tr>\n      <th>553</th>\n      <td>554</td>\n      <td>32</td>\n      <td>M</td>\n      <td>scientist</td>\n      <td>62901</td>\n    </tr>\n    <tr>\n      <th>554</th>\n      <td>555</td>\n      <td>29</td>\n      <td>F</td>\n      <td>educator</td>\n      <td>23227</td>\n    </tr>\n    <tr>\n      <th>555</th>\n      <td>556</td>\n      <td>35</td>\n      <td>F</td>\n      <td>educator</td>\n      <td>30606</td>\n    </tr>\n    <tr>\n      <th>556</th>\n      <td>557</td>\n      <td>30</td>\n      <td>F</td>\n      <td>writer</td>\n      <td>11217</td>\n    </tr>\n    <tr>\n      <th>557</th>\n      <td>558</td>\n      <td>56</td>\n      <td>F</td>\n      <td>writer</td>\n      <td>63132</td>\n    </tr>\n    <tr>\n      <th>561</th>\n      <td>562</td>\n      <td>54</td>\n      <td>F</td>\n      <td>administrator</td>\n      <td>20879</td>\n    </tr>\n    <tr>\n      <th>562</th>\n      <td>563</td>\n      <td>39</td>\n      <td>F</td>\n      <td>librarian</td>\n      <td>32707</td>\n    </tr>\n    <tr>\n      <th>563</th>\n      <td>564</td>\n      <td>65</td>\n      <td>M</td>\n      <td>retired</td>\n      <td>94591</td>\n    </tr>\n    <tr>\n      <th>570</th>\n      <td>571</td>\n      <td>34</td>\n      <td>M</td>\n      <td>artist</td>\n      <td>01945</td>\n    </tr>\n    <tr>\n      <th>571</th>\n      <td>572</td>\n      <td>51</td>\n      <td>M</td>\n      <td>educator</td>\n      <td>20003</td>\n    </tr>\n    <tr>\n      <th>579</th>\n      <td>580</td>\n      <td>16</td>\n      <td>M</td>\n      <td>student</td>\n      <td>17961</td>\n    </tr>\n    <tr>\n      <th>581</th>\n      <td>582</td>\n      <td>17</td>\n      <td>M</td>\n      <td>student</td>\n      <td>93003</td>\n    </tr>\n    <tr>\n      <th>582</th>\n      <td>583</td>\n      <td>44</td>\n      <td>M</td>\n      <td>engineer</td>\n      <td>29631</td>\n    </tr>\n    <tr>\n      <th>583</th>\n      <td>584</td>\n      <td>25</td>\n      <td>M</td>\n      <td>student</td>\n      <td>27511</td>\n    </tr>\n    <tr>\n      <th>585</th>\n      <td>586</td>\n      <td>20</td>\n      <td>M</td>\n      <td>student</td>\n      <td>79508</td>\n    </tr>\n    <tr>\n      <th>587</th>\n      <td>588</td>\n      <td>18</td>\n      <td>F</td>\n      <td>student</td>\n      <td>93063</td>\n    </tr>\n    <tr>\n      <th>588</th>\n      <td>589</td>\n      <td>21</td>\n      <td>M</td>\n      <td>lawyer</td>\n      <td>90034</td>\n    </tr>\n    <tr>\n      <th>589</th>\n      <td>590</td>\n      <td>50</td>\n      <td>M</td>\n      <td>educator</td>\n      <td>82435</td>\n    </tr>\n    <tr>\n      <th>592</th>\n      <td>593</td>\n      <td>31</td>\n      <td>F</td>\n      <td>educator</td>\n      <td>68767</td>\n    </tr>\n    <tr>\n      <th>593</th>\n      <td>594</td>\n      <td>46</td>\n      <td>M</td>\n      <td>educator</td>\n      <td>M4J2K</td>\n    </tr>\n    <tr>\n      <th>594</th>\n      <td>595</td>\n      <td>25</td>\n      <td>M</td>\n      <td>programmer</td>\n      <td>31909</td>\n    </tr>\n    <tr>\n      <th>596</th>\n      <td>597</td>\n      <td>23</td>\n      <td>M</td>\n      <td>other</td>\n      <td>84116</td>\n    </tr>\n    <tr>\n      <th>598</th>\n      <td>599</td>\n      <td>22</td>\n      <td>F</td>\n      <td>student</td>\n      <td>R3T5K</td>\n    </tr>\n    <tr>\n      <th>601</th>\n      <td>602</td>\n      <td>47</td>\n      <td>F</td>\n      <td>other</td>\n      <td>34656</td>\n    </tr>\n    <tr>\n      <th>605</th>\n      <td>606</td>\n      <td>28</td>\n      <td>M</td>\n      <td>programmer</td>\n      <td>63044</td>\n    </tr>\n    <tr>\n      <th>606</th>\n      <td>607</td>\n      <td>49</td>\n      <td>F</td>\n      <td>healthcare</td>\n      <td>02154</td>\n    </tr>\n    <tr>\n      <th>609</th>\n      <td>610</td>\n      <td>22</td>\n      <td>M</td>\n      <td>student</td>\n      <td>21227</td>\n    </tr>\n    <tr>\n      <th>613</th>\n      <td>614</td>\n      <td>54</td>\n      <td>M</td>\n      <td>educator</td>\n      <td>80227</td>\n    </tr>\n    <tr>\n      <th>614</th>\n      <td>615</td>\n      <td>38</td>\n      <td>M</td>\n      <td>educator</td>\n      <td>27705</td>\n    </tr>\n    <tr>\n      <th>617</th>\n      <td>618</td>\n      <td>15</td>\n      <td>F</td>\n      <td>student</td>\n      <td>44212</td>\n    </tr>\n    <tr>\n      <th>621</th>\n      <td>622</td>\n      <td>25</td>\n      <td>M</td>\n      <td>programmer</td>\n      <td>14850</td>\n    </tr>\n    <tr>\n      <th>623</th>\n      <td>624</td>\n      <td>19</td>\n      <td>M</td>\n      <td>student</td>\n      <td>30067</td>\n    </tr>\n    <tr>\n      <th>624</th>\n      <td>625</td>\n      <td>27</td>\n      <td>M</td>\n      <td>programmer</td>\n      <td>20723</td>\n    </tr>\n    <tr>\n      <th>625</th>\n      <td>626</td>\n      <td>23</td>\n      <td>M</td>\n      <td>scientist</td>\n      <td>19807</td>\n    </tr>\n    <tr>\n      <th>627</th>\n      <td>628</td>\n      <td>13</td>\n      <td>M</td>\n      <td>none</td>\n      <td>94306</td>\n    </tr>\n    <tr>\n      <th>629</th>\n      <td>630</td>\n      <td>26</td>\n      <td>F</td>\n      <td>healthcare</td>\n      <td>55408</td>\n    </tr>\n    <tr>\n      <th>631</th>\n      <td>632</td>\n      <td>18</td>\n      <td>M</td>\n      <td>student</td>\n      <td>55454</td>\n    </tr>\n    <tr>\n      <th>636</th>\n      <td>637</td>\n      <td>30</td>\n      <td>M</td>\n      <td>other</td>\n      <td>74101</td>\n    </tr>\n    <tr>\n      <th>638</th>\n      <td>639</td>\n      <td>42</td>\n      <td>F</td>\n      <td>librarian</td>\n      <td>12065</td>\n    </tr>\n    <tr>\n      <th>639</th>\n      <td>640</td>\n      <td>20</td>\n      <td>M</td>\n      <td>student</td>\n      <td>61801</td>\n    </tr>\n    <tr>\n      <th>642</th>\n      <td>643</td>\n      <td>39</td>\n      <td>M</td>\n      <td>scientist</td>\n      <td>55122</td>\n    </tr>\n    <tr>\n      <th>643</th>\n      <td>644</td>\n      <td>51</td>\n      <td>M</td>\n      <td>retired</td>\n      <td>63645</td>\n    </tr>\n    <tr>\n      <th>645</th>\n      <td>646</td>\n      <td>17</td>\n      <td>F</td>\n      <td>student</td>\n      <td>51250</td>\n    </tr>\n    <tr>\n      <th>657</th>\n      <td>658</td>\n      <td>33</td>\n      <td>M</td>\n      <td>programmer</td>\n      <td>92626</td>\n    </tr>\n    <tr>\n      <th>660</th>\n      <td>661</td>\n      <td>28</td>\n      <td>M</td>\n      <td>programmer</td>\n      <td>98121</td>\n    </tr>\n    <tr>\n      <th>665</th>\n      <td>666</td>\n      <td>44</td>\n      <td>M</td>\n      <td>administrator</td>\n      <td>61820</td>\n    </tr>\n    <tr>\n      <th>666</th>\n      <td>667</td>\n      <td>35</td>\n      <td>M</td>\n      <td>librarian</td>\n      <td>01970</td>\n    </tr>\n    <tr>\n      <th>668</th>\n      <td>669</td>\n      <td>37</td>\n      <td>M</td>\n      <td>other</td>\n      <td>20009</td>\n    </tr>\n    <tr>\n      <th>669</th>\n      <td>670</td>\n      <td>30</td>\n      <td>M</td>\n      <td>technician</td>\n      <td>21114</td>\n    </tr>\n    <tr>\n      <th>670</th>\n      <td>671</td>\n      <td>21</td>\n      <td>M</td>\n      <td>programmer</td>\n      <td>91919</td>\n    </tr>\n    <tr>\n      <th>671</th>\n      <td>672</td>\n      <td>54</td>\n      <td>F</td>\n      <td>administrator</td>\n      <td>90095</td>\n    </tr>\n    <tr>\n      <th>673</th>\n      <td>674</td>\n      <td>13</td>\n      <td>F</td>\n      <td>student</td>\n      <td>55337</td>\n    </tr>\n    <tr>\n      <th>679</th>\n      <td>680</td>\n      <td>33</td>\n      <td>M</td>\n      <td>lawyer</td>\n      <td>90405</td>\n    </tr>\n    <tr>\n      <th>681</th>\n      <td>682</td>\n      <td>23</td>\n      <td>M</td>\n      <td>programmer</td>\n      <td>55128</td>\n    </tr>\n    <tr>\n      <th>684</th>\n      <td>685</td>\n      <td>32</td>\n      <td>F</td>\n      <td>librarian</td>\n      <td>55409</td>\n    </tr>\n    <tr>\n      <th>685</th>\n      <td>686</td>\n      <td>32</td>\n      <td>M</td>\n      <td>educator</td>\n      <td>26506</td>\n    </tr>\n    <tr>\n      <th>692</th>\n      <td>693</td>\n      <td>43</td>\n      <td>F</td>\n      <td>healthcare</td>\n      <td>85210</td>\n    </tr>\n    <tr>\n      <th>693</th>\n      <td>694</td>\n      <td>60</td>\n      <td>M</td>\n      <td>programmer</td>\n      <td>06365</td>\n    </tr>\n    <tr>\n      <th>694</th>\n      <td>695</td>\n      <td>26</td>\n      <td>M</td>\n      <td>writer</td>\n      <td>38115</td>\n    </tr>\n    <tr>\n      <th>698</th>\n      <td>699</td>\n      <td>44</td>\n      <td>M</td>\n      <td>other</td>\n      <td>96754</td>\n    </tr>\n    <tr>\n      <th>702</th>\n      <td>703</td>\n      <td>26</td>\n      <td>M</td>\n      <td>educator</td>\n      <td>49512</td>\n    </tr>\n    <tr>\n      <th>705</th>\n      <td>706</td>\n      <td>23</td>\n      <td>M</td>\n      <td>student</td>\n      <td>55454</td>\n    </tr>\n    <tr>\n      <th>709</th>\n      <td>710</td>\n      <td>19</td>\n      <td>M</td>\n      <td>student</td>\n      <td>92020</td>\n    </tr>\n    <tr>\n      <th>710</th>\n      <td>711</td>\n      <td>22</td>\n      <td>F</td>\n      <td>student</td>\n      <td>15203</td>\n    </tr>\n    <tr>\n      <th>715</th>\n      <td>716</td>\n      <td>36</td>\n      <td>F</td>\n      <td>administrator</td>\n      <td>44265</td>\n    </tr>\n    <tr>\n      <th>718</th>\n      <td>719</td>\n      <td>37</td>\n      <td>F</td>\n      <td>other</td>\n      <td>V0R2H</td>\n    </tr>\n    <tr>\n      <th>720</th>\n      <td>721</td>\n      <td>24</td>\n      <td>F</td>\n      <td>entertainment</td>\n      <td>11238</td>\n    </tr>\n    <tr>\n      <th>723</th>\n      <td>724</td>\n      <td>31</td>\n      <td>M</td>\n      <td>executive</td>\n      <td>40243</td>\n    </tr>\n    <tr>\n      <th>726</th>\n      <td>727</td>\n      <td>25</td>\n      <td>M</td>\n      <td>student</td>\n      <td>78741</td>\n    </tr>\n    <tr>\n      <th>727</th>\n      <td>728</td>\n      <td>58</td>\n      <td>M</td>\n      <td>executive</td>\n      <td>94306</td>\n    </tr>\n    <tr>\n      <th>730</th>\n      <td>731</td>\n      <td>41</td>\n      <td>F</td>\n      <td>educator</td>\n      <td>70403</td>\n    </tr>\n    <tr>\n      <th>732</th>\n      <td>733</td>\n      <td>44</td>\n      <td>F</td>\n      <td>other</td>\n      <td>60630</td>\n    </tr>\n    <tr>\n      <th>734</th>\n      <td>735</td>\n      <td>29</td>\n      <td>F</td>\n      <td>healthcare</td>\n      <td>85719</td>\n    </tr>\n    <tr>\n      <th>735</th>\n      <td>736</td>\n      <td>48</td>\n      <td>F</td>\n      <td>writer</td>\n      <td>94618</td>\n    </tr>\n    <tr>\n      <th>737</th>\n      <td>738</td>\n      <td>35</td>\n      <td>M</td>\n      <td>technician</td>\n      <td>95403</td>\n    </tr>\n    <tr>\n      <th>738</th>\n      <td>739</td>\n      <td>35</td>\n      <td>M</td>\n      <td>technician</td>\n      <td>73162</td>\n    </tr>\n    <tr>\n      <th>739</th>\n      <td>740</td>\n      <td>25</td>\n      <td>F</td>\n      <td>educator</td>\n      <td>22206</td>\n    </tr>\n    <tr>\n      <th>741</th>\n      <td>742</td>\n      <td>35</td>\n      <td>M</td>\n      <td>student</td>\n      <td>29210</td>\n    </tr>\n    <tr>\n      <th>748</th>\n      <td>749</td>\n      <td>33</td>\n      <td>M</td>\n      <td>other</td>\n      <td>80919</td>\n    </tr>\n    <tr>\n      <th>750</th>\n      <td>751</td>\n      <td>24</td>\n      <td>F</td>\n      <td>other</td>\n      <td>90034</td>\n    </tr>\n    <tr>\n      <th>752</th>\n      <td>753</td>\n      <td>56</td>\n      <td>M</td>\n      <td>salesman</td>\n      <td>91206</td>\n    </tr>\n    <tr>\n      <th>753</th>\n      <td>754</td>\n      <td>59</td>\n      <td>F</td>\n      <td>librarian</td>\n      <td>62901</td>\n    </tr>\n    <tr>\n      <th>756</th>\n      <td>757</td>\n      <td>26</td>\n      <td>M</td>\n      <td>student</td>\n      <td>55104</td>\n    </tr>\n    <tr>\n      <th>758</th>\n      <td>759</td>\n      <td>20</td>\n      <td>F</td>\n      <td>student</td>\n      <td>68503</td>\n    </tr>\n    <tr>\n      <th>760</th>\n      <td>761</td>\n      <td>17</td>\n      <td>M</td>\n      <td>student</td>\n      <td>97302</td>\n    </tr>\n    <tr>\n      <th>763</th>\n      <td>764</td>\n      <td>27</td>\n      <td>F</td>\n      <td>educator</td>\n      <td>62903</td>\n    </tr>\n    <tr>\n      <th>770</th>\n      <td>771</td>\n      <td>26</td>\n      <td>M</td>\n      <td>student</td>\n      <td>15232</td>\n    </tr>\n    <tr>\n      <th>773</th>\n      <td>774</td>\n      <td>30</td>\n      <td>M</td>\n      <td>student</td>\n      <td>80027</td>\n    </tr>\n    <tr>\n      <th>774</th>\n      <td>775</td>\n      <td>46</td>\n      <td>M</td>\n      <td>executive</td>\n      <td>90036</td>\n    </tr>\n    <tr>\n      <th>778</th>\n      <td>779</td>\n      <td>31</td>\n      <td>M</td>\n      <td>student</td>\n      <td>K7L5J</td>\n    </tr>\n    <tr>\n      <th>779</th>\n      <td>780</td>\n      <td>49</td>\n      <td>M</td>\n      <td>programmer</td>\n      <td>94560</td>\n    </tr>\n    <tr>\n      <th>782</th>\n      <td>783</td>\n      <td>30</td>\n      <td>M</td>\n      <td>marketing</td>\n      <td>77081</td>\n    </tr>\n    <tr>\n      <th>785</th>\n      <td>786</td>\n      <td>36</td>\n      <td>F</td>\n      <td>engineer</td>\n      <td>01754</td>\n    </tr>\n    <tr>\n      <th>789</th>\n      <td>790</td>\n      <td>27</td>\n      <td>M</td>\n      <td>technician</td>\n      <td>80913</td>\n    </tr>\n    <tr>\n      <th>797</th>\n      <td>798</td>\n      <td>40</td>\n      <td>F</td>\n      <td>writer</td>\n      <td>64131</td>\n    </tr>\n    <tr>\n      <th>799</th>\n      <td>800</td>\n      <td>25</td>\n      <td>M</td>\n      <td>programmer</td>\n      <td>55337</td>\n    </tr>\n    <tr>\n      <th>800</th>\n      <td>801</td>\n      <td>22</td>\n      <td>M</td>\n      <td>writer</td>\n      <td>92154</td>\n    </tr>\n    <tr>\n      <th>801</th>\n      <td>802</td>\n      <td>35</td>\n      <td>M</td>\n      <td>administrator</td>\n      <td>34105</td>\n    </tr>\n    <tr>\n      <th>806</th>\n      <td>807</td>\n      <td>41</td>\n      <td>F</td>\n      <td>healthcare</td>\n      <td>93555</td>\n    </tr>\n    <tr>\n      <th>807</th>\n      <td>808</td>\n      <td>45</td>\n      <td>M</td>\n      <td>salesman</td>\n      <td>90016</td>\n    </tr>\n    <tr>\n      <th>810</th>\n      <td>811</td>\n      <td>40</td>\n      <td>F</td>\n      <td>educator</td>\n      <td>73013</td>\n    </tr>\n    <tr>\n      <th>811</th>\n      <td>812</td>\n      <td>22</td>\n      <td>M</td>\n      <td>technician</td>\n      <td>76234</td>\n    </tr>\n    <tr>\n      <th>812</th>\n      <td>813</td>\n      <td>14</td>\n      <td>F</td>\n      <td>student</td>\n      <td>02136</td>\n    </tr>\n    <tr>\n      <th>816</th>\n      <td>817</td>\n      <td>19</td>\n      <td>M</td>\n      <td>student</td>\n      <td>60152</td>\n    </tr>\n    <tr>\n      <th>817</th>\n      <td>818</td>\n      <td>28</td>\n      <td>M</td>\n      <td>librarian</td>\n      <td>27514</td>\n    </tr>\n    <tr>\n      <th>823</th>\n      <td>824</td>\n      <td>31</td>\n      <td>M</td>\n      <td>other</td>\n      <td>15017</td>\n    </tr>\n    <tr>\n      <th>825</th>\n      <td>826</td>\n      <td>28</td>\n      <td>M</td>\n      <td>artist</td>\n      <td>77048</td>\n    </tr>\n    <tr>\n      <th>830</th>\n      <td>831</td>\n      <td>21</td>\n      <td>M</td>\n      <td>other</td>\n      <td>33765</td>\n    </tr>\n    <tr>\n      <th>832</th>\n      <td>833</td>\n      <td>34</td>\n      <td>M</td>\n      <td>writer</td>\n      <td>90019</td>\n    </tr>\n    <tr>\n      <th>838</th>\n      <td>839</td>\n      <td>38</td>\n      <td>F</td>\n      <td>entertainment</td>\n      <td>90814</td>\n    </tr>\n    <tr>\n      <th>839</th>\n      <td>840</td>\n      <td>39</td>\n      <td>M</td>\n      <td>artist</td>\n      <td>55406</td>\n    </tr>\n    <tr>\n      <th>840</th>\n      <td>841</td>\n      <td>45</td>\n      <td>M</td>\n      <td>doctor</td>\n      <td>47401</td>\n    </tr>\n    <tr>\n      <th>842</th>\n      <td>843</td>\n      <td>35</td>\n      <td>M</td>\n      <td>librarian</td>\n      <td>44212</td>\n    </tr>\n    <tr>\n      <th>844</th>\n      <td>845</td>\n      <td>64</td>\n      <td>M</td>\n      <td>doctor</td>\n      <td>97405</td>\n    </tr>\n    <tr>\n      <th>846</th>\n      <td>847</td>\n      <td>29</td>\n      <td>M</td>\n      <td>student</td>\n      <td>55417</td>\n    </tr>\n    <tr>\n      <th>849</th>\n      <td>850</td>\n      <td>34</td>\n      <td>M</td>\n      <td>technician</td>\n      <td>78390</td>\n    </tr>\n    <tr>\n      <th>851</th>\n      <td>852</td>\n      <td>46</td>\n      <td>M</td>\n      <td>administrator</td>\n      <td>94086</td>\n    </tr>\n    <tr>\n      <th>854</th>\n      <td>855</td>\n      <td>53</td>\n      <td>M</td>\n      <td>librarian</td>\n      <td>04988</td>\n    </tr>\n    <tr>\n      <th>855</th>\n      <td>856</td>\n      <td>43</td>\n      <td>F</td>\n      <td>marketing</td>\n      <td>97215</td>\n    </tr>\n    <tr>\n      <th>856</th>\n      <td>857</td>\n      <td>35</td>\n      <td>F</td>\n      <td>administrator</td>\n      <td>V1G4L</td>\n    </tr>\n    <tr>\n      <th>857</th>\n      <td>858</td>\n      <td>63</td>\n      <td>M</td>\n      <td>educator</td>\n      <td>09645</td>\n    </tr>\n    <tr>\n      <th>858</th>\n      <td>859</td>\n      <td>18</td>\n      <td>F</td>\n      <td>other</td>\n      <td>06492</td>\n    </tr>\n    <tr>\n      <th>859</th>\n      <td>860</td>\n      <td>70</td>\n      <td>F</td>\n      <td>retired</td>\n      <td>48322</td>\n    </tr>\n    <tr>\n      <th>860</th>\n      <td>861</td>\n      <td>38</td>\n      <td>F</td>\n      <td>student</td>\n      <td>14085</td>\n    </tr>\n    <tr>\n      <th>861</th>\n      <td>862</td>\n      <td>25</td>\n      <td>M</td>\n      <td>executive</td>\n      <td>13820</td>\n    </tr>\n    <tr>\n      <th>867</th>\n      <td>868</td>\n      <td>21</td>\n      <td>M</td>\n      <td>programmer</td>\n      <td>55303</td>\n    </tr>\n    <tr>\n      <th>869</th>\n      <td>870</td>\n      <td>22</td>\n      <td>M</td>\n      <td>student</td>\n      <td>65203</td>\n    </tr>\n    <tr>\n      <th>872</th>\n      <td>873</td>\n      <td>48</td>\n      <td>F</td>\n      <td>administrator</td>\n      <td>33763</td>\n    </tr>\n    <tr>\n      <th>873</th>\n      <td>874</td>\n      <td>36</td>\n      <td>M</td>\n      <td>scientist</td>\n      <td>37076</td>\n    </tr>\n    <tr>\n      <th>874</th>\n      <td>875</td>\n      <td>24</td>\n      <td>F</td>\n      <td>student</td>\n      <td>35802</td>\n    </tr>\n    <tr>\n      <th>875</th>\n      <td>876</td>\n      <td>41</td>\n      <td>M</td>\n      <td>other</td>\n      <td>20902</td>\n    </tr>\n    <tr>\n      <th>882</th>\n      <td>883</td>\n      <td>49</td>\n      <td>M</td>\n      <td>librarian</td>\n      <td>50266</td>\n    </tr>\n    <tr>\n      <th>886</th>\n      <td>887</td>\n      <td>14</td>\n      <td>F</td>\n      <td>student</td>\n      <td>27249</td>\n    </tr>\n    <tr>\n      <th>896</th>\n      <td>897</td>\n      <td>30</td>\n      <td>M</td>\n      <td>other</td>\n      <td>33484</td>\n    </tr>\n    <tr>\n      <th>902</th>\n      <td>903</td>\n      <td>28</td>\n      <td>M</td>\n      <td>educator</td>\n      <td>20850</td>\n    </tr>\n    <tr>\n      <th>903</th>\n      <td>904</td>\n      <td>17</td>\n      <td>F</td>\n      <td>student</td>\n      <td>61073</td>\n    </tr>\n    <tr>\n      <th>904</th>\n      <td>905</td>\n      <td>27</td>\n      <td>M</td>\n      <td>other</td>\n      <td>30350</td>\n    </tr>\n    <tr>\n      <th>909</th>\n      <td>910</td>\n      <td>28</td>\n      <td>M</td>\n      <td>healthcare</td>\n      <td>29301</td>\n    </tr>\n    <tr>\n      <th>910</th>\n      <td>911</td>\n      <td>37</td>\n      <td>F</td>\n      <td>writer</td>\n      <td>53210</td>\n    </tr>\n    <tr>\n      <th>913</th>\n      <td>914</td>\n      <td>44</td>\n      <td>F</td>\n      <td>other</td>\n      <td>08105</td>\n    </tr>\n    <tr>\n      <th>923</th>\n      <td>924</td>\n      <td>29</td>\n      <td>M</td>\n      <td>other</td>\n      <td>11753</td>\n    </tr>\n    <tr>\n      <th>924</th>\n      <td>925</td>\n      <td>18</td>\n      <td>F</td>\n      <td>salesman</td>\n      <td>49036</td>\n    </tr>\n    <tr>\n      <th>926</th>\n      <td>927</td>\n      <td>23</td>\n      <td>M</td>\n      <td>programmer</td>\n      <td>55428</td>\n    </tr>\n    <tr>\n      <th>929</th>\n      <td>930</td>\n      <td>28</td>\n      <td>F</td>\n      <td>scientist</td>\n      <td>07310</td>\n    </tr>\n    <tr>\n      <th>935</th>\n      <td>936</td>\n      <td>24</td>\n      <td>M</td>\n      <td>other</td>\n      <td>32789</td>\n    </tr>\n    <tr>\n      <th>938</th>\n      <td>939</td>\n      <td>26</td>\n      <td>F</td>\n      <td>student</td>\n      <td>33319</td>\n    </tr>\n    <tr>\n      <th>940</th>\n      <td>941</td>\n      <td>20</td>\n      <td>M</td>\n      <td>student</td>\n      <td>97229</td>\n    </tr>\n  </tbody>\n</table>\n</div>",
          "text/plain": "     user_id  age sex     occupation zip_code\n1          2   53   F          other    94043\n5          6   42   M      executive    98101\n6          7   57   M  administrator    91344\n7          8   36   M  administrator    05201\n9         10   53   M         lawyer    90703\n10        11   39   F          other    30329\n12        13   47   M       educator    29206\n17        18   35   F          other    37212\n20        21   26   M         writer    30068\n22        23   30   F         artist    48197\n25        26   49   M       engineer    21044\n26        27   40   F      librarian    30030\n27        28   32   M         writer    55369\n28        29   41   M     programmer    94043\n29        30    7   M        student    55436\n30        31   24   M         artist    10003\n31        32   28   F        student    78741\n32        33   23   M        student    27510\n33        34   38   F  administrator    42141\n34        35   20   F      homemaker    42459\n35        36   19   F        student    93117\n37        38   28   F          other    54467\n44        45   29   M     programmer    50233\n45        46   27   F      marketing    46538\n46        47   53   M      marketing    07102\n48        49   23   F        student    76111\n50        51   28   M       educator    16509\n51        52   18   F        student    55105\n53        54   22   M      executive    66315\n58        59   49   M       educator    08403\n59        60   50   M     healthcare    06472\n66        67   17   M        student    60402\n67        68   19   M        student    22904\n72        73   24   M        student    41850\n74        75   24   M  entertainment    08816\n76        77   30   M     technician    29379\n78        79   39   F  administrator    03755\n83        84   32   M      executive    55369\n84        85   51   M       educator    20003\n85        86   26   M  administrator    46005\n86        87   47   M  administrator    89503\n88        89   43   F  administrator    68106\n89        90   60   M       educator    78155\n96        97   43   M         artist    98006\n98        99   20   M        student    63129\n101      102   38   M     programmer    30220\n103      104   27   M        student    55108\n108      109   29   M          other    55423\n109      110   19   M        student    77840\n110      111   57   M       engineer    90630\n111      112   30   M       salesman    60613\n113      114   27   M     programmer    75013\n117      118   21   M  administrator    90210\n120      121   54   M      librarian    99603\n121      122   32   F         writer    22206\n124      125   30   M         lawyer    22202\n130      131   59   F  administrator    15237\n133      134   31   M     programmer    80236\n134      135   23   M        student    38401\n137      138   46   M         doctor    53211\n138      139   20   M        student    08904\n140      141   49   M     programmer    36117\n141      142   13   M          other    48118\n144      145   31   M  entertainment    V3N4P\n145      146   45   M         artist    83814\n152      153   25   M        student    60641\n157      158   50   M       educator    27606\n163      164   47   M     healthcare    80123\n164      165   20   F          other    53715\n167      168   48   M          other    80127\n168      169   52   F          other    53705\n169      170   53   F     healthcare    30067\n170      171   48   F       educator    78750\n173      174   30   F  administrator    52302\n174      175   26   F      scientist    21911\n178      179   15   M  entertainment    20755\n181      182   36   M     programmer    33884\n183      184   37   M      librarian    76013\n184      185   53   F      librarian    97403\n185      186   39   F      executive    00000\n186      187   26   M       educator    16801\n188      189   32   M         artist    95014\n189      190   30   M  administrator    95938\n190      191   33   M  administrator    95161\n193      194   38   M  administrator    02154\n194      195   42   M      scientist    93555\n195      196   49   M         writer    55105\n205      206   14   F        student    53115\n206      207   39   M      marketing    92037\n210      211   66   M       salesman    32605\n212      213   33   M      executive    55345\n213      214   26   F      librarian    11231\n215      216   22   M       engineer    02215\n217      218   37   M  administrator    06513\n218      219   32   M     programmer    43212\n219      220   30   M      librarian    78205\n222      223   19   F        student    47906\n223      224   31   F       educator    43512\n224      225   51   F  administrator    58202\n225      226   28   M        student    92103\n231      232   45   M      scientist    99709\n234      235   37   M       educator    22973\n235      236   44   F         writer    53214\n236      237   49   M  administrator    63146\n237      238   42   F  administrator    44124\n238      239   39   M         artist    95628\n239      240   23   F       educator    20784\n243      244   28   M     technician    80525\n255      256   35   F           none    39042\n256      257   17   M        student    77005\n257      258   19   F        student    77801\n258      259   21   M        student    48823\n262      263   41   M     programmer    55346\n264      265   26   M      executive    84601\n265      266   62   F  administrator    78756\n271      272   33   M      scientist    53706\n276      277   35   F  administrator    55406\n279      280   30   F      librarian    22903\n280      281   15   F        student    06059\n281      282   22   M  administrator    20057\n282      283   28   M     programmer    55305\n283      284   40   M      executive    92629\n302      303   19   M        student    14853\n304      305   23   M     programmer    94086\n307      308   60   M        retired    95076\n308      309   40   M      scientist    70802\n313      314   20   F        student    08043\n315      316   43   F          other    77009\n316      317   22   M  administrator    13210\n317      318   65   M        retired    06518\n319      320   19   M        student    24060\n321      322   20   M        student    50613\n326      327   22   M        student    11101\n327      328   51   M  administrator    06779\n331      332   20   M        student    40504\n332      333   47   M          other    V0R2M\n333      334   32   M      librarian    30002\n335      336   23   M       salesman    42101\n339      340   46   M       engineer    80123\n340      341   17   F        student    44405\n344      345   28   F      librarian    94143\n347      348   24   F        student    45660\n351      352   37   F     programmer    55105\n352      353   25   M      scientist    28480\n354      355   25   M        student    60135\n356      357   26   M      executive    98133\n359      360   51   M          other    98027\n360      361   22   M        student    44074\n362      363   20   M        student    87501\n366      367   17   M        student    37411\n367      368   18   M        student    92113\n371      372   25   F        student    66046\n373      374   36   M      executive    78746\n374      375   17   M  entertainment    37777\n375      376   28   F          other    10010\n380      381   33   M         artist    94608\n381      382   45   M       engineer    01824\n382      383   42   M  administrator    75204\n384      385   36   M         writer    10003\n390      391   23   M        student    84604\n395      396   57   M       engineer    94551\n398      399   25   M          other    92374\n402      403   37   M          other    06811\n406      407   29   M       engineer    03261\n407      408   23   M        student    61755\n408      409   48   M  administrator    98225\n411      412   25   M       educator    15222\n412      413   55   M       educator    78212\n413      414   24   M     programmer    38115\n418      419   37   M         lawyer    43215\n421      422   26   M  entertainment    94533\n424      425   19   M        student    58644\n429      430   38   M      scientist    98199\n431      432   22   M  entertainment    50311\n434      435   24   M       engineer    60007\n437      438   51   F  administrator    43204\n441      442   22   M        student    85282\n442      443   35   M       salesman    33308\n447      448   23   M  entertainment    10021\n449      450   35   F       educator    11758\n450      451   16   M        student    48446\n451      452   35   M  administrator    28018\n460      461   15   M        student    98102\n462      463   48   F     healthcare    75218\n464      465   32   M          other    05001\n467      468   28   M       engineer    02341\n472      473   29   M        student    94708\n473      474   51   M      executive    93711\n474      475   30   M     programmer    75230\n479      480   57   M        retired    98257\n480      481   73   M        retired    37771\n489      490   29   F         artist    V5A2B\n490      491   43   F         writer    53711\n497      498   26   M         writer    55408\n499      500   28   M  administrator    94305\n500      501   22   M        student    10025\n502      503   50   F         writer    27514\n504      505   27   F          other    20657\n508      509   23   M  administrator    10011\n509      510   34   M          other    98038\n511      512   29   M          other    20090\n513      514   27   M     programmer    20707\n514      515   53   M      marketing    49508\n517      518   49   F         writer    99709\n518      519   22   M          other    55320\n520      521   19   M        student    02146\n525      526   30   M      marketing    97124\n526      527   33   M      librarian    12180\n527      528   18   M        student    55104\n528      529   47   F  administrator    44224\n529      530   29   M       engineer    94040\n536      537   36   M       engineer    22902\n537      538   31   M      scientist    21010\n541      542   21   M        student    60515\n542      543   33   M      scientist    95123\n544      545   27   M     technician    08052\n545      546   36   M      executive    22911\n549      550   16   F        student    95453\n553      554   32   M      scientist    62901\n554      555   29   F       educator    23227\n555      556   35   F       educator    30606\n556      557   30   F         writer    11217\n557      558   56   F         writer    63132\n561      562   54   F  administrator    20879\n562      563   39   F      librarian    32707\n563      564   65   M        retired    94591\n570      571   34   M         artist    01945\n571      572   51   M       educator    20003\n579      580   16   M        student    17961\n581      582   17   M        student    93003\n582      583   44   M       engineer    29631\n583      584   25   M        student    27511\n585      586   20   M        student    79508\n587      588   18   F        student    93063\n588      589   21   M         lawyer    90034\n589      590   50   M       educator    82435\n592      593   31   F       educator    68767\n593      594   46   M       educator    M4J2K\n594      595   25   M     programmer    31909\n596      597   23   M          other    84116\n598      599   22   F        student    R3T5K\n601      602   47   F          other    34656\n605      606   28   M     programmer    63044\n606      607   49   F     healthcare    02154\n609      610   22   M        student    21227\n613      614   54   M       educator    80227\n614      615   38   M       educator    27705\n617      618   15   F        student    44212\n621      622   25   M     programmer    14850\n623      624   19   M        student    30067\n624      625   27   M     programmer    20723\n625      626   23   M      scientist    19807\n627      628   13   M           none    94306\n629      630   26   F     healthcare    55408\n631      632   18   M        student    55454\n636      637   30   M          other    74101\n638      639   42   F      librarian    12065\n639      640   20   M        student    61801\n642      643   39   M      scientist    55122\n643      644   51   M        retired    63645\n645      646   17   F        student    51250\n657      658   33   M     programmer    92626\n660      661   28   M     programmer    98121\n665      666   44   M  administrator    61820\n666      667   35   M      librarian    01970\n668      669   37   M          other    20009\n669      670   30   M     technician    21114\n670      671   21   M     programmer    91919\n671      672   54   F  administrator    90095\n673      674   13   F        student    55337\n679      680   33   M         lawyer    90405\n681      682   23   M     programmer    55128\n684      685   32   F      librarian    55409\n685      686   32   M       educator    26506\n692      693   43   F     healthcare    85210\n693      694   60   M     programmer    06365\n694      695   26   M         writer    38115\n698      699   44   M          other    96754\n702      703   26   M       educator    49512\n705      706   23   M        student    55454\n709      710   19   M        student    92020\n710      711   22   F        student    15203\n715      716   36   F  administrator    44265\n718      719   37   F          other    V0R2H\n720      721   24   F  entertainment    11238\n723      724   31   M      executive    40243\n726      727   25   M        student    78741\n727      728   58   M      executive    94306\n730      731   41   F       educator    70403\n732      733   44   F          other    60630\n734      735   29   F     healthcare    85719\n735      736   48   F         writer    94618\n737      738   35   M     technician    95403\n738      739   35   M     technician    73162\n739      740   25   F       educator    22206\n741      742   35   M        student    29210\n748      749   33   M          other    80919\n750      751   24   F          other    90034\n752      753   56   M       salesman    91206\n753      754   59   F      librarian    62901\n756      757   26   M        student    55104\n758      759   20   F        student    68503\n760      761   17   M        student    97302\n763      764   27   F       educator    62903\n770      771   26   M        student    15232\n773      774   30   M        student    80027\n774      775   46   M      executive    90036\n778      779   31   M        student    K7L5J\n779      780   49   M     programmer    94560\n782      783   30   M      marketing    77081\n785      786   36   F       engineer    01754\n789      790   27   M     technician    80913\n797      798   40   F         writer    64131\n799      800   25   M     programmer    55337\n800      801   22   M         writer    92154\n801      802   35   M  administrator    34105\n806      807   41   F     healthcare    93555\n807      808   45   M       salesman    90016\n810      811   40   F       educator    73013\n811      812   22   M     technician    76234\n812      813   14   F        student    02136\n816      817   19   M        student    60152\n817      818   28   M      librarian    27514\n823      824   31   M          other    15017\n825      826   28   M         artist    77048\n830      831   21   M          other    33765\n832      833   34   M         writer    90019\n838      839   38   F  entertainment    90814\n839      840   39   M         artist    55406\n840      841   45   M         doctor    47401\n842      843   35   M      librarian    44212\n844      845   64   M         doctor    97405\n846      847   29   M        student    55417\n849      850   34   M     technician    78390\n851      852   46   M  administrator    94086\n854      855   53   M      librarian    04988\n855      856   43   F      marketing    97215\n856      857   35   F  administrator    V1G4L\n857      858   63   M       educator    09645\n858      859   18   F          other    06492\n859      860   70   F        retired    48322\n860      861   38   F        student    14085\n861      862   25   M      executive    13820\n867      868   21   M     programmer    55303\n869      870   22   M        student    65203\n872      873   48   F  administrator    33763\n873      874   36   M      scientist    37076\n874      875   24   F        student    35802\n875      876   41   M          other    20902\n882      883   49   M      librarian    50266\n886      887   14   F        student    27249\n896      897   30   M          other    33484\n902      903   28   M       educator    20850\n903      904   17   F        student    61073\n904      905   27   M          other    30350\n909      910   28   M     healthcare    29301\n910      911   37   F         writer    53210\n913      914   44   F          other    08105\n923      924   29   M          other    11753\n924      925   18   F       salesman    49036\n926      927   23   M     programmer    55428\n929      930   28   F      scientist    07310\n935      936   24   M          other    32789\n938      939   26   F        student    33319\n940      941   20   M        student    97229"
         },
         "metadata": {},
         "output_type": "display_data"
        }
       ]
      }
     },
     "47d37f81c2ab4426bd4ec74b0bf5a885": {
      "model_module": "@jupyter-widgets/controls",
      "model_module_version": "1.4.0",
      "model_name": "ButtonStyleModel",
      "state": {}
     },
     "484ceeb4fe8c423580a3ba994ada9543": {
      "model_module": "@jupyter-widgets/controls",
      "model_module_version": "1.4.0",
      "model_name": "DescriptionStyleModel",
      "state": {
       "description_width": ""
      }
     },
     "497d9d772841472f8c529c53a9dd246e": {
      "model_module": "@jupyter-widgets/controls",
      "model_module_version": "1.4.0",
      "model_name": "DescriptionStyleModel",
      "state": {
       "description_width": ""
      }
     },
     "4b5acb9716c94239836e2e7a0e87c6b4": {
      "model_module": "@jupyter-widgets/base",
      "model_module_version": "1.1.0",
      "model_name": "LayoutModel",
      "state": {}
     },
     "4e490e0ea9e549f7914b831086cb36b9": {
      "model_module": "@jupyter-widgets/base",
      "model_module_version": "1.1.0",
      "model_name": "LayoutModel",
      "state": {}
     },
     "4ec3700532574e098e53c03670483433": {
      "model_module": "@jupyter-widgets/controls",
      "model_module_version": "1.4.0",
      "model_name": "CheckboxModel",
      "state": {
       "description": "sex",
       "disabled": false,
       "layout": "IPY_MODEL_1071d603bd5d42cd9efef28e8507e1a9",
       "style": "IPY_MODEL_5b3ff1d703ef4a79965da7782050e6bd",
       "value": false
      }
     },
     "52f8e9cc7ddb475ebfa22e68cfb9c730": {
      "model_module": "@jupyter-widgets/base",
      "model_module_version": "1.1.0",
      "model_name": "LayoutModel",
      "state": {}
     },
     "577431023de142d4ad8996f7b81c70f7": {
      "model_module": "@jupyter-widgets/controls",
      "model_module_version": "1.4.0",
      "model_name": "ButtonStyleModel",
      "state": {}
     },
     "584bf8ae29d04c25bcc32692f58cf552": {
      "model_module": "@jupyter-widgets/controls",
      "model_module_version": "1.4.0",
      "model_name": "CheckboxModel",
      "state": {
       "description": "age",
       "disabled": false,
       "layout": "IPY_MODEL_96890fdc58ac4d879e732d20f2dc7ddb",
       "style": "IPY_MODEL_484ceeb4fe8c423580a3ba994ada9543",
       "value": false
      }
     },
     "59db67aba58042e69d63ad07ffc1a4d0": {
      "model_module": "@jupyter-widgets/controls",
      "model_module_version": "1.4.0",
      "model_name": "DescriptionStyleModel",
      "state": {
       "description_width": ""
      }
     },
     "5ab10845313449958cbe18f5f39abb51": {
      "model_module": "@jupyter-widgets/base",
      "model_module_version": "1.1.0",
      "model_name": "LayoutModel",
      "state": {}
     },
     "5b3ff1d703ef4a79965da7782050e6bd": {
      "model_module": "@jupyter-widgets/controls",
      "model_module_version": "1.4.0",
      "model_name": "DescriptionStyleModel",
      "state": {
       "description_width": ""
      }
     },
     "5d49a71d422e4d5db70bc68c8ef6b7b4": {
      "model_module": "@jupyter-widgets/controls",
      "model_module_version": "1.4.0",
      "model_name": "CheckboxModel",
      "state": {
       "description": "occupation",
       "disabled": false,
       "layout": "IPY_MODEL_4b5acb9716c94239836e2e7a0e87c6b4",
       "style": "IPY_MODEL_b7d1c0772c384a71aac00312369ba651",
       "value": false
      }
     },
     "5d9dc9c41a7e44bb8f0723b9f6042c47": {
      "model_module": "@jupyter-widgets/controls",
      "model_module_version": "1.4.0",
      "model_name": "ButtonModel",
      "state": {
       "description": "Contest Based Movie Recommendation",
       "layout": "IPY_MODEL_fdf6abd533e544f4a5d60b9f13932bc8",
       "style": "IPY_MODEL_620f9c552ad1491dbf3c046389427aee"
      }
     },
     "5de5ed0bbc374c58ba808643a640f316": {
      "model_module": "@jupyter-widgets/controls",
      "model_module_version": "1.4.0",
      "model_name": "ButtonStyleModel",
      "state": {}
     },
     "5e0ffc4b9e494ef2bc721f76700b077c": {
      "model_module": "@jupyter-widgets/controls",
      "model_module_version": "1.4.0",
      "model_name": "ButtonModel",
      "state": {
       "description": "Collaborative Based Recommendation for users and movies",
       "layout": "IPY_MODEL_fc5d0b8c00f64705b5aec629530974d5",
       "style": "IPY_MODEL_5de5ed0bbc374c58ba808643a640f316"
      }
     },
     "5e771acb5a3a436ebe21caf34fe8eacd": {
      "model_module": "@jupyter-widgets/base",
      "model_module_version": "1.1.0",
      "model_name": "LayoutModel",
      "state": {}
     },
     "60de9205b9034a0a8cfb1099f695ca58": {
      "model_module": "@jupyter-widgets/controls",
      "model_module_version": "1.4.0",
      "model_name": "ButtonStyleModel",
      "state": {}
     },
     "620f9c552ad1491dbf3c046389427aee": {
      "model_module": "@jupyter-widgets/controls",
      "model_module_version": "1.4.0",
      "model_name": "ButtonStyleModel",
      "state": {}
     },
     "63394c5c16bb43faad39111faaa4b199": {
      "model_module": "@jupyter-widgets/controls",
      "model_module_version": "1.4.0",
      "model_name": "ButtonModel",
      "state": {
       "description": "Collaborative Based Recommendation for users and movies",
       "layout": "IPY_MODEL_fc1849e6ea4e452e941158c3a635ad16",
       "style": "IPY_MODEL_85268da8307045d38862ad86dd22b55d"
      }
     },
     "65509856e3fb4d5f885d24a5ccaf6d3e": {
      "model_module": "@jupyter-widgets/base",
      "model_module_version": "1.1.0",
      "model_name": "LayoutModel",
      "state": {}
     },
     "6673847650d64372a4106249814713da": {
      "model_module": "@jupyter-widgets/base",
      "model_module_version": "1.1.0",
      "model_name": "LayoutModel",
      "state": {}
     },
     "679623ecb810435db6bfa02e40616b23": {
      "model_module": "@jupyter-widgets/controls",
      "model_module_version": "1.4.0",
      "model_name": "DescriptionStyleModel",
      "state": {
       "description_width": ""
      }
     },
     "6984adea021a424bb05fd266ca27bc4e": {
      "model_module": "@jupyter-widgets/controls",
      "model_module_version": "1.4.0",
      "model_name": "IntSliderModel",
      "state": {
       "description": "age",
       "layout": "IPY_MODEL_52f8e9cc7ddb475ebfa22e68cfb9c730",
       "max": 73,
       "min": 7,
       "style": "IPY_MODEL_7f03b839b71c4432978055cf45a9773c",
       "value": 40
      }
     },
     "6afc690b3fcc43c4904f82923100d037": {
      "model_module": "@jupyter-widgets/base",
      "model_module_version": "1.1.0",
      "model_name": "LayoutModel",
      "state": {}
     },
     "6b3e784bbf2b49b1b9b8da58b73d283a": {
      "model_module": "@jupyter-widgets/base",
      "model_module_version": "1.1.0",
      "model_name": "LayoutModel",
      "state": {}
     },
     "6bacb7fa621e47bba347ea528b9717c6": {
      "model_module": "@jupyter-widgets/base",
      "model_module_version": "1.1.0",
      "model_name": "LayoutModel",
      "state": {}
     },
     "6c91e51d160946299a6122d606dd0435": {
      "model_module": "@jupyter-widgets/controls",
      "model_module_version": "1.4.0",
      "model_name": "ButtonModel",
      "state": {
       "description": "Contest Based Movie Recommendation",
       "layout": "IPY_MODEL_6673847650d64372a4106249814713da",
       "style": "IPY_MODEL_85a1d411858a4b119206b13cf8ebe7b1"
      }
     },
     "6e221c7568d24ce4bb2d94ad88aa2bf7": {
      "model_module": "@jupyter-widgets/base",
      "model_module_version": "1.1.0",
      "model_name": "LayoutModel",
      "state": {}
     },
     "6eb287ca8b5e4168b0ce94c04c0ddc99": {
      "model_module": "@jupyter-widgets/controls",
      "model_module_version": "1.4.0",
      "model_name": "DescriptionStyleModel",
      "state": {
       "description_width": ""
      }
     },
     "6fee67a398ed4a70b8dfbcbd28cbff8a": {
      "model_module": "@jupyter-widgets/base",
      "model_module_version": "1.1.0",
      "model_name": "LayoutModel",
      "state": {}
     },
     "72adce7076a04894b336524e50d045f5": {
      "model_module": "@jupyter-widgets/controls",
      "model_module_version": "1.4.0",
      "model_name": "ButtonModel",
      "state": {
       "description": "Contest Based Movie Recommendation",
       "layout": "IPY_MODEL_e89506930f1f419a8044b021dc286238",
       "style": "IPY_MODEL_c059fd5f39d44ce69f5ebcde5cd27182"
      }
     },
     "72da3442ce6d45039d893a1826dee699": {
      "model_module": "@jupyter-widgets/base",
      "model_module_version": "1.1.0",
      "model_name": "LayoutModel",
      "state": {}
     },
     "730e173ef4934ff79f54e3e55e218de2": {
      "model_module": "@jupyter-widgets/output",
      "model_module_version": "1.0.0",
      "model_name": "OutputModel",
      "state": {
       "layout": "IPY_MODEL_9c85f5bbf4e447088230d0f234acd3d6",
       "outputs": [
        {
         "data": {
          "text/html": "<div>\n<style scoped>\n    .dataframe tbody tr th:only-of-type {\n        vertical-align: middle;\n    }\n\n    .dataframe tbody tr th {\n        vertical-align: top;\n    }\n\n    .dataframe thead th {\n        text-align: right;\n    }\n</style>\n<table border=\"1\" class=\"dataframe\">\n  <thead>\n    <tr style=\"text-align: right;\">\n      <th></th>\n      <th>user_id</th>\n      <th>age</th>\n      <th>sex</th>\n      <th>occupation</th>\n      <th>zip_code</th>\n    </tr>\n  </thead>\n  <tbody>\n    <tr>\n      <th>0</th>\n      <td>1</td>\n      <td>24</td>\n      <td>M</td>\n      <td>technician</td>\n      <td>85711</td>\n    </tr>\n    <tr>\n      <th>1</th>\n      <td>2</td>\n      <td>53</td>\n      <td>F</td>\n      <td>other</td>\n      <td>94043</td>\n    </tr>\n    <tr>\n      <th>3</th>\n      <td>4</td>\n      <td>24</td>\n      <td>M</td>\n      <td>technician</td>\n      <td>43537</td>\n    </tr>\n    <tr>\n      <th>4</th>\n      <td>5</td>\n      <td>33</td>\n      <td>F</td>\n      <td>other</td>\n      <td>15213</td>\n    </tr>\n    <tr>\n      <th>9</th>\n      <td>10</td>\n      <td>53</td>\n      <td>M</td>\n      <td>lawyer</td>\n      <td>90703</td>\n    </tr>\n    <tr>\n      <th>13</th>\n      <td>14</td>\n      <td>45</td>\n      <td>M</td>\n      <td>scientist</td>\n      <td>55106</td>\n    </tr>\n    <tr>\n      <th>15</th>\n      <td>16</td>\n      <td>21</td>\n      <td>M</td>\n      <td>entertainment</td>\n      <td>10309</td>\n    </tr>\n    <tr>\n      <th>18</th>\n      <td>19</td>\n      <td>40</td>\n      <td>M</td>\n      <td>librarian</td>\n      <td>02138</td>\n    </tr>\n    <tr>\n      <th>19</th>\n      <td>20</td>\n      <td>42</td>\n      <td>F</td>\n      <td>homemaker</td>\n      <td>95660</td>\n    </tr>\n    <tr>\n      <th>24</th>\n      <td>25</td>\n      <td>39</td>\n      <td>M</td>\n      <td>engineer</td>\n      <td>55107</td>\n    </tr>\n    <tr>\n      <th>25</th>\n      <td>26</td>\n      <td>49</td>\n      <td>M</td>\n      <td>engineer</td>\n      <td>21044</td>\n    </tr>\n    <tr>\n      <th>26</th>\n      <td>27</td>\n      <td>40</td>\n      <td>F</td>\n      <td>librarian</td>\n      <td>30030</td>\n    </tr>\n    <tr>\n      <th>27</th>\n      <td>28</td>\n      <td>32</td>\n      <td>M</td>\n      <td>writer</td>\n      <td>55369</td>\n    </tr>\n    <tr>\n      <th>30</th>\n      <td>31</td>\n      <td>24</td>\n      <td>M</td>\n      <td>artist</td>\n      <td>10003</td>\n    </tr>\n    <tr>\n      <th>33</th>\n      <td>34</td>\n      <td>38</td>\n      <td>F</td>\n      <td>administrator</td>\n      <td>42141</td>\n    </tr>\n    <tr>\n      <th>35</th>\n      <td>36</td>\n      <td>19</td>\n      <td>F</td>\n      <td>student</td>\n      <td>93117</td>\n    </tr>\n    <tr>\n      <th>38</th>\n      <td>39</td>\n      <td>41</td>\n      <td>M</td>\n      <td>entertainment</td>\n      <td>01040</td>\n    </tr>\n    <tr>\n      <th>39</th>\n      <td>40</td>\n      <td>38</td>\n      <td>M</td>\n      <td>scientist</td>\n      <td>27514</td>\n    </tr>\n    <tr>\n      <th>42</th>\n      <td>43</td>\n      <td>29</td>\n      <td>F</td>\n      <td>librarian</td>\n      <td>20854</td>\n    </tr>\n    <tr>\n      <th>49</th>\n      <td>50</td>\n      <td>21</td>\n      <td>M</td>\n      <td>writer</td>\n      <td>52245</td>\n    </tr>\n    <tr>\n      <th>52</th>\n      <td>53</td>\n      <td>26</td>\n      <td>M</td>\n      <td>programmer</td>\n      <td>55414</td>\n    </tr>\n    <tr>\n      <th>56</th>\n      <td>57</td>\n      <td>16</td>\n      <td>M</td>\n      <td>none</td>\n      <td>84010</td>\n    </tr>\n    <tr>\n      <th>58</th>\n      <td>59</td>\n      <td>49</td>\n      <td>M</td>\n      <td>educator</td>\n      <td>08403</td>\n    </tr>\n    <tr>\n      <th>59</th>\n      <td>60</td>\n      <td>50</td>\n      <td>M</td>\n      <td>healthcare</td>\n      <td>06472</td>\n    </tr>\n    <tr>\n      <th>61</th>\n      <td>62</td>\n      <td>27</td>\n      <td>F</td>\n      <td>administrator</td>\n      <td>97214</td>\n    </tr>\n    <tr>\n      <th>66</th>\n      <td>67</td>\n      <td>17</td>\n      <td>M</td>\n      <td>student</td>\n      <td>60402</td>\n    </tr>\n    <tr>\n      <th>69</th>\n      <td>70</td>\n      <td>27</td>\n      <td>M</td>\n      <td>engineer</td>\n      <td>60067</td>\n    </tr>\n    <tr>\n      <th>70</th>\n      <td>71</td>\n      <td>39</td>\n      <td>M</td>\n      <td>scientist</td>\n      <td>98034</td>\n    </tr>\n    <tr>\n      <th>71</th>\n      <td>72</td>\n      <td>48</td>\n      <td>F</td>\n      <td>administrator</td>\n      <td>73034</td>\n    </tr>\n    <tr>\n      <th>73</th>\n      <td>74</td>\n      <td>39</td>\n      <td>M</td>\n      <td>scientist</td>\n      <td>T8H1N</td>\n    </tr>\n    <tr>\n      <th>74</th>\n      <td>75</td>\n      <td>24</td>\n      <td>M</td>\n      <td>entertainment</td>\n      <td>08816</td>\n    </tr>\n    <tr>\n      <th>98</th>\n      <td>99</td>\n      <td>20</td>\n      <td>M</td>\n      <td>student</td>\n      <td>63129</td>\n    </tr>\n    <tr>\n      <th>99</th>\n      <td>100</td>\n      <td>36</td>\n      <td>M</td>\n      <td>executive</td>\n      <td>90254</td>\n    </tr>\n    <tr>\n      <th>101</th>\n      <td>102</td>\n      <td>38</td>\n      <td>M</td>\n      <td>programmer</td>\n      <td>30220</td>\n    </tr>\n    <tr>\n      <th>102</th>\n      <td>103</td>\n      <td>26</td>\n      <td>M</td>\n      <td>student</td>\n      <td>55108</td>\n    </tr>\n    <tr>\n      <th>103</th>\n      <td>104</td>\n      <td>27</td>\n      <td>M</td>\n      <td>student</td>\n      <td>55108</td>\n    </tr>\n    <tr>\n      <th>105</th>\n      <td>106</td>\n      <td>61</td>\n      <td>M</td>\n      <td>retired</td>\n      <td>55125</td>\n    </tr>\n    <tr>\n      <th>106</th>\n      <td>107</td>\n      <td>39</td>\n      <td>M</td>\n      <td>scientist</td>\n      <td>60466</td>\n    </tr>\n    <tr>\n      <th>108</th>\n      <td>109</td>\n      <td>29</td>\n      <td>M</td>\n      <td>other</td>\n      <td>55423</td>\n    </tr>\n    <tr>\n      <th>109</th>\n      <td>110</td>\n      <td>19</td>\n      <td>M</td>\n      <td>student</td>\n      <td>77840</td>\n    </tr>\n    <tr>\n      <th>111</th>\n      <td>112</td>\n      <td>30</td>\n      <td>M</td>\n      <td>salesman</td>\n      <td>60613</td>\n    </tr>\n    <tr>\n      <th>112</th>\n      <td>113</td>\n      <td>47</td>\n      <td>M</td>\n      <td>executive</td>\n      <td>95032</td>\n    </tr>\n    <tr>\n      <th>114</th>\n      <td>115</td>\n      <td>31</td>\n      <td>M</td>\n      <td>engineer</td>\n      <td>17110</td>\n    </tr>\n    <tr>\n      <th>118</th>\n      <td>119</td>\n      <td>32</td>\n      <td>M</td>\n      <td>programmer</td>\n      <td>67401</td>\n    </tr>\n    <tr>\n      <th>120</th>\n      <td>121</td>\n      <td>54</td>\n      <td>M</td>\n      <td>librarian</td>\n      <td>99603</td>\n    </tr>\n    <tr>\n      <th>122</th>\n      <td>123</td>\n      <td>48</td>\n      <td>F</td>\n      <td>artist</td>\n      <td>20008</td>\n    </tr>\n    <tr>\n      <th>127</th>\n      <td>128</td>\n      <td>24</td>\n      <td>F</td>\n      <td>marketing</td>\n      <td>20009</td>\n    </tr>\n    <tr>\n      <th>130</th>\n      <td>131</td>\n      <td>59</td>\n      <td>F</td>\n      <td>administrator</td>\n      <td>15237</td>\n    </tr>\n    <tr>\n      <th>133</th>\n      <td>134</td>\n      <td>31</td>\n      <td>M</td>\n      <td>programmer</td>\n      <td>80236</td>\n    </tr>\n    <tr>\n      <th>138</th>\n      <td>139</td>\n      <td>20</td>\n      <td>M</td>\n      <td>student</td>\n      <td>08904</td>\n    </tr>\n    <tr>\n      <th>144</th>\n      <td>145</td>\n      <td>31</td>\n      <td>M</td>\n      <td>entertainment</td>\n      <td>V3N4P</td>\n    </tr>\n    <tr>\n      <th>146</th>\n      <td>147</td>\n      <td>40</td>\n      <td>F</td>\n      <td>librarian</td>\n      <td>02143</td>\n    </tr>\n    <tr>\n      <th>147</th>\n      <td>148</td>\n      <td>33</td>\n      <td>M</td>\n      <td>engineer</td>\n      <td>97006</td>\n    </tr>\n    <tr>\n      <th>151</th>\n      <td>152</td>\n      <td>33</td>\n      <td>F</td>\n      <td>educator</td>\n      <td>68767</td>\n    </tr>\n    <tr>\n      <th>153</th>\n      <td>154</td>\n      <td>25</td>\n      <td>M</td>\n      <td>student</td>\n      <td>53703</td>\n    </tr>\n    <tr>\n      <th>154</th>\n      <td>155</td>\n      <td>32</td>\n      <td>F</td>\n      <td>other</td>\n      <td>11217</td>\n    </tr>\n    <tr>\n      <th>160</th>\n      <td>161</td>\n      <td>50</td>\n      <td>M</td>\n      <td>lawyer</td>\n      <td>55104</td>\n    </tr>\n    <tr>\n      <th>161</th>\n      <td>162</td>\n      <td>25</td>\n      <td>M</td>\n      <td>artist</td>\n      <td>15610</td>\n    </tr>\n    <tr>\n      <th>163</th>\n      <td>164</td>\n      <td>47</td>\n      <td>M</td>\n      <td>healthcare</td>\n      <td>80123</td>\n    </tr>\n    <tr>\n      <th>165</th>\n      <td>166</td>\n      <td>47</td>\n      <td>M</td>\n      <td>educator</td>\n      <td>55113</td>\n    </tr>\n    <tr>\n      <th>169</th>\n      <td>170</td>\n      <td>53</td>\n      <td>F</td>\n      <td>healthcare</td>\n      <td>30067</td>\n    </tr>\n    <tr>\n      <th>170</th>\n      <td>171</td>\n      <td>48</td>\n      <td>F</td>\n      <td>educator</td>\n      <td>78750</td>\n    </tr>\n    <tr>\n      <th>177</th>\n      <td>178</td>\n      <td>26</td>\n      <td>M</td>\n      <td>other</td>\n      <td>49512</td>\n    </tr>\n    <tr>\n      <th>178</th>\n      <td>179</td>\n      <td>15</td>\n      <td>M</td>\n      <td>entertainment</td>\n      <td>20755</td>\n    </tr>\n    <tr>\n      <th>180</th>\n      <td>181</td>\n      <td>26</td>\n      <td>M</td>\n      <td>executive</td>\n      <td>21218</td>\n    </tr>\n    <tr>\n      <th>181</th>\n      <td>182</td>\n      <td>36</td>\n      <td>M</td>\n      <td>programmer</td>\n      <td>33884</td>\n    </tr>\n    <tr>\n      <th>188</th>\n      <td>189</td>\n      <td>32</td>\n      <td>M</td>\n      <td>artist</td>\n      <td>95014</td>\n    </tr>\n    <tr>\n      <th>190</th>\n      <td>191</td>\n      <td>33</td>\n      <td>M</td>\n      <td>administrator</td>\n      <td>95161</td>\n    </tr>\n    <tr>\n      <th>191</th>\n      <td>192</td>\n      <td>42</td>\n      <td>M</td>\n      <td>educator</td>\n      <td>90840</td>\n    </tr>\n    <tr>\n      <th>194</th>\n      <td>195</td>\n      <td>42</td>\n      <td>M</td>\n      <td>scientist</td>\n      <td>93555</td>\n    </tr>\n    <tr>\n      <th>197</th>\n      <td>198</td>\n      <td>21</td>\n      <td>F</td>\n      <td>student</td>\n      <td>55414</td>\n    </tr>\n    <tr>\n      <th>200</th>\n      <td>201</td>\n      <td>27</td>\n      <td>M</td>\n      <td>writer</td>\n      <td>E2A4H</td>\n    </tr>\n    <tr>\n      <th>201</th>\n      <td>202</td>\n      <td>41</td>\n      <td>F</td>\n      <td>educator</td>\n      <td>60201</td>\n    </tr>\n    <tr>\n      <th>203</th>\n      <td>204</td>\n      <td>52</td>\n      <td>F</td>\n      <td>librarian</td>\n      <td>10960</td>\n    </tr>\n    <tr>\n      <th>207</th>\n      <td>208</td>\n      <td>43</td>\n      <td>M</td>\n      <td>engineer</td>\n      <td>01720</td>\n    </tr>\n    <tr>\n      <th>209</th>\n      <td>210</td>\n      <td>39</td>\n      <td>M</td>\n      <td>engineer</td>\n      <td>03060</td>\n    </tr>\n    <tr>\n      <th>210</th>\n      <td>211</td>\n      <td>66</td>\n      <td>M</td>\n      <td>salesman</td>\n      <td>32605</td>\n    </tr>\n    <tr>\n      <th>212</th>\n      <td>213</td>\n      <td>33</td>\n      <td>M</td>\n      <td>executive</td>\n      <td>55345</td>\n    </tr>\n    <tr>\n      <th>213</th>\n      <td>214</td>\n      <td>26</td>\n      <td>F</td>\n      <td>librarian</td>\n      <td>11231</td>\n    </tr>\n    <tr>\n      <th>215</th>\n      <td>216</td>\n      <td>22</td>\n      <td>M</td>\n      <td>engineer</td>\n      <td>02215</td>\n    </tr>\n    <tr>\n      <th>222</th>\n      <td>223</td>\n      <td>19</td>\n      <td>F</td>\n      <td>student</td>\n      <td>47906</td>\n    </tr>\n    <tr>\n      <th>226</th>\n      <td>227</td>\n      <td>46</td>\n      <td>M</td>\n      <td>executive</td>\n      <td>60659</td>\n    </tr>\n    <tr>\n      <th>227</th>\n      <td>228</td>\n      <td>21</td>\n      <td>F</td>\n      <td>student</td>\n      <td>22003</td>\n    </tr>\n    <tr>\n      <th>228</th>\n      <td>229</td>\n      <td>29</td>\n      <td>F</td>\n      <td>librarian</td>\n      <td>22903</td>\n    </tr>\n    <tr>\n      <th>229</th>\n      <td>230</td>\n      <td>28</td>\n      <td>F</td>\n      <td>student</td>\n      <td>14476</td>\n    </tr>\n    <tr>\n      <th>234</th>\n      <td>235</td>\n      <td>37</td>\n      <td>M</td>\n      <td>educator</td>\n      <td>22973</td>\n    </tr>\n    <tr>\n      <th>236</th>\n      <td>237</td>\n      <td>49</td>\n      <td>M</td>\n      <td>administrator</td>\n      <td>63146</td>\n    </tr>\n    <tr>\n      <th>237</th>\n      <td>238</td>\n      <td>42</td>\n      <td>F</td>\n      <td>administrator</td>\n      <td>44124</td>\n    </tr>\n    <tr>\n      <th>239</th>\n      <td>240</td>\n      <td>23</td>\n      <td>F</td>\n      <td>educator</td>\n      <td>20784</td>\n    </tr>\n    <tr>\n      <th>242</th>\n      <td>243</td>\n      <td>33</td>\n      <td>M</td>\n      <td>educator</td>\n      <td>60201</td>\n    </tr>\n    <tr>\n      <th>246</th>\n      <td>247</td>\n      <td>28</td>\n      <td>M</td>\n      <td>engineer</td>\n      <td>20770</td>\n    </tr>\n    <tr>\n      <th>252</th>\n      <td>253</td>\n      <td>26</td>\n      <td>F</td>\n      <td>librarian</td>\n      <td>22903</td>\n    </tr>\n    <tr>\n      <th>253</th>\n      <td>254</td>\n      <td>44</td>\n      <td>M</td>\n      <td>educator</td>\n      <td>42647</td>\n    </tr>\n    <tr>\n      <th>260</th>\n      <td>261</td>\n      <td>28</td>\n      <td>M</td>\n      <td>administrator</td>\n      <td>85202</td>\n    </tr>\n    <tr>\n      <th>264</th>\n      <td>265</td>\n      <td>26</td>\n      <td>M</td>\n      <td>executive</td>\n      <td>84601</td>\n    </tr>\n    <tr>\n      <th>267</th>\n      <td>268</td>\n      <td>24</td>\n      <td>M</td>\n      <td>engineer</td>\n      <td>19422</td>\n    </tr>\n    <tr>\n      <th>271</th>\n      <td>272</td>\n      <td>33</td>\n      <td>M</td>\n      <td>scientist</td>\n      <td>53706</td>\n    </tr>\n    <tr>\n      <th>273</th>\n      <td>274</td>\n      <td>20</td>\n      <td>F</td>\n      <td>student</td>\n      <td>55414</td>\n    </tr>\n    <tr>\n      <th>275</th>\n      <td>276</td>\n      <td>21</td>\n      <td>M</td>\n      <td>student</td>\n      <td>95064</td>\n    </tr>\n    <tr>\n      <th>279</th>\n      <td>280</td>\n      <td>30</td>\n      <td>F</td>\n      <td>librarian</td>\n      <td>22903</td>\n    </tr>\n    <tr>\n      <th>280</th>\n      <td>281</td>\n      <td>15</td>\n      <td>F</td>\n      <td>student</td>\n      <td>06059</td>\n    </tr>\n    <tr>\n      <th>283</th>\n      <td>284</td>\n      <td>40</td>\n      <td>M</td>\n      <td>executive</td>\n      <td>92629</td>\n    </tr>\n    <tr>\n      <th>286</th>\n      <td>287</td>\n      <td>21</td>\n      <td>M</td>\n      <td>salesman</td>\n      <td>31211</td>\n    </tr>\n    <tr>\n      <th>287</th>\n      <td>288</td>\n      <td>34</td>\n      <td>M</td>\n      <td>marketing</td>\n      <td>23226</td>\n    </tr>\n    <tr>\n      <th>288</th>\n      <td>289</td>\n      <td>11</td>\n      <td>M</td>\n      <td>none</td>\n      <td>94619</td>\n    </tr>\n    <tr>\n      <th>300</th>\n      <td>301</td>\n      <td>24</td>\n      <td>M</td>\n      <td>student</td>\n      <td>55439</td>\n    </tr>\n    <tr>\n      <th>302</th>\n      <td>303</td>\n      <td>19</td>\n      <td>M</td>\n      <td>student</td>\n      <td>14853</td>\n    </tr>\n    <tr>\n      <th>303</th>\n      <td>304</td>\n      <td>22</td>\n      <td>F</td>\n      <td>student</td>\n      <td>71701</td>\n    </tr>\n    <tr>\n      <th>307</th>\n      <td>308</td>\n      <td>60</td>\n      <td>M</td>\n      <td>retired</td>\n      <td>95076</td>\n    </tr>\n    <tr>\n      <th>314</th>\n      <td>315</td>\n      <td>31</td>\n      <td>M</td>\n      <td>educator</td>\n      <td>18301</td>\n    </tr>\n    <tr>\n      <th>319</th>\n      <td>320</td>\n      <td>19</td>\n      <td>M</td>\n      <td>student</td>\n      <td>24060</td>\n    </tr>\n    <tr>\n      <th>323</th>\n      <td>324</td>\n      <td>21</td>\n      <td>F</td>\n      <td>student</td>\n      <td>02176</td>\n    </tr>\n    <tr>\n      <th>327</th>\n      <td>328</td>\n      <td>51</td>\n      <td>M</td>\n      <td>administrator</td>\n      <td>06779</td>\n    </tr>\n    <tr>\n      <th>347</th>\n      <td>348</td>\n      <td>24</td>\n      <td>F</td>\n      <td>student</td>\n      <td>45660</td>\n    </tr>\n    <tr>\n      <th>351</th>\n      <td>352</td>\n      <td>37</td>\n      <td>F</td>\n      <td>programmer</td>\n      <td>55105</td>\n    </tr>\n    <tr>\n      <th>352</th>\n      <td>353</td>\n      <td>25</td>\n      <td>M</td>\n      <td>scientist</td>\n      <td>28480</td>\n    </tr>\n    <tr>\n      <th>356</th>\n      <td>357</td>\n      <td>26</td>\n      <td>M</td>\n      <td>executive</td>\n      <td>98133</td>\n    </tr>\n    <tr>\n      <th>368</th>\n      <td>369</td>\n      <td>24</td>\n      <td>M</td>\n      <td>student</td>\n      <td>91335</td>\n    </tr>\n    <tr>\n      <th>369</th>\n      <td>370</td>\n      <td>52</td>\n      <td>M</td>\n      <td>writer</td>\n      <td>08534</td>\n    </tr>\n    <tr>\n      <th>374</th>\n      <td>375</td>\n      <td>17</td>\n      <td>M</td>\n      <td>entertainment</td>\n      <td>37777</td>\n    </tr>\n    <tr>\n      <th>378</th>\n      <td>379</td>\n      <td>44</td>\n      <td>M</td>\n      <td>programmer</td>\n      <td>98117</td>\n    </tr>\n    <tr>\n      <th>380</th>\n      <td>381</td>\n      <td>33</td>\n      <td>M</td>\n      <td>artist</td>\n      <td>94608</td>\n    </tr>\n    <tr>\n      <th>397</th>\n      <td>398</td>\n      <td>40</td>\n      <td>M</td>\n      <td>other</td>\n      <td>60008</td>\n    </tr>\n    <tr>\n      <th>399</th>\n      <td>400</td>\n      <td>33</td>\n      <td>F</td>\n      <td>administrator</td>\n      <td>78213</td>\n    </tr>\n    <tr>\n      <th>402</th>\n      <td>403</td>\n      <td>37</td>\n      <td>M</td>\n      <td>other</td>\n      <td>06811</td>\n    </tr>\n    <tr>\n      <th>408</th>\n      <td>409</td>\n      <td>48</td>\n      <td>M</td>\n      <td>administrator</td>\n      <td>98225</td>\n    </tr>\n    <tr>\n      <th>416</th>\n      <td>417</td>\n      <td>27</td>\n      <td>F</td>\n      <td>other</td>\n      <td>48103</td>\n    </tr>\n    <tr>\n      <th>421</th>\n      <td>422</td>\n      <td>26</td>\n      <td>M</td>\n      <td>entertainment</td>\n      <td>94533</td>\n    </tr>\n    <tr>\n      <th>422</th>\n      <td>423</td>\n      <td>64</td>\n      <td>M</td>\n      <td>other</td>\n      <td>91606</td>\n    </tr>\n    <tr>\n      <th>424</th>\n      <td>425</td>\n      <td>19</td>\n      <td>M</td>\n      <td>student</td>\n      <td>58644</td>\n    </tr>\n    <tr>\n      <th>428</th>\n      <td>429</td>\n      <td>27</td>\n      <td>M</td>\n      <td>student</td>\n      <td>29205</td>\n    </tr>\n    <tr>\n      <th>429</th>\n      <td>430</td>\n      <td>38</td>\n      <td>M</td>\n      <td>scientist</td>\n      <td>98199</td>\n    </tr>\n    <tr>\n      <th>430</th>\n      <td>431</td>\n      <td>24</td>\n      <td>M</td>\n      <td>marketing</td>\n      <td>92629</td>\n    </tr>\n    <tr>\n      <th>434</th>\n      <td>435</td>\n      <td>24</td>\n      <td>M</td>\n      <td>engineer</td>\n      <td>60007</td>\n    </tr>\n    <tr>\n      <th>435</th>\n      <td>436</td>\n      <td>30</td>\n      <td>F</td>\n      <td>administrator</td>\n      <td>17345</td>\n    </tr>\n    <tr>\n      <th>437</th>\n      <td>438</td>\n      <td>51</td>\n      <td>F</td>\n      <td>administrator</td>\n      <td>43204</td>\n    </tr>\n    <tr>\n      <th>440</th>\n      <td>441</td>\n      <td>50</td>\n      <td>M</td>\n      <td>technician</td>\n      <td>55013</td>\n    </tr>\n    <tr>\n      <th>441</th>\n      <td>442</td>\n      <td>22</td>\n      <td>M</td>\n      <td>student</td>\n      <td>85282</td>\n    </tr>\n    <tr>\n      <th>444</th>\n      <td>445</td>\n      <td>21</td>\n      <td>M</td>\n      <td>writer</td>\n      <td>92653</td>\n    </tr>\n    <tr>\n      <th>446</th>\n      <td>447</td>\n      <td>30</td>\n      <td>M</td>\n      <td>administrator</td>\n      <td>55113</td>\n    </tr>\n    <tr>\n      <th>447</th>\n      <td>448</td>\n      <td>23</td>\n      <td>M</td>\n      <td>entertainment</td>\n      <td>10021</td>\n    </tr>\n    <tr>\n      <th>449</th>\n      <td>450</td>\n      <td>35</td>\n      <td>F</td>\n      <td>educator</td>\n      <td>11758</td>\n    </tr>\n    <tr>\n      <th>450</th>\n      <td>451</td>\n      <td>16</td>\n      <td>M</td>\n      <td>student</td>\n      <td>48446</td>\n    </tr>\n    <tr>\n      <th>452</th>\n      <td>453</td>\n      <td>18</td>\n      <td>M</td>\n      <td>student</td>\n      <td>06333</td>\n    </tr>\n    <tr>\n      <th>456</th>\n      <td>457</td>\n      <td>33</td>\n      <td>F</td>\n      <td>salesman</td>\n      <td>30011</td>\n    </tr>\n    <tr>\n      <th>458</th>\n      <td>459</td>\n      <td>22</td>\n      <td>M</td>\n      <td>student</td>\n      <td>29201</td>\n    </tr>\n    <tr>\n      <th>459</th>\n      <td>460</td>\n      <td>44</td>\n      <td>F</td>\n      <td>other</td>\n      <td>60630</td>\n    </tr>\n    <tr>\n      <th>461</th>\n      <td>462</td>\n      <td>19</td>\n      <td>F</td>\n      <td>student</td>\n      <td>02918</td>\n    </tr>\n    <tr>\n      <th>463</th>\n      <td>464</td>\n      <td>60</td>\n      <td>M</td>\n      <td>writer</td>\n      <td>94583</td>\n    </tr>\n    <tr>\n      <th>465</th>\n      <td>466</td>\n      <td>22</td>\n      <td>M</td>\n      <td>student</td>\n      <td>90804</td>\n    </tr>\n    <tr>\n      <th>468</th>\n      <td>469</td>\n      <td>60</td>\n      <td>M</td>\n      <td>educator</td>\n      <td>78628</td>\n    </tr>\n    <tr>\n      <th>469</th>\n      <td>470</td>\n      <td>24</td>\n      <td>M</td>\n      <td>programmer</td>\n      <td>10021</td>\n    </tr>\n    <tr>\n      <th>471</th>\n      <td>472</td>\n      <td>24</td>\n      <td>M</td>\n      <td>student</td>\n      <td>87544</td>\n    </tr>\n    <tr>\n      <th>473</th>\n      <td>474</td>\n      <td>51</td>\n      <td>M</td>\n      <td>executive</td>\n      <td>93711</td>\n    </tr>\n    <tr>\n      <th>476</th>\n      <td>477</td>\n      <td>23</td>\n      <td>F</td>\n      <td>student</td>\n      <td>02125</td>\n    </tr>\n    <tr>\n      <th>477</th>\n      <td>478</td>\n      <td>29</td>\n      <td>M</td>\n      <td>other</td>\n      <td>10019</td>\n    </tr>\n    <tr>\n      <th>478</th>\n      <td>479</td>\n      <td>30</td>\n      <td>M</td>\n      <td>educator</td>\n      <td>55409</td>\n    </tr>\n    <tr>\n      <th>480</th>\n      <td>481</td>\n      <td>73</td>\n      <td>M</td>\n      <td>retired</td>\n      <td>37771</td>\n    </tr>\n    <tr>\n      <th>483</th>\n      <td>484</td>\n      <td>27</td>\n      <td>M</td>\n      <td>student</td>\n      <td>21208</td>\n    </tr>\n    <tr>\n      <th>486</th>\n      <td>487</td>\n      <td>22</td>\n      <td>M</td>\n      <td>engineer</td>\n      <td>92121</td>\n    </tr>\n    <tr>\n      <th>488</th>\n      <td>489</td>\n      <td>55</td>\n      <td>M</td>\n      <td>other</td>\n      <td>45218</td>\n    </tr>\n    <tr>\n      <th>490</th>\n      <td>491</td>\n      <td>43</td>\n      <td>F</td>\n      <td>writer</td>\n      <td>53711</td>\n    </tr>\n    <tr>\n      <th>492</th>\n      <td>493</td>\n      <td>22</td>\n      <td>M</td>\n      <td>engineer</td>\n      <td>60090</td>\n    </tr>\n    <tr>\n      <th>494</th>\n      <td>495</td>\n      <td>29</td>\n      <td>M</td>\n      <td>engineer</td>\n      <td>03052</td>\n    </tr>\n    <tr>\n      <th>496</th>\n      <td>497</td>\n      <td>20</td>\n      <td>M</td>\n      <td>student</td>\n      <td>50112</td>\n    </tr>\n    <tr>\n      <th>500</th>\n      <td>501</td>\n      <td>22</td>\n      <td>M</td>\n      <td>student</td>\n      <td>10025</td>\n    </tr>\n    <tr>\n      <th>503</th>\n      <td>504</td>\n      <td>40</td>\n      <td>F</td>\n      <td>writer</td>\n      <td>92115</td>\n    </tr>\n    <tr>\n      <th>507</th>\n      <td>508</td>\n      <td>27</td>\n      <td>M</td>\n      <td>marketing</td>\n      <td>19382</td>\n    </tr>\n    <tr>\n      <th>508</th>\n      <td>509</td>\n      <td>23</td>\n      <td>M</td>\n      <td>administrator</td>\n      <td>10011</td>\n    </tr>\n    <tr>\n      <th>513</th>\n      <td>514</td>\n      <td>27</td>\n      <td>M</td>\n      <td>programmer</td>\n      <td>20707</td>\n    </tr>\n    <tr>\n      <th>515</th>\n      <td>516</td>\n      <td>53</td>\n      <td>F</td>\n      <td>librarian</td>\n      <td>10021</td>\n    </tr>\n    <tr>\n      <th>518</th>\n      <td>519</td>\n      <td>22</td>\n      <td>M</td>\n      <td>other</td>\n      <td>55320</td>\n    </tr>\n    <tr>\n      <th>519</th>\n      <td>520</td>\n      <td>62</td>\n      <td>M</td>\n      <td>healthcare</td>\n      <td>12603</td>\n    </tr>\n    <tr>\n      <th>523</th>\n      <td>524</td>\n      <td>56</td>\n      <td>M</td>\n      <td>educator</td>\n      <td>02159</td>\n    </tr>\n    <tr>\n      <th>524</th>\n      <td>525</td>\n      <td>27</td>\n      <td>F</td>\n      <td>administrator</td>\n      <td>19711</td>\n    </tr>\n    <tr>\n      <th>526</th>\n      <td>527</td>\n      <td>33</td>\n      <td>M</td>\n      <td>librarian</td>\n      <td>12180</td>\n    </tr>\n    <tr>\n      <th>529</th>\n      <td>530</td>\n      <td>29</td>\n      <td>M</td>\n      <td>engineer</td>\n      <td>94040</td>\n    </tr>\n    <tr>\n      <th>537</th>\n      <td>538</td>\n      <td>31</td>\n      <td>M</td>\n      <td>scientist</td>\n      <td>21010</td>\n    </tr>\n    <tr>\n      <th>542</th>\n      <td>543</td>\n      <td>33</td>\n      <td>M</td>\n      <td>scientist</td>\n      <td>95123</td>\n    </tr>\n    <tr>\n      <th>543</th>\n      <td>544</td>\n      <td>44</td>\n      <td>F</td>\n      <td>other</td>\n      <td>29464</td>\n    </tr>\n    <tr>\n      <th>545</th>\n      <td>546</td>\n      <td>36</td>\n      <td>M</td>\n      <td>executive</td>\n      <td>22911</td>\n    </tr>\n    <tr>\n      <th>550</th>\n      <td>551</td>\n      <td>25</td>\n      <td>M</td>\n      <td>programmer</td>\n      <td>55414</td>\n    </tr>\n    <tr>\n      <th>562</th>\n      <td>563</td>\n      <td>39</td>\n      <td>F</td>\n      <td>librarian</td>\n      <td>32707</td>\n    </tr>\n    <tr>\n      <th>564</th>\n      <td>565</td>\n      <td>40</td>\n      <td>M</td>\n      <td>student</td>\n      <td>55422</td>\n    </tr>\n    <tr>\n      <th>565</th>\n      <td>566</td>\n      <td>20</td>\n      <td>M</td>\n      <td>student</td>\n      <td>14627</td>\n    </tr>\n    <tr>\n      <th>566</th>\n      <td>567</td>\n      <td>24</td>\n      <td>M</td>\n      <td>entertainment</td>\n      <td>10003</td>\n    </tr>\n    <tr>\n      <th>568</th>\n      <td>569</td>\n      <td>34</td>\n      <td>M</td>\n      <td>educator</td>\n      <td>91903</td>\n    </tr>\n    <tr>\n      <th>569</th>\n      <td>570</td>\n      <td>26</td>\n      <td>M</td>\n      <td>educator</td>\n      <td>14627</td>\n    </tr>\n    <tr>\n      <th>571</th>\n      <td>572</td>\n      <td>51</td>\n      <td>M</td>\n      <td>educator</td>\n      <td>20003</td>\n    </tr>\n    <tr>\n      <th>573</th>\n      <td>574</td>\n      <td>56</td>\n      <td>M</td>\n      <td>educator</td>\n      <td>53188</td>\n    </tr>\n    <tr>\n      <th>574</th>\n      <td>575</td>\n      <td>33</td>\n      <td>M</td>\n      <td>marketing</td>\n      <td>46032</td>\n    </tr>\n    <tr>\n      <th>576</th>\n      <td>577</td>\n      <td>36</td>\n      <td>F</td>\n      <td>student</td>\n      <td>77845</td>\n    </tr>\n    <tr>\n      <th>582</th>\n      <td>583</td>\n      <td>44</td>\n      <td>M</td>\n      <td>engineer</td>\n      <td>29631</td>\n    </tr>\n    <tr>\n      <th>583</th>\n      <td>584</td>\n      <td>25</td>\n      <td>M</td>\n      <td>student</td>\n      <td>27511</td>\n    </tr>\n    <tr>\n      <th>584</th>\n      <td>585</td>\n      <td>69</td>\n      <td>M</td>\n      <td>librarian</td>\n      <td>98501</td>\n    </tr>\n    <tr>\n      <th>585</th>\n      <td>586</td>\n      <td>20</td>\n      <td>M</td>\n      <td>student</td>\n      <td>79508</td>\n    </tr>\n    <tr>\n      <th>587</th>\n      <td>588</td>\n      <td>18</td>\n      <td>F</td>\n      <td>student</td>\n      <td>93063</td>\n    </tr>\n    <tr>\n      <th>592</th>\n      <td>593</td>\n      <td>31</td>\n      <td>F</td>\n      <td>educator</td>\n      <td>68767</td>\n    </tr>\n    <tr>\n      <th>599</th>\n      <td>600</td>\n      <td>34</td>\n      <td>M</td>\n      <td>programmer</td>\n      <td>02320</td>\n    </tr>\n    <tr>\n      <th>602</th>\n      <td>603</td>\n      <td>21</td>\n      <td>M</td>\n      <td>programmer</td>\n      <td>47905</td>\n    </tr>\n    <tr>\n      <th>605</th>\n      <td>606</td>\n      <td>28</td>\n      <td>M</td>\n      <td>programmer</td>\n      <td>63044</td>\n    </tr>\n    <tr>\n      <th>607</th>\n      <td>608</td>\n      <td>22</td>\n      <td>M</td>\n      <td>other</td>\n      <td>10003</td>\n    </tr>\n    <tr>\n      <th>608</th>\n      <td>609</td>\n      <td>13</td>\n      <td>F</td>\n      <td>student</td>\n      <td>55106</td>\n    </tr>\n    <tr>\n      <th>610</th>\n      <td>611</td>\n      <td>46</td>\n      <td>M</td>\n      <td>librarian</td>\n      <td>77008</td>\n    </tr>\n    <tr>\n      <th>612</th>\n      <td>613</td>\n      <td>37</td>\n      <td>F</td>\n      <td>marketing</td>\n      <td>29678</td>\n    </tr>\n    <tr>\n      <th>615</th>\n      <td>616</td>\n      <td>55</td>\n      <td>M</td>\n      <td>scientist</td>\n      <td>50613</td>\n    </tr>\n    <tr>\n      <th>617</th>\n      <td>618</td>\n      <td>15</td>\n      <td>F</td>\n      <td>student</td>\n      <td>44212</td>\n    </tr>\n    <tr>\n      <th>621</th>\n      <td>622</td>\n      <td>25</td>\n      <td>M</td>\n      <td>programmer</td>\n      <td>14850</td>\n    </tr>\n    <tr>\n      <th>624</th>\n      <td>625</td>\n      <td>27</td>\n      <td>M</td>\n      <td>programmer</td>\n      <td>20723</td>\n    </tr>\n    <tr>\n      <th>628</th>\n      <td>629</td>\n      <td>46</td>\n      <td>F</td>\n      <td>other</td>\n      <td>44224</td>\n    </tr>\n    <tr>\n      <th>629</th>\n      <td>630</td>\n      <td>26</td>\n      <td>F</td>\n      <td>healthcare</td>\n      <td>55408</td>\n    </tr>\n    <tr>\n      <th>631</th>\n      <td>632</td>\n      <td>18</td>\n      <td>M</td>\n      <td>student</td>\n      <td>55454</td>\n    </tr>\n    <tr>\n      <th>632</th>\n      <td>633</td>\n      <td>35</td>\n      <td>M</td>\n      <td>programmer</td>\n      <td>55414</td>\n    </tr>\n    <tr>\n      <th>633</th>\n      <td>634</td>\n      <td>39</td>\n      <td>M</td>\n      <td>engineer</td>\n      <td>T8H1N</td>\n    </tr>\n    <tr>\n      <th>637</th>\n      <td>638</td>\n      <td>45</td>\n      <td>M</td>\n      <td>engineer</td>\n      <td>01940</td>\n    </tr>\n    <tr>\n      <th>639</th>\n      <td>640</td>\n      <td>20</td>\n      <td>M</td>\n      <td>student</td>\n      <td>61801</td>\n    </tr>\n    <tr>\n      <th>644</th>\n      <td>645</td>\n      <td>27</td>\n      <td>M</td>\n      <td>programmer</td>\n      <td>53211</td>\n    </tr>\n    <tr>\n      <th>649</th>\n      <td>650</td>\n      <td>42</td>\n      <td>M</td>\n      <td>engineer</td>\n      <td>83814</td>\n    </tr>\n    <tr>\n      <th>650</th>\n      <td>651</td>\n      <td>65</td>\n      <td>M</td>\n      <td>retired</td>\n      <td>02903</td>\n    </tr>\n    <tr>\n      <th>654</th>\n      <td>655</td>\n      <td>50</td>\n      <td>F</td>\n      <td>healthcare</td>\n      <td>60657</td>\n    </tr>\n    <tr>\n      <th>655</th>\n      <td>656</td>\n      <td>48</td>\n      <td>M</td>\n      <td>educator</td>\n      <td>10314</td>\n    </tr>\n    <tr>\n      <th>656</th>\n      <td>657</td>\n      <td>26</td>\n      <td>F</td>\n      <td>none</td>\n      <td>78704</td>\n    </tr>\n    <tr>\n      <th>658</th>\n      <td>659</td>\n      <td>31</td>\n      <td>M</td>\n      <td>educator</td>\n      <td>54248</td>\n    </tr>\n    <tr>\n      <th>660</th>\n      <td>661</td>\n      <td>28</td>\n      <td>M</td>\n      <td>programmer</td>\n      <td>98121</td>\n    </tr>\n    <tr>\n      <th>663</th>\n      <td>664</td>\n      <td>30</td>\n      <td>M</td>\n      <td>engineer</td>\n      <td>94115</td>\n    </tr>\n    <tr>\n      <th>665</th>\n      <td>666</td>\n      <td>44</td>\n      <td>M</td>\n      <td>administrator</td>\n      <td>61820</td>\n    </tr>\n    <tr>\n      <th>667</th>\n      <td>668</td>\n      <td>29</td>\n      <td>F</td>\n      <td>writer</td>\n      <td>10016</td>\n    </tr>\n    <tr>\n      <th>668</th>\n      <td>669</td>\n      <td>37</td>\n      <td>M</td>\n      <td>other</td>\n      <td>20009</td>\n    </tr>\n    <tr>\n      <th>670</th>\n      <td>671</td>\n      <td>21</td>\n      <td>M</td>\n      <td>programmer</td>\n      <td>91919</td>\n    </tr>\n    <tr>\n      <th>674</th>\n      <td>675</td>\n      <td>34</td>\n      <td>M</td>\n      <td>other</td>\n      <td>28814</td>\n    </tr>\n    <tr>\n      <th>676</th>\n      <td>677</td>\n      <td>20</td>\n      <td>M</td>\n      <td>other</td>\n      <td>99835</td>\n    </tr>\n    <tr>\n      <th>679</th>\n      <td>680</td>\n      <td>33</td>\n      <td>M</td>\n      <td>lawyer</td>\n      <td>90405</td>\n    </tr>\n    <tr>\n      <th>681</th>\n      <td>682</td>\n      <td>23</td>\n      <td>M</td>\n      <td>programmer</td>\n      <td>55128</td>\n    </tr>\n    <tr>\n      <th>687</th>\n      <td>688</td>\n      <td>37</td>\n      <td>F</td>\n      <td>administrator</td>\n      <td>60476</td>\n    </tr>\n    <tr>\n      <th>690</th>\n      <td>691</td>\n      <td>34</td>\n      <td>M</td>\n      <td>educator</td>\n      <td>60089</td>\n    </tr>\n    <tr>\n      <th>691</th>\n      <td>692</td>\n      <td>34</td>\n      <td>M</td>\n      <td>engineer</td>\n      <td>18053</td>\n    </tr>\n    <tr>\n      <th>693</th>\n      <td>694</td>\n      <td>60</td>\n      <td>M</td>\n      <td>programmer</td>\n      <td>06365</td>\n    </tr>\n    <tr>\n      <th>696</th>\n      <td>697</td>\n      <td>25</td>\n      <td>M</td>\n      <td>other</td>\n      <td>77042</td>\n    </tr>\n    <tr>\n      <th>697</th>\n      <td>698</td>\n      <td>28</td>\n      <td>F</td>\n      <td>programmer</td>\n      <td>06906</td>\n    </tr>\n    <tr>\n      <th>698</th>\n      <td>699</td>\n      <td>44</td>\n      <td>M</td>\n      <td>other</td>\n      <td>96754</td>\n    </tr>\n    <tr>\n      <th>700</th>\n      <td>701</td>\n      <td>51</td>\n      <td>F</td>\n      <td>librarian</td>\n      <td>56321</td>\n    </tr>\n    <tr>\n      <th>702</th>\n      <td>703</td>\n      <td>26</td>\n      <td>M</td>\n      <td>educator</td>\n      <td>49512</td>\n    </tr>\n    <tr>\n      <th>703</th>\n      <td>704</td>\n      <td>51</td>\n      <td>F</td>\n      <td>librarian</td>\n      <td>91105</td>\n    </tr>\n    <tr>\n      <th>704</th>\n      <td>705</td>\n      <td>21</td>\n      <td>F</td>\n      <td>student</td>\n      <td>54494</td>\n    </tr>\n    <tr>\n      <th>706</th>\n      <td>707</td>\n      <td>56</td>\n      <td>F</td>\n      <td>librarian</td>\n      <td>19146</td>\n    </tr>\n    <tr>\n      <th>708</th>\n      <td>709</td>\n      <td>21</td>\n      <td>M</td>\n      <td>other</td>\n      <td>N4T1A</td>\n    </tr>\n    <tr>\n      <th>711</th>\n      <td>712</td>\n      <td>22</td>\n      <td>F</td>\n      <td>student</td>\n      <td>54901</td>\n    </tr>\n    <tr>\n      <th>717</th>\n      <td>718</td>\n      <td>42</td>\n      <td>M</td>\n      <td>technician</td>\n      <td>64118</td>\n    </tr>\n    <tr>\n      <th>721</th>\n      <td>722</td>\n      <td>50</td>\n      <td>F</td>\n      <td>homemaker</td>\n      <td>17331</td>\n    </tr>\n    <tr>\n      <th>724</th>\n      <td>725</td>\n      <td>21</td>\n      <td>M</td>\n      <td>student</td>\n      <td>91711</td>\n    </tr>\n    <tr>\n      <th>725</th>\n      <td>726</td>\n      <td>25</td>\n      <td>F</td>\n      <td>administrator</td>\n      <td>80538</td>\n    </tr>\n    <tr>\n      <th>727</th>\n      <td>728</td>\n      <td>58</td>\n      <td>M</td>\n      <td>executive</td>\n      <td>94306</td>\n    </tr>\n    <tr>\n      <th>728</th>\n      <td>729</td>\n      <td>19</td>\n      <td>M</td>\n      <td>student</td>\n      <td>56567</td>\n    </tr>\n    <tr>\n      <th>729</th>\n      <td>730</td>\n      <td>31</td>\n      <td>F</td>\n      <td>scientist</td>\n      <td>32114</td>\n    </tr>\n    <tr>\n      <th>731</th>\n      <td>732</td>\n      <td>28</td>\n      <td>F</td>\n      <td>other</td>\n      <td>98405</td>\n    </tr>\n    <tr>\n      <th>733</th>\n      <td>734</td>\n      <td>25</td>\n      <td>F</td>\n      <td>other</td>\n      <td>63108</td>\n    </tr>\n    <tr>\n      <th>734</th>\n      <td>735</td>\n      <td>29</td>\n      <td>F</td>\n      <td>healthcare</td>\n      <td>85719</td>\n    </tr>\n    <tr>\n      <th>737</th>\n      <td>738</td>\n      <td>35</td>\n      <td>M</td>\n      <td>technician</td>\n      <td>95403</td>\n    </tr>\n    <tr>\n      <th>738</th>\n      <td>739</td>\n      <td>35</td>\n      <td>M</td>\n      <td>technician</td>\n      <td>73162</td>\n    </tr>\n    <tr>\n      <th>740</th>\n      <td>741</td>\n      <td>25</td>\n      <td>M</td>\n      <td>writer</td>\n      <td>63108</td>\n    </tr>\n    <tr>\n      <th>744</th>\n      <td>745</td>\n      <td>42</td>\n      <td>M</td>\n      <td>writer</td>\n      <td>55113</td>\n    </tr>\n    <tr>\n      <th>749</th>\n      <td>750</td>\n      <td>28</td>\n      <td>M</td>\n      <td>administrator</td>\n      <td>32303</td>\n    </tr>\n    <tr>\n      <th>751</th>\n      <td>752</td>\n      <td>60</td>\n      <td>M</td>\n      <td>retired</td>\n      <td>21201</td>\n    </tr>\n    <tr>\n      <th>752</th>\n      <td>753</td>\n      <td>56</td>\n      <td>M</td>\n      <td>salesman</td>\n      <td>91206</td>\n    </tr>\n    <tr>\n      <th>753</th>\n      <td>754</td>\n      <td>59</td>\n      <td>F</td>\n      <td>librarian</td>\n      <td>62901</td>\n    </tr>\n    <tr>\n      <th>754</th>\n      <td>755</td>\n      <td>44</td>\n      <td>F</td>\n      <td>educator</td>\n      <td>97007</td>\n    </tr>\n    <tr>\n      <th>758</th>\n      <td>759</td>\n      <td>20</td>\n      <td>F</td>\n      <td>student</td>\n      <td>68503</td>\n    </tr>\n    <tr>\n      <th>759</th>\n      <td>760</td>\n      <td>35</td>\n      <td>F</td>\n      <td>other</td>\n      <td>14211</td>\n    </tr>\n    <tr>\n      <th>760</th>\n      <td>761</td>\n      <td>17</td>\n      <td>M</td>\n      <td>student</td>\n      <td>97302</td>\n    </tr>\n    <tr>\n      <th>763</th>\n      <td>764</td>\n      <td>27</td>\n      <td>F</td>\n      <td>educator</td>\n      <td>62903</td>\n    </tr>\n    <tr>\n      <th>764</th>\n      <td>765</td>\n      <td>31</td>\n      <td>M</td>\n      <td>student</td>\n      <td>33066</td>\n    </tr>\n    <tr>\n      <th>776</th>\n      <td>777</td>\n      <td>63</td>\n      <td>M</td>\n      <td>programmer</td>\n      <td>01810</td>\n    </tr>\n    <tr>\n      <th>780</th>\n      <td>781</td>\n      <td>20</td>\n      <td>M</td>\n      <td>student</td>\n      <td>48825</td>\n    </tr>\n    <tr>\n      <th>783</th>\n      <td>784</td>\n      <td>47</td>\n      <td>M</td>\n      <td>administrator</td>\n      <td>91040</td>\n    </tr>\n    <tr>\n      <th>785</th>\n      <td>786</td>\n      <td>36</td>\n      <td>F</td>\n      <td>engineer</td>\n      <td>01754</td>\n    </tr>\n    <tr>\n      <th>790</th>\n      <td>791</td>\n      <td>31</td>\n      <td>M</td>\n      <td>educator</td>\n      <td>20064</td>\n    </tr>\n    <tr>\n      <th>795</th>\n      <td>796</td>\n      <td>32</td>\n      <td>F</td>\n      <td>writer</td>\n      <td>33755</td>\n    </tr>\n    <tr>\n      <th>796</th>\n      <td>797</td>\n      <td>44</td>\n      <td>F</td>\n      <td>other</td>\n      <td>62522</td>\n    </tr>\n    <tr>\n      <th>797</th>\n      <td>798</td>\n      <td>40</td>\n      <td>F</td>\n      <td>writer</td>\n      <td>64131</td>\n    </tr>\n    <tr>\n      <th>811</th>\n      <td>812</td>\n      <td>22</td>\n      <td>M</td>\n      <td>technician</td>\n      <td>76234</td>\n    </tr>\n    <tr>\n      <th>812</th>\n      <td>813</td>\n      <td>14</td>\n      <td>F</td>\n      <td>student</td>\n      <td>02136</td>\n    </tr>\n    <tr>\n      <th>815</th>\n      <td>816</td>\n      <td>34</td>\n      <td>M</td>\n      <td>other</td>\n      <td>20755</td>\n    </tr>\n    <tr>\n      <th>818</th>\n      <td>819</td>\n      <td>59</td>\n      <td>M</td>\n      <td>administrator</td>\n      <td>40205</td>\n    </tr>\n    <tr>\n      <th>820</th>\n      <td>821</td>\n      <td>37</td>\n      <td>M</td>\n      <td>engineer</td>\n      <td>77845</td>\n    </tr>\n    <tr>\n      <th>822</th>\n      <td>823</td>\n      <td>27</td>\n      <td>M</td>\n      <td>artist</td>\n      <td>50322</td>\n    </tr>\n    <tr>\n      <th>825</th>\n      <td>826</td>\n      <td>28</td>\n      <td>M</td>\n      <td>artist</td>\n      <td>77048</td>\n    </tr>\n    <tr>\n      <th>826</th>\n      <td>827</td>\n      <td>23</td>\n      <td>F</td>\n      <td>engineer</td>\n      <td>80228</td>\n    </tr>\n    <tr>\n      <th>827</th>\n      <td>828</td>\n      <td>28</td>\n      <td>M</td>\n      <td>librarian</td>\n      <td>85282</td>\n    </tr>\n    <tr>\n      <th>830</th>\n      <td>831</td>\n      <td>21</td>\n      <td>M</td>\n      <td>other</td>\n      <td>33765</td>\n    </tr>\n    <tr>\n      <th>833</th>\n      <td>834</td>\n      <td>26</td>\n      <td>M</td>\n      <td>other</td>\n      <td>64153</td>\n    </tr>\n    <tr>\n      <th>835</th>\n      <td>836</td>\n      <td>44</td>\n      <td>M</td>\n      <td>artist</td>\n      <td>10018</td>\n    </tr>\n    <tr>\n      <th>837</th>\n      <td>838</td>\n      <td>23</td>\n      <td>M</td>\n      <td>student</td>\n      <td>01375</td>\n    </tr>\n    <tr>\n      <th>842</th>\n      <td>843</td>\n      <td>35</td>\n      <td>M</td>\n      <td>librarian</td>\n      <td>44212</td>\n    </tr>\n    <tr>\n      <th>843</th>\n      <td>844</td>\n      <td>22</td>\n      <td>M</td>\n      <td>engineer</td>\n      <td>95662</td>\n    </tr>\n    <tr>\n      <th>845</th>\n      <td>846</td>\n      <td>27</td>\n      <td>M</td>\n      <td>lawyer</td>\n      <td>47130</td>\n    </tr>\n    <tr>\n      <th>846</th>\n      <td>847</td>\n      <td>29</td>\n      <td>M</td>\n      <td>student</td>\n      <td>55417</td>\n    </tr>\n    <tr>\n      <th>851</th>\n      <td>852</td>\n      <td>46</td>\n      <td>M</td>\n      <td>administrator</td>\n      <td>94086</td>\n    </tr>\n    <tr>\n      <th>853</th>\n      <td>854</td>\n      <td>29</td>\n      <td>F</td>\n      <td>student</td>\n      <td>55408</td>\n    </tr>\n    <tr>\n      <th>855</th>\n      <td>856</td>\n      <td>43</td>\n      <td>F</td>\n      <td>marketing</td>\n      <td>97215</td>\n    </tr>\n    <tr>\n      <th>856</th>\n      <td>857</td>\n      <td>35</td>\n      <td>F</td>\n      <td>administrator</td>\n      <td>V1G4L</td>\n    </tr>\n    <tr>\n      <th>861</th>\n      <td>862</td>\n      <td>25</td>\n      <td>M</td>\n      <td>executive</td>\n      <td>13820</td>\n    </tr>\n    <tr>\n      <th>863</th>\n      <td>864</td>\n      <td>27</td>\n      <td>M</td>\n      <td>programmer</td>\n      <td>63021</td>\n    </tr>\n    <tr>\n      <th>864</th>\n      <td>865</td>\n      <td>25</td>\n      <td>M</td>\n      <td>artist</td>\n      <td>11231</td>\n    </tr>\n    <tr>\n      <th>866</th>\n      <td>867</td>\n      <td>24</td>\n      <td>M</td>\n      <td>scientist</td>\n      <td>92507</td>\n    </tr>\n    <tr>\n      <th>867</th>\n      <td>868</td>\n      <td>21</td>\n      <td>M</td>\n      <td>programmer</td>\n      <td>55303</td>\n    </tr>\n    <tr>\n      <th>871</th>\n      <td>872</td>\n      <td>19</td>\n      <td>F</td>\n      <td>student</td>\n      <td>74078</td>\n    </tr>\n    <tr>\n      <th>872</th>\n      <td>873</td>\n      <td>48</td>\n      <td>F</td>\n      <td>administrator</td>\n      <td>33763</td>\n    </tr>\n    <tr>\n      <th>876</th>\n      <td>877</td>\n      <td>30</td>\n      <td>M</td>\n      <td>other</td>\n      <td>77504</td>\n    </tr>\n    <tr>\n      <th>883</th>\n      <td>884</td>\n      <td>44</td>\n      <td>M</td>\n      <td>engineer</td>\n      <td>55337</td>\n    </tr>\n    <tr>\n      <th>885</th>\n      <td>886</td>\n      <td>20</td>\n      <td>M</td>\n      <td>student</td>\n      <td>61820</td>\n    </tr>\n    <tr>\n      <th>888</th>\n      <td>889</td>\n      <td>24</td>\n      <td>M</td>\n      <td>technician</td>\n      <td>78704</td>\n    </tr>\n    <tr>\n      <th>891</th>\n      <td>892</td>\n      <td>36</td>\n      <td>M</td>\n      <td>other</td>\n      <td>45243</td>\n    </tr>\n    <tr>\n      <th>896</th>\n      <td>897</td>\n      <td>30</td>\n      <td>M</td>\n      <td>other</td>\n      <td>33484</td>\n    </tr>\n    <tr>\n      <th>900</th>\n      <td>901</td>\n      <td>38</td>\n      <td>M</td>\n      <td>executive</td>\n      <td>L1V3W</td>\n    </tr>\n    <tr>\n      <th>902</th>\n      <td>903</td>\n      <td>28</td>\n      <td>M</td>\n      <td>educator</td>\n      <td>20850</td>\n    </tr>\n    <tr>\n      <th>903</th>\n      <td>904</td>\n      <td>17</td>\n      <td>F</td>\n      <td>student</td>\n      <td>61073</td>\n    </tr>\n    <tr>\n      <th>906</th>\n      <td>907</td>\n      <td>25</td>\n      <td>F</td>\n      <td>other</td>\n      <td>80526</td>\n    </tr>\n    <tr>\n      <th>908</th>\n      <td>909</td>\n      <td>50</td>\n      <td>F</td>\n      <td>educator</td>\n      <td>53171</td>\n    </tr>\n    <tr>\n      <th>910</th>\n      <td>911</td>\n      <td>37</td>\n      <td>F</td>\n      <td>writer</td>\n      <td>53210</td>\n    </tr>\n    <tr>\n      <th>912</th>\n      <td>913</td>\n      <td>27</td>\n      <td>M</td>\n      <td>student</td>\n      <td>76201</td>\n    </tr>\n    <tr>\n      <th>913</th>\n      <td>914</td>\n      <td>44</td>\n      <td>F</td>\n      <td>other</td>\n      <td>08105</td>\n    </tr>\n    <tr>\n      <th>916</th>\n      <td>917</td>\n      <td>22</td>\n      <td>F</td>\n      <td>student</td>\n      <td>20006</td>\n    </tr>\n    <tr>\n      <th>918</th>\n      <td>919</td>\n      <td>25</td>\n      <td>M</td>\n      <td>other</td>\n      <td>14216</td>\n    </tr>\n    <tr>\n      <th>919</th>\n      <td>920</td>\n      <td>30</td>\n      <td>F</td>\n      <td>artist</td>\n      <td>90008</td>\n    </tr>\n    <tr>\n      <th>920</th>\n      <td>921</td>\n      <td>20</td>\n      <td>F</td>\n      <td>student</td>\n      <td>98801</td>\n    </tr>\n    <tr>\n      <th>922</th>\n      <td>923</td>\n      <td>21</td>\n      <td>M</td>\n      <td>student</td>\n      <td>E2E3R</td>\n    </tr>\n    <tr>\n      <th>923</th>\n      <td>924</td>\n      <td>29</td>\n      <td>M</td>\n      <td>other</td>\n      <td>11753</td>\n    </tr>\n    <tr>\n      <th>924</th>\n      <td>925</td>\n      <td>18</td>\n      <td>F</td>\n      <td>salesman</td>\n      <td>49036</td>\n    </tr>\n    <tr>\n      <th>927</th>\n      <td>928</td>\n      <td>21</td>\n      <td>M</td>\n      <td>student</td>\n      <td>55408</td>\n    </tr>\n    <tr>\n      <th>928</th>\n      <td>929</td>\n      <td>44</td>\n      <td>M</td>\n      <td>scientist</td>\n      <td>53711</td>\n    </tr>\n    <tr>\n      <th>929</th>\n      <td>930</td>\n      <td>28</td>\n      <td>F</td>\n      <td>scientist</td>\n      <td>07310</td>\n    </tr>\n    <tr>\n      <th>935</th>\n      <td>936</td>\n      <td>24</td>\n      <td>M</td>\n      <td>other</td>\n      <td>32789</td>\n    </tr>\n  </tbody>\n</table>\n</div>",
          "text/plain": "     user_id  age sex     occupation zip_code\n0          1   24   M     technician    85711\n1          2   53   F          other    94043\n3          4   24   M     technician    43537\n4          5   33   F          other    15213\n9         10   53   M         lawyer    90703\n13        14   45   M      scientist    55106\n15        16   21   M  entertainment    10309\n18        19   40   M      librarian    02138\n19        20   42   F      homemaker    95660\n24        25   39   M       engineer    55107\n25        26   49   M       engineer    21044\n26        27   40   F      librarian    30030\n27        28   32   M         writer    55369\n30        31   24   M         artist    10003\n33        34   38   F  administrator    42141\n35        36   19   F        student    93117\n38        39   41   M  entertainment    01040\n39        40   38   M      scientist    27514\n42        43   29   F      librarian    20854\n49        50   21   M         writer    52245\n52        53   26   M     programmer    55414\n56        57   16   M           none    84010\n58        59   49   M       educator    08403\n59        60   50   M     healthcare    06472\n61        62   27   F  administrator    97214\n66        67   17   M        student    60402\n69        70   27   M       engineer    60067\n70        71   39   M      scientist    98034\n71        72   48   F  administrator    73034\n73        74   39   M      scientist    T8H1N\n74        75   24   M  entertainment    08816\n98        99   20   M        student    63129\n99       100   36   M      executive    90254\n101      102   38   M     programmer    30220\n102      103   26   M        student    55108\n103      104   27   M        student    55108\n105      106   61   M        retired    55125\n106      107   39   M      scientist    60466\n108      109   29   M          other    55423\n109      110   19   M        student    77840\n111      112   30   M       salesman    60613\n112      113   47   M      executive    95032\n114      115   31   M       engineer    17110\n118      119   32   M     programmer    67401\n120      121   54   M      librarian    99603\n122      123   48   F         artist    20008\n127      128   24   F      marketing    20009\n130      131   59   F  administrator    15237\n133      134   31   M     programmer    80236\n138      139   20   M        student    08904\n144      145   31   M  entertainment    V3N4P\n146      147   40   F      librarian    02143\n147      148   33   M       engineer    97006\n151      152   33   F       educator    68767\n153      154   25   M        student    53703\n154      155   32   F          other    11217\n160      161   50   M         lawyer    55104\n161      162   25   M         artist    15610\n163      164   47   M     healthcare    80123\n165      166   47   M       educator    55113\n169      170   53   F     healthcare    30067\n170      171   48   F       educator    78750\n177      178   26   M          other    49512\n178      179   15   M  entertainment    20755\n180      181   26   M      executive    21218\n181      182   36   M     programmer    33884\n188      189   32   M         artist    95014\n190      191   33   M  administrator    95161\n191      192   42   M       educator    90840\n194      195   42   M      scientist    93555\n197      198   21   F        student    55414\n200      201   27   M         writer    E2A4H\n201      202   41   F       educator    60201\n203      204   52   F      librarian    10960\n207      208   43   M       engineer    01720\n209      210   39   M       engineer    03060\n210      211   66   M       salesman    32605\n212      213   33   M      executive    55345\n213      214   26   F      librarian    11231\n215      216   22   M       engineer    02215\n222      223   19   F        student    47906\n226      227   46   M      executive    60659\n227      228   21   F        student    22003\n228      229   29   F      librarian    22903\n229      230   28   F        student    14476\n234      235   37   M       educator    22973\n236      237   49   M  administrator    63146\n237      238   42   F  administrator    44124\n239      240   23   F       educator    20784\n242      243   33   M       educator    60201\n246      247   28   M       engineer    20770\n252      253   26   F      librarian    22903\n253      254   44   M       educator    42647\n260      261   28   M  administrator    85202\n264      265   26   M      executive    84601\n267      268   24   M       engineer    19422\n271      272   33   M      scientist    53706\n273      274   20   F        student    55414\n275      276   21   M        student    95064\n279      280   30   F      librarian    22903\n280      281   15   F        student    06059\n283      284   40   M      executive    92629\n286      287   21   M       salesman    31211\n287      288   34   M      marketing    23226\n288      289   11   M           none    94619\n300      301   24   M        student    55439\n302      303   19   M        student    14853\n303      304   22   F        student    71701\n307      308   60   M        retired    95076\n314      315   31   M       educator    18301\n319      320   19   M        student    24060\n323      324   21   F        student    02176\n327      328   51   M  administrator    06779\n347      348   24   F        student    45660\n351      352   37   F     programmer    55105\n352      353   25   M      scientist    28480\n356      357   26   M      executive    98133\n368      369   24   M        student    91335\n369      370   52   M         writer    08534\n374      375   17   M  entertainment    37777\n378      379   44   M     programmer    98117\n380      381   33   M         artist    94608\n397      398   40   M          other    60008\n399      400   33   F  administrator    78213\n402      403   37   M          other    06811\n408      409   48   M  administrator    98225\n416      417   27   F          other    48103\n421      422   26   M  entertainment    94533\n422      423   64   M          other    91606\n424      425   19   M        student    58644\n428      429   27   M        student    29205\n429      430   38   M      scientist    98199\n430      431   24   M      marketing    92629\n434      435   24   M       engineer    60007\n435      436   30   F  administrator    17345\n437      438   51   F  administrator    43204\n440      441   50   M     technician    55013\n441      442   22   M        student    85282\n444      445   21   M         writer    92653\n446      447   30   M  administrator    55113\n447      448   23   M  entertainment    10021\n449      450   35   F       educator    11758\n450      451   16   M        student    48446\n452      453   18   M        student    06333\n456      457   33   F       salesman    30011\n458      459   22   M        student    29201\n459      460   44   F          other    60630\n461      462   19   F        student    02918\n463      464   60   M         writer    94583\n465      466   22   M        student    90804\n468      469   60   M       educator    78628\n469      470   24   M     programmer    10021\n471      472   24   M        student    87544\n473      474   51   M      executive    93711\n476      477   23   F        student    02125\n477      478   29   M          other    10019\n478      479   30   M       educator    55409\n480      481   73   M        retired    37771\n483      484   27   M        student    21208\n486      487   22   M       engineer    92121\n488      489   55   M          other    45218\n490      491   43   F         writer    53711\n492      493   22   M       engineer    60090\n494      495   29   M       engineer    03052\n496      497   20   M        student    50112\n500      501   22   M        student    10025\n503      504   40   F         writer    92115\n507      508   27   M      marketing    19382\n508      509   23   M  administrator    10011\n513      514   27   M     programmer    20707\n515      516   53   F      librarian    10021\n518      519   22   M          other    55320\n519      520   62   M     healthcare    12603\n523      524   56   M       educator    02159\n524      525   27   F  administrator    19711\n526      527   33   M      librarian    12180\n529      530   29   M       engineer    94040\n537      538   31   M      scientist    21010\n542      543   33   M      scientist    95123\n543      544   44   F          other    29464\n545      546   36   M      executive    22911\n550      551   25   M     programmer    55414\n562      563   39   F      librarian    32707\n564      565   40   M        student    55422\n565      566   20   M        student    14627\n566      567   24   M  entertainment    10003\n568      569   34   M       educator    91903\n569      570   26   M       educator    14627\n571      572   51   M       educator    20003\n573      574   56   M       educator    53188\n574      575   33   M      marketing    46032\n576      577   36   F        student    77845\n582      583   44   M       engineer    29631\n583      584   25   M        student    27511\n584      585   69   M      librarian    98501\n585      586   20   M        student    79508\n587      588   18   F        student    93063\n592      593   31   F       educator    68767\n599      600   34   M     programmer    02320\n602      603   21   M     programmer    47905\n605      606   28   M     programmer    63044\n607      608   22   M          other    10003\n608      609   13   F        student    55106\n610      611   46   M      librarian    77008\n612      613   37   F      marketing    29678\n615      616   55   M      scientist    50613\n617      618   15   F        student    44212\n621      622   25   M     programmer    14850\n624      625   27   M     programmer    20723\n628      629   46   F          other    44224\n629      630   26   F     healthcare    55408\n631      632   18   M        student    55454\n632      633   35   M     programmer    55414\n633      634   39   M       engineer    T8H1N\n637      638   45   M       engineer    01940\n639      640   20   M        student    61801\n644      645   27   M     programmer    53211\n649      650   42   M       engineer    83814\n650      651   65   M        retired    02903\n654      655   50   F     healthcare    60657\n655      656   48   M       educator    10314\n656      657   26   F           none    78704\n658      659   31   M       educator    54248\n660      661   28   M     programmer    98121\n663      664   30   M       engineer    94115\n665      666   44   M  administrator    61820\n667      668   29   F         writer    10016\n668      669   37   M          other    20009\n670      671   21   M     programmer    91919\n674      675   34   M          other    28814\n676      677   20   M          other    99835\n679      680   33   M         lawyer    90405\n681      682   23   M     programmer    55128\n687      688   37   F  administrator    60476\n690      691   34   M       educator    60089\n691      692   34   M       engineer    18053\n693      694   60   M     programmer    06365\n696      697   25   M          other    77042\n697      698   28   F     programmer    06906\n698      699   44   M          other    96754\n700      701   51   F      librarian    56321\n702      703   26   M       educator    49512\n703      704   51   F      librarian    91105\n704      705   21   F        student    54494\n706      707   56   F      librarian    19146\n708      709   21   M          other    N4T1A\n711      712   22   F        student    54901\n717      718   42   M     technician    64118\n721      722   50   F      homemaker    17331\n724      725   21   M        student    91711\n725      726   25   F  administrator    80538\n727      728   58   M      executive    94306\n728      729   19   M        student    56567\n729      730   31   F      scientist    32114\n731      732   28   F          other    98405\n733      734   25   F          other    63108\n734      735   29   F     healthcare    85719\n737      738   35   M     technician    95403\n738      739   35   M     technician    73162\n740      741   25   M         writer    63108\n744      745   42   M         writer    55113\n749      750   28   M  administrator    32303\n751      752   60   M        retired    21201\n752      753   56   M       salesman    91206\n753      754   59   F      librarian    62901\n754      755   44   F       educator    97007\n758      759   20   F        student    68503\n759      760   35   F          other    14211\n760      761   17   M        student    97302\n763      764   27   F       educator    62903\n764      765   31   M        student    33066\n776      777   63   M     programmer    01810\n780      781   20   M        student    48825\n783      784   47   M  administrator    91040\n785      786   36   F       engineer    01754\n790      791   31   M       educator    20064\n795      796   32   F         writer    33755\n796      797   44   F          other    62522\n797      798   40   F         writer    64131\n811      812   22   M     technician    76234\n812      813   14   F        student    02136\n815      816   34   M          other    20755\n818      819   59   M  administrator    40205\n820      821   37   M       engineer    77845\n822      823   27   M         artist    50322\n825      826   28   M         artist    77048\n826      827   23   F       engineer    80228\n827      828   28   M      librarian    85282\n830      831   21   M          other    33765\n833      834   26   M          other    64153\n835      836   44   M         artist    10018\n837      838   23   M        student    01375\n842      843   35   M      librarian    44212\n843      844   22   M       engineer    95662\n845      846   27   M         lawyer    47130\n846      847   29   M        student    55417\n851      852   46   M  administrator    94086\n853      854   29   F        student    55408\n855      856   43   F      marketing    97215\n856      857   35   F  administrator    V1G4L\n861      862   25   M      executive    13820\n863      864   27   M     programmer    63021\n864      865   25   M         artist    11231\n866      867   24   M      scientist    92507\n867      868   21   M     programmer    55303\n871      872   19   F        student    74078\n872      873   48   F  administrator    33763\n876      877   30   M          other    77504\n883      884   44   M       engineer    55337\n885      886   20   M        student    61820\n888      889   24   M     technician    78704\n891      892   36   M          other    45243\n896      897   30   M          other    33484\n900      901   38   M      executive    L1V3W\n902      903   28   M       educator    20850\n903      904   17   F        student    61073\n906      907   25   F          other    80526\n908      909   50   F       educator    53171\n910      911   37   F         writer    53210\n912      913   27   M        student    76201\n913      914   44   F          other    08105\n916      917   22   F        student    20006\n918      919   25   M          other    14216\n919      920   30   F         artist    90008\n920      921   20   F        student    98801\n922      923   21   M        student    E2E3R\n923      924   29   M          other    11753\n924      925   18   F       salesman    49036\n927      928   21   M        student    55408\n928      929   44   M      scientist    53711\n929      930   28   F      scientist    07310\n935      936   24   M          other    32789"
         },
         "metadata": {},
         "output_type": "display_data"
        }
       ]
      }
     },
     "74c4c22b6abf46cb887ef42fa37a725f": {
      "model_module": "@jupyter-widgets/base",
      "model_module_version": "1.1.0",
      "model_name": "LayoutModel",
      "state": {}
     },
     "75e273e75e2c445aa07750b371f6a29b": {
      "model_module": "@jupyter-widgets/controls",
      "model_module_version": "1.4.0",
      "model_name": "DescriptionStyleModel",
      "state": {
       "description_width": ""
      }
     },
     "760366600cda467098dff9e68f8d1e2d": {
      "model_module": "@jupyter-widgets/controls",
      "model_module_version": "1.4.0",
      "model_name": "VBoxModel",
      "state": {
       "_dom_classes": [
        "widget-interact"
       ],
       "children": [
        "IPY_MODEL_aa178a582dd34528b4942d2894be9138",
        "IPY_MODEL_d97cd8c88d6e40a0b49d58797c750a2c",
        "IPY_MODEL_e5e307f168414d6198fe258e41c373bd",
        "IPY_MODEL_014d1bb2695a440981937e547799e44f"
       ],
       "layout": "IPY_MODEL_c62837389543450da82f1fe7544f7da4"
      }
     },
     "785560ba8f6b4cb7a2368251f0cc628f": {
      "model_module": "@jupyter-widgets/controls",
      "model_module_version": "1.4.0",
      "model_name": "DescriptionStyleModel",
      "state": {
       "description_width": ""
      }
     },
     "7b3bb1f092ca496fa44bcd0a97c53975": {
      "model_module": "@jupyter-widgets/base",
      "model_module_version": "1.1.0",
      "model_name": "LayoutModel",
      "state": {}
     },
     "7bc78b1c9d294119beacb68aa76cf98e": {
      "model_module": "@jupyter-widgets/controls",
      "model_module_version": "1.4.0",
      "model_name": "ButtonStyleModel",
      "state": {}
     },
     "7d2f273b9d504424990b7ed0a79e0e38": {
      "model_module": "@jupyter-widgets/base",
      "model_module_version": "1.1.0",
      "model_name": "LayoutModel",
      "state": {}
     },
     "7d6236cb055947db84f1ad63c8e1e134": {
      "model_module": "@jupyter-widgets/controls",
      "model_module_version": "1.4.0",
      "model_name": "DescriptionStyleModel",
      "state": {
       "description_width": ""
      }
     },
     "7dc46acfa2ce462eb8b933e67a8ceba8": {
      "model_module": "@jupyter-widgets/controls",
      "model_module_version": "1.4.0",
      "model_name": "ButtonModel",
      "state": {
       "description": "Contest Based Movie Recommendation",
       "layout": "IPY_MODEL_dd59426c5608406dae7ff3c3f7ae12c1",
       "style": "IPY_MODEL_ee4f07e653924c4399035911cab15fd9"
      }
     },
     "7e8f94f683b348e5965d370db08d0db1": {
      "model_module": "@jupyter-widgets/controls",
      "model_module_version": "1.4.0",
      "model_name": "ButtonModel",
      "state": {
       "description": "RBM Based Movie Recommendation",
       "layout": "IPY_MODEL_fb704af723b4497789d8cade8ac2ff2e",
       "style": "IPY_MODEL_3a9870bc165a4ab5adcc32c2d18aded7"
      }
     },
     "7f03b839b71c4432978055cf45a9773c": {
      "model_module": "@jupyter-widgets/controls",
      "model_module_version": "1.4.0",
      "model_name": "SliderStyleModel",
      "state": {
       "description_width": ""
      }
     },
     "7f6160ae611046c99d2102f33a7d2a62": {
      "model_module": "@jupyter-widgets/controls",
      "model_module_version": "1.4.0",
      "model_name": "VBoxModel",
      "state": {
       "_dom_classes": [
        "widget-interact"
       ],
       "children": [
        "IPY_MODEL_9453b5c1dc424780af45806b393d393d",
        "IPY_MODEL_45e13d8e94a74f92aec417c3b0b35c5a",
        "IPY_MODEL_0bc5fc87cbff44ff8c3c6e46d75ac3aa",
        "IPY_MODEL_c2ef07ba22024f949cb01124098244c6"
       ],
       "layout": "IPY_MODEL_a02cb4f68f034b00b870bea21200aaf3"
      }
     },
     "7fa79a817ab74facbcc36564cc96d5ac": {
      "model_module": "@jupyter-widgets/controls",
      "model_module_version": "1.4.0",
      "model_name": "DescriptionStyleModel",
      "state": {
       "description_width": ""
      }
     },
     "7ffcc763fbfa4ee9a3db4cfb0161a1fe": {
      "model_module": "@jupyter-widgets/base",
      "model_module_version": "1.1.0",
      "model_name": "LayoutModel",
      "state": {}
     },
     "81cac4c45c4940b5a9388123b4a5ff2f": {
      "model_module": "@jupyter-widgets/output",
      "model_module_version": "1.0.0",
      "model_name": "OutputModel",
      "state": {
       "layout": "IPY_MODEL_164c951257c64e61a1714ff07ac422d9",
       "outputs": [
        {
         "data": {
          "text/html": "<div>\n<style scoped>\n    .dataframe tbody tr th:only-of-type {\n        vertical-align: middle;\n    }\n\n    .dataframe tbody tr th {\n        vertical-align: top;\n    }\n\n    .dataframe thead th {\n        text-align: right;\n    }\n</style>\n<table border=\"1\" class=\"dataframe\">\n  <thead>\n    <tr style=\"text-align: right;\">\n      <th></th>\n      <th>user_id</th>\n      <th>age</th>\n      <th>sex</th>\n      <th>occupation</th>\n      <th>zip_code</th>\n    </tr>\n  </thead>\n  <tbody>\n    <tr>\n      <th>0</th>\n      <td>1</td>\n      <td>24</td>\n      <td>M</td>\n      <td>technician</td>\n      <td>85711</td>\n    </tr>\n    <tr>\n      <th>1</th>\n      <td>2</td>\n      <td>53</td>\n      <td>F</td>\n      <td>other</td>\n      <td>94043</td>\n    </tr>\n    <tr>\n      <th>2</th>\n      <td>3</td>\n      <td>23</td>\n      <td>M</td>\n      <td>writer</td>\n      <td>32067</td>\n    </tr>\n    <tr>\n      <th>3</th>\n      <td>4</td>\n      <td>24</td>\n      <td>M</td>\n      <td>technician</td>\n      <td>43537</td>\n    </tr>\n    <tr>\n      <th>4</th>\n      <td>5</td>\n      <td>33</td>\n      <td>F</td>\n      <td>other</td>\n      <td>15213</td>\n    </tr>\n    <tr>\n      <th>5</th>\n      <td>6</td>\n      <td>42</td>\n      <td>M</td>\n      <td>executive</td>\n      <td>98101</td>\n    </tr>\n    <tr>\n      <th>6</th>\n      <td>7</td>\n      <td>57</td>\n      <td>M</td>\n      <td>administrator</td>\n      <td>91344</td>\n    </tr>\n    <tr>\n      <th>7</th>\n      <td>8</td>\n      <td>36</td>\n      <td>M</td>\n      <td>administrator</td>\n      <td>05201</td>\n    </tr>\n    <tr>\n      <th>8</th>\n      <td>9</td>\n      <td>29</td>\n      <td>M</td>\n      <td>student</td>\n      <td>01002</td>\n    </tr>\n    <tr>\n      <th>9</th>\n      <td>10</td>\n      <td>53</td>\n      <td>M</td>\n      <td>lawyer</td>\n      <td>90703</td>\n    </tr>\n    <tr>\n      <th>10</th>\n      <td>11</td>\n      <td>39</td>\n      <td>F</td>\n      <td>other</td>\n      <td>30329</td>\n    </tr>\n    <tr>\n      <th>11</th>\n      <td>12</td>\n      <td>28</td>\n      <td>F</td>\n      <td>other</td>\n      <td>06405</td>\n    </tr>\n    <tr>\n      <th>12</th>\n      <td>13</td>\n      <td>47</td>\n      <td>M</td>\n      <td>educator</td>\n      <td>29206</td>\n    </tr>\n    <tr>\n      <th>13</th>\n      <td>14</td>\n      <td>45</td>\n      <td>M</td>\n      <td>scientist</td>\n      <td>55106</td>\n    </tr>\n    <tr>\n      <th>14</th>\n      <td>15</td>\n      <td>49</td>\n      <td>F</td>\n      <td>educator</td>\n      <td>97301</td>\n    </tr>\n    <tr>\n      <th>15</th>\n      <td>16</td>\n      <td>21</td>\n      <td>M</td>\n      <td>entertainment</td>\n      <td>10309</td>\n    </tr>\n    <tr>\n      <th>16</th>\n      <td>17</td>\n      <td>30</td>\n      <td>M</td>\n      <td>programmer</td>\n      <td>06355</td>\n    </tr>\n    <tr>\n      <th>17</th>\n      <td>18</td>\n      <td>35</td>\n      <td>F</td>\n      <td>other</td>\n      <td>37212</td>\n    </tr>\n    <tr>\n      <th>18</th>\n      <td>19</td>\n      <td>40</td>\n      <td>M</td>\n      <td>librarian</td>\n      <td>02138</td>\n    </tr>\n    <tr>\n      <th>19</th>\n      <td>20</td>\n      <td>42</td>\n      <td>F</td>\n      <td>homemaker</td>\n      <td>95660</td>\n    </tr>\n    <tr>\n      <th>20</th>\n      <td>21</td>\n      <td>26</td>\n      <td>M</td>\n      <td>writer</td>\n      <td>30068</td>\n    </tr>\n    <tr>\n      <th>21</th>\n      <td>22</td>\n      <td>25</td>\n      <td>M</td>\n      <td>writer</td>\n      <td>40206</td>\n    </tr>\n    <tr>\n      <th>22</th>\n      <td>23</td>\n      <td>30</td>\n      <td>F</td>\n      <td>artist</td>\n      <td>48197</td>\n    </tr>\n    <tr>\n      <th>23</th>\n      <td>24</td>\n      <td>21</td>\n      <td>F</td>\n      <td>artist</td>\n      <td>94533</td>\n    </tr>\n    <tr>\n      <th>24</th>\n      <td>25</td>\n      <td>39</td>\n      <td>M</td>\n      <td>engineer</td>\n      <td>55107</td>\n    </tr>\n    <tr>\n      <th>25</th>\n      <td>26</td>\n      <td>49</td>\n      <td>M</td>\n      <td>engineer</td>\n      <td>21044</td>\n    </tr>\n    <tr>\n      <th>26</th>\n      <td>27</td>\n      <td>40</td>\n      <td>F</td>\n      <td>librarian</td>\n      <td>30030</td>\n    </tr>\n    <tr>\n      <th>27</th>\n      <td>28</td>\n      <td>32</td>\n      <td>M</td>\n      <td>writer</td>\n      <td>55369</td>\n    </tr>\n    <tr>\n      <th>28</th>\n      <td>29</td>\n      <td>41</td>\n      <td>M</td>\n      <td>programmer</td>\n      <td>94043</td>\n    </tr>\n    <tr>\n      <th>29</th>\n      <td>30</td>\n      <td>7</td>\n      <td>M</td>\n      <td>student</td>\n      <td>55436</td>\n    </tr>\n    <tr>\n      <th>...</th>\n      <td>...</td>\n      <td>...</td>\n      <td>...</td>\n      <td>...</td>\n      <td>...</td>\n    </tr>\n    <tr>\n      <th>913</th>\n      <td>914</td>\n      <td>44</td>\n      <td>F</td>\n      <td>other</td>\n      <td>08105</td>\n    </tr>\n    <tr>\n      <th>914</th>\n      <td>915</td>\n      <td>50</td>\n      <td>M</td>\n      <td>entertainment</td>\n      <td>60614</td>\n    </tr>\n    <tr>\n      <th>915</th>\n      <td>916</td>\n      <td>27</td>\n      <td>M</td>\n      <td>engineer</td>\n      <td>N2L5N</td>\n    </tr>\n    <tr>\n      <th>916</th>\n      <td>917</td>\n      <td>22</td>\n      <td>F</td>\n      <td>student</td>\n      <td>20006</td>\n    </tr>\n    <tr>\n      <th>917</th>\n      <td>918</td>\n      <td>40</td>\n      <td>M</td>\n      <td>scientist</td>\n      <td>70116</td>\n    </tr>\n    <tr>\n      <th>918</th>\n      <td>919</td>\n      <td>25</td>\n      <td>M</td>\n      <td>other</td>\n      <td>14216</td>\n    </tr>\n    <tr>\n      <th>919</th>\n      <td>920</td>\n      <td>30</td>\n      <td>F</td>\n      <td>artist</td>\n      <td>90008</td>\n    </tr>\n    <tr>\n      <th>920</th>\n      <td>921</td>\n      <td>20</td>\n      <td>F</td>\n      <td>student</td>\n      <td>98801</td>\n    </tr>\n    <tr>\n      <th>921</th>\n      <td>922</td>\n      <td>29</td>\n      <td>F</td>\n      <td>administrator</td>\n      <td>21114</td>\n    </tr>\n    <tr>\n      <th>922</th>\n      <td>923</td>\n      <td>21</td>\n      <td>M</td>\n      <td>student</td>\n      <td>E2E3R</td>\n    </tr>\n    <tr>\n      <th>923</th>\n      <td>924</td>\n      <td>29</td>\n      <td>M</td>\n      <td>other</td>\n      <td>11753</td>\n    </tr>\n    <tr>\n      <th>924</th>\n      <td>925</td>\n      <td>18</td>\n      <td>F</td>\n      <td>salesman</td>\n      <td>49036</td>\n    </tr>\n    <tr>\n      <th>925</th>\n      <td>926</td>\n      <td>49</td>\n      <td>M</td>\n      <td>entertainment</td>\n      <td>01701</td>\n    </tr>\n    <tr>\n      <th>926</th>\n      <td>927</td>\n      <td>23</td>\n      <td>M</td>\n      <td>programmer</td>\n      <td>55428</td>\n    </tr>\n    <tr>\n      <th>927</th>\n      <td>928</td>\n      <td>21</td>\n      <td>M</td>\n      <td>student</td>\n      <td>55408</td>\n    </tr>\n    <tr>\n      <th>928</th>\n      <td>929</td>\n      <td>44</td>\n      <td>M</td>\n      <td>scientist</td>\n      <td>53711</td>\n    </tr>\n    <tr>\n      <th>929</th>\n      <td>930</td>\n      <td>28</td>\n      <td>F</td>\n      <td>scientist</td>\n      <td>07310</td>\n    </tr>\n    <tr>\n      <th>930</th>\n      <td>931</td>\n      <td>60</td>\n      <td>M</td>\n      <td>educator</td>\n      <td>33556</td>\n    </tr>\n    <tr>\n      <th>931</th>\n      <td>932</td>\n      <td>58</td>\n      <td>M</td>\n      <td>educator</td>\n      <td>06437</td>\n    </tr>\n    <tr>\n      <th>932</th>\n      <td>933</td>\n      <td>28</td>\n      <td>M</td>\n      <td>student</td>\n      <td>48105</td>\n    </tr>\n    <tr>\n      <th>933</th>\n      <td>934</td>\n      <td>61</td>\n      <td>M</td>\n      <td>engineer</td>\n      <td>22902</td>\n    </tr>\n    <tr>\n      <th>934</th>\n      <td>935</td>\n      <td>42</td>\n      <td>M</td>\n      <td>doctor</td>\n      <td>66221</td>\n    </tr>\n    <tr>\n      <th>935</th>\n      <td>936</td>\n      <td>24</td>\n      <td>M</td>\n      <td>other</td>\n      <td>32789</td>\n    </tr>\n    <tr>\n      <th>936</th>\n      <td>937</td>\n      <td>48</td>\n      <td>M</td>\n      <td>educator</td>\n      <td>98072</td>\n    </tr>\n    <tr>\n      <th>937</th>\n      <td>938</td>\n      <td>38</td>\n      <td>F</td>\n      <td>technician</td>\n      <td>55038</td>\n    </tr>\n    <tr>\n      <th>938</th>\n      <td>939</td>\n      <td>26</td>\n      <td>F</td>\n      <td>student</td>\n      <td>33319</td>\n    </tr>\n    <tr>\n      <th>939</th>\n      <td>940</td>\n      <td>32</td>\n      <td>M</td>\n      <td>administrator</td>\n      <td>02215</td>\n    </tr>\n    <tr>\n      <th>940</th>\n      <td>941</td>\n      <td>20</td>\n      <td>M</td>\n      <td>student</td>\n      <td>97229</td>\n    </tr>\n    <tr>\n      <th>941</th>\n      <td>942</td>\n      <td>48</td>\n      <td>F</td>\n      <td>librarian</td>\n      <td>78209</td>\n    </tr>\n    <tr>\n      <th>942</th>\n      <td>943</td>\n      <td>22</td>\n      <td>M</td>\n      <td>student</td>\n      <td>77841</td>\n    </tr>\n  </tbody>\n</table>\n<p>943 rows × 5 columns</p>\n</div>",
          "text/plain": "     user_id  age sex     occupation zip_code\n0          1   24   M     technician    85711\n1          2   53   F          other    94043\n2          3   23   M         writer    32067\n3          4   24   M     technician    43537\n4          5   33   F          other    15213\n5          6   42   M      executive    98101\n6          7   57   M  administrator    91344\n7          8   36   M  administrator    05201\n8          9   29   M        student    01002\n9         10   53   M         lawyer    90703\n10        11   39   F          other    30329\n11        12   28   F          other    06405\n12        13   47   M       educator    29206\n13        14   45   M      scientist    55106\n14        15   49   F       educator    97301\n15        16   21   M  entertainment    10309\n16        17   30   M     programmer    06355\n17        18   35   F          other    37212\n18        19   40   M      librarian    02138\n19        20   42   F      homemaker    95660\n20        21   26   M         writer    30068\n21        22   25   M         writer    40206\n22        23   30   F         artist    48197\n23        24   21   F         artist    94533\n24        25   39   M       engineer    55107\n25        26   49   M       engineer    21044\n26        27   40   F      librarian    30030\n27        28   32   M         writer    55369\n28        29   41   M     programmer    94043\n29        30    7   M        student    55436\n..       ...  ...  ..            ...      ...\n913      914   44   F          other    08105\n914      915   50   M  entertainment    60614\n915      916   27   M       engineer    N2L5N\n916      917   22   F        student    20006\n917      918   40   M      scientist    70116\n918      919   25   M          other    14216\n919      920   30   F         artist    90008\n920      921   20   F        student    98801\n921      922   29   F  administrator    21114\n922      923   21   M        student    E2E3R\n923      924   29   M          other    11753\n924      925   18   F       salesman    49036\n925      926   49   M  entertainment    01701\n926      927   23   M     programmer    55428\n927      928   21   M        student    55408\n928      929   44   M      scientist    53711\n929      930   28   F      scientist    07310\n930      931   60   M       educator    33556\n931      932   58   M       educator    06437\n932      933   28   M        student    48105\n933      934   61   M       engineer    22902\n934      935   42   M         doctor    66221\n935      936   24   M          other    32789\n936      937   48   M       educator    98072\n937      938   38   F     technician    55038\n938      939   26   F        student    33319\n939      940   32   M  administrator    02215\n940      941   20   M        student    97229\n941      942   48   F      librarian    78209\n942      943   22   M        student    77841\n\n[943 rows x 5 columns]"
         },
         "metadata": {},
         "output_type": "display_data"
        }
       ]
      }
     },
     "83c09d374bee4cd493d17c06c0166e86": {
      "model_module": "@jupyter-widgets/controls",
      "model_module_version": "1.4.0",
      "model_name": "ButtonModel",
      "state": {
       "description": "RBM Based Movie Recommendation",
       "layout": "IPY_MODEL_f1c0971fd1754f9182f432e90c7b4a24",
       "style": "IPY_MODEL_60de9205b9034a0a8cfb1099f695ca58"
      }
     },
     "85268da8307045d38862ad86dd22b55d": {
      "model_module": "@jupyter-widgets/controls",
      "model_module_version": "1.4.0",
      "model_name": "ButtonStyleModel",
      "state": {}
     },
     "8595af99913445d38d0ae3f1526105fc": {
      "model_module": "@jupyter-widgets/base",
      "model_module_version": "1.1.0",
      "model_name": "LayoutModel",
      "state": {}
     },
     "85a1d411858a4b119206b13cf8ebe7b1": {
      "model_module": "@jupyter-widgets/controls",
      "model_module_version": "1.4.0",
      "model_name": "ButtonStyleModel",
      "state": {}
     },
     "85b93dba2bfc442ca78363f13ec4bfbd": {
      "model_module": "@jupyter-widgets/base",
      "model_module_version": "1.1.0",
      "model_name": "LayoutModel",
      "state": {}
     },
     "8685f1731d504e7a91d0172104d6b20e": {
      "model_module": "@jupyter-widgets/controls",
      "model_module_version": "1.4.0",
      "model_name": "ButtonStyleModel",
      "state": {}
     },
     "8865b8d6f1544184be322fa0447e05e4": {
      "model_module": "@jupyter-widgets/controls",
      "model_module_version": "1.4.0",
      "model_name": "ButtonModel",
      "state": {
       "description": "RBM Based Movie Recommendation",
       "layout": "IPY_MODEL_6b3e784bbf2b49b1b9b8da58b73d283a",
       "style": "IPY_MODEL_33d0f96fca434900a39c936b5477f266"
      }
     },
     "88afa1dbd8a242b48bc093b4a872d52f": {
      "model_module": "@jupyter-widgets/base",
      "model_module_version": "1.1.0",
      "model_name": "LayoutModel",
      "state": {}
     },
     "8ded9ce76dd54de2a39836daf7611eaf": {
      "model_module": "@jupyter-widgets/controls",
      "model_module_version": "1.4.0",
      "model_name": "CheckboxModel",
      "state": {
       "description": "sex",
       "disabled": false,
       "layout": "IPY_MODEL_d82854bbd5da4940a3e362a83a797838",
       "style": "IPY_MODEL_eab979ff636d4cda84270def770264a4",
       "value": false
      }
     },
     "8fd3e895c8f24f50aae93d2d121387a4": {
      "model_module": "@jupyter-widgets/controls",
      "model_module_version": "1.4.0",
      "model_name": "ButtonModel",
      "state": {
       "description": "Contest Based Movie Recommendation",
       "layout": "IPY_MODEL_5e771acb5a3a436ebe21caf34fe8eacd",
       "style": "IPY_MODEL_47d37f81c2ab4426bd4ec74b0bf5a885"
      }
     },
     "9052df9e119d48f0b7f8f1294c862cef": {
      "model_module": "@jupyter-widgets/controls",
      "model_module_version": "1.4.0",
      "model_name": "DescriptionStyleModel",
      "state": {
       "description_width": ""
      }
     },
     "940034832c37488c92fbf6d9298e7420": {
      "model_module": "@jupyter-widgets/controls",
      "model_module_version": "1.4.0",
      "model_name": "DescriptionStyleModel",
      "state": {
       "description_width": ""
      }
     },
     "9453b5c1dc424780af45806b393d393d": {
      "model_module": "@jupyter-widgets/controls",
      "model_module_version": "1.4.0",
      "model_name": "CheckboxModel",
      "state": {
       "description": "age",
       "disabled": false,
       "layout": "IPY_MODEL_88afa1dbd8a242b48bc093b4a872d52f",
       "style": "IPY_MODEL_59db67aba58042e69d63ad07ffc1a4d0",
       "value": true
      }
     },
     "96890fdc58ac4d879e732d20f2dc7ddb": {
      "model_module": "@jupyter-widgets/base",
      "model_module_version": "1.1.0",
      "model_name": "LayoutModel",
      "state": {}
     },
     "96b73c1eaa4a4c4c937754775d0ab014": {
      "model_module": "@jupyter-widgets/controls",
      "model_module_version": "1.4.0",
      "model_name": "CheckboxModel",
      "state": {
       "description": "occupation",
       "disabled": false,
       "layout": "IPY_MODEL_293f8b45d19c4b1c8f9de00a76fb9a6d",
       "style": "IPY_MODEL_fb1dedd83d194912969a39dcd0c3f82d",
       "value": false
      }
     },
     "9931abe0f7c64bd7b31cac9e7e9431f8": {
      "model_module": "@jupyter-widgets/controls",
      "model_module_version": "1.4.0",
      "model_name": "ButtonModel",
      "state": {
       "description": "Collaborative Based Recommendation for users and movies",
       "layout": "IPY_MODEL_6bacb7fa621e47bba347ea528b9717c6",
       "style": "IPY_MODEL_c219b185a6dc41d0a59510a20f3fd694"
      }
     },
     "99402d60b7fd4442adc0fb394cc6e24f": {
      "model_module": "@jupyter-widgets/controls",
      "model_module_version": "1.4.0",
      "model_name": "ButtonModel",
      "state": {
       "description": "RBM Based Movie Recommendation",
       "layout": "IPY_MODEL_5ab10845313449958cbe18f5f39abb51",
       "style": "IPY_MODEL_577431023de142d4ad8996f7b81c70f7"
      }
     },
     "9a1e90e98cd945febdd39727878eb8f6": {
      "model_module": "@jupyter-widgets/controls",
      "model_module_version": "1.4.0",
      "model_name": "VBoxModel",
      "state": {
       "_dom_classes": [
        "widget-interact"
       ],
       "children": [
        "IPY_MODEL_6984adea021a424bb05fd266ca27bc4e",
        "IPY_MODEL_de135abd97d94ad5a640c0ee2a2e645c"
       ],
       "layout": "IPY_MODEL_2ec6539c38cc458f8b1b47debad9c3a5"
      }
     },
     "9a78da65f81d47128c5fde992c01d88f": {
      "model_module": "@jupyter-widgets/controls",
      "model_module_version": "1.4.0",
      "model_name": "ButtonModel",
      "state": {
       "description": "Collaborative Based Recommendation for users and movies",
       "layout": "IPY_MODEL_eaf4989827f7497a910a83199eeccaf3",
       "style": "IPY_MODEL_8685f1731d504e7a91d0172104d6b20e"
      }
     },
     "9c85f5bbf4e447088230d0f234acd3d6": {
      "model_module": "@jupyter-widgets/base",
      "model_module_version": "1.1.0",
      "model_name": "LayoutModel",
      "state": {}
     },
     "9e3a441211554e1988ef42a439017132": {
      "model_module": "@jupyter-widgets/controls",
      "model_module_version": "1.4.0",
      "model_name": "ButtonStyleModel",
      "state": {}
     },
     "9eef5aa70ab14113bd5ecc367ad3cb1e": {
      "model_module": "@jupyter-widgets/controls",
      "model_module_version": "1.4.0",
      "model_name": "ButtonModel",
      "state": {
       "description": "RBM Based Movie Recommendation",
       "layout": "IPY_MODEL_aa83c0855b5648ad9ae0acfbcc45fc04",
       "style": "IPY_MODEL_1406c87d5eb049dfbbb0379392e0d518"
      }
     },
     "a02cb4f68f034b00b870bea21200aaf3": {
      "model_module": "@jupyter-widgets/base",
      "model_module_version": "1.1.0",
      "model_name": "LayoutModel",
      "state": {}
     },
     "a1a62894836b4db1b7eeaf2014664fba": {
      "model_module": "@jupyter-widgets/base",
      "model_module_version": "1.1.0",
      "model_name": "LayoutModel",
      "state": {}
     },
     "a404a1a226eb4416acdd3cd602008a00": {
      "model_module": "@jupyter-widgets/controls",
      "model_module_version": "1.4.0",
      "model_name": "DescriptionStyleModel",
      "state": {
       "description_width": ""
      }
     },
     "a408aabea9c14d9b9a4399e4e2935828": {
      "model_module": "@jupyter-widgets/controls",
      "model_module_version": "1.4.0",
      "model_name": "DescriptionStyleModel",
      "state": {
       "description_width": ""
      }
     },
     "a45a09c897904b479cf7335f60c4c912": {
      "model_module": "@jupyter-widgets/base",
      "model_module_version": "1.1.0",
      "model_name": "LayoutModel",
      "state": {}
     },
     "a462ba8dde574aa79419c9e76334250f": {
      "model_module": "@jupyter-widgets/controls",
      "model_module_version": "1.4.0",
      "model_name": "ButtonStyleModel",
      "state": {}
     },
     "a53bbe44c4814a15b3b4be33542f8fe5": {
      "model_module": "@jupyter-widgets/controls",
      "model_module_version": "1.4.0",
      "model_name": "ButtonModel",
      "state": {
       "description": "Collaborative Based Recommendation for users and movies",
       "layout": "IPY_MODEL_ae6b7382d0754f759df6ed330cfbb8b4",
       "style": "IPY_MODEL_c9b18284ba894798a26d537b88c0f989"
      }
     },
     "a6a671dc7bb6411aa75ccfb2092c8830": {
      "model_module": "@jupyter-widgets/controls",
      "model_module_version": "1.4.0",
      "model_name": "CheckboxModel",
      "state": {
       "description": "age",
       "disabled": false,
       "layout": "IPY_MODEL_fa77f3e5d78847c6b25c5e1f0ec5ad1f",
       "style": "IPY_MODEL_a408aabea9c14d9b9a4399e4e2935828",
       "value": false
      }
     },
     "a79c113965654d63bec16bb3a34ee0a9": {
      "model_module": "@jupyter-widgets/controls",
      "model_module_version": "1.4.0",
      "model_name": "ButtonStyleModel",
      "state": {}
     },
     "aa178a582dd34528b4942d2894be9138": {
      "model_module": "@jupyter-widgets/controls",
      "model_module_version": "1.4.0",
      "model_name": "CheckboxModel",
      "state": {
       "description": "age",
       "disabled": false,
       "layout": "IPY_MODEL_a1a62894836b4db1b7eeaf2014664fba",
       "style": "IPY_MODEL_9052df9e119d48f0b7f8f1294c862cef",
       "value": false
      }
     },
     "aa83c0855b5648ad9ae0acfbcc45fc04": {
      "model_module": "@jupyter-widgets/base",
      "model_module_version": "1.1.0",
      "model_name": "LayoutModel",
      "state": {}
     },
     "ac4fe3518201488ba4bb668fcd5a446b": {
      "model_module": "@jupyter-widgets/base",
      "model_module_version": "1.1.0",
      "model_name": "LayoutModel",
      "state": {}
     },
     "adf74e00fe594141a9291fea8fcafb66": {
      "model_module": "@jupyter-widgets/base",
      "model_module_version": "1.1.0",
      "model_name": "LayoutModel",
      "state": {}
     },
     "ae5398b2ba9041148840696089f160f4": {
      "model_module": "@jupyter-widgets/controls",
      "model_module_version": "1.4.0",
      "model_name": "ButtonStyleModel",
      "state": {}
     },
     "ae6b7382d0754f759df6ed330cfbb8b4": {
      "model_module": "@jupyter-widgets/base",
      "model_module_version": "1.1.0",
      "model_name": "LayoutModel",
      "state": {}
     },
     "afeb39edf0294d649b239836477d0cb2": {
      "model_module": "@jupyter-widgets/base",
      "model_module_version": "1.1.0",
      "model_name": "LayoutModel",
      "state": {}
     },
     "b0732dda0b714a2a83e8ef602c780e81": {
      "model_module": "@jupyter-widgets/controls",
      "model_module_version": "1.4.0",
      "model_name": "CheckboxModel",
      "state": {
       "description": "age",
       "disabled": false,
       "layout": "IPY_MODEL_cf059b20339d4910a2f07fca3afa5dd2",
       "style": "IPY_MODEL_7d6236cb055947db84f1ad63c8e1e134",
       "value": false
      }
     },
     "b078c72895f243a3ade23511b306bdfb": {
      "model_module": "@jupyter-widgets/base",
      "model_module_version": "1.1.0",
      "model_name": "LayoutModel",
      "state": {}
     },
     "b30249252afc4cb7b4ed6cf4f0b696a3": {
      "model_module": "@jupyter-widgets/controls",
      "model_module_version": "1.4.0",
      "model_name": "ButtonModel",
      "state": {
       "description": "RBM Based Movie Recommendation",
       "layout": "IPY_MODEL_11acca7f9481408f84cf060d6ffe14bb",
       "style": "IPY_MODEL_c56c4695bea445a9a565f9033b72e7fd"
      }
     },
     "b706be962de34a529231814e3a7342a1": {
      "model_module": "@jupyter-widgets/controls",
      "model_module_version": "1.4.0",
      "model_name": "DescriptionStyleModel",
      "state": {
       "description_width": ""
      }
     },
     "b7d1c0772c384a71aac00312369ba651": {
      "model_module": "@jupyter-widgets/controls",
      "model_module_version": "1.4.0",
      "model_name": "DescriptionStyleModel",
      "state": {
       "description_width": ""
      }
     },
     "b9e38fad9a784c8baf3edf381b99461a": {
      "model_module": "@jupyter-widgets/base",
      "model_module_version": "1.1.0",
      "model_name": "LayoutModel",
      "state": {}
     },
     "ba5d9eb9dfe845fa885697e188db9b23": {
      "model_module": "@jupyter-widgets/controls",
      "model_module_version": "1.4.0",
      "model_name": "ButtonModel",
      "state": {
       "description": "Collaborative Based Recommendation for users and movies",
       "layout": "IPY_MODEL_8595af99913445d38d0ae3f1526105fc",
       "style": "IPY_MODEL_df80b349a46d4d3a871feb19fe1fcd2e"
      }
     },
     "bbbae8dbdd3c4b3397e44c5da16e5ba0": {
      "model_module": "@jupyter-widgets/base",
      "model_module_version": "1.1.0",
      "model_name": "LayoutModel",
      "state": {}
     },
     "bd0ea3fdae77498fadf3ab0d8de1cb46": {
      "model_module": "@jupyter-widgets/base",
      "model_module_version": "1.1.0",
      "model_name": "LayoutModel",
      "state": {}
     },
     "be191d5d2d2b4027acb28d8d1d12e46e": {
      "model_module": "@jupyter-widgets/controls",
      "model_module_version": "1.4.0",
      "model_name": "CheckboxModel",
      "state": {
       "description": "age",
       "disabled": false,
       "layout": "IPY_MODEL_d0bbcdf5342d416fa7fa7efb2f0a2d1d",
       "style": "IPY_MODEL_c8b8d6bda4a546e897bbce8344268292",
       "value": false
      }
     },
     "bfae8322dc9c4c2fae45e6d911edbdd1": {
      "model_module": "@jupyter-widgets/controls",
      "model_module_version": "1.4.0",
      "model_name": "CheckboxModel",
      "state": {
       "description": "sex",
       "disabled": false,
       "layout": "IPY_MODEL_c1cb9ba20538422d92d9c5155b3a42a1",
       "style": "IPY_MODEL_de807c204691470bb09b15f36dbd9db2",
       "value": false
      }
     },
     "c059fd5f39d44ce69f5ebcde5cd27182": {
      "model_module": "@jupyter-widgets/controls",
      "model_module_version": "1.4.0",
      "model_name": "ButtonStyleModel",
      "state": {}
     },
     "c1cb9ba20538422d92d9c5155b3a42a1": {
      "model_module": "@jupyter-widgets/base",
      "model_module_version": "1.1.0",
      "model_name": "LayoutModel",
      "state": {}
     },
     "c219b185a6dc41d0a59510a20f3fd694": {
      "model_module": "@jupyter-widgets/controls",
      "model_module_version": "1.4.0",
      "model_name": "ButtonStyleModel",
      "state": {}
     },
     "c2ef07ba22024f949cb01124098244c6": {
      "model_module": "@jupyter-widgets/output",
      "model_module_version": "1.0.0",
      "model_name": "OutputModel",
      "state": {
       "layout": "IPY_MODEL_3db6a84a5ac048689935c96b0412496d",
       "outputs": [
        {
         "data": {
          "application/vnd.jupyter.widget-view+json": {
           "model_id": "9a1e90e98cd945febdd39727878eb8f6",
           "version_major": 2,
           "version_minor": 0
          },
          "text/plain": "interactive(children=(IntSlider(value=40, description='age', max=73, min=7), Output()), _dom_classes=('widget-…"
         },
         "metadata": {},
         "output_type": "display_data"
        }
       ]
      }
     },
     "c56c4695bea445a9a565f9033b72e7fd": {
      "model_module": "@jupyter-widgets/controls",
      "model_module_version": "1.4.0",
      "model_name": "ButtonStyleModel",
      "state": {}
     },
     "c570e8a9351d4dbc8ca75dfdac7c5e11": {
      "model_module": "@jupyter-widgets/controls",
      "model_module_version": "1.4.0",
      "model_name": "CheckboxModel",
      "state": {
       "description": "occupation",
       "disabled": false,
       "layout": "IPY_MODEL_dcb919bda7dd424db70dbf0cc99c9cd9",
       "style": "IPY_MODEL_7fa79a817ab74facbcc36564cc96d5ac",
       "value": false
      }
     },
     "c5899c7614d642b3956c4d6be504e943": {
      "model_module": "@jupyter-widgets/controls",
      "model_module_version": "1.4.0",
      "model_name": "ButtonStyleModel",
      "state": {}
     },
     "c62837389543450da82f1fe7544f7da4": {
      "model_module": "@jupyter-widgets/base",
      "model_module_version": "1.1.0",
      "model_name": "LayoutModel",
      "state": {}
     },
     "c8b8d6bda4a546e897bbce8344268292": {
      "model_module": "@jupyter-widgets/controls",
      "model_module_version": "1.4.0",
      "model_name": "DescriptionStyleModel",
      "state": {
       "description_width": ""
      }
     },
     "c9b18284ba894798a26d537b88c0f989": {
      "model_module": "@jupyter-widgets/controls",
      "model_module_version": "1.4.0",
      "model_name": "ButtonStyleModel",
      "state": {}
     },
     "ca38c86c2bcf4e74b256a8c3594b7f4e": {
      "model_module": "@jupyter-widgets/controls",
      "model_module_version": "1.4.0",
      "model_name": "ButtonStyleModel",
      "state": {}
     },
     "cb66d68aaed84a7a81ee2bc015cf3f8f": {
      "model_module": "@jupyter-widgets/controls",
      "model_module_version": "1.4.0",
      "model_name": "VBoxModel",
      "state": {
       "_dom_classes": [
        "widget-interact"
       ],
       "children": [
        "IPY_MODEL_584bf8ae29d04c25bcc32692f58cf552",
        "IPY_MODEL_8ded9ce76dd54de2a39836daf7611eaf",
        "IPY_MODEL_96b73c1eaa4a4c4c937754775d0ab014",
        "IPY_MODEL_47773ee93ebb4bc2a6175b97687c46ce"
       ],
       "layout": "IPY_MODEL_afeb39edf0294d649b239836477d0cb2"
      }
     },
     "cf059b20339d4910a2f07fca3afa5dd2": {
      "model_module": "@jupyter-widgets/base",
      "model_module_version": "1.1.0",
      "model_name": "LayoutModel",
      "state": {}
     },
     "d0bbcdf5342d416fa7fa7efb2f0a2d1d": {
      "model_module": "@jupyter-widgets/base",
      "model_module_version": "1.1.0",
      "model_name": "LayoutModel",
      "state": {}
     },
     "d0c7336845b549a7a6e4368d101cc026": {
      "model_module": "@jupyter-widgets/controls",
      "model_module_version": "1.4.0",
      "model_name": "VBoxModel",
      "state": {
       "_dom_classes": [
        "widget-interact"
       ],
       "children": [
        "IPY_MODEL_be191d5d2d2b4027acb28d8d1d12e46e",
        "IPY_MODEL_f9d01246631842acb5e2882524d73482",
        "IPY_MODEL_5d49a71d422e4d5db70bc68c8ef6b7b4",
        "IPY_MODEL_730e173ef4934ff79f54e3e55e218de2"
       ],
       "layout": "IPY_MODEL_85b93dba2bfc442ca78363f13ec4bfbd"
      }
     },
     "d3a92b13b89d47e9aeee561d08fcc4e9": {
      "model_module": "@jupyter-widgets/controls",
      "model_module_version": "1.4.0",
      "model_name": "ButtonModel",
      "state": {
       "description": "Collaborative Based Recommendation for users and movies",
       "layout": "IPY_MODEL_4e490e0ea9e549f7914b831086cb36b9",
       "style": "IPY_MODEL_c5899c7614d642b3956c4d6be504e943"
      }
     },
     "d588146b7b424ae6a67d5c34619d74c1": {
      "model_module": "@jupyter-widgets/base",
      "model_module_version": "1.1.0",
      "model_name": "LayoutModel",
      "state": {}
     },
     "d82854bbd5da4940a3e362a83a797838": {
      "model_module": "@jupyter-widgets/base",
      "model_module_version": "1.1.0",
      "model_name": "LayoutModel",
      "state": {}
     },
     "d8ec8feab7ab4839a0705eb7ca6716a4": {
      "model_module": "@jupyter-widgets/base",
      "model_module_version": "1.1.0",
      "model_name": "LayoutModel",
      "state": {}
     },
     "d97cd8c88d6e40a0b49d58797c750a2c": {
      "model_module": "@jupyter-widgets/controls",
      "model_module_version": "1.4.0",
      "model_name": "CheckboxModel",
      "state": {
       "description": "sex",
       "disabled": false,
       "layout": "IPY_MODEL_2d6bae61cd494b5b8ce1fcdd681a41e7",
       "style": "IPY_MODEL_6eb287ca8b5e4168b0ce94c04c0ddc99",
       "value": false
      }
     },
     "dcb919bda7dd424db70dbf0cc99c9cd9": {
      "model_module": "@jupyter-widgets/base",
      "model_module_version": "1.1.0",
      "model_name": "LayoutModel",
      "state": {}
     },
     "dd59426c5608406dae7ff3c3f7ae12c1": {
      "model_module": "@jupyter-widgets/base",
      "model_module_version": "1.1.0",
      "model_name": "LayoutModel",
      "state": {}
     },
     "de135abd97d94ad5a640c0ee2a2e645c": {
      "model_module": "@jupyter-widgets/output",
      "model_module_version": "1.0.0",
      "model_name": "OutputModel",
      "state": {
       "layout": "IPY_MODEL_e84b590d5e25424a80e9b9044443f83b",
       "outputs": [
        {
         "data": {
          "text/html": "<div>\n<style scoped>\n    .dataframe tbody tr th:only-of-type {\n        vertical-align: middle;\n    }\n\n    .dataframe tbody tr th {\n        vertical-align: top;\n    }\n\n    .dataframe thead th {\n        text-align: right;\n    }\n</style>\n<table border=\"1\" class=\"dataframe\">\n  <thead>\n    <tr style=\"text-align: right;\">\n      <th></th>\n      <th>user_id</th>\n      <th>age</th>\n      <th>sex</th>\n      <th>occupation</th>\n      <th>zip_code</th>\n    </tr>\n  </thead>\n  <tbody>\n    <tr>\n      <th>26</th>\n      <td>27</td>\n      <td>40</td>\n      <td>F</td>\n      <td>librarian</td>\n      <td>30030</td>\n    </tr>\n    <tr>\n      <th>283</th>\n      <td>284</td>\n      <td>40</td>\n      <td>M</td>\n      <td>executive</td>\n      <td>92629</td>\n    </tr>\n    <tr>\n      <th>308</th>\n      <td>309</td>\n      <td>40</td>\n      <td>M</td>\n      <td>scientist</td>\n      <td>70802</td>\n    </tr>\n    <tr>\n      <th>797</th>\n      <td>798</td>\n      <td>40</td>\n      <td>F</td>\n      <td>writer</td>\n      <td>64131</td>\n    </tr>\n    <tr>\n      <th>810</th>\n      <td>811</td>\n      <td>40</td>\n      <td>F</td>\n      <td>educator</td>\n      <td>73013</td>\n    </tr>\n  </tbody>\n</table>\n</div>",
          "text/plain": "     user_id  age sex occupation zip_code\n26        27   40   F  librarian    30030\n283      284   40   M  executive    92629\n308      309   40   M  scientist    70802\n797      798   40   F     writer    64131\n810      811   40   F   educator    73013"
         },
         "metadata": {},
         "output_type": "display_data"
        }
       ]
      }
     },
     "de807c204691470bb09b15f36dbd9db2": {
      "model_module": "@jupyter-widgets/controls",
      "model_module_version": "1.4.0",
      "model_name": "DescriptionStyleModel",
      "state": {
       "description_width": ""
      }
     },
     "df042f556ebb404a8c37943ab8cba664": {
      "model_module": "@jupyter-widgets/base",
      "model_module_version": "1.1.0",
      "model_name": "LayoutModel",
      "state": {}
     },
     "df49d1bed84d44e3ad98c2a6c327c60f": {
      "model_module": "@jupyter-widgets/base",
      "model_module_version": "1.1.0",
      "model_name": "LayoutModel",
      "state": {}
     },
     "df80b349a46d4d3a871feb19fe1fcd2e": {
      "model_module": "@jupyter-widgets/controls",
      "model_module_version": "1.4.0",
      "model_name": "ButtonStyleModel",
      "state": {}
     },
     "e5e307f168414d6198fe258e41c373bd": {
      "model_module": "@jupyter-widgets/controls",
      "model_module_version": "1.4.0",
      "model_name": "CheckboxModel",
      "state": {
       "description": "occupation",
       "disabled": false,
       "layout": "IPY_MODEL_0d9eac6266de4d43b2d412593c547868",
       "style": "IPY_MODEL_497d9d772841472f8c529c53a9dd246e",
       "value": false
      }
     },
     "e7a47a20a24745b998be228d1c777a23": {
      "model_module": "@jupyter-widgets/controls",
      "model_module_version": "1.4.0",
      "model_name": "ButtonStyleModel",
      "state": {}
     },
     "e84b590d5e25424a80e9b9044443f83b": {
      "model_module": "@jupyter-widgets/base",
      "model_module_version": "1.1.0",
      "model_name": "LayoutModel",
      "state": {}
     },
     "e89506930f1f419a8044b021dc286238": {
      "model_module": "@jupyter-widgets/base",
      "model_module_version": "1.1.0",
      "model_name": "LayoutModel",
      "state": {}
     },
     "eab979ff636d4cda84270def770264a4": {
      "model_module": "@jupyter-widgets/controls",
      "model_module_version": "1.4.0",
      "model_name": "DescriptionStyleModel",
      "state": {
       "description_width": ""
      }
     },
     "eaf4989827f7497a910a83199eeccaf3": {
      "model_module": "@jupyter-widgets/base",
      "model_module_version": "1.1.0",
      "model_name": "LayoutModel",
      "state": {}
     },
     "ec2b7d2e76c046c299af45af2cd44d93": {
      "model_module": "@jupyter-widgets/controls",
      "model_module_version": "1.4.0",
      "model_name": "ButtonModel",
      "state": {
       "description": "Collaborative Based Recommendation for users and movies",
       "layout": "IPY_MODEL_6afc690b3fcc43c4904f82923100d037",
       "style": "IPY_MODEL_ca38c86c2bcf4e74b256a8c3594b7f4e"
      }
     },
     "ec5cb96abec9465f9766e651b4a990b1": {
      "model_module": "@jupyter-widgets/controls",
      "model_module_version": "1.4.0",
      "model_name": "ButtonModel",
      "state": {
       "description": "RBM Based Movie Recommendation",
       "layout": "IPY_MODEL_a45a09c897904b479cf7335f60c4c912",
       "style": "IPY_MODEL_7bc78b1c9d294119beacb68aa76cf98e"
      }
     },
     "ee4f07e653924c4399035911cab15fd9": {
      "model_module": "@jupyter-widgets/controls",
      "model_module_version": "1.4.0",
      "model_name": "ButtonStyleModel",
      "state": {}
     },
     "eeea45484fbb43278e39688761ed8abf": {
      "model_module": "@jupyter-widgets/controls",
      "model_module_version": "1.4.0",
      "model_name": "ButtonStyleModel",
      "state": {}
     },
     "f1c0971fd1754f9182f432e90c7b4a24": {
      "model_module": "@jupyter-widgets/base",
      "model_module_version": "1.1.0",
      "model_name": "LayoutModel",
      "state": {}
     },
     "f2d70b0f441c47d0b68aba04d7a5f471": {
      "model_module": "@jupyter-widgets/output",
      "model_module_version": "1.0.0",
      "model_name": "OutputModel",
      "state": {
       "layout": "IPY_MODEL_7ffcc763fbfa4ee9a3db4cfb0161a1fe",
       "outputs": [
        {
         "data": {
          "text/html": "<div>\n<style scoped>\n    .dataframe tbody tr th:only-of-type {\n        vertical-align: middle;\n    }\n\n    .dataframe tbody tr th {\n        vertical-align: top;\n    }\n\n    .dataframe thead th {\n        text-align: right;\n    }\n</style>\n<table border=\"1\" class=\"dataframe\">\n  <thead>\n    <tr style=\"text-align: right;\">\n      <th></th>\n      <th>user_id</th>\n      <th>age</th>\n      <th>sex</th>\n      <th>occupation</th>\n      <th>zip_code</th>\n    </tr>\n  </thead>\n  <tbody>\n    <tr>\n      <th>0</th>\n      <td>1</td>\n      <td>24</td>\n      <td>M</td>\n      <td>technician</td>\n      <td>85711</td>\n    </tr>\n    <tr>\n      <th>1</th>\n      <td>2</td>\n      <td>53</td>\n      <td>F</td>\n      <td>other</td>\n      <td>94043</td>\n    </tr>\n    <tr>\n      <th>2</th>\n      <td>3</td>\n      <td>23</td>\n      <td>M</td>\n      <td>writer</td>\n      <td>32067</td>\n    </tr>\n    <tr>\n      <th>3</th>\n      <td>4</td>\n      <td>24</td>\n      <td>M</td>\n      <td>technician</td>\n      <td>43537</td>\n    </tr>\n    <tr>\n      <th>4</th>\n      <td>5</td>\n      <td>33</td>\n      <td>F</td>\n      <td>other</td>\n      <td>15213</td>\n    </tr>\n    <tr>\n      <th>5</th>\n      <td>6</td>\n      <td>42</td>\n      <td>M</td>\n      <td>executive</td>\n      <td>98101</td>\n    </tr>\n    <tr>\n      <th>6</th>\n      <td>7</td>\n      <td>57</td>\n      <td>M</td>\n      <td>administrator</td>\n      <td>91344</td>\n    </tr>\n    <tr>\n      <th>7</th>\n      <td>8</td>\n      <td>36</td>\n      <td>M</td>\n      <td>administrator</td>\n      <td>05201</td>\n    </tr>\n    <tr>\n      <th>8</th>\n      <td>9</td>\n      <td>29</td>\n      <td>M</td>\n      <td>student</td>\n      <td>01002</td>\n    </tr>\n    <tr>\n      <th>9</th>\n      <td>10</td>\n      <td>53</td>\n      <td>M</td>\n      <td>lawyer</td>\n      <td>90703</td>\n    </tr>\n    <tr>\n      <th>10</th>\n      <td>11</td>\n      <td>39</td>\n      <td>F</td>\n      <td>other</td>\n      <td>30329</td>\n    </tr>\n    <tr>\n      <th>11</th>\n      <td>12</td>\n      <td>28</td>\n      <td>F</td>\n      <td>other</td>\n      <td>06405</td>\n    </tr>\n    <tr>\n      <th>12</th>\n      <td>13</td>\n      <td>47</td>\n      <td>M</td>\n      <td>educator</td>\n      <td>29206</td>\n    </tr>\n    <tr>\n      <th>13</th>\n      <td>14</td>\n      <td>45</td>\n      <td>M</td>\n      <td>scientist</td>\n      <td>55106</td>\n    </tr>\n    <tr>\n      <th>14</th>\n      <td>15</td>\n      <td>49</td>\n      <td>F</td>\n      <td>educator</td>\n      <td>97301</td>\n    </tr>\n    <tr>\n      <th>15</th>\n      <td>16</td>\n      <td>21</td>\n      <td>M</td>\n      <td>entertainment</td>\n      <td>10309</td>\n    </tr>\n    <tr>\n      <th>16</th>\n      <td>17</td>\n      <td>30</td>\n      <td>M</td>\n      <td>programmer</td>\n      <td>06355</td>\n    </tr>\n    <tr>\n      <th>17</th>\n      <td>18</td>\n      <td>35</td>\n      <td>F</td>\n      <td>other</td>\n      <td>37212</td>\n    </tr>\n    <tr>\n      <th>18</th>\n      <td>19</td>\n      <td>40</td>\n      <td>M</td>\n      <td>librarian</td>\n      <td>02138</td>\n    </tr>\n    <tr>\n      <th>19</th>\n      <td>20</td>\n      <td>42</td>\n      <td>F</td>\n      <td>homemaker</td>\n      <td>95660</td>\n    </tr>\n    <tr>\n      <th>20</th>\n      <td>21</td>\n      <td>26</td>\n      <td>M</td>\n      <td>writer</td>\n      <td>30068</td>\n    </tr>\n    <tr>\n      <th>21</th>\n      <td>22</td>\n      <td>25</td>\n      <td>M</td>\n      <td>writer</td>\n      <td>40206</td>\n    </tr>\n    <tr>\n      <th>22</th>\n      <td>23</td>\n      <td>30</td>\n      <td>F</td>\n      <td>artist</td>\n      <td>48197</td>\n    </tr>\n    <tr>\n      <th>23</th>\n      <td>24</td>\n      <td>21</td>\n      <td>F</td>\n      <td>artist</td>\n      <td>94533</td>\n    </tr>\n    <tr>\n      <th>24</th>\n      <td>25</td>\n      <td>39</td>\n      <td>M</td>\n      <td>engineer</td>\n      <td>55107</td>\n    </tr>\n    <tr>\n      <th>25</th>\n      <td>26</td>\n      <td>49</td>\n      <td>M</td>\n      <td>engineer</td>\n      <td>21044</td>\n    </tr>\n    <tr>\n      <th>26</th>\n      <td>27</td>\n      <td>40</td>\n      <td>F</td>\n      <td>librarian</td>\n      <td>30030</td>\n    </tr>\n    <tr>\n      <th>27</th>\n      <td>28</td>\n      <td>32</td>\n      <td>M</td>\n      <td>writer</td>\n      <td>55369</td>\n    </tr>\n    <tr>\n      <th>28</th>\n      <td>29</td>\n      <td>41</td>\n      <td>M</td>\n      <td>programmer</td>\n      <td>94043</td>\n    </tr>\n    <tr>\n      <th>29</th>\n      <td>30</td>\n      <td>7</td>\n      <td>M</td>\n      <td>student</td>\n      <td>55436</td>\n    </tr>\n    <tr>\n      <th>...</th>\n      <td>...</td>\n      <td>...</td>\n      <td>...</td>\n      <td>...</td>\n      <td>...</td>\n    </tr>\n    <tr>\n      <th>913</th>\n      <td>914</td>\n      <td>44</td>\n      <td>F</td>\n      <td>other</td>\n      <td>08105</td>\n    </tr>\n    <tr>\n      <th>914</th>\n      <td>915</td>\n      <td>50</td>\n      <td>M</td>\n      <td>entertainment</td>\n      <td>60614</td>\n    </tr>\n    <tr>\n      <th>915</th>\n      <td>916</td>\n      <td>27</td>\n      <td>M</td>\n      <td>engineer</td>\n      <td>N2L5N</td>\n    </tr>\n    <tr>\n      <th>916</th>\n      <td>917</td>\n      <td>22</td>\n      <td>F</td>\n      <td>student</td>\n      <td>20006</td>\n    </tr>\n    <tr>\n      <th>917</th>\n      <td>918</td>\n      <td>40</td>\n      <td>M</td>\n      <td>scientist</td>\n      <td>70116</td>\n    </tr>\n    <tr>\n      <th>918</th>\n      <td>919</td>\n      <td>25</td>\n      <td>M</td>\n      <td>other</td>\n      <td>14216</td>\n    </tr>\n    <tr>\n      <th>919</th>\n      <td>920</td>\n      <td>30</td>\n      <td>F</td>\n      <td>artist</td>\n      <td>90008</td>\n    </tr>\n    <tr>\n      <th>920</th>\n      <td>921</td>\n      <td>20</td>\n      <td>F</td>\n      <td>student</td>\n      <td>98801</td>\n    </tr>\n    <tr>\n      <th>921</th>\n      <td>922</td>\n      <td>29</td>\n      <td>F</td>\n      <td>administrator</td>\n      <td>21114</td>\n    </tr>\n    <tr>\n      <th>922</th>\n      <td>923</td>\n      <td>21</td>\n      <td>M</td>\n      <td>student</td>\n      <td>E2E3R</td>\n    </tr>\n    <tr>\n      <th>923</th>\n      <td>924</td>\n      <td>29</td>\n      <td>M</td>\n      <td>other</td>\n      <td>11753</td>\n    </tr>\n    <tr>\n      <th>924</th>\n      <td>925</td>\n      <td>18</td>\n      <td>F</td>\n      <td>salesman</td>\n      <td>49036</td>\n    </tr>\n    <tr>\n      <th>925</th>\n      <td>926</td>\n      <td>49</td>\n      <td>M</td>\n      <td>entertainment</td>\n      <td>01701</td>\n    </tr>\n    <tr>\n      <th>926</th>\n      <td>927</td>\n      <td>23</td>\n      <td>M</td>\n      <td>programmer</td>\n      <td>55428</td>\n    </tr>\n    <tr>\n      <th>927</th>\n      <td>928</td>\n      <td>21</td>\n      <td>M</td>\n      <td>student</td>\n      <td>55408</td>\n    </tr>\n    <tr>\n      <th>928</th>\n      <td>929</td>\n      <td>44</td>\n      <td>M</td>\n      <td>scientist</td>\n      <td>53711</td>\n    </tr>\n    <tr>\n      <th>929</th>\n      <td>930</td>\n      <td>28</td>\n      <td>F</td>\n      <td>scientist</td>\n      <td>07310</td>\n    </tr>\n    <tr>\n      <th>930</th>\n      <td>931</td>\n      <td>60</td>\n      <td>M</td>\n      <td>educator</td>\n      <td>33556</td>\n    </tr>\n    <tr>\n      <th>931</th>\n      <td>932</td>\n      <td>58</td>\n      <td>M</td>\n      <td>educator</td>\n      <td>06437</td>\n    </tr>\n    <tr>\n      <th>932</th>\n      <td>933</td>\n      <td>28</td>\n      <td>M</td>\n      <td>student</td>\n      <td>48105</td>\n    </tr>\n    <tr>\n      <th>933</th>\n      <td>934</td>\n      <td>61</td>\n      <td>M</td>\n      <td>engineer</td>\n      <td>22902</td>\n    </tr>\n    <tr>\n      <th>934</th>\n      <td>935</td>\n      <td>42</td>\n      <td>M</td>\n      <td>doctor</td>\n      <td>66221</td>\n    </tr>\n    <tr>\n      <th>935</th>\n      <td>936</td>\n      <td>24</td>\n      <td>M</td>\n      <td>other</td>\n      <td>32789</td>\n    </tr>\n    <tr>\n      <th>936</th>\n      <td>937</td>\n      <td>48</td>\n      <td>M</td>\n      <td>educator</td>\n      <td>98072</td>\n    </tr>\n    <tr>\n      <th>937</th>\n      <td>938</td>\n      <td>38</td>\n      <td>F</td>\n      <td>technician</td>\n      <td>55038</td>\n    </tr>\n    <tr>\n      <th>938</th>\n      <td>939</td>\n      <td>26</td>\n      <td>F</td>\n      <td>student</td>\n      <td>33319</td>\n    </tr>\n    <tr>\n      <th>939</th>\n      <td>940</td>\n      <td>32</td>\n      <td>M</td>\n      <td>administrator</td>\n      <td>02215</td>\n    </tr>\n    <tr>\n      <th>940</th>\n      <td>941</td>\n      <td>20</td>\n      <td>M</td>\n      <td>student</td>\n      <td>97229</td>\n    </tr>\n    <tr>\n      <th>941</th>\n      <td>942</td>\n      <td>48</td>\n      <td>F</td>\n      <td>librarian</td>\n      <td>78209</td>\n    </tr>\n    <tr>\n      <th>942</th>\n      <td>943</td>\n      <td>22</td>\n      <td>M</td>\n      <td>student</td>\n      <td>77841</td>\n    </tr>\n  </tbody>\n</table>\n<p>943 rows × 5 columns</p>\n</div>",
          "text/plain": "     user_id  age sex     occupation zip_code\n0          1   24   M     technician    85711\n1          2   53   F          other    94043\n2          3   23   M         writer    32067\n3          4   24   M     technician    43537\n4          5   33   F          other    15213\n5          6   42   M      executive    98101\n6          7   57   M  administrator    91344\n7          8   36   M  administrator    05201\n8          9   29   M        student    01002\n9         10   53   M         lawyer    90703\n10        11   39   F          other    30329\n11        12   28   F          other    06405\n12        13   47   M       educator    29206\n13        14   45   M      scientist    55106\n14        15   49   F       educator    97301\n15        16   21   M  entertainment    10309\n16        17   30   M     programmer    06355\n17        18   35   F          other    37212\n18        19   40   M      librarian    02138\n19        20   42   F      homemaker    95660\n20        21   26   M         writer    30068\n21        22   25   M         writer    40206\n22        23   30   F         artist    48197\n23        24   21   F         artist    94533\n24        25   39   M       engineer    55107\n25        26   49   M       engineer    21044\n26        27   40   F      librarian    30030\n27        28   32   M         writer    55369\n28        29   41   M     programmer    94043\n29        30    7   M        student    55436\n..       ...  ...  ..            ...      ...\n913      914   44   F          other    08105\n914      915   50   M  entertainment    60614\n915      916   27   M       engineer    N2L5N\n916      917   22   F        student    20006\n917      918   40   M      scientist    70116\n918      919   25   M          other    14216\n919      920   30   F         artist    90008\n920      921   20   F        student    98801\n921      922   29   F  administrator    21114\n922      923   21   M        student    E2E3R\n923      924   29   M          other    11753\n924      925   18   F       salesman    49036\n925      926   49   M  entertainment    01701\n926      927   23   M     programmer    55428\n927      928   21   M        student    55408\n928      929   44   M      scientist    53711\n929      930   28   F      scientist    07310\n930      931   60   M       educator    33556\n931      932   58   M       educator    06437\n932      933   28   M        student    48105\n933      934   61   M       engineer    22902\n934      935   42   M         doctor    66221\n935      936   24   M          other    32789\n936      937   48   M       educator    98072\n937      938   38   F     technician    55038\n938      939   26   F        student    33319\n939      940   32   M  administrator    02215\n940      941   20   M        student    97229\n941      942   48   F      librarian    78209\n942      943   22   M        student    77841\n\n[943 rows x 5 columns]"
         },
         "metadata": {},
         "output_type": "display_data"
        }
       ]
      }
     },
     "f64fb0e3da7a459683a7b0d948a108a3": {
      "model_module": "@jupyter-widgets/controls",
      "model_module_version": "1.4.0",
      "model_name": "ButtonModel",
      "state": {
       "description": "Contest Based Movie Recommendation",
       "layout": "IPY_MODEL_fb7e8067ea10461196463098aaa14505",
       "style": "IPY_MODEL_0f8a920232a14bd9ba5a6371e6a2a3fa"
      }
     },
     "f75192547eb041c5b6f2245c30c3f4af": {
      "model_module": "@jupyter-widgets/controls",
      "model_module_version": "1.4.0",
      "model_name": "ButtonModel",
      "state": {
       "description": "Contest Based Movie Recommendation",
       "layout": "IPY_MODEL_3afe661e3dd042f6b6c7912232e5de0f",
       "style": "IPY_MODEL_9e3a441211554e1988ef42a439017132"
      }
     },
     "f961a50d664e4aec86722b2d299a5241": {
      "model_module": "@jupyter-widgets/controls",
      "model_module_version": "1.4.0",
      "model_name": "ButtonStyleModel",
      "state": {}
     },
     "f9d01246631842acb5e2882524d73482": {
      "model_module": "@jupyter-widgets/controls",
      "model_module_version": "1.4.0",
      "model_name": "CheckboxModel",
      "state": {
       "description": "sex",
       "disabled": false,
       "layout": "IPY_MODEL_d588146b7b424ae6a67d5c34619d74c1",
       "style": "IPY_MODEL_940034832c37488c92fbf6d9298e7420",
       "value": false
      }
     },
     "fa77f3e5d78847c6b25c5e1f0ec5ad1f": {
      "model_module": "@jupyter-widgets/base",
      "model_module_version": "1.1.0",
      "model_name": "LayoutModel",
      "state": {}
     },
     "fb1dedd83d194912969a39dcd0c3f82d": {
      "model_module": "@jupyter-widgets/controls",
      "model_module_version": "1.4.0",
      "model_name": "DescriptionStyleModel",
      "state": {
       "description_width": ""
      }
     },
     "fb704af723b4497789d8cade8ac2ff2e": {
      "model_module": "@jupyter-widgets/base",
      "model_module_version": "1.1.0",
      "model_name": "LayoutModel",
      "state": {}
     },
     "fb7e8067ea10461196463098aaa14505": {
      "model_module": "@jupyter-widgets/base",
      "model_module_version": "1.1.0",
      "model_name": "LayoutModel",
      "state": {}
     },
     "fc1849e6ea4e452e941158c3a635ad16": {
      "model_module": "@jupyter-widgets/base",
      "model_module_version": "1.1.0",
      "model_name": "LayoutModel",
      "state": {}
     },
     "fc5d0b8c00f64705b5aec629530974d5": {
      "model_module": "@jupyter-widgets/base",
      "model_module_version": "1.1.0",
      "model_name": "LayoutModel",
      "state": {}
     },
     "fd1a804a739b48bcb7c993909d51e456": {
      "model_module": "@jupyter-widgets/controls",
      "model_module_version": "1.4.0",
      "model_name": "ButtonStyleModel",
      "state": {}
     },
     "fdf6abd533e544f4a5d60b9f13932bc8": {
      "model_module": "@jupyter-widgets/base",
      "model_module_version": "1.1.0",
      "model_name": "LayoutModel",
      "state": {}
     },
     "ff56f9c96c8d4b1f83a557cdad24ab61": {
      "model_module": "@jupyter-widgets/base",
      "model_module_version": "1.1.0",
      "model_name": "LayoutModel",
      "state": {}
     }
    },
    "version_major": 2,
    "version_minor": 0
   }
  }
 },
 "nbformat": 4,
 "nbformat_minor": 2
}
