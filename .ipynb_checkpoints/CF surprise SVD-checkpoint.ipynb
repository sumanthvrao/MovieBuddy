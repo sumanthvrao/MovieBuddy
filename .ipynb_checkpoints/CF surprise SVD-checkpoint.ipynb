{
 "cells": [
  {
   "cell_type": "code",
   "execution_count": 4,
   "metadata": {},
   "outputs": [],
   "source": [
    "import pandas as pd\n",
    "links = pd.read_csv('D:/sortedbysuraj5.0/data_analytics/DA project/ml-latest-small/links.csv')\n",
    "movies= pd.read_csv('D:/sortedbysuraj5.0/data_analytics/DA project/ml-latest-small/movies.csv')\n",
    "ratings = pd.read_csv('D:/sortedbysuraj5.0/data_analytics/DA project/ml-latest-small/ratings.csv')\n",
    "tags = pd.read_csv('D:/sortedbysuraj5.0/data_analytics/DA project/ml-latest-small/tags.csv')\n"
   ]
  },
  {
   "cell_type": "code",
   "execution_count": 29,
   "metadata": {},
   "outputs": [
    {
     "name": "stdout",
     "output_type": "stream",
     "text": [
      "   movieId  imdbId   tmdbId\n",
      "0        1  114709    862.0\n",
      "1        2  113497   8844.0\n",
      "2        3  113228  15602.0\n",
      "3        4  114885  31357.0\n",
      "4        5  113041  11862.0\n",
      "--------------------\n",
      "Number of unique movie-Ids\n"
     ]
    },
    {
     "data": {
      "text/plain": [
       "9125"
      ]
     },
     "execution_count": 29,
     "metadata": {},
     "output_type": "execute_result"
    }
   ],
   "source": [
    "print (links[0:5])\n",
    "print(\"--------------------\")\n",
    "print(\"Number of unique movie-Ids\")\n",
    "links.T.apply(lambda x: x.nunique(), axis=1)[0]\n"
   ]
  },
  {
   "cell_type": "code",
   "execution_count": 30,
   "metadata": {},
   "outputs": [
    {
     "name": "stdout",
     "output_type": "stream",
     "text": [
      "   movieId                               title  \\\n",
      "0        1                    Toy Story (1995)   \n",
      "1        2                      Jumanji (1995)   \n",
      "2        3             Grumpier Old Men (1995)   \n",
      "3        4            Waiting to Exhale (1995)   \n",
      "4        5  Father of the Bride Part II (1995)   \n",
      "\n",
      "                                        genres  \n",
      "0  Adventure|Animation|Children|Comedy|Fantasy  \n",
      "1                   Adventure|Children|Fantasy  \n",
      "2                               Comedy|Romance  \n",
      "3                         Comedy|Drama|Romance  \n",
      "4                                       Comedy  \n",
      "--------------------\n",
      "list of genres\n",
      "\n",
      "Action,Adventure,Animation,Children's,Comedy,Crime,Documentary,Drama,Fantasy,Film-Noir,Horror,Musical,Mystery,Romance,Sci-Fi,Thriller,War,Western\n"
     ]
    }
   ],
   "source": [
    "print (movies[0:5])\n",
    "movies.T.apply(lambda x: x.nunique(), axis=1)\n",
    "print(\"--------------------\")\n",
    "print(\"list of genres\\n\")\n",
    "print(\"Action,Adventure,Animation,Children's,Comedy,Crime,Documentary,Drama,Fantasy,Film-Noir,Horror,Musical,Mystery,Romance,Sci-Fi,Thriller,War,Western\")"
   ]
  },
  {
   "cell_type": "code",
   "execution_count": 28,
   "metadata": {},
   "outputs": [
    {
     "name": "stdout",
     "output_type": "stream",
     "text": [
      "   userId  movieId  rating   timestamp\n",
      "0       1       31     2.5  1260759144\n",
      "1       1     1029     3.0  1260759179\n",
      "2       1     1061     3.0  1260759182\n",
      "3       1     1129     2.0  1260759185\n",
      "4       1     1172     4.0  1260759205\n",
      "--------------------\n",
      "number of unique user-ids\n"
     ]
    },
    {
     "data": {
      "text/plain": [
       "671"
      ]
     },
     "execution_count": 28,
     "metadata": {},
     "output_type": "execute_result"
    }
   ],
   "source": [
    "print (ratings[0:5])\n",
    "print(\"--------------------\")\n",
    "print(\"number of unique user-ids\")\n",
    "ratings.T.apply(lambda x: x.nunique(), axis=1)[0]\n"
   ]
  },
  {
   "cell_type": "code",
   "execution_count": 31,
   "metadata": {},
   "outputs": [
    {
     "name": "stdout",
     "output_type": "stream",
     "text": [
      "   userId  movieId                      tag   timestamp\n",
      "0      15      339  sandra 'boring' bullock  1138537770\n",
      "1      15     1955                  dentist  1193435061\n",
      "2      15     7478                 Cambodia  1170560997\n",
      "3      15    32892                  Russian  1170626366\n",
      "4      15    34162              forgettable  1141391765\n"
     ]
    }
   ],
   "source": [
    "print (tags[0:5])\n"
   ]
  },
  {
   "cell_type": "code",
   "execution_count": null,
   "metadata": {
    "collapsed": true
   },
   "outputs": [],
   "source": []
  }
 ],
 "metadata": {
  "kernelspec": {
   "display_name": "Python 3",
   "language": "python",
   "name": "python3"
  },
  "language_info": {
   "codemirror_mode": {
    "name": "ipython",
    "version": 3
   },
   "file_extension": ".py",
   "mimetype": "text/x-python",
   "name": "python",
   "nbconvert_exporter": "python",
   "pygments_lexer": "ipython3",
   "version": "3.6.1"
  }
 },
 "nbformat": 4,
 "nbformat_minor": 2
}
