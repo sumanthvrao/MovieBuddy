{
 "cells": [
  {
   "cell_type": "code",
   "execution_count": 1,
   "metadata": {},
   "outputs": [
    {
     "name": "stderr",
     "output_type": "stream",
     "text": [
      "/home/sumanthvrao/anaconda3/envs/deepl/lib/python3.5/site-packages/IPython/html.py:14: ShimWarning: The `IPython.html` package has been deprecated since IPython 4.0. You should import from `notebook` instead. `IPython.html.widgets` has moved to `ipywidgets`.\n",
      "  \"`IPython.html.widgets` has moved to `ipywidgets`.\", ShimWarning)\n"
     ]
    }
   ],
   "source": [
    "#importing all necessary librarys\n",
    "import pandas as pd\n",
    "import matplotlib.pyplot as plt\n",
    "from ipywidgets import widgets\n",
    "import import_ipynb\n",
    "from IPython.html.widgets import *\n",
    "from IPython.display import display\n",
    "from IPython.html import widgets"
   ]
  },
  {
   "cell_type": "code",
   "execution_count": 2,
   "metadata": {},
   "outputs": [],
   "source": [
    "u_cols = ['user_id', 'age', 'sex', 'occupation', 'zip_code']\n",
    "user_df = pd.read_csv('ml-100k/u.user', sep='|', names=u_cols,\n",
    "                    encoding='latin-1', parse_dates=True) "
   ]
  },
  {
   "cell_type": "code",
   "execution_count": 3,
   "metadata": {},
   "outputs": [
    {
     "data": {
      "text/html": [
       "<div>\n",
       "<style scoped>\n",
       "    .dataframe tbody tr th:only-of-type {\n",
       "        vertical-align: middle;\n",
       "    }\n",
       "\n",
       "    .dataframe tbody tr th {\n",
       "        vertical-align: top;\n",
       "    }\n",
       "\n",
       "    .dataframe thead th {\n",
       "        text-align: right;\n",
       "    }\n",
       "</style>\n",
       "<table border=\"1\" class=\"dataframe\">\n",
       "  <thead>\n",
       "    <tr style=\"text-align: right;\">\n",
       "      <th></th>\n",
       "      <th>user_id</th>\n",
       "      <th>age</th>\n",
       "      <th>sex</th>\n",
       "      <th>occupation</th>\n",
       "      <th>zip_code</th>\n",
       "    </tr>\n",
       "  </thead>\n",
       "  <tbody>\n",
       "    <tr>\n",
       "      <th>0</th>\n",
       "      <td>1</td>\n",
       "      <td>24</td>\n",
       "      <td>M</td>\n",
       "      <td>technician</td>\n",
       "      <td>85711</td>\n",
       "    </tr>\n",
       "    <tr>\n",
       "      <th>1</th>\n",
       "      <td>2</td>\n",
       "      <td>53</td>\n",
       "      <td>F</td>\n",
       "      <td>other</td>\n",
       "      <td>94043</td>\n",
       "    </tr>\n",
       "    <tr>\n",
       "      <th>2</th>\n",
       "      <td>3</td>\n",
       "      <td>23</td>\n",
       "      <td>M</td>\n",
       "      <td>writer</td>\n",
       "      <td>32067</td>\n",
       "    </tr>\n",
       "    <tr>\n",
       "      <th>3</th>\n",
       "      <td>4</td>\n",
       "      <td>24</td>\n",
       "      <td>M</td>\n",
       "      <td>technician</td>\n",
       "      <td>43537</td>\n",
       "    </tr>\n",
       "    <tr>\n",
       "      <th>4</th>\n",
       "      <td>5</td>\n",
       "      <td>33</td>\n",
       "      <td>F</td>\n",
       "      <td>other</td>\n",
       "      <td>15213</td>\n",
       "    </tr>\n",
       "  </tbody>\n",
       "</table>\n",
       "</div>"
      ],
      "text/plain": [
       "   user_id  age sex  occupation zip_code\n",
       "0        1   24   M  technician    85711\n",
       "1        2   53   F       other    94043\n",
       "2        3   23   M      writer    32067\n",
       "3        4   24   M  technician    43537\n",
       "4        5   33   F       other    15213"
      ]
     },
     "execution_count": 3,
     "metadata": {},
     "output_type": "execute_result"
    }
   ],
   "source": [
    "user_df.head()"
   ]
  },
  {
   "cell_type": "code",
   "execution_count": 4,
   "metadata": {},
   "outputs": [
    {
     "name": "stdout",
     "output_type": "stream",
     "text": [
      "Choose your options: \n"
     ]
    },
    {
     "data": {
      "application/vnd.jupyter.widget-view+json": {
       "model_id": "7271c86bd8d140a5a898b8c2abba02b7",
       "version_major": 2,
       "version_minor": 0
      },
      "text/plain": [
       "interactive(children=(Checkbox(value=False, description='age'), Checkbox(value=False, description='sex'), Chec…"
      ]
     },
     "metadata": {},
     "output_type": "display_data"
    }
   ],
   "source": [
    "def filter_data(ip_df):\n",
    "    \n",
    "    def select_gender(gender):\n",
    "        if(gender==\"Male\"):\n",
    "            gender=\"M\"\n",
    "        else:\n",
    "            gender=\"F\"\n",
    "        filtered_df = ip_df.loc[ip_df['sex'] == gender]\n",
    "        display(filtered_df)\n",
    "\n",
    "    \n",
    "    def select_age(age):\n",
    "        filtered_df = ip_df.loc[ip_df['age'] == age]\n",
    "        display(filtered_df)\n",
    "        \n",
    "    def select_occupation(occupation):\n",
    "        filtered_df = ip_df.loc[ip_df['occupation']==occupation]\n",
    "        display(filtered_df)\n",
    "        \n",
    "    max_age = ip_df.loc[ip_df['age'].idxmax()]['age']\n",
    "    min_age = ip_df.loc[ip_df['age'].idxmin()]['age']\n",
    "        \n",
    "    print(\"Choose your options: \")\n",
    "    @interact(age=False,sex=False,occupation=False)\n",
    "    def g(age, sex,occupation):\n",
    "        if(age==True and sex==False and occupation==False):\n",
    "            #print(\"TFF\")\n",
    "            returned_df = interact(select_age,age=(min_age,max_age,1))\n",
    "            \n",
    "        elif(age==False and sex==True and occupation==False):\n",
    "            #print(\"FTF\")\n",
    "            returned_df = interact(select_gender,gender=[\"Male\",\"Female\"])\n",
    "        \n",
    "        elif(age==False and sex==False and occupation==True):\n",
    "            #print(\"FFT\")\n",
    "            occupations = ip_df['occupation'].unique().tolist()\n",
    "            returned_df = interact(select_occupation,occupation=occupations)\n",
    "            \n",
    "        elif(age==True and sex==True and occupation==False):\n",
    "            #print(\"TTF\")\n",
    "            @interact(age=(min_age,max_age,1),gender=[\"Male\",\"Female\"])\n",
    "            def select_age_sex(age,gender):\n",
    "                if(gender==\"Male\"):\n",
    "                    gender=\"M\"\n",
    "                else:\n",
    "                    gender=\"F\"\n",
    "                filtered_df = ip_df.loc[ip_df['age'] == age]\n",
    "                filtered_df = filtered_df.loc[filtered_df['sex']==gender]\n",
    "                display(filtered_df)\n",
    "        \n",
    "        elif(age==False and sex==True and occupation==True):\n",
    "            #print(\"FTT\")\n",
    "            occupations = ip_df['occupation'].unique().tolist()\n",
    "            @interact(gender=[\"Male\",\"Female\"],occupation=occupations)\n",
    "            def select_age_sex(gender,occupation):\n",
    "                if(gender==\"Male\"):\n",
    "                    gender=\"M\"\n",
    "                else:\n",
    "                    gender=\"F\"\n",
    "                filtered_df = ip_df.loc[ip_df['sex']==gender]\n",
    "                filtered_df = filtered_df[filtered_df['occupation']==occupation]\n",
    "                display(filtered_df)\n",
    "            \n",
    "        elif(age==True and sex==False and occupation==True):\n",
    "            #print(\"TFT\")\n",
    "            occupations = ip_df['occupation'].unique().tolist()\n",
    "            @interact(age=(min_age,max_age,1),occupation=occupations)\n",
    "            def select_age_sex(age,occupation):\n",
    "                filtered_df = ip_df.loc[ip_df['age'] == age]\n",
    "                filtered_df = filtered_df[filtered_df['occupation']==occupation]\n",
    "                display(filtered_df)\n",
    "                \n",
    "        elif(age==True and sex==True and occupation==True):\n",
    "            #print(\"TTT\")\n",
    "            occupations = ip_df['occupation'].unique().tolist()\n",
    "            @interact(age=(min_age,max_age,1),occupation=occupations,gender=[\"Male\",\"Female\"])\n",
    "            def select_age_sex(age,occupation,gender):\n",
    "                if(gender==\"Male\"):\n",
    "                    gender=\"M\"\n",
    "                else:\n",
    "                    gender=\"F\"\n",
    "                filtered_df = ip_df.loc[ip_df['age'] == age]\n",
    "                filtered_df = filtered_df[filtered_df['occupation']==occupation]\n",
    "                filtered_df = filtered_df.loc[filtered_df['sex']==gender]\n",
    "                display(filtered_df)\n",
    "        \n",
    "        else:\n",
    "            #print(\"FFF\")\n",
    "            display(ip_df)\n",
    "        #return(age,sex,occupation)\n",
    "        \n",
    "filter_data(user_df)"
   ]
  }
 ],
 "metadata": {
  "kernelspec": {
   "display_name": "Deep Learning",
   "language": "python",
   "name": "deepl"
  },
  "language_info": {
   "codemirror_mode": {
    "name": "ipython",
    "version": 3
   },
   "file_extension": ".py",
   "mimetype": "text/x-python",
   "name": "python",
   "nbconvert_exporter": "python",
   "pygments_lexer": "ipython3",
   "version": "3.5.4"
  },
  "widgets": {
   "application/vnd.jupyter.widget-state+json": {
    "state": {
     "0f2bce5890da45bf9a49f9023be54a9f": {
      "model_module": "@jupyter-widgets/controls",
      "model_module_version": "1.4.0",
      "model_name": "CheckboxModel",
      "state": {
       "description": "occupation",
       "disabled": false,
       "layout": "IPY_MODEL_395e18a57ed641b7876a8882c657901e",
       "style": "IPY_MODEL_c923e382488a4daab5f1a7e92ca5a717",
       "value": false
      }
     },
     "395e18a57ed641b7876a8882c657901e": {
      "model_module": "@jupyter-widgets/base",
      "model_module_version": "1.1.0",
      "model_name": "LayoutModel",
      "state": {}
     },
     "6cd5d355caf743e78abac0efa6214e6d": {
      "model_module": "@jupyter-widgets/controls",
      "model_module_version": "1.4.0",
      "model_name": "CheckboxModel",
      "state": {
       "description": "sex",
       "disabled": false,
       "layout": "IPY_MODEL_d66f74d18df848c8b205dc6f17643db0",
       "style": "IPY_MODEL_b80bef4c7e1e435ea8b87caeab3de889",
       "value": false
      }
     },
     "7271c86bd8d140a5a898b8c2abba02b7": {
      "model_module": "@jupyter-widgets/controls",
      "model_module_version": "1.4.0",
      "model_name": "VBoxModel",
      "state": {
       "_dom_classes": [
        "widget-interact"
       ],
       "children": [
        "IPY_MODEL_7c1d505b17d74f03b39f858f80eda57a",
        "IPY_MODEL_6cd5d355caf743e78abac0efa6214e6d",
        "IPY_MODEL_0f2bce5890da45bf9a49f9023be54a9f",
        "IPY_MODEL_8d0416764bb4440abdbaf2df714bc094"
       ],
       "layout": "IPY_MODEL_8169978b6e19486cb4517e3911eff665"
      }
     },
     "7c1d505b17d74f03b39f858f80eda57a": {
      "model_module": "@jupyter-widgets/controls",
      "model_module_version": "1.4.0",
      "model_name": "CheckboxModel",
      "state": {
       "description": "age",
       "disabled": false,
       "layout": "IPY_MODEL_a29df141a4d941e0aef5fca0b654797c",
       "style": "IPY_MODEL_dfacce18506e48e0b170df5b02b93356",
       "value": false
      }
     },
     "8169978b6e19486cb4517e3911eff665": {
      "model_module": "@jupyter-widgets/base",
      "model_module_version": "1.1.0",
      "model_name": "LayoutModel",
      "state": {}
     },
     "8d0416764bb4440abdbaf2df714bc094": {
      "model_module": "@jupyter-widgets/output",
      "model_module_version": "1.0.0",
      "model_name": "OutputModel",
      "state": {
       "layout": "IPY_MODEL_e64f74b5dec547c48a712d0d5f683656",
       "outputs": [
        {
         "data": {
          "text/html": "<div>\n<style scoped>\n    .dataframe tbody tr th:only-of-type {\n        vertical-align: middle;\n    }\n\n    .dataframe tbody tr th {\n        vertical-align: top;\n    }\n\n    .dataframe thead th {\n        text-align: right;\n    }\n</style>\n<table border=\"1\" class=\"dataframe\">\n  <thead>\n    <tr style=\"text-align: right;\">\n      <th></th>\n      <th>user_id</th>\n      <th>age</th>\n      <th>sex</th>\n      <th>occupation</th>\n      <th>zip_code</th>\n    </tr>\n  </thead>\n  <tbody>\n    <tr>\n      <th>0</th>\n      <td>1</td>\n      <td>24</td>\n      <td>M</td>\n      <td>technician</td>\n      <td>85711</td>\n    </tr>\n    <tr>\n      <th>1</th>\n      <td>2</td>\n      <td>53</td>\n      <td>F</td>\n      <td>other</td>\n      <td>94043</td>\n    </tr>\n    <tr>\n      <th>2</th>\n      <td>3</td>\n      <td>23</td>\n      <td>M</td>\n      <td>writer</td>\n      <td>32067</td>\n    </tr>\n    <tr>\n      <th>3</th>\n      <td>4</td>\n      <td>24</td>\n      <td>M</td>\n      <td>technician</td>\n      <td>43537</td>\n    </tr>\n    <tr>\n      <th>4</th>\n      <td>5</td>\n      <td>33</td>\n      <td>F</td>\n      <td>other</td>\n      <td>15213</td>\n    </tr>\n    <tr>\n      <th>5</th>\n      <td>6</td>\n      <td>42</td>\n      <td>M</td>\n      <td>executive</td>\n      <td>98101</td>\n    </tr>\n    <tr>\n      <th>6</th>\n      <td>7</td>\n      <td>57</td>\n      <td>M</td>\n      <td>administrator</td>\n      <td>91344</td>\n    </tr>\n    <tr>\n      <th>7</th>\n      <td>8</td>\n      <td>36</td>\n      <td>M</td>\n      <td>administrator</td>\n      <td>05201</td>\n    </tr>\n    <tr>\n      <th>8</th>\n      <td>9</td>\n      <td>29</td>\n      <td>M</td>\n      <td>student</td>\n      <td>01002</td>\n    </tr>\n    <tr>\n      <th>9</th>\n      <td>10</td>\n      <td>53</td>\n      <td>M</td>\n      <td>lawyer</td>\n      <td>90703</td>\n    </tr>\n    <tr>\n      <th>10</th>\n      <td>11</td>\n      <td>39</td>\n      <td>F</td>\n      <td>other</td>\n      <td>30329</td>\n    </tr>\n    <tr>\n      <th>11</th>\n      <td>12</td>\n      <td>28</td>\n      <td>F</td>\n      <td>other</td>\n      <td>06405</td>\n    </tr>\n    <tr>\n      <th>12</th>\n      <td>13</td>\n      <td>47</td>\n      <td>M</td>\n      <td>educator</td>\n      <td>29206</td>\n    </tr>\n    <tr>\n      <th>13</th>\n      <td>14</td>\n      <td>45</td>\n      <td>M</td>\n      <td>scientist</td>\n      <td>55106</td>\n    </tr>\n    <tr>\n      <th>14</th>\n      <td>15</td>\n      <td>49</td>\n      <td>F</td>\n      <td>educator</td>\n      <td>97301</td>\n    </tr>\n    <tr>\n      <th>15</th>\n      <td>16</td>\n      <td>21</td>\n      <td>M</td>\n      <td>entertainment</td>\n      <td>10309</td>\n    </tr>\n    <tr>\n      <th>16</th>\n      <td>17</td>\n      <td>30</td>\n      <td>M</td>\n      <td>programmer</td>\n      <td>06355</td>\n    </tr>\n    <tr>\n      <th>17</th>\n      <td>18</td>\n      <td>35</td>\n      <td>F</td>\n      <td>other</td>\n      <td>37212</td>\n    </tr>\n    <tr>\n      <th>18</th>\n      <td>19</td>\n      <td>40</td>\n      <td>M</td>\n      <td>librarian</td>\n      <td>02138</td>\n    </tr>\n    <tr>\n      <th>19</th>\n      <td>20</td>\n      <td>42</td>\n      <td>F</td>\n      <td>homemaker</td>\n      <td>95660</td>\n    </tr>\n    <tr>\n      <th>20</th>\n      <td>21</td>\n      <td>26</td>\n      <td>M</td>\n      <td>writer</td>\n      <td>30068</td>\n    </tr>\n    <tr>\n      <th>21</th>\n      <td>22</td>\n      <td>25</td>\n      <td>M</td>\n      <td>writer</td>\n      <td>40206</td>\n    </tr>\n    <tr>\n      <th>22</th>\n      <td>23</td>\n      <td>30</td>\n      <td>F</td>\n      <td>artist</td>\n      <td>48197</td>\n    </tr>\n    <tr>\n      <th>23</th>\n      <td>24</td>\n      <td>21</td>\n      <td>F</td>\n      <td>artist</td>\n      <td>94533</td>\n    </tr>\n    <tr>\n      <th>24</th>\n      <td>25</td>\n      <td>39</td>\n      <td>M</td>\n      <td>engineer</td>\n      <td>55107</td>\n    </tr>\n    <tr>\n      <th>25</th>\n      <td>26</td>\n      <td>49</td>\n      <td>M</td>\n      <td>engineer</td>\n      <td>21044</td>\n    </tr>\n    <tr>\n      <th>26</th>\n      <td>27</td>\n      <td>40</td>\n      <td>F</td>\n      <td>librarian</td>\n      <td>30030</td>\n    </tr>\n    <tr>\n      <th>27</th>\n      <td>28</td>\n      <td>32</td>\n      <td>M</td>\n      <td>writer</td>\n      <td>55369</td>\n    </tr>\n    <tr>\n      <th>28</th>\n      <td>29</td>\n      <td>41</td>\n      <td>M</td>\n      <td>programmer</td>\n      <td>94043</td>\n    </tr>\n    <tr>\n      <th>29</th>\n      <td>30</td>\n      <td>7</td>\n      <td>M</td>\n      <td>student</td>\n      <td>55436</td>\n    </tr>\n    <tr>\n      <th>...</th>\n      <td>...</td>\n      <td>...</td>\n      <td>...</td>\n      <td>...</td>\n      <td>...</td>\n    </tr>\n    <tr>\n      <th>913</th>\n      <td>914</td>\n      <td>44</td>\n      <td>F</td>\n      <td>other</td>\n      <td>08105</td>\n    </tr>\n    <tr>\n      <th>914</th>\n      <td>915</td>\n      <td>50</td>\n      <td>M</td>\n      <td>entertainment</td>\n      <td>60614</td>\n    </tr>\n    <tr>\n      <th>915</th>\n      <td>916</td>\n      <td>27</td>\n      <td>M</td>\n      <td>engineer</td>\n      <td>N2L5N</td>\n    </tr>\n    <tr>\n      <th>916</th>\n      <td>917</td>\n      <td>22</td>\n      <td>F</td>\n      <td>student</td>\n      <td>20006</td>\n    </tr>\n    <tr>\n      <th>917</th>\n      <td>918</td>\n      <td>40</td>\n      <td>M</td>\n      <td>scientist</td>\n      <td>70116</td>\n    </tr>\n    <tr>\n      <th>918</th>\n      <td>919</td>\n      <td>25</td>\n      <td>M</td>\n      <td>other</td>\n      <td>14216</td>\n    </tr>\n    <tr>\n      <th>919</th>\n      <td>920</td>\n      <td>30</td>\n      <td>F</td>\n      <td>artist</td>\n      <td>90008</td>\n    </tr>\n    <tr>\n      <th>920</th>\n      <td>921</td>\n      <td>20</td>\n      <td>F</td>\n      <td>student</td>\n      <td>98801</td>\n    </tr>\n    <tr>\n      <th>921</th>\n      <td>922</td>\n      <td>29</td>\n      <td>F</td>\n      <td>administrator</td>\n      <td>21114</td>\n    </tr>\n    <tr>\n      <th>922</th>\n      <td>923</td>\n      <td>21</td>\n      <td>M</td>\n      <td>student</td>\n      <td>E2E3R</td>\n    </tr>\n    <tr>\n      <th>923</th>\n      <td>924</td>\n      <td>29</td>\n      <td>M</td>\n      <td>other</td>\n      <td>11753</td>\n    </tr>\n    <tr>\n      <th>924</th>\n      <td>925</td>\n      <td>18</td>\n      <td>F</td>\n      <td>salesman</td>\n      <td>49036</td>\n    </tr>\n    <tr>\n      <th>925</th>\n      <td>926</td>\n      <td>49</td>\n      <td>M</td>\n      <td>entertainment</td>\n      <td>01701</td>\n    </tr>\n    <tr>\n      <th>926</th>\n      <td>927</td>\n      <td>23</td>\n      <td>M</td>\n      <td>programmer</td>\n      <td>55428</td>\n    </tr>\n    <tr>\n      <th>927</th>\n      <td>928</td>\n      <td>21</td>\n      <td>M</td>\n      <td>student</td>\n      <td>55408</td>\n    </tr>\n    <tr>\n      <th>928</th>\n      <td>929</td>\n      <td>44</td>\n      <td>M</td>\n      <td>scientist</td>\n      <td>53711</td>\n    </tr>\n    <tr>\n      <th>929</th>\n      <td>930</td>\n      <td>28</td>\n      <td>F</td>\n      <td>scientist</td>\n      <td>07310</td>\n    </tr>\n    <tr>\n      <th>930</th>\n      <td>931</td>\n      <td>60</td>\n      <td>M</td>\n      <td>educator</td>\n      <td>33556</td>\n    </tr>\n    <tr>\n      <th>931</th>\n      <td>932</td>\n      <td>58</td>\n      <td>M</td>\n      <td>educator</td>\n      <td>06437</td>\n    </tr>\n    <tr>\n      <th>932</th>\n      <td>933</td>\n      <td>28</td>\n      <td>M</td>\n      <td>student</td>\n      <td>48105</td>\n    </tr>\n    <tr>\n      <th>933</th>\n      <td>934</td>\n      <td>61</td>\n      <td>M</td>\n      <td>engineer</td>\n      <td>22902</td>\n    </tr>\n    <tr>\n      <th>934</th>\n      <td>935</td>\n      <td>42</td>\n      <td>M</td>\n      <td>doctor</td>\n      <td>66221</td>\n    </tr>\n    <tr>\n      <th>935</th>\n      <td>936</td>\n      <td>24</td>\n      <td>M</td>\n      <td>other</td>\n      <td>32789</td>\n    </tr>\n    <tr>\n      <th>936</th>\n      <td>937</td>\n      <td>48</td>\n      <td>M</td>\n      <td>educator</td>\n      <td>98072</td>\n    </tr>\n    <tr>\n      <th>937</th>\n      <td>938</td>\n      <td>38</td>\n      <td>F</td>\n      <td>technician</td>\n      <td>55038</td>\n    </tr>\n    <tr>\n      <th>938</th>\n      <td>939</td>\n      <td>26</td>\n      <td>F</td>\n      <td>student</td>\n      <td>33319</td>\n    </tr>\n    <tr>\n      <th>939</th>\n      <td>940</td>\n      <td>32</td>\n      <td>M</td>\n      <td>administrator</td>\n      <td>02215</td>\n    </tr>\n    <tr>\n      <th>940</th>\n      <td>941</td>\n      <td>20</td>\n      <td>M</td>\n      <td>student</td>\n      <td>97229</td>\n    </tr>\n    <tr>\n      <th>941</th>\n      <td>942</td>\n      <td>48</td>\n      <td>F</td>\n      <td>librarian</td>\n      <td>78209</td>\n    </tr>\n    <tr>\n      <th>942</th>\n      <td>943</td>\n      <td>22</td>\n      <td>M</td>\n      <td>student</td>\n      <td>77841</td>\n    </tr>\n  </tbody>\n</table>\n<p>943 rows × 5 columns</p>\n</div>",
          "text/plain": "     user_id  age sex     occupation zip_code\n0          1   24   M     technician    85711\n1          2   53   F          other    94043\n2          3   23   M         writer    32067\n3          4   24   M     technician    43537\n4          5   33   F          other    15213\n5          6   42   M      executive    98101\n6          7   57   M  administrator    91344\n7          8   36   M  administrator    05201\n8          9   29   M        student    01002\n9         10   53   M         lawyer    90703\n10        11   39   F          other    30329\n11        12   28   F          other    06405\n12        13   47   M       educator    29206\n13        14   45   M      scientist    55106\n14        15   49   F       educator    97301\n15        16   21   M  entertainment    10309\n16        17   30   M     programmer    06355\n17        18   35   F          other    37212\n18        19   40   M      librarian    02138\n19        20   42   F      homemaker    95660\n20        21   26   M         writer    30068\n21        22   25   M         writer    40206\n22        23   30   F         artist    48197\n23        24   21   F         artist    94533\n24        25   39   M       engineer    55107\n25        26   49   M       engineer    21044\n26        27   40   F      librarian    30030\n27        28   32   M         writer    55369\n28        29   41   M     programmer    94043\n29        30    7   M        student    55436\n..       ...  ...  ..            ...      ...\n913      914   44   F          other    08105\n914      915   50   M  entertainment    60614\n915      916   27   M       engineer    N2L5N\n916      917   22   F        student    20006\n917      918   40   M      scientist    70116\n918      919   25   M          other    14216\n919      920   30   F         artist    90008\n920      921   20   F        student    98801\n921      922   29   F  administrator    21114\n922      923   21   M        student    E2E3R\n923      924   29   M          other    11753\n924      925   18   F       salesman    49036\n925      926   49   M  entertainment    01701\n926      927   23   M     programmer    55428\n927      928   21   M        student    55408\n928      929   44   M      scientist    53711\n929      930   28   F      scientist    07310\n930      931   60   M       educator    33556\n931      932   58   M       educator    06437\n932      933   28   M        student    48105\n933      934   61   M       engineer    22902\n934      935   42   M         doctor    66221\n935      936   24   M          other    32789\n936      937   48   M       educator    98072\n937      938   38   F     technician    55038\n938      939   26   F        student    33319\n939      940   32   M  administrator    02215\n940      941   20   M        student    97229\n941      942   48   F      librarian    78209\n942      943   22   M        student    77841\n\n[943 rows x 5 columns]"
         },
         "metadata": {},
         "output_type": "display_data"
        }
       ]
      }
     },
     "a29df141a4d941e0aef5fca0b654797c": {
      "model_module": "@jupyter-widgets/base",
      "model_module_version": "1.1.0",
      "model_name": "LayoutModel",
      "state": {}
     },
     "b80bef4c7e1e435ea8b87caeab3de889": {
      "model_module": "@jupyter-widgets/controls",
      "model_module_version": "1.4.0",
      "model_name": "DescriptionStyleModel",
      "state": {
       "description_width": ""
      }
     },
     "c923e382488a4daab5f1a7e92ca5a717": {
      "model_module": "@jupyter-widgets/controls",
      "model_module_version": "1.4.0",
      "model_name": "DescriptionStyleModel",
      "state": {
       "description_width": ""
      }
     },
     "d66f74d18df848c8b205dc6f17643db0": {
      "model_module": "@jupyter-widgets/base",
      "model_module_version": "1.1.0",
      "model_name": "LayoutModel",
      "state": {}
     },
     "dfacce18506e48e0b170df5b02b93356": {
      "model_module": "@jupyter-widgets/controls",
      "model_module_version": "1.4.0",
      "model_name": "DescriptionStyleModel",
      "state": {
       "description_width": ""
      }
     },
     "e64f74b5dec547c48a712d0d5f683656": {
      "model_module": "@jupyter-widgets/base",
      "model_module_version": "1.1.0",
      "model_name": "LayoutModel",
      "state": {}
     }
    },
    "version_major": 2,
    "version_minor": 0
   }
  }
 },
 "nbformat": 4,
 "nbformat_minor": 2
}
