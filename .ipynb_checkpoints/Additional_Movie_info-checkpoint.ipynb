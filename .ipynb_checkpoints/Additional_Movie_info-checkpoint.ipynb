{
 "cells": [
  {
   "cell_type": "code",
   "execution_count": 9,
   "metadata": {
    "collapsed": true
   },
   "outputs": [],
   "source": [
    "import http.client\n",
    "import ast\n",
    "import json\n",
    "\n",
    "conn = http.client.HTTPSConnection(\"api.themoviedb.org\")\n",
    "\n",
    "\n",
    "def movie_info(movie,year):\n",
    "    payload = \"{}\"\n",
    "\n",
    "    conn.request(\"GET\", \"/3/search/movie?include_adult=false&page=1&language=en-US&api_key=993f4970725ec572407558498c67a341&query=\"+movie+\"&year=\"+year, payload)\n",
    "\n",
    "    res = conn.getresponse()\n",
    "    data = res.read()\n",
    "\n",
    "    val=(data.decode(\"utf-8\"))\n",
    "    val=json.loads(val)\n",
    "    print(type(val))\n",
    "    print(val.keys())\n"
   ]
  },
  {
   "cell_type": "code",
   "execution_count": 10,
   "metadata": {},
   "outputs": [
    {
     "name": "stdout",
     "output_type": "stream",
     "text": [
      "<class 'dict'>\n",
      "dict_keys(['page', 'total_results', 'total_pages', 'results'])\n"
     ]
    }
   ],
   "source": [
    "movie_info(\"toy+story\",\"1995\")\n"
   ]
  },
  {
   "cell_type": "code",
   "execution_count": 44,
   "metadata": {},
   "outputs": [
    {
     "ename": "NameError",
     "evalue": "name 'val' is not defined",
     "output_type": "error",
     "traceback": [
      "\u001b[1;31m---------------------------------------------------------------------------\u001b[0m",
      "\u001b[1;31mNameError\u001b[0m                                 Traceback (most recent call last)",
      "\u001b[1;32m<ipython-input-44-b0492ee9a236>\u001b[0m in \u001b[0;36m<module>\u001b[1;34m()\u001b[0m\n\u001b[1;32m----> 1\u001b[1;33m \u001b[0mval\u001b[0m\u001b[1;33m[\u001b[0m\u001b[1;36m0\u001b[0m\u001b[1;33m]\u001b[0m\u001b[1;33m\u001b[0m\u001b[0m\n\u001b[0m",
      "\u001b[1;31mNameError\u001b[0m: name 'val' is not defined"
     ]
    }
   ],
   "source": [
    "val[0]"
   ]
  },
  {
   "cell_type": "code",
   "execution_count": null,
   "metadata": {
    "collapsed": true
   },
   "outputs": [],
   "source": []
  }
 ],
 "metadata": {
  "kernelspec": {
   "display_name": "Python 3",
   "language": "python",
   "name": "python3"
  },
  "language_info": {
   "codemirror_mode": {
    "name": "ipython",
    "version": 3
   },
   "file_extension": ".py",
   "mimetype": "text/x-python",
   "name": "python",
   "nbconvert_exporter": "python",
   "pygments_lexer": "ipython3",
   "version": "3.6.1"
  }
 },
 "nbformat": 4,
 "nbformat_minor": 2
}
