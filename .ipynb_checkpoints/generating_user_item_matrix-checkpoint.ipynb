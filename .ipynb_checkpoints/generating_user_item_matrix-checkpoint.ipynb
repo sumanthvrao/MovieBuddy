{
 "cells": [
  {
   "cell_type": "markdown",
   "metadata": {},
   "source": [
    "Converting predicted values from collaborative_filtering into a matrix form"
   ]
  },
  {
   "cell_type": "code",
   "execution_count": 21,
   "metadata": {
    "collapsed": true
   },
   "outputs": [],
   "source": [
    "import numpy as np\n",
    "import pandas as pd\n",
    "r_cols=['user_id', 'item_id', 'rating', 'timestamp']\n",
    "data_df = pd.read_csv('ml-100k/u.data', sep='\\t', names=r_cols,\n",
    "                      encoding='latin-1')\n",
    "\n",
    "\n",
    "data_df['rating']=data_df['rating'].astype(int)"
   ]
  },
  {
   "cell_type": "code",
   "execution_count": 22,
   "metadata": {
    "collapsed": true
   },
   "outputs": [],
   "source": [
    "min_userid=min(data_df['user_id'])\n",
    "max_userid=max(data_df['user_id'])\n",
    "min_itemid=min(data_df['item_id'])\n",
    "max_itemid=max(data_df['item_id'])"
   ]
  },
  {
   "cell_type": "code",
   "execution_count": 23,
   "metadata": {},
   "outputs": [
    {
     "name": "stdout",
     "output_type": "stream",
     "text": [
      "1\n",
      "943\n",
      "1\n",
      "1682\n"
     ]
    }
   ],
   "source": [
    "print(min_userid)\n",
    "print(max_userid)\n",
    "print(min_itemid)\n",
    "print(max_itemid)"
   ]
  },
  {
   "cell_type": "code",
   "execution_count": 24,
   "metadata": {
    "collapsed": true
   },
   "outputs": [],
   "source": [
    "matrix=np.zeros(shape=(max_userid+1,max_itemid+1)).astype(int)"
   ]
  },
  {
   "cell_type": "code",
   "execution_count": 25,
   "metadata": {
    "collapsed": true
   },
   "outputs": [],
   "source": [
    "df=data_df.values"
   ]
  },
  {
   "cell_type": "code",
   "execution_count": 26,
   "metadata": {
    "collapsed": true
   },
   "outputs": [],
   "source": [
    "for i in df:\n",
    "    matrix[i[0]][i[1]]=int(i[2])"
   ]
  },
  {
   "cell_type": "code",
   "execution_count": 27,
   "metadata": {
    "collapsed": true
   },
   "outputs": [],
   "source": [
    "np.savetxt(\"ml-100k/user_item_matrix.csv\", matrix.astype(int), fmt='%i', delimiter=\",\")\n",
    "#creating a user_movie matrix with ratings given by users"
   ]
  },
  {
   "cell_type": "code",
   "execution_count": 28,
   "metadata": {
    "collapsed": true
   },
   "outputs": [],
   "source": [
    "p=pd.read_csv(\"ml-100k/new_predicted_colab.csv\")\n",
    "p=p.values\n",
    "for i in p:\n",
    "    try:\n",
    "    \n",
    "        matrix[int(i[0])][int(i[1])]=int(i[2])\n",
    "    except:\n",
    "        print(i)\n",
    "\n",
    "        "
   ]
  },
  {
   "cell_type": "code",
   "execution_count": 29,
   "metadata": {
    "collapsed": true
   },
   "outputs": [],
   "source": [
    "np.savetxt(\"ml-100k/user_item_matrix.csv\", matrix.astype(int), fmt='%i', delimiter=\",\")\n",
    "#creating a user_movie matrix with ratings predicted from colab"
   ]
  },
  {
   "cell_type": "code",
   "execution_count": 29,
   "metadata": {
    "collapsed": true
   },
   "outputs": [],
   "source": []
  },
  {
   "cell_type": "code",
   "execution_count": null,
   "metadata": {
    "collapsed": true
   },
   "outputs": [],
   "source": []
  },
  {
   "cell_type": "code",
   "execution_count": null,
   "metadata": {
    "collapsed": true
   },
   "outputs": [],
   "source": []
  }
 ],
 "metadata": {
  "kernelspec": {
   "display_name": "Python 3",
   "language": "python",
   "name": "python3"
  },
  "language_info": {
   "codemirror_mode": {
    "name": "ipython",
    "version": 3
   },
   "file_extension": ".py",
   "mimetype": "text/x-python",
   "name": "python",
   "nbconvert_exporter": "python",
   "pygments_lexer": "ipython3",
   "version": "3.6.1"
  }
 },
 "nbformat": 4,
 "nbformat_minor": 2
}
