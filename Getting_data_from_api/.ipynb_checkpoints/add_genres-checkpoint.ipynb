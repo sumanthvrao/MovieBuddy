{
 "cells": [
  {
   "cell_type": "code",
   "execution_count": 1,
   "metadata": {
    "collapsed": true
   },
   "outputs": [],
   "source": [
    "import numpy as np\n",
    "import pandas as pd\n",
    "\n",
    "r_cols=['user_id', 'item_id', 'rating', 'timestamp']\n",
    "data_df = pd.read_csv('ml-100k/u.data', sep='\\t', names=r_cols,\n",
    "                      encoding='latin-1')\n",
    "\n",
    "m_cols = ['movie_id', 'movie_title', 'release_date', 'video_release_date', 'imdb_url','unknown', 'Action', 'Adventure',\n",
    "'Animation', 'Children\\'s', 'Comedy', 'Crime', 'Documentary', 'Drama', 'Fantasy','Film-Noir', 'Horror', 'Musical', 'Mystery', 'Romance', 'Sci-Fi', 'Thriller', 'War', 'Western']\n",
    "item_df = pd.read_csv('ml-100k/u.item', sep='|', names=m_cols,\n",
    "                     encoding='latin-1')\n",
    "\n",
    "u_cols = ['user_id', 'age', 'sex', 'occupation', 'zip_code']\n",
    "user_df = pd.read_csv('ml-100k/u.user', sep='|', names=u_cols,\n",
    "                    encoding='latin-1', parse_dates=True) \n",
    "\n",
    "g_cols=['genre','genre_id']\n",
    "genre_df=pd.read_csv('ml-100k/u.genre', sep='|', names=g_cols,\n",
    "                     encoding='latin-1')\n",
    "\n",
    "o_cols=['occupation']\n",
    "occupation_df=pd.read_csv('ml-100k/u.occupation', sep='|', names=o_cols,\n",
    "                     encoding='latin-1')"
   ]
  },
  {
   "cell_type": "code",
   "execution_count": 68,
   "metadata": {
    "collapsed": true
   },
   "outputs": [],
   "source": [
    "df1=pd.read_csv('ml-100k/item_cc.csv')"
   ]
  },
  {
   "cell_type": "code",
   "execution_count": 50,
   "metadata": {
    "collapsed": true
   },
   "outputs": [],
   "source": [
    "new_item_df = pd.DataFrame()\n",
    "e=genre_df['genre']\n",
    "w=e.tolist()\n",
    "w.remove('egounknown')\n",
    "new_item_df[w]=item_df[w]\n",
    "# new_item_df['movie_id']=item_df['movie_id']"
   ]
  },
  {
   "cell_type": "code",
   "execution_count": 51,
   "metadata": {},
   "outputs": [
    {
     "data": {
      "text/plain": [
       "array(['Action', 'Adventure', 'Animation', \"Children's\", 'Comedy', 'Crime',\n",
       "       'Documentary', 'Drama', 'Fantasy', 'Film-Noir', 'Horror', 'Musical',\n",
       "       'Mystery', 'Romance', 'Sci-Fi', 'Thriller', 'War', 'Western'], dtype=object)"
      ]
     },
     "execution_count": 51,
     "metadata": {},
     "output_type": "execute_result"
    }
   ],
   "source": [
    "new_item_df[new_item_df!=0].columns.values"
   ]
  },
  {
   "cell_type": "code",
   "execution_count": 52,
   "metadata": {
    "collapsed": true
   },
   "outputs": [],
   "source": [
    "df=new_item_df\n",
    "cols = df.columns\n",
    "bt = df.apply(lambda x: x > 0)\n",
    "e=bt.apply(lambda x: list(cols[x.values]), axis=1)"
   ]
  },
  {
   "cell_type": "code",
   "execution_count": 96,
   "metadata": {},
   "outputs": [
    {
     "name": "stdout",
     "output_type": "stream",
     "text": [
      "<class 'pandas.core.frame.DataFrame'>\n"
     ]
    }
   ],
   "source": [
    "new_df = pd.DataFrame()\n",
    "print(type(new_df))\n"
   ]
  },
  {
   "cell_type": "code",
   "execution_count": 113,
   "metadata": {},
   "outputs": [
    {
     "name": "stdout",
     "output_type": "stream",
     "text": [
      "<class 'pandas.core.series.Series'>\n"
     ]
    }
   ],
   "source": [
    "new_df['genre']=e\n",
    "print(type(new_df))\n",
    "new_df['genre']=new_df['genre'].apply(lambda x: \" \".join(x))\n",
    "new_df['movie_id']=item_df['movie_id']"
   ]
  },
  {
   "cell_type": "code",
   "execution_count": null,
   "metadata": {},
   "outputs": [],
   "source": []
  },
  {
   "cell_type": "code",
   "execution_count": 136,
   "metadata": {
    "collapsed": true
   },
   "outputs": [],
   "source": [
    "new_df.columns\n",
    "new_df['movie_id']=item_df['movie_id']\n",
    "new_df = new_df[pd.notnull(new_df['movie_id'])]\n",
    "new_df['movie_id']=new_df['movie_id'].astype(int)\n",
    "\n",
    "merged_Frame = pd.merge(new_df,df1, on = 'movie_id')\n",
    "\n"
   ]
  },
  {
   "cell_type": "code",
   "execution_count": 142,
   "metadata": {
    "collapsed": true
   },
   "outputs": [],
   "source": [
    "merged_Frame.to_csv('ml-100k/item_cc_genre.csv', encoding='utf-8', index=False)\n"
   ]
  },
  {
   "cell_type": "code",
   "execution_count": null,
   "metadata": {
    "collapsed": true
   },
   "outputs": [],
   "source": []
  }
 ],
 "metadata": {
  "kernelspec": {
   "display_name": "Python 3",
   "language": "python",
   "name": "python3"
  },
  "language_info": {
   "codemirror_mode": {
    "name": "ipython",
    "version": 3
   },
   "file_extension": ".py",
   "mimetype": "text/x-python",
   "name": "python",
   "nbconvert_exporter": "python",
   "pygments_lexer": "ipython3",
   "version": "3.6.1"
  }
 },
 "nbformat": 4,
 "nbformat_minor": 2
}
