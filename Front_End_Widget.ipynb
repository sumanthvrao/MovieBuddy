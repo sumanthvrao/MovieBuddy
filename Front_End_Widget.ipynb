{
 "cells": [
  {
   "cell_type": "code",
   "execution_count": 1,
   "metadata": {},
   "outputs": [
    {
     "name": "stderr",
     "output_type": "stream",
     "text": [
      "/home/sumanthvrao/anaconda3/envs/deepl/lib/python3.5/site-packages/IPython/html.py:14: ShimWarning: The `IPython.html` package has been deprecated since IPython 4.0. You should import from `notebook` instead. `IPython.html.widgets` has moved to `ipywidgets`.\n",
      "  \"`IPython.html.widgets` has moved to `ipywidgets`.\", ShimWarning)\n"
     ]
    }
   ],
   "source": [
    "#importing all necessary librarys\n",
    "import pandas as pd\n",
    "import matplotlib.pyplot as plt\n",
    "from ipywidgets import widgets\n",
    "import import_ipynb\n",
    "from IPython.html.widgets import *\n",
    "from IPython.display import display\n",
    "from IPython.html import widgets"
   ]
  },
  {
   "cell_type": "code",
   "execution_count": 2,
   "metadata": {
    "collapsed": true
   },
   "outputs": [],
   "source": [
    "u_cols = ['user_id', 'age', 'sex', 'occupation', 'zip_code']\n",
    "user_df = pd.read_csv('ml-100k/u.user', sep='|', names=u_cols,\n",
    "                    encoding='latin-1', parse_dates=True) "
   ]
  },
  {
   "cell_type": "code",
   "execution_count": 3,
   "metadata": {},
   "outputs": [
    {
     "data": {
      "text/html": [
       "<div>\n",
       "<style scoped>\n",
       "    .dataframe tbody tr th:only-of-type {\n",
       "        vertical-align: middle;\n",
       "    }\n",
       "\n",
       "    .dataframe tbody tr th {\n",
       "        vertical-align: top;\n",
       "    }\n",
       "\n",
       "    .dataframe thead th {\n",
       "        text-align: right;\n",
       "    }\n",
       "</style>\n",
       "<table border=\"1\" class=\"dataframe\">\n",
       "  <thead>\n",
       "    <tr style=\"text-align: right;\">\n",
       "      <th></th>\n",
       "      <th>user_id</th>\n",
       "      <th>age</th>\n",
       "      <th>sex</th>\n",
       "      <th>occupation</th>\n",
       "      <th>zip_code</th>\n",
       "    </tr>\n",
       "  </thead>\n",
       "  <tbody>\n",
       "    <tr>\n",
       "      <th>0</th>\n",
       "      <td>1</td>\n",
       "      <td>24</td>\n",
       "      <td>M</td>\n",
       "      <td>technician</td>\n",
       "      <td>85711</td>\n",
       "    </tr>\n",
       "    <tr>\n",
       "      <th>1</th>\n",
       "      <td>2</td>\n",
       "      <td>53</td>\n",
       "      <td>F</td>\n",
       "      <td>other</td>\n",
       "      <td>94043</td>\n",
       "    </tr>\n",
       "    <tr>\n",
       "      <th>2</th>\n",
       "      <td>3</td>\n",
       "      <td>23</td>\n",
       "      <td>M</td>\n",
       "      <td>writer</td>\n",
       "      <td>32067</td>\n",
       "    </tr>\n",
       "    <tr>\n",
       "      <th>3</th>\n",
       "      <td>4</td>\n",
       "      <td>24</td>\n",
       "      <td>M</td>\n",
       "      <td>technician</td>\n",
       "      <td>43537</td>\n",
       "    </tr>\n",
       "    <tr>\n",
       "      <th>4</th>\n",
       "      <td>5</td>\n",
       "      <td>33</td>\n",
       "      <td>F</td>\n",
       "      <td>other</td>\n",
       "      <td>15213</td>\n",
       "    </tr>\n",
       "  </tbody>\n",
       "</table>\n",
       "</div>"
      ],
      "text/plain": [
       "   user_id  age sex  occupation zip_code\n",
       "0        1   24   M  technician    85711\n",
       "1        2   53   F       other    94043\n",
       "2        3   23   M      writer    32067\n",
       "3        4   24   M  technician    43537\n",
       "4        5   33   F       other    15213"
      ]
     },
     "execution_count": 3,
     "metadata": {},
     "output_type": "execute_result"
    }
   ],
   "source": [
    "user_df.head()"
   ]
  },
  {
   "cell_type": "code",
   "execution_count": 4,
   "metadata": {},
   "outputs": [
    {
     "name": "stdout",
     "output_type": "stream",
     "text": [
      "Choose your options: \n"
     ]
    },
    {
     "data": {
      "application/vnd.jupyter.widget-view+json": {
       "model_id": "1aa029fc18be418491c85df0cad2fc7a",
       "version_major": 2,
       "version_minor": 0
      },
      "text/plain": [
       "interactive(children=(Checkbox(value=False, description='age'), Checkbox(value=False, description='sex'), Chec…"
      ]
     },
     "metadata": {},
     "output_type": "display_data"
    }
   ],
   "source": [
    "def filter_data(ip_df):\n",
    "    \n",
    "    def select_gender(gender):\n",
    "        if(gender==\"Male\"):\n",
    "            gender=\"M\"\n",
    "        else:\n",
    "            gender=\"F\"\n",
    "        filtered_df = ip_df.loc[ip_df['sex'] == gender]\n",
    "        display(filtered_df)\n",
    "\n",
    "    \n",
    "    def select_age(age):\n",
    "        filtered_df = ip_df.loc[ip_df['age'] == age]\n",
    "        display(filtered_df)\n",
    "        \n",
    "    def select_occupation(occupation):\n",
    "        filtered_df = ip_df.loc[ip_df['occupation']==occupation]\n",
    "        display(filtered_df)\n",
    "        \n",
    "    max_age = ip_df.loc[ip_df['age'].idxmax()]['age']\n",
    "    min_age = ip_df.loc[ip_df['age'].idxmin()]['age']\n",
    "        \n",
    "    print(\"Choose your options: \")\n",
    "    @interact(age=False,sex=False,occupation=False)\n",
    "    def g(age, sex,occupation):\n",
    "        if(age==True and sex==False and occupation==False):\n",
    "            #print(\"TFF\")\n",
    "            returned_df = interact(select_age,age=(min_age,max_age,1))\n",
    "            \n",
    "        elif(age==False and sex==True and occupation==False):\n",
    "            #print(\"FTF\")\n",
    "            returned_df = interact(select_gender,gender=[\"Male\",\"Female\"])\n",
    "        \n",
    "        elif(age==False and sex==False and occupation==True):\n",
    "            #print(\"FFT\")\n",
    "            occupations = ip_df['occupation'].unique().tolist()\n",
    "            returned_df = interact(select_occupation,occupation=occupations)\n",
    "            \n",
    "        elif(age==True and sex==True and occupation==False):\n",
    "            #print(\"TTF\")\n",
    "            @interact(age=(min_age,max_age,1),gender=[\"Male\",\"Female\"])\n",
    "            def select_age_sex(age,gender):\n",
    "                if(gender==\"Male\"):\n",
    "                    gender=\"M\"\n",
    "                else:\n",
    "                    gender=\"F\"\n",
    "                filtered_df = ip_df.loc[ip_df['age'] == age]\n",
    "                filtered_df = filtered_df.loc[filtered_df['sex']==gender]\n",
    "                display(filtered_df)\n",
    "        \n",
    "        elif(age==False and sex==True and occupation==True):\n",
    "            #print(\"FTT\")\n",
    "            occupations = ip_df['occupation'].unique().tolist()\n",
    "            @interact(gender=[\"Male\",\"Female\"],occupation=occupations)\n",
    "            def select_age_sex(gender,occupation):\n",
    "                if(gender==\"Male\"):\n",
    "                    gender=\"M\"\n",
    "                else:\n",
    "                    gender=\"F\"\n",
    "                filtered_df = ip_df.loc[ip_df['sex']==gender]\n",
    "                filtered_df = filtered_df[filtered_df['occupation']==occupation]\n",
    "                display(filtered_df)\n",
    "            \n",
    "        elif(age==True and sex==False and occupation==True):\n",
    "            #print(\"TFT\")\n",
    "            occupations = ip_df['occupation'].unique().tolist()\n",
    "            @interact(age=(min_age,max_age,1),occupation=occupations)\n",
    "            def select_age_sex(age,occupation):\n",
    "                filtered_df = ip_df.loc[ip_df['age'] == age]\n",
    "                filtered_df = filtered_df[filtered_df['occupation']==occupation]\n",
    "                display(filtered_df)\n",
    "                \n",
    "        elif(age==True and sex==True and occupation==True):\n",
    "            #print(\"TTT\")\n",
    "            occupations = ip_df['occupation'].unique().tolist()\n",
    "            @interact(age=(min_age,max_age,1),occupation=occupations,gender=[\"Male\",\"Female\"])\n",
    "            def select_age_sex(age,occupation,gender):\n",
    "                if(gender==\"Male\"):\n",
    "                    gender=\"M\"\n",
    "                else:\n",
    "                    gender=\"F\"\n",
    "                filtered_df = ip_df.loc[ip_df['age'] == age]\n",
    "                filtered_df = filtered_df[filtered_df['occupation']==occupation]\n",
    "                filtered_df = filtered_df.loc[filtered_df['sex']==gender]\n",
    "                display(filtered_df)\n",
    "        \n",
    "        else:\n",
    "            #print(\"FFF\")\n",
    "            display(ip_df)\n",
    "        #return(age,sex,occupation)\n",
    "        \n",
    "filter_data(user_df)"
   ]
  }
 ],
 "metadata": {
  "kernelspec": {
   "display_name": "Deep Learning",
   "language": "python",
   "name": "deepl"
  },
  "language_info": {
   "codemirror_mode": {
    "name": "ipython",
    "version": 3
   },
   "file_extension": ".py",
   "mimetype": "text/x-python",
   "name": "python",
   "nbconvert_exporter": "python",
   "pygments_lexer": "ipython3",
   "version": "3.5.4"
  }
 },
 "nbformat": 4,
 "nbformat_minor": 2
}
